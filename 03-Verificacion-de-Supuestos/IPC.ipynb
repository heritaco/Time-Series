{
 "cells": [
  {
   "cell_type": "markdown",
   "metadata": {},
   "source": [
    "# **Modelado para Series de Tiempo**"
   ]
  },
  {
   "cell_type": "code",
   "execution_count": 57,
   "metadata": {},
   "outputs": [],
   "source": [
    "import pandas as pd"
   ]
  },
  {
   "cell_type": "code",
   "execution_count": 58,
   "metadata": {},
   "outputs": [],
   "source": [
    "ipc = pd.read_csv('ipc.csv')"
   ]
  },
  {
   "cell_type": "code",
   "execution_count": 59,
   "metadata": {},
   "outputs": [
    {
     "data": {
      "text/plain": [
       "<Axes: >"
      ]
     },
     "execution_count": 59,
     "metadata": {},
     "output_type": "execute_result"
    },
    {
     "data": {
      "image/png": "[encoded data removed]",
      "text/plain": [
       "<Figure size 640x480 with 1 Axes>"
      ]
     },
     "metadata": {},
     "output_type": "display_data"
    }
   ],
   "source": [
    "ipc.plot()"
   ]
  },
  {
   "cell_type": "code",
   "execution_count": 115,
   "metadata": {},
   "outputs": [
    {
     "data": {
      "text/plain": [
       "0     30.210\n",
       "1     30.321\n",
       "2     30.349\n",
       "3     30.430\n",
       "4     30.433\n",
       "       ...  \n",
       "87    62.939\n",
       "88    63.380\n",
       "89    63.633\n",
       "90    64.170\n",
       "91    64.787\n",
       "Name: IPC, Length: 92, dtype: float64"
      ]
     },
     "execution_count": 115,
     "metadata": {},
     "output_type": "execute_result"
    }
   ],
   "source": [
    "ipc['IPC']"
   ]
  },
  {
   "cell_type": "markdown",
   "metadata": {},
   "source": [
    "Se ve que no es estacionaria"
   ]
  },
  {
   "cell_type": "markdown",
   "metadata": {},
   "source": [
    "## **Transformación de Box-Cox**"
   ]
  },
  {
   "cell_type": "markdown",
   "metadata": {},
   "source": [
    "#### <span style=\"font-size: 12px;\">info</span>"
   ]
  },
  {
   "cell_type": "markdown",
   "metadata": {},
   "source": [
    "La transformación de Box-Cox es una familia de transformaciones de potencia que busca estabilizar la varianza y hacer que los datos sigan una distribución más normal. Se define matemáticamente como:  \n",
    "\n",
    "$$\n",
    "y^{*} =\n",
    "\\begin{cases} \n",
    "\\frac{y^{\\lambda} - 1}{\\lambda}, & \\lambda \\neq 0 \\\\\n",
    "\\ln(y), & \\lambda = 0\n",
    "\\end{cases}\n",
    "$$"
   ]
  },
  {
   "cell_type": "markdown",
   "metadata": {},
   "source": [
    "Se Usa en Series de Tiempo porque \n",
    "1. Estabiliza la varianza en datos con heterocedasticidad.  \n",
    "2. Mejora la normalidad, lo que facilita el modelado con ARIMA o regresión. \n",
    "\n",
    "Cuando decimos que los datos \"siguen una distribución más normal\" después de aplicar la transformación de Box-Cox, nos referimos a que la forma de la distribución de los datos se acerca más a una distribución normal $N(\\mu, \\sigma^2)$."
   ]
  },
  {
   "cell_type": "markdown",
   "metadata": {},
   "source": [
    "Cuando aplicamos la transformación de Box-Cox a una serie de tiempo, buscamos que los datos transformados tengan una distribución más cercana a la normal en el sentido de que:  \n",
    "\n",
    "1. Los residuos del modelo sean normales.  \n",
    "2. Se reduzca la asimetría y se estabilice la varianza.\n",
    "3.  Mejora la aplicabilidad de métodos estadísticos. Pruebas como Dickey-Fuller para estacionariedad funcionan mejor con datos más simétricos."
   ]
  },
  {
   "cell_type": "markdown",
   "metadata": {},
   "source": [
    "**Problema Común:**  \n",
    "Supongamos que tienes una serie de tiempo como el IPC que crece con el tiempo y tiene alta varianza en valores recientes. Esto significa que:  \n",
    "- La serie no es estacionaria.  \n",
    "- Los residuos de un modelo pueden ser sesgados y no normales.  \n",
    "\n",
    "**Solución con Box-Cox:**  \n",
    "- Box-Cox ajusta la escala de los datos.  \n",
    "- Reduce el efecto de valores extremos.  \n",
    "- Hace que la serie sea más \"normal\" para mejorar los modelos. "
   ]
  },
  {
   "cell_type": "markdown",
   "metadata": {},
   "source": [
    "**Interpretación del Parámetro $\\lambda$**\n",
    "El parámetro $\\lambda$ controla la forma de la transformación:  \n",
    "\n",
    "$\\lambda = 1$: No hay cambio ($y^* = y$)  \n",
    "$\\lambda = 0$: Se usa el logaritmo natural ($y^* = \\ln(y)$)  \n",
    "$\\lambda > 1$: Expande los valores grandes (convexa)  \n",
    "$0 < \\lambda < 1$: Suaviza la varianza  \n",
    "$\\lambda < 0$: Invierte el orden y reduce la dispersión"
   ]
  },
  {
   "cell_type": "markdown",
   "metadata": {},
   "source": [
    "\n",
    "**¿Cómo se Estima $\\lambda$?**\n",
    "\n",
    "El valor óptimo de $\\lambda$ se elige maximizando la verosimilitud. Específicamente, se encuentra el $\\lambda$ que maximiza la log-verosimilitud bajo la suposición de normalidad de los datos transformados:\n",
    "\n",
    "$$\n",
    "\\log L(\\lambda) = -\\frac{n}{2} \\log \\left( \\frac{1}{n} \\sum (y^* - \\bar{y^*})^2 \\right) + (\\lambda - 1) \\sum \\ln(y)\n",
    "$$\n",
    "\n",
    "donde $n$ es el número de observaciones."
   ]
  },
  {
   "cell_type": "markdown",
   "metadata": {},
   "source": [
    "\n",
    "\n",
    "Paso 2: Función de Verosimilitud\n",
    "Bajo la suposición de normalidad de los datos transformados, la función de verosimilitud de una muestra de $n$ observaciones es:\n",
    "\n",
    "$$\n",
    "L(\\lambda, \\mu, \\sigma^2) = \\prod_{i=1}^{n} \\frac{1}{\\sqrt{2\\pi\\sigma^2}} \\exp\\left( -\\frac{(y_i^* - \\mu)^2}{2\\sigma^2} \\right)\n",
    "$$\n",
    "\n",
    "Tomando el logaritmo de la función de verosimilitud:\n",
    "\n",
    "$$\n",
    "\\log L(\\lambda, \\mu, \\sigma^2) = -\\frac{n}{2} \\log(2\\pi) - \\frac{n}{2} \\log(\\sigma^2) - \\frac{1}{2\\sigma^2} \\sum_{i=1}^{n} (y_i^* - \\mu)^2\n",
    "$$\n",
    "\n",
    "Para estimar $\\lambda$, podemos eliminar los términos constantes y centrarnos en la parte que depende de $\\lambda$.\n",
    "\n",
    "\n",
    "\n",
    "\n",
    "Paso 3: Eliminación de $\\mu$\n",
    "El estimador de máxima verosimilitud de $\\mu$ en una normal es la media muestral:\n",
    "\n",
    "$$\n",
    "\\hat{\\mu} = \\frac{1}{n} \\sum_{i=1}^{n} y_i^*\n",
    "$$\n",
    "\n",
    "Reemplazando esto en la ecuación:\n",
    "\n",
    "$$\n",
    "\\log L(\\lambda) = -\\frac{n}{2} \\log \\left( \\frac{1}{n} \\sum_{i=1}^{n} (y_i^* - \\bar{y^*})^2 \\right) + C\n",
    "$$\n",
    "\n",
    "donde $C$ es una constante que no depende de $\\lambda$.\n",
    "\n",
    "Pero, debido a la transformación de Box-Cox, el Jacobiano de la transformación debe incluirse en la log-verosimilitud. Para una transformación de Box-Cox, el Jacobiano es:\n",
    "\n",
    "$$\n",
    "J = \\prod_{i=1}^{n} y_i^{\\lambda - 1}\n",
    "$$\n",
    "\n",
    "Tomando logaritmo:\n",
    "\n",
    "$$\n",
    "\\log J = (\\lambda - 1) \\sum \\ln y_i\n",
    "$$\n",
    "\n",
    "Por lo tanto, la log-verosimilitud final queda como:\n",
    "\n",
    "$$\n",
    "\\log L(\\lambda) = -\\frac{n}{2} \\log \\left( \\frac{1}{n} \\sum (y^* - \\bar{y^*})^2 \\right) + (\\lambda - 1) \\sum \\ln(y)\n",
    "$$"
   ]
  },
  {
   "cell_type": "markdown",
   "metadata": {},
   "source": [
    "#### **Box-Cox** "
   ]
  },
  {
   "cell_type": "code",
   "execution_count": 60,
   "metadata": {},
   "outputs": [],
   "source": [
    "from scipy.stats import boxcox"
   ]
  },
  {
   "cell_type": "code",
   "execution_count": 61,
   "metadata": {},
   "outputs": [],
   "source": [
    "ipc_boxcox, lambdaa = boxcox(ipc['IPC'])"
   ]
  },
  {
   "cell_type": "code",
   "execution_count": 116,
   "metadata": {},
   "outputs": [
    {
     "data": {
      "text/plain": [
       "array([0.55697625, 0.55698441, 0.55698645, 0.55699233, 0.55699255,\n",
       "       0.55700011, 0.55700852, 0.55701092, 0.55703101, 0.55705293,\n",
       "       0.5570532 , 0.55706881, 0.55708429, 0.5570841 , 0.55709017,\n",
       "       0.55709283, 0.55709694, 0.55710906, 0.55711872, 0.55712788,\n",
       "       0.55713269, 0.55713311, 0.55714357, 0.55715971, 0.55717835,\n",
       "       0.55718604, 0.55719304, 0.5572024 , 0.55720617, 0.55721444,\n",
       "       0.55721301, 0.55722928, 0.55723511, 0.55723686, 0.55723977,\n",
       "       0.55724797, 0.55725567, 0.55726107, 0.55727036, 0.55728104,\n",
       "       0.55728427, 0.55729661, 0.55730281, 0.5573136 , 0.55732091,\n",
       "       0.55732207, 0.55733247, 0.55733786, 0.55736038, 0.55737303,\n",
       "       0.55738623, 0.55740942, 0.55742471, 0.55743618, 0.557471  ,\n",
       "       0.55749213, 0.55752222, 0.55753795, 0.55755278, 0.55759692,\n",
       "       0.5576351 , 0.55765806, 0.55766576, 0.55767906, 0.55768658,\n",
       "       0.55769593, 0.55770928, 0.55771885, 0.55772889, 0.55774593,\n",
       "       0.55776869, 0.55777496, 0.55778501, 0.5577893 , 0.55779413,\n",
       "       0.55780053, 0.55781043, 0.55782264, 0.55782831, 0.55783434,\n",
       "       0.55783932, 0.55784281, 0.55784752, 0.55785292, 0.55786535,\n",
       "       0.55787697, 0.55788295, 0.55788715, 0.5578913 , 0.55789365,\n",
       "       0.55789855, 0.55790404])"
      ]
     },
     "execution_count": 116,
     "metadata": {},
     "output_type": "execute_result"
    }
   ],
   "source": [
    "ipc_boxcox"
   ]
  },
  {
   "cell_type": "code",
   "execution_count": 114,
   "metadata": {},
   "outputs": [
    {
     "data": {
      "text/plain": [
       "-1.791403562664271"
      ]
     },
     "execution_count": 114,
     "metadata": {},
     "output_type": "execute_result"
    }
   ],
   "source": [
    "lambdaa"
   ]
  },
  {
   "cell_type": "code",
   "execution_count": 62,
   "metadata": {},
   "outputs": [],
   "source": [
    "tipc = pd.DataFrame(ipc_boxcox, index=ipc.index)\n",
    "tipc.columns = ['IPC']"
   ]
  },
  {
   "cell_type": "markdown",
   "metadata": {},
   "source": [
    "## **Estacionariedad**"
   ]
  },
  {
   "cell_type": "markdown",
   "metadata": {},
   "source": [
    "##### **Interpretacion del `adfuller()`**"
   ]
  },
  {
   "cell_type": "markdown",
   "metadata": {},
   "source": [
    "El resultado que muestras proviene de la prueba de Dickey-Fuller aumentada (ADF), que es utilizada para comprobar si una serie de tiempo es estacionaria. Esta prueba evalúa la hipótesis nula de que una serie de tiempo tiene una raíz unitaria (lo que indicaría que la serie no es estacionaria, es decir, que tiene una tendencia o una estructura estocástica)."
   ]
  },
  {
   "cell_type": "code",
   "execution_count": 63,
   "metadata": {},
   "outputs": [],
   "source": [
    "from statsmodels.tsa.stattools import adfuller"
   ]
  },
  {
   "cell_type": "code",
   "execution_count": 64,
   "metadata": {},
   "outputs": [
    {
     "data": {
      "text/plain": [
       "(2.54902325412832,\n",
       " 0.9990639726819293,\n",
       " 1,\n",
       " 90,\n",
       " {'1%': -3.505190196159122,\n",
       "  '5%': -2.894232085048011,\n",
       "  '10%': -2.5842101234567902},\n",
       " 20.0058424285088)"
      ]
     },
     "execution_count": 64,
     "metadata": {},
     "output_type": "execute_result"
    }
   ],
   "source": [
    "adfuller(ipc['IPC'])"
   ]
  },
  {
   "cell_type": "markdown",
   "metadata": {},
   "source": [
    "1. Estadístico de la prueba (2.54902325412832):\n",
    "   - Este es el valor de la estadística de la prueba ADF. Este valor se compara con los valores críticos para determinar si rechazamos o no la hipótesis nula.\n",
    "   - Si el valor del estadístico de prueba es menor (más negativo) que los valores críticos, podemos rechazar la hipótesis nula y concluir que la serie es estacionaria.\n",
    "\n",
    "2. p-value (0.9990639726819293):\n",
    "   - El p-valor nos indica la probabilidad de obtener una estadística de prueba tan extrema como la observada bajo la hipótesis nula.\n",
    "   - En este caso, el p-valor es 0.9991, que es extremadamente alto, lo que sugiere que no hay evidencia suficiente para rechazar la hipótesis nula de que la serie tiene una raíz unitaria y, por lo tanto, no es estacionaria.\n",
    "\n",
    "3. Número de lags usados (1):\n",
    "   - Este es el número de retardos (lags) que se utilizaron en el modelo para realizar la prueba. En este caso, el número de lags es 1.\n",
    "\n",
    "4. Número de observaciones (90):\n",
    "   - El número de observaciones de la serie de tiempo que se usaron para realizar la prueba.\n",
    "\n",
    "5. Valores críticos:\n",
    "   - Los valores críticos son los puntos de corte para diferentes niveles de significancia (1%, 5%, 10%).\n",
    "   - Para un nivel de significancia del 1%, 5% y 10%, los valores críticos son los siguientes:\n",
    "     - 1%: -3.505190196159122\n",
    "     - 5%: -2.894232085048011\n",
    "     - 10%: -2.5842101234567902\n",
    "   - Si el estadístico de prueba es más negativo que el valor crítico en cualquiera de estos niveles, rechazamos la hipótesis nula. En este caso, el estadístico de prueba (2.549) es mucho mayor que los valores críticos (en valor absoluto), por lo que no rechazamos la hipótesis nula.\n",
    "\n",
    "6. Valor de la regresión (20.0058424285088):\n",
    "   - Este es el valor de la regresión de la prueba ADF. No es tan comúnmente utilizado para la interpretación directa, pero está relacionado con la regresión utilizada para calcular el estadístico de prueba."
   ]
  },
  {
   "cell_type": "markdown",
   "metadata": {},
   "source": [
    "#### **Aumented Dickey-Fuller**"
   ]
  },
  {
   "cell_type": "code",
   "execution_count": 65,
   "metadata": {},
   "outputs": [],
   "source": [
    "from statsmodels.tsa.stattools import adfuller"
   ]
  },
  {
   "cell_type": "code",
   "execution_count": 66,
   "metadata": {},
   "outputs": [
    {
     "data": {
      "text/plain": [
       "(2.54902325412832,\n",
       " 0.9990639726819293,\n",
       " 1,\n",
       " 90,\n",
       " {'1%': -3.505190196159122,\n",
       "  '5%': -2.894232085048011,\n",
       "  '10%': -2.5842101234567902},\n",
       " 20.0058424285088)"
      ]
     },
     "execution_count": 66,
     "metadata": {},
     "output_type": "execute_result"
    }
   ],
   "source": [
    "adfuller(ipc['IPC'])"
   ]
  },
  {
   "cell_type": "code",
   "execution_count": 67,
   "metadata": {},
   "outputs": [
    {
     "data": {
      "text/plain": [
       "(0.17083169485087543,\n",
       " 0.9705773552398157,\n",
       " 1,\n",
       " 90,\n",
       " {'1%': -3.505190196159122,\n",
       "  '5%': -2.894232085048011,\n",
       "  '10%': -2.5842101234567902},\n",
       " -1642.9082081223091)"
      ]
     },
     "execution_count": 67,
     "metadata": {},
     "output_type": "execute_result"
    }
   ],
   "source": [
    "adfuller(tipc['IPC'])"
   ]
  },
  {
   "cell_type": "markdown",
   "metadata": {},
   "source": [
    "No son estacionarios."
   ]
  },
  {
   "cell_type": "markdown",
   "metadata": {},
   "source": [
    "## **Diferencias $\\nabla$**"
   ]
  },
  {
   "cell_type": "markdown",
   "metadata": {},
   "source": [
    "#### <span style=\"font-size: 12px;\">info</span>"
   ]
  },
  {
   "cell_type": "markdown",
   "metadata": {},
   "source": [
    "El método `.diff()` en pandas calcula la **primera diferencia** de una serie de tiempo porque, por defecto, resta cada valor del anterior.  \n",
    "\n",
    "$$\n",
    "\\nabla y_t = y_t - y_{t-1}\n",
    "$$"
   ]
  },
  {
   "cell_type": "markdown",
   "metadata": {},
   "source": [
    "#### $\\nabla\\text{IPC}$"
   ]
  },
  {
   "cell_type": "code",
   "execution_count": 112,
   "metadata": {},
   "outputs": [
    {
     "data": {
      "text/plain": [
       "<Axes: >"
      ]
     },
     "execution_count": 112,
     "metadata": {},
     "output_type": "execute_result"
    },
    {
     "data": {
      "image/png": "[encoded data removed]",
      "text/plain": [
       "<Figure size 640x480 with 1 Axes>"
      ]
     },
     "metadata": {},
     "output_type": "display_data"
    }
   ],
   "source": [
    "ipc['diff'] = ipc['IPC'].diff()\n",
    "ipc['diff'].plot()"
   ]
  },
  {
   "cell_type": "code",
   "execution_count": 113,
   "metadata": {},
   "outputs": [
    {
     "data": {
      "text/plain": [
       "0       NaN\n",
       "1     0.111\n",
       "2     0.028\n",
       "3     0.081\n",
       "4     0.003\n",
       "      ...  \n",
       "87    0.437\n",
       "88    0.441\n",
       "89    0.253\n",
       "90    0.537\n",
       "91    0.617\n",
       "Name: diff, Length: 92, dtype: float64"
      ]
     },
     "execution_count": 113,
     "metadata": {},
     "output_type": "execute_result"
    }
   ],
   "source": [
    "ipc['diff']"
   ]
  },
  {
   "cell_type": "code",
   "execution_count": 69,
   "metadata": {},
   "outputs": [
    {
     "data": {
      "text/plain": [
       "(-4.133775317275253,\n",
       " 0.0008512426861773767,\n",
       " 0,\n",
       " 90,\n",
       " {'1%': -3.505190196159122,\n",
       "  '5%': -2.894232085048011,\n",
       "  '10%': -2.5842101234567902},\n",
       " 22.18303504045545)"
      ]
     },
     "execution_count": 69,
     "metadata": {},
     "output_type": "execute_result"
    }
   ],
   "source": [
    "adfuller(ipc['diff'].dropna())"
   ]
  },
  {
   "cell_type": "markdown",
   "metadata": {},
   "source": [
    "la primera diferencia es estacionaria"
   ]
  },
  {
   "cell_type": "code",
   "execution_count": 70,
   "metadata": {},
   "outputs": [
    {
     "data": {
      "text/plain": [
       "0.12617814334554342"
      ]
     },
     "execution_count": 70,
     "metadata": {},
     "output_type": "execute_result"
    }
   ],
   "source": [
    "ipc['diff'].var()"
   ]
  },
  {
   "cell_type": "markdown",
   "metadata": {},
   "source": [
    "#### $\\nabla^2\\text{IPC}$"
   ]
  },
  {
   "cell_type": "code",
   "execution_count": 71,
   "metadata": {},
   "outputs": [],
   "source": [
    "ipc['diff2'] = ipc['diff'].diff()"
   ]
  },
  {
   "cell_type": "code",
   "execution_count": 72,
   "metadata": {},
   "outputs": [
    {
     "data": {
      "text/plain": [
       "(-6.510158362531559,\n",
       " 1.1055448393340443e-08,\n",
       " 5,\n",
       " 84,\n",
       " {'1%': -3.510711795769895,\n",
       "  '5%': -2.8966159448223734,\n",
       "  '10%': -2.5854823866213152},\n",
       " 26.3119362535989)"
      ]
     },
     "execution_count": 72,
     "metadata": {},
     "output_type": "execute_result"
    }
   ],
   "source": [
    "adfuller(ipc['diff2'].dropna())"
   ]
  },
  {
   "cell_type": "code",
   "execution_count": 73,
   "metadata": {},
   "outputs": [
    {
     "data": {
      "text/plain": [
       "0.08220938377028734"
      ]
     },
     "execution_count": 73,
     "metadata": {},
     "output_type": "execute_result"
    }
   ],
   "source": [
    "ipc['diff2'].var()"
   ]
  },
  {
   "cell_type": "markdown",
   "metadata": {},
   "source": [
    "#### $\\nabla\\text{T(IPC)}$"
   ]
  },
  {
   "cell_type": "code",
   "execution_count": 111,
   "metadata": {},
   "outputs": [
    {
     "data": {
      "text/plain": [
       "(0.17083169485087543,\n",
       " 0.9705773552398157,\n",
       " 1,\n",
       " 90,\n",
       " {'1%': -3.505190196159122,\n",
       "  '5%': -2.894232085048011,\n",
       "  '10%': -2.5842101234567902},\n",
       " -1642.9082081223091)"
      ]
     },
     "execution_count": 111,
     "metadata": {},
     "output_type": "execute_result"
    }
   ],
   "source": [
    "adfuller(tipc['IPC'])"
   ]
  },
  {
   "cell_type": "code",
   "execution_count": 74,
   "metadata": {},
   "outputs": [],
   "source": [
    "tipc['diff'] = tipc['IPC'].diff()"
   ]
  },
  {
   "cell_type": "code",
   "execution_count": 117,
   "metadata": {},
   "outputs": [
    {
     "data": {
      "text/plain": [
       "<Axes: >"
      ]
     },
     "execution_count": 117,
     "metadata": {},
     "output_type": "execute_result"
    },
    {
     "data": {
      "image/png": "[encoded data removed]",
      "text/plain": [
       "<Figure size 640x480 with 1 Axes>"
      ]
     },
     "metadata": {},
     "output_type": "display_data"
    }
   ],
   "source": [
    "tipc['diff'].plot()"
   ]
  },
  {
   "cell_type": "code",
   "execution_count": 118,
   "metadata": {},
   "outputs": [
    {
     "data": {
      "text/plain": [
       "0              NaN\n",
       "1     8.154596e-06\n",
       "2     2.043875e-06\n",
       "3     5.883105e-06\n",
       "4     2.170537e-07\n",
       "          ...     \n",
       "87    4.199479e-06\n",
       "88    4.156205e-06\n",
       "89    2.348175e-06\n",
       "90    4.898666e-06\n",
       "91    5.489028e-06\n",
       "Name: diff, Length: 92, dtype: float64"
      ]
     },
     "execution_count": 118,
     "metadata": {},
     "output_type": "execute_result"
    }
   ],
   "source": [
    "tipc['diff']"
   ]
  },
  {
   "cell_type": "code",
   "execution_count": 75,
   "metadata": {},
   "outputs": [
    {
     "data": {
      "text/plain": [
       "(-5.66482372182217,\n",
       " 9.202930495193036e-07,\n",
       " 0,\n",
       " 90,\n",
       " {'1%': -3.505190196159122,\n",
       "  '5%': -2.894232085048011,\n",
       "  '10%': -2.5842101234567902},\n",
       " -1626.539794765326)"
      ]
     },
     "execution_count": 75,
     "metadata": {},
     "output_type": "execute_result"
    }
   ],
   "source": [
    "adfuller(tipc['diff'].dropna())"
   ]
  },
  {
   "cell_type": "code",
   "execution_count": 76,
   "metadata": {},
   "outputs": [
    {
     "data": {
      "text/plain": [
       "6.716028217052554e-11"
      ]
     },
     "execution_count": 76,
     "metadata": {},
     "output_type": "execute_result"
    }
   ],
   "source": [
    "tipc['diff'].var()"
   ]
  },
  {
   "cell_type": "markdown",
   "metadata": {},
   "source": [
    "#### $\\nabla^2\\text{T(IPC)}$"
   ]
  },
  {
   "cell_type": "code",
   "execution_count": 77,
   "metadata": {},
   "outputs": [],
   "source": [
    "tipc['diff2'] = tipc['diff'].diff()"
   ]
  },
  {
   "cell_type": "code",
   "execution_count": 78,
   "metadata": {},
   "outputs": [
    {
     "data": {
      "text/plain": [
       "(-7.637705315766686,\n",
       " 1.9325824248174465e-11,\n",
       " 3,\n",
       " 86,\n",
       " {'1%': -3.5087828609430614,\n",
       "  '5%': -2.895783561573195,\n",
       "  '10%': -2.5850381719848565},\n",
       " -1602.9071316262634)"
      ]
     },
     "execution_count": 78,
     "metadata": {},
     "output_type": "execute_result"
    }
   ],
   "source": [
    "adfuller(tipc['diff2'].dropna())"
   ]
  },
  {
   "cell_type": "code",
   "execution_count": 79,
   "metadata": {},
   "outputs": [
    {
     "data": {
      "text/plain": [
       "7.273133408458495e-11"
      ]
     },
     "execution_count": 79,
     "metadata": {},
     "output_type": "execute_result"
    }
   ],
   "source": [
    "tipc['diff2'].var()"
   ]
  },
  {
   "cell_type": "markdown",
   "metadata": {},
   "source": [
    "## **Autocorrelaciones**"
   ]
  },
  {
   "cell_type": "markdown",
   "metadata": {},
   "source": [
    "#### **Librerias**"
   ]
  },
  {
   "cell_type": "code",
   "execution_count": 80,
   "metadata": {},
   "outputs": [],
   "source": [
    "from statsmodels.graphics.tsaplots import plot_acf  \n",
    "import matplotlib.pyplot as plt"
   ]
  },
  {
   "cell_type": "markdown",
   "metadata": {},
   "source": [
    "#### $\\nabla\\text{IPC}$"
   ]
  },
  {
   "cell_type": "code",
   "execution_count": 81,
   "metadata": {},
   "outputs": [
    {
     "data": {
      "image/png": "[encoded data removed]",
      "text/plain": [
       "<Figure size 640x480 with 1 Axes>"
      ]
     },
     "metadata": {},
     "output_type": "display_data"
    }
   ],
   "source": [
    "plot_acf(ipc['diff'].dropna())\n",
    "plt.show()"
   ]
  },
  {
   "cell_type": "markdown",
   "metadata": {},
   "source": [
    "#### $\\nabla^2\\text{IPC}$"
   ]
  },
  {
   "cell_type": "code",
   "execution_count": 82,
   "metadata": {},
   "outputs": [
    {
     "data": {
      "image/png": "[encoded data removed]",
      "text/plain": [
       "<Figure size 640x480 with 1 Axes>"
      ]
     },
     "metadata": {},
     "output_type": "display_data"
    }
   ],
   "source": [
    "plot_acf(ipc['diff2'].dropna())\n",
    "plt.show()"
   ]
  },
  {
   "cell_type": "markdown",
   "metadata": {},
   "source": [
    "Se ve como un $\\text{MA}(1)$, porque solo el primer lag es significativo y las demas autocorrelaciones dentro de las bandas azules no son significativamente distintas de cero."
   ]
  },
  {
   "cell_type": "markdown",
   "metadata": {},
   "source": [
    "#### $\\nabla\\text{T(IPC)}$"
   ]
  },
  {
   "cell_type": "code",
   "execution_count": 83,
   "metadata": {},
   "outputs": [
    {
     "data": {
      "image/png": "[encoded data removed]",
      "text/plain": [
       "<Figure size 640x480 with 1 Axes>"
      ]
     },
     "metadata": {},
     "output_type": "display_data"
    }
   ],
   "source": [
    "plot_acf(tipc['diff'].dropna())\n",
    "plt.show()"
   ]
  },
  {
   "cell_type": "markdown",
   "metadata": {},
   "source": [
    "#### $\\nabla^2\\text{T(IPC)}$"
   ]
  },
  {
   "cell_type": "code",
   "execution_count": 84,
   "metadata": {},
   "outputs": [
    {
     "data": {
      "image/png": "[encoded data removed]",
      "text/plain": [
       "<Figure size 640x480 with 1 Axes>"
      ]
     },
     "metadata": {},
     "output_type": "display_data"
    }
   ],
   "source": [
    "plot_acf(tipc['diff2'].dropna())\n",
    "plt.show()"
   ]
  },
  {
   "cell_type": "markdown",
   "metadata": {},
   "source": [
    "Se ve como un $\\text{MA}(1)$, porque solo el primer lag es significativo y las demas autocorrelaciones dentro de las bandas azules no son significativamente distintas de cero."
   ]
  },
  {
   "cell_type": "markdown",
   "metadata": {},
   "source": [
    "#### <span style=\"font-size: 12px;\">info</span>"
   ]
  },
  {
   "cell_type": "markdown",
   "metadata": {},
   "source": [
    "Las autocorrelaciones en una gráfica de Función de Autocorrelación (ACF) se consideran significativas si están fuera de las bandas azules, porque esto indica que la correlación observada no es explicable solo por ruido aleatorio.  \n",
    "\n",
    "Las bandas azules en una gráfica de ACF representan el intervalo de confianza para la hipótesis nula:\n",
    "\n",
    "$$\n",
    "H_0: \\rho(k) = 0\n",
    "$$\n",
    "\n",
    "donde $\\rho(k)$ es la autocorrelación en el lag $k$.  \n",
    "\n",
    "- Si un punto cae dentro de las bandas, la autocorrelación en ese lag no es significativamente diferente de 0 → No hay suficiente evidencia para decir que hay una correlación real en ese lag.  \n",
    "- Si un punto cae fuera de las bandas, la autocorrelación en ese lag es significativamente diferente de 0 → Hay una correlación real en ese lag que no es explicable solo por ruido aleatorio.  "
   ]
  },
  {
   "cell_type": "markdown",
   "metadata": {},
   "source": [
    "**¿Cómo se Calculan las Bandas Azules?**   \n",
    "\n",
    "Para una serie de tiempo de $n$ observaciones, las bandas se aproximan con:  \n",
    "\n",
    "$$\n",
    "\\pm \\frac{1.96}{\\sqrt{n}}\n",
    "$$\n",
    "\n",
    "Este intervalo proviene de la distribución normal estándar ($N(0,1)$), ya que bajo $H_0$, las autocorrelaciones deberían distribuirse aproximadamente como:  \n",
    "\n",
    "$$\n",
    "\\rho(k) \\sim \\mathcal{N}\\left(0, \\frac{1}{n}\\right)\n",
    "$$\n",
    "\n",
    "Para $n$ grande, se usa $\\pm 1.96/\\sqrt{n}$ para construir un intervalo de confianza del 95%.  "
   ]
  },
  {
   "cell_type": "markdown",
   "metadata": {},
   "source": [
    "###### "
   ]
  },
  {
   "cell_type": "markdown",
   "metadata": {},
   "source": [
    "## **Modelado**"
   ]
  },
  {
   "cell_type": "markdown",
   "metadata": {},
   "source": [
    "#### **Librerias**"
   ]
  },
  {
   "cell_type": "code",
   "execution_count": 85,
   "metadata": {},
   "outputs": [],
   "source": [
    "from statsmodels.tsa.arima.model import ARIMA"
   ]
  },
  {
   "cell_type": "markdown",
   "metadata": {},
   "source": [
    "#### $\\nabla^2\\text{IPC}$"
   ]
  },
  {
   "cell_type": "code",
   "execution_count": 86,
   "metadata": {},
   "outputs": [],
   "source": [
    "arima021 = ARIMA(ipc['IPC'], order=(0,2,1)).fit()"
   ]
  },
  {
   "cell_type": "code",
   "execution_count": 87,
   "metadata": {},
   "outputs": [],
   "source": [
    "arma01 = ARIMA(ipc['diff2'], order=(0,0,1)).fit()"
   ]
  },
  {
   "cell_type": "markdown",
   "metadata": {},
   "source": [
    "#### $\\nabla^2\\text{T(IPC)}$"
   ]
  },
  {
   "cell_type": "code",
   "execution_count": 88,
   "metadata": {},
   "outputs": [
    {
     "name": "stderr",
     "output_type": "stream",
     "text": [
      "c:\\Users\\herie\\.conda\\envs\\data-mining\\Lib\\site-packages\\statsmodels\\base\\model.py:607: ConvergenceWarning: Maximum Likelihood optimization failed to converge. Check mle_retvals\n",
      "  warnings.warn(\"Maximum Likelihood optimization failed to \"\n"
     ]
    }
   ],
   "source": [
    "tarima021 = ARIMA(tipc[\"IPC\"], order=(0,2,1)).fit()"
   ]
  },
  {
   "cell_type": "code",
   "execution_count": 89,
   "metadata": {},
   "outputs": [
    {
     "name": "stderr",
     "output_type": "stream",
     "text": [
      "c:\\Users\\herie\\.conda\\envs\\data-mining\\Lib\\site-packages\\statsmodels\\base\\model.py:607: ConvergenceWarning: Maximum Likelihood optimization failed to converge. Check mle_retvals\n",
      "  warnings.warn(\"Maximum Likelihood optimization failed to \"\n"
     ]
    }
   ],
   "source": [
    "tarma01 = ARIMA(tipc['diff2'], order=(0,0,1)).fit()"
   ]
  },
  {
   "cell_type": "markdown",
   "metadata": {},
   "source": [
    "## **Principio de Parsimonia**"
   ]
  },
  {
   "cell_type": "markdown",
   "metadata": {},
   "source": [
    "##### **Pruebas de Significancia para Parámetros Estadísticos**"
   ]
  },
  {
   "cell_type": "markdown",
   "metadata": {},
   "source": [
    "El principio de parsimonia, también conocido como la navaja de Occam, establece que entre varias explicaciones posibles para un fenómeno, la más sencilla es generalmente la correcta, siempre y cuando todas las explicaciones sean igualmente capaces de explicar los datos."
   ]
  },
  {
   "cell_type": "markdown",
   "metadata": {},
   "source": [
    "Para determinar si un parámetro estimado ($\\beta$, $\\lambda$, etc.) es significativo, se usa una prueba de hipótesis basada en su distribución muestral.  "
   ]
  },
  {
   "cell_type": "markdown",
   "metadata": {},
   "source": [
    "\n",
    "**Plantear las hipótesis:**  \n",
    "\n",
    "$$\n",
    "H_0: \\beta = 0  \n",
    "\\quad\n",
    "\\text{vs}\n",
    "\\quad\n",
    "H_1: \\beta \\neq 0\n",
    "$$  \n",
    "\n",
    "- $H_0$: El parámetro no es significativo.\n",
    "- $H_1$: El parámetro es significativo.  \n"
   ]
  },
  {
   "cell_type": "markdown",
   "metadata": {},
   "source": [
    "\n",
    "**Calcular el estadístico de prueba, usualmente:**  \n",
    " - Prueba $t$:  \n",
    "   $$\n",
    "   t = \\frac{\\hat{\\beta}}{\\text{SE}(\\hat{\\beta})}\n",
    "   $$  \n",
    "\n",
    " - Prueba $z$ en muestras grandes. $n>30$\n",
    "   $$\n",
    "   z = \\frac{\\hat{\\beta} - \\beta_0}{\\text{SE}(\\hat{\\beta})}\n",
    "   $$ \n",
    "\n",
    "donde $\\hat{\\beta}$ es el estimador del parámetro y $\\text{SE}(\\hat{\\beta})$ es su error estándar.\n",
    "\n"
   ]
  },
  {
   "cell_type": "markdown",
   "metadata": {},
   "source": [
    "\n",
    "**Obtener el p-valor:**  \n",
    "\n",
    "   $$\n",
    "   P(T > |t| \\mid H_0) = p_{\\text{valor}}\n",
    "   $$   \n",
    "\n",
    "Si $p$-valor < $\\alpha$, rechazamos $H_0$ y concluimos que el parámetro es significativo.  "
   ]
  },
  {
   "cell_type": "code",
   "execution_count": 90,
   "metadata": {},
   "outputs": [
    {
     "data": {
      "text/html": [
       "<table class=\"simpletable\">\n",
       "<caption>SARIMAX Results</caption>\n",
       "<tr>\n",
       "  <th>Dep. Variable:</th>          <td>IPC</td>       <th>  No. Observations:  </th>   <td>92</td>  \n",
       "</tr>\n",
       "<tr>\n",
       "  <th>Model:</th>            <td>ARIMA(0, 2, 4)</td>  <th>  Log Likelihood     </th> <td>-3.747</td>\n",
       "</tr>\n",
       "<tr>\n",
       "  <th>Date:</th>            <td>Fri, 07 Mar 2025</td> <th>  AIC                </th> <td>17.493</td>\n",
       "</tr>\n",
       "<tr>\n",
       "  <th>Time:</th>                <td>15:38:11</td>     <th>  BIC                </th> <td>29.992</td>\n",
       "</tr>\n",
       "<tr>\n",
       "  <th>Sample:</th>                  <td>0</td>        <th>  HQIC               </th> <td>22.534</td>\n",
       "</tr>\n",
       "<tr>\n",
       "  <th></th>                       <td> - 92</td>      <th>                     </th>    <td> </td>  \n",
       "</tr>\n",
       "<tr>\n",
       "  <th>Covariance Type:</th>        <td>opg</td>       <th>                     </th>    <td> </td>  \n",
       "</tr>\n",
       "</table>\n",
       "<table class=\"simpletable\">\n",
       "<tr>\n",
       "     <td></td>       <th>coef</th>     <th>std err</th>      <th>z</th>      <th>P>|z|</th>  <th>[0.025</th>    <th>0.975]</th>  \n",
       "</tr>\n",
       "<tr>\n",
       "  <th>ma.L1</th>  <td>   -0.4405</td> <td>    0.094</td> <td>   -4.675</td> <td> 0.000</td> <td>   -0.625</td> <td>   -0.256</td>\n",
       "</tr>\n",
       "<tr>\n",
       "  <th>ma.L2</th>  <td>   -0.2678</td> <td>    0.113</td> <td>   -2.365</td> <td> 0.018</td> <td>   -0.490</td> <td>   -0.046</td>\n",
       "</tr>\n",
       "<tr>\n",
       "  <th>ma.L3</th>  <td>   -0.0428</td> <td>    0.088</td> <td>   -0.487</td> <td> 0.626</td> <td>   -0.215</td> <td>    0.129</td>\n",
       "</tr>\n",
       "<tr>\n",
       "  <th>ma.L4</th>  <td>   -0.0250</td> <td>    0.120</td> <td>   -0.209</td> <td> 0.835</td> <td>   -0.260</td> <td>    0.210</td>\n",
       "</tr>\n",
       "<tr>\n",
       "  <th>sigma2</th> <td>    0.0631</td> <td>    0.006</td> <td>   10.288</td> <td> 0.000</td> <td>    0.051</td> <td>    0.075</td>\n",
       "</tr>\n",
       "</table>\n",
       "<table class=\"simpletable\">\n",
       "<tr>\n",
       "  <th>Ljung-Box (L1) (Q):</th>     <td>0.03</td> <th>  Jarque-Bera (JB):  </th> <td>81.10</td>\n",
       "</tr>\n",
       "<tr>\n",
       "  <th>Prob(Q):</th>                <td>0.87</td> <th>  Prob(JB):          </th> <td>0.00</td> \n",
       "</tr>\n",
       "<tr>\n",
       "  <th>Heteroskedasticity (H):</th> <td>6.56</td> <th>  Skew:              </th> <td>1.09</td> \n",
       "</tr>\n",
       "<tr>\n",
       "  <th>Prob(H) (two-sided):</th>    <td>0.00</td> <th>  Kurtosis:          </th> <td>7.10</td> \n",
       "</tr>\n",
       "</table><br/><br/>Warnings:<br/>[1] Covariance matrix calculated using the outer product of gradients (complex-step)."
      ],
      "text/latex": [
       "\\begin{center}\n",
       "\\begin{tabular}{lclc}\n",
       "\\toprule\n",
       "\\textbf{Dep. Variable:}          &       IPC        & \\textbf{  No. Observations:  } &     92      \\\\\n",
       "\\textbf{Model:}                  &  ARIMA(0, 2, 4)  & \\textbf{  Log Likelihood     } &   -3.747    \\\\\n",
       "\\textbf{Date:}                   & Fri, 07 Mar 2025 & \\textbf{  AIC                } &   17.493    \\\\\n",
       "\\textbf{Time:}                   &     15:38:11     & \\textbf{  BIC                } &   29.992    \\\\\n",
       "\\textbf{Sample:}                 &        0         & \\textbf{  HQIC               } &   22.534    \\\\\n",
       "\\textbf{}                        &       - 92       & \\textbf{                     } &             \\\\\n",
       "\\textbf{Covariance Type:}        &       opg        & \\textbf{                     } &             \\\\\n",
       "\\bottomrule\n",
       "\\end{tabular}\n",
       "\\begin{tabular}{lcccccc}\n",
       "                & \\textbf{coef} & \\textbf{std err} & \\textbf{z} & \\textbf{P$> |$z$|$} & \\textbf{[0.025} & \\textbf{0.975]}  \\\\\n",
       "\\midrule\n",
       "\\textbf{ma.L1}  &      -0.4405  &        0.094     &    -4.675  &         0.000        &       -0.625    &       -0.256     \\\\\n",
       "\\textbf{ma.L2}  &      -0.2678  &        0.113     &    -2.365  &         0.018        &       -0.490    &       -0.046     \\\\\n",
       "\\textbf{ma.L3}  &      -0.0428  &        0.088     &    -0.487  &         0.626        &       -0.215    &        0.129     \\\\\n",
       "\\textbf{ma.L4}  &      -0.0250  &        0.120     &    -0.209  &         0.835        &       -0.260    &        0.210     \\\\\n",
       "\\textbf{sigma2} &       0.0631  &        0.006     &    10.288  &         0.000        &        0.051    &        0.075     \\\\\n",
       "\\bottomrule\n",
       "\\end{tabular}\n",
       "\\begin{tabular}{lclc}\n",
       "\\textbf{Ljung-Box (L1) (Q):}     & 0.03 & \\textbf{  Jarque-Bera (JB):  } & 81.10  \\\\\n",
       "\\textbf{Prob(Q):}                & 0.87 & \\textbf{  Prob(JB):          } &  0.00  \\\\\n",
       "\\textbf{Heteroskedasticity (H):} & 6.56 & \\textbf{  Skew:              } &  1.09  \\\\\n",
       "\\textbf{Prob(H) (two-sided):}    & 0.00 & \\textbf{  Kurtosis:          } &  7.10  \\\\\n",
       "\\bottomrule\n",
       "\\end{tabular}\n",
       "%\\caption{SARIMAX Results}\n",
       "\\end{center}\n",
       "\n",
       "Warnings: \\newline\n",
       " [1] Covariance matrix calculated using the outer product of gradients (complex-step)."
      ],
      "text/plain": [
       "<class 'statsmodels.iolib.summary.Summary'>\n",
       "\"\"\"\n",
       "                               SARIMAX Results                                \n",
       "==============================================================================\n",
       "Dep. Variable:                    IPC   No. Observations:                   92\n",
       "Model:                 ARIMA(0, 2, 4)   Log Likelihood                  -3.747\n",
       "Date:                Fri, 07 Mar 2025   AIC                             17.493\n",
       "Time:                        15:38:11   BIC                             29.992\n",
       "Sample:                             0   HQIC                            22.534\n",
       "                                 - 92                                         \n",
       "Covariance Type:                  opg                                         \n",
       "==============================================================================\n",
       "                 coef    std err          z      P>|z|      [0.025      0.975]\n",
       "------------------------------------------------------------------------------\n",
       "ma.L1         -0.4405      0.094     -4.675      0.000      -0.625      -0.256\n",
       "ma.L2         -0.2678      0.113     -2.365      0.018      -0.490      -0.046\n",
       "ma.L3         -0.0428      0.088     -0.487      0.626      -0.215       0.129\n",
       "ma.L4         -0.0250      0.120     -0.209      0.835      -0.260       0.210\n",
       "sigma2         0.0631      0.006     10.288      0.000       0.051       0.075\n",
       "===================================================================================\n",
       "Ljung-Box (L1) (Q):                   0.03   Jarque-Bera (JB):                81.10\n",
       "Prob(Q):                              0.87   Prob(JB):                         0.00\n",
       "Heteroskedasticity (H):               6.56   Skew:                             1.09\n",
       "Prob(H) (two-sided):                  0.00   Kurtosis:                         7.10\n",
       "===================================================================================\n",
       "\n",
       "Warnings:\n",
       "[1] Covariance matrix calculated using the outer product of gradients (complex-step).\n",
       "\"\"\""
      ]
     },
     "execution_count": 90,
     "metadata": {},
     "output_type": "execute_result"
    }
   ],
   "source": [
    "arima024 = ARIMA(ipc['IPC'], order=(0,2,4)).fit()\n",
    "arima024.summary()"
   ]
  },
  {
   "cell_type": "markdown",
   "metadata": {},
   "source": [
    "*El coeficiente $\\theta_3 = 0.626$ no es significativo porque su $p$-valor es mayor que 0.05.*  \n",
    "\n",
    "$$\n",
    "H_0: \\theta_3 = 0 \\quad \\text{vs.} \\quad H_1: \\theta_3 \\neq 0\n",
    "$$\n",
    "$$\n",
    "p\\text{-valor} = 0.626 > 0.05 \\Rightarrow \\text{No se rechaza } H_0.\n",
    "$$"
   ]
  },
  {
   "cell_type": "markdown",
   "metadata": {},
   "source": [
    "#### $\\nabla^2\\text{IPC}$"
   ]
  },
  {
   "cell_type": "code",
   "execution_count": 91,
   "metadata": {},
   "outputs": [
    {
     "data": {
      "text/html": [
       "<table class=\"simpletable\">\n",
       "<caption>SARIMAX Results</caption>\n",
       "<tr>\n",
       "  <th>Dep. Variable:</th>          <td>IPC</td>       <th>  No. Observations:  </th>   <td>92</td>  \n",
       "</tr>\n",
       "<tr>\n",
       "  <th>Model:</th>            <td>ARIMA(0, 2, 1)</td>  <th>  Log Likelihood     </th> <td>-8.588</td>\n",
       "</tr>\n",
       "<tr>\n",
       "  <th>Date:</th>            <td>Fri, 07 Mar 2025</td> <th>  AIC                </th> <td>21.177</td>\n",
       "</tr>\n",
       "<tr>\n",
       "  <th>Time:</th>                <td>15:38:11</td>     <th>  BIC                </th> <td>26.176</td>\n",
       "</tr>\n",
       "<tr>\n",
       "  <th>Sample:</th>                  <td>0</td>        <th>  HQIC               </th> <td>23.193</td>\n",
       "</tr>\n",
       "<tr>\n",
       "  <th></th>                       <td> - 92</td>      <th>                     </th>    <td> </td>  \n",
       "</tr>\n",
       "<tr>\n",
       "  <th>Covariance Type:</th>        <td>opg</td>       <th>                     </th>    <td> </td>  \n",
       "</tr>\n",
       "</table>\n",
       "<table class=\"simpletable\">\n",
       "<tr>\n",
       "     <td></td>       <th>coef</th>     <th>std err</th>      <th>z</th>      <th>P>|z|</th>  <th>[0.025</th>    <th>0.975]</th>  \n",
       "</tr>\n",
       "<tr>\n",
       "  <th>ma.L1</th>  <td>   -0.6761</td> <td>    0.058</td> <td>  -11.723</td> <td> 0.000</td> <td>   -0.789</td> <td>   -0.563</td>\n",
       "</tr>\n",
       "<tr>\n",
       "  <th>sigma2</th> <td>    0.0704</td> <td>    0.007</td> <td>   10.680</td> <td> 0.000</td> <td>    0.057</td> <td>    0.083</td>\n",
       "</tr>\n",
       "</table>\n",
       "<table class=\"simpletable\">\n",
       "<tr>\n",
       "  <th>Ljung-Box (L1) (Q):</th>     <td>4.50</td> <th>  Jarque-Bera (JB):  </th> <td>43.52</td>\n",
       "</tr>\n",
       "<tr>\n",
       "  <th>Prob(Q):</th>                <td>0.03</td> <th>  Prob(JB):          </th> <td>0.00</td> \n",
       "</tr>\n",
       "<tr>\n",
       "  <th>Heteroskedasticity (H):</th> <td>8.95</td> <th>  Skew:              </th> <td>0.91</td> \n",
       "</tr>\n",
       "<tr>\n",
       "  <th>Prob(H) (two-sided):</th>    <td>0.00</td> <th>  Kurtosis:          </th> <td>5.88</td> \n",
       "</tr>\n",
       "</table><br/><br/>Warnings:<br/>[1] Covariance matrix calculated using the outer product of gradients (complex-step)."
      ],
      "text/latex": [
       "\\begin{center}\n",
       "\\begin{tabular}{lclc}\n",
       "\\toprule\n",
       "\\textbf{Dep. Variable:}          &       IPC        & \\textbf{  No. Observations:  } &     92      \\\\\n",
       "\\textbf{Model:}                  &  ARIMA(0, 2, 1)  & \\textbf{  Log Likelihood     } &   -8.588    \\\\\n",
       "\\textbf{Date:}                   & Fri, 07 Mar 2025 & \\textbf{  AIC                } &   21.177    \\\\\n",
       "\\textbf{Time:}                   &     15:38:11     & \\textbf{  BIC                } &   26.176    \\\\\n",
       "\\textbf{Sample:}                 &        0         & \\textbf{  HQIC               } &   23.193    \\\\\n",
       "\\textbf{}                        &       - 92       & \\textbf{                     } &             \\\\\n",
       "\\textbf{Covariance Type:}        &       opg        & \\textbf{                     } &             \\\\\n",
       "\\bottomrule\n",
       "\\end{tabular}\n",
       "\\begin{tabular}{lcccccc}\n",
       "                & \\textbf{coef} & \\textbf{std err} & \\textbf{z} & \\textbf{P$> |$z$|$} & \\textbf{[0.025} & \\textbf{0.975]}  \\\\\n",
       "\\midrule\n",
       "\\textbf{ma.L1}  &      -0.6761  &        0.058     &   -11.723  &         0.000        &       -0.789    &       -0.563     \\\\\n",
       "\\textbf{sigma2} &       0.0704  &        0.007     &    10.680  &         0.000        &        0.057    &        0.083     \\\\\n",
       "\\bottomrule\n",
       "\\end{tabular}\n",
       "\\begin{tabular}{lclc}\n",
       "\\textbf{Ljung-Box (L1) (Q):}     & 4.50 & \\textbf{  Jarque-Bera (JB):  } & 43.52  \\\\\n",
       "\\textbf{Prob(Q):}                & 0.03 & \\textbf{  Prob(JB):          } &  0.00  \\\\\n",
       "\\textbf{Heteroskedasticity (H):} & 8.95 & \\textbf{  Skew:              } &  0.91  \\\\\n",
       "\\textbf{Prob(H) (two-sided):}    & 0.00 & \\textbf{  Kurtosis:          } &  5.88  \\\\\n",
       "\\bottomrule\n",
       "\\end{tabular}\n",
       "%\\caption{SARIMAX Results}\n",
       "\\end{center}\n",
       "\n",
       "Warnings: \\newline\n",
       " [1] Covariance matrix calculated using the outer product of gradients (complex-step)."
      ],
      "text/plain": [
       "<class 'statsmodels.iolib.summary.Summary'>\n",
       "\"\"\"\n",
       "                               SARIMAX Results                                \n",
       "==============================================================================\n",
       "Dep. Variable:                    IPC   No. Observations:                   92\n",
       "Model:                 ARIMA(0, 2, 1)   Log Likelihood                  -8.588\n",
       "Date:                Fri, 07 Mar 2025   AIC                             21.177\n",
       "Time:                        15:38:11   BIC                             26.176\n",
       "Sample:                             0   HQIC                            23.193\n",
       "                                 - 92                                         \n",
       "Covariance Type:                  opg                                         \n",
       "==============================================================================\n",
       "                 coef    std err          z      P>|z|      [0.025      0.975]\n",
       "------------------------------------------------------------------------------\n",
       "ma.L1         -0.6761      0.058    -11.723      0.000      -0.789      -0.563\n",
       "sigma2         0.0704      0.007     10.680      0.000       0.057       0.083\n",
       "===================================================================================\n",
       "Ljung-Box (L1) (Q):                   4.50   Jarque-Bera (JB):                43.52\n",
       "Prob(Q):                              0.03   Prob(JB):                         0.00\n",
       "Heteroskedasticity (H):               8.95   Skew:                             0.91\n",
       "Prob(H) (two-sided):                  0.00   Kurtosis:                         5.88\n",
       "===================================================================================\n",
       "\n",
       "Warnings:\n",
       "[1] Covariance matrix calculated using the outer product of gradients (complex-step).\n",
       "\"\"\""
      ]
     },
     "execution_count": 91,
     "metadata": {},
     "output_type": "execute_result"
    }
   ],
   "source": [
    "arima021.summary()"
   ]
  },
  {
   "cell_type": "code",
   "execution_count": 92,
   "metadata": {},
   "outputs": [
    {
     "data": {
      "text/html": [
       "<table class=\"simpletable\">\n",
       "<caption>SARIMAX Results</caption>\n",
       "<tr>\n",
       "  <th>Dep. Variable:</th>         <td>diff2</td>      <th>  No. Observations:  </th>   <td>92</td>  \n",
       "</tr>\n",
       "<tr>\n",
       "  <th>Model:</th>            <td>ARIMA(0, 0, 1)</td>  <th>  Log Likelihood     </th> <td>-8.415</td>\n",
       "</tr>\n",
       "<tr>\n",
       "  <th>Date:</th>            <td>Fri, 07 Mar 2025</td> <th>  AIC                </th> <td>22.830</td>\n",
       "</tr>\n",
       "<tr>\n",
       "  <th>Time:</th>                <td>15:38:12</td>     <th>  BIC                </th> <td>30.395</td>\n",
       "</tr>\n",
       "<tr>\n",
       "  <th>Sample:</th>                  <td>0</td>        <th>  HQIC               </th> <td>25.883</td>\n",
       "</tr>\n",
       "<tr>\n",
       "  <th></th>                       <td> - 92</td>      <th>                     </th>    <td> </td>  \n",
       "</tr>\n",
       "<tr>\n",
       "  <th>Covariance Type:</th>        <td>opg</td>       <th>                     </th>    <td> </td>  \n",
       "</tr>\n",
       "</table>\n",
       "<table class=\"simpletable\">\n",
       "<tr>\n",
       "     <td></td>       <th>coef</th>     <th>std err</th>      <th>z</th>      <th>P>|z|</th>  <th>[0.025</th>    <th>0.975]</th>  \n",
       "</tr>\n",
       "<tr>\n",
       "  <th>const</th>  <td>    0.0053</td> <td>    0.011</td> <td>    0.505</td> <td> 0.613</td> <td>   -0.015</td> <td>    0.026</td>\n",
       "</tr>\n",
       "<tr>\n",
       "  <th>ma.L1</th>  <td>   -0.6956</td> <td>    0.064</td> <td>  -10.887</td> <td> 0.000</td> <td>   -0.821</td> <td>   -0.570</td>\n",
       "</tr>\n",
       "<tr>\n",
       "  <th>sigma2</th> <td>    0.0701</td> <td>    0.008</td> <td>    9.211</td> <td> 0.000</td> <td>    0.055</td> <td>    0.085</td>\n",
       "</tr>\n",
       "</table>\n",
       "<table class=\"simpletable\">\n",
       "<tr>\n",
       "  <th>Ljung-Box (L1) (Q):</th>     <td>5.13</td>  <th>  Jarque-Bera (JB):  </th> <td>48.54</td>\n",
       "</tr>\n",
       "<tr>\n",
       "  <th>Prob(Q):</th>                <td>0.02</td>  <th>  Prob(JB):          </th> <td>0.00</td> \n",
       "</tr>\n",
       "<tr>\n",
       "  <th>Heteroskedasticity (H):</th> <td>10.27</td> <th>  Skew:              </th> <td>0.96</td> \n",
       "</tr>\n",
       "<tr>\n",
       "  <th>Prob(H) (two-sided):</th>    <td>0.00</td>  <th>  Kurtosis:          </th> <td>6.00</td> \n",
       "</tr>\n",
       "</table><br/><br/>Warnings:<br/>[1] Covariance matrix calculated using the outer product of gradients (complex-step)."
      ],
      "text/latex": [
       "\\begin{center}\n",
       "\\begin{tabular}{lclc}\n",
       "\\toprule\n",
       "\\textbf{Dep. Variable:}          &      diff2       & \\textbf{  No. Observations:  } &     92      \\\\\n",
       "\\textbf{Model:}                  &  ARIMA(0, 0, 1)  & \\textbf{  Log Likelihood     } &   -8.415    \\\\\n",
       "\\textbf{Date:}                   & Fri, 07 Mar 2025 & \\textbf{  AIC                } &   22.830    \\\\\n",
       "\\textbf{Time:}                   &     15:38:12     & \\textbf{  BIC                } &   30.395    \\\\\n",
       "\\textbf{Sample:}                 &        0         & \\textbf{  HQIC               } &   25.883    \\\\\n",
       "\\textbf{}                        &       - 92       & \\textbf{                     } &             \\\\\n",
       "\\textbf{Covariance Type:}        &       opg        & \\textbf{                     } &             \\\\\n",
       "\\bottomrule\n",
       "\\end{tabular}\n",
       "\\begin{tabular}{lcccccc}\n",
       "                & \\textbf{coef} & \\textbf{std err} & \\textbf{z} & \\textbf{P$> |$z$|$} & \\textbf{[0.025} & \\textbf{0.975]}  \\\\\n",
       "\\midrule\n",
       "\\textbf{const}  &       0.0053  &        0.011     &     0.505  &         0.613        &       -0.015    &        0.026     \\\\\n",
       "\\textbf{ma.L1}  &      -0.6956  &        0.064     &   -10.887  &         0.000        &       -0.821    &       -0.570     \\\\\n",
       "\\textbf{sigma2} &       0.0701  &        0.008     &     9.211  &         0.000        &        0.055    &        0.085     \\\\\n",
       "\\bottomrule\n",
       "\\end{tabular}\n",
       "\\begin{tabular}{lclc}\n",
       "\\textbf{Ljung-Box (L1) (Q):}     &  5.13 & \\textbf{  Jarque-Bera (JB):  } & 48.54  \\\\\n",
       "\\textbf{Prob(Q):}                &  0.02 & \\textbf{  Prob(JB):          } &  0.00  \\\\\n",
       "\\textbf{Heteroskedasticity (H):} & 10.27 & \\textbf{  Skew:              } &  0.96  \\\\\n",
       "\\textbf{Prob(H) (two-sided):}    &  0.00 & \\textbf{  Kurtosis:          } &  6.00  \\\\\n",
       "\\bottomrule\n",
       "\\end{tabular}\n",
       "%\\caption{SARIMAX Results}\n",
       "\\end{center}\n",
       "\n",
       "Warnings: \\newline\n",
       " [1] Covariance matrix calculated using the outer product of gradients (complex-step)."
      ],
      "text/plain": [
       "<class 'statsmodels.iolib.summary.Summary'>\n",
       "\"\"\"\n",
       "                               SARIMAX Results                                \n",
       "==============================================================================\n",
       "Dep. Variable:                  diff2   No. Observations:                   92\n",
       "Model:                 ARIMA(0, 0, 1)   Log Likelihood                  -8.415\n",
       "Date:                Fri, 07 Mar 2025   AIC                             22.830\n",
       "Time:                        15:38:12   BIC                             30.395\n",
       "Sample:                             0   HQIC                            25.883\n",
       "                                 - 92                                         \n",
       "Covariance Type:                  opg                                         \n",
       "==============================================================================\n",
       "                 coef    std err          z      P>|z|      [0.025      0.975]\n",
       "------------------------------------------------------------------------------\n",
       "const          0.0053      0.011      0.505      0.613      -0.015       0.026\n",
       "ma.L1         -0.6956      0.064    -10.887      0.000      -0.821      -0.570\n",
       "sigma2         0.0701      0.008      9.211      0.000       0.055       0.085\n",
       "===================================================================================\n",
       "Ljung-Box (L1) (Q):                   5.13   Jarque-Bera (JB):                48.54\n",
       "Prob(Q):                              0.02   Prob(JB):                         0.00\n",
       "Heteroskedasticity (H):              10.27   Skew:                             0.96\n",
       "Prob(H) (two-sided):                  0.00   Kurtosis:                         6.00\n",
       "===================================================================================\n",
       "\n",
       "Warnings:\n",
       "[1] Covariance matrix calculated using the outer product of gradients (complex-step).\n",
       "\"\"\""
      ]
     },
     "execution_count": 92,
     "metadata": {},
     "output_type": "execute_result"
    }
   ],
   "source": [
    "arma01.summary()"
   ]
  },
  {
   "cell_type": "markdown",
   "metadata": {},
   "source": [
    "#### $\\nabla^2\\text{T(IPC)}$"
   ]
  },
  {
   "cell_type": "code",
   "execution_count": 93,
   "metadata": {},
   "outputs": [
    {
     "data": {
      "text/html": [
       "<table class=\"simpletable\">\n",
       "<caption>SARIMAX Results</caption>\n",
       "<tr>\n",
       "  <th>Dep. Variable:</th>          <td>IPC</td>       <th>  No. Observations:  </th>    <td>92</td>    \n",
       "</tr>\n",
       "<tr>\n",
       "  <th>Model:</th>            <td>ARIMA(0, 2, 1)</td>  <th>  Log Likelihood     </th>  <td>910.701</td> \n",
       "</tr>\n",
       "<tr>\n",
       "  <th>Date:</th>            <td>Fri, 07 Mar 2025</td> <th>  AIC                </th> <td>-1817.401</td>\n",
       "</tr>\n",
       "<tr>\n",
       "  <th>Time:</th>                <td>15:38:12</td>     <th>  BIC                </th> <td>-1812.401</td>\n",
       "</tr>\n",
       "<tr>\n",
       "  <th>Sample:</th>                  <td>0</td>        <th>  HQIC               </th> <td>-1815.385</td>\n",
       "</tr>\n",
       "<tr>\n",
       "  <th></th>                       <td> - 92</td>      <th>                     </th>     <td> </td>    \n",
       "</tr>\n",
       "<tr>\n",
       "  <th>Covariance Type:</th>        <td>opg</td>       <th>                     </th>     <td> </td>    \n",
       "</tr>\n",
       "</table>\n",
       "<table class=\"simpletable\">\n",
       "<tr>\n",
       "     <td></td>       <th>coef</th>     <th>std err</th>      <th>z</th>      <th>P>|z|</th>  <th>[0.025</th>    <th>0.975]</th>  \n",
       "</tr>\n",
       "<tr>\n",
       "  <th>ma.L1</th>  <td>   -0.5275</td> <td> 8.36e-20</td> <td>-6.31e+18</td> <td> 0.000</td> <td>   -0.528</td> <td>   -0.528</td>\n",
       "</tr>\n",
       "<tr>\n",
       "  <th>sigma2</th> <td>     1e-10</td> <td> 2.21e-10</td> <td>    0.452</td> <td> 0.651</td> <td>-3.33e-10</td> <td> 5.33e-10</td>\n",
       "</tr>\n",
       "</table>\n",
       "<table class=\"simpletable\">\n",
       "<tr>\n",
       "  <th>Ljung-Box (L1) (Q):</th>     <td>1.22</td> <th>  Jarque-Bera (JB):  </th> <td>15.05</td>\n",
       "</tr>\n",
       "<tr>\n",
       "  <th>Prob(Q):</th>                <td>0.27</td> <th>  Prob(JB):          </th> <td>0.00</td> \n",
       "</tr>\n",
       "<tr>\n",
       "  <th>Heteroskedasticity (H):</th> <td>0.81</td> <th>  Skew:              </th> <td>0.72</td> \n",
       "</tr>\n",
       "<tr>\n",
       "  <th>Prob(H) (two-sided):</th>    <td>0.57</td> <th>  Kurtosis:          </th> <td>4.39</td> \n",
       "</tr>\n",
       "</table><br/><br/>Warnings:<br/>[1] Covariance matrix calculated using the outer product of gradients (complex-step).<br/>[2] Covariance matrix is singular or near-singular, with condition number 4.05e+25. Standard errors may be unstable."
      ],
      "text/latex": [
       "\\begin{center}\n",
       "\\begin{tabular}{lclc}\n",
       "\\toprule\n",
       "\\textbf{Dep. Variable:}          &       IPC        & \\textbf{  No. Observations:  } &     92      \\\\\n",
       "\\textbf{Model:}                  &  ARIMA(0, 2, 1)  & \\textbf{  Log Likelihood     } &  910.701    \\\\\n",
       "\\textbf{Date:}                   & Fri, 07 Mar 2025 & \\textbf{  AIC                } & -1817.401   \\\\\n",
       "\\textbf{Time:}                   &     15:38:12     & \\textbf{  BIC                } & -1812.401   \\\\\n",
       "\\textbf{Sample:}                 &        0         & \\textbf{  HQIC               } & -1815.385   \\\\\n",
       "\\textbf{}                        &       - 92       & \\textbf{                     } &             \\\\\n",
       "\\textbf{Covariance Type:}        &       opg        & \\textbf{                     } &             \\\\\n",
       "\\bottomrule\n",
       "\\end{tabular}\n",
       "\\begin{tabular}{lcccccc}\n",
       "                & \\textbf{coef} & \\textbf{std err} & \\textbf{z} & \\textbf{P$> |$z$|$} & \\textbf{[0.025} & \\textbf{0.975]}  \\\\\n",
       "\\midrule\n",
       "\\textbf{ma.L1}  &      -0.5275  &     8.36e-20     & -6.31e+18  &         0.000        &       -0.528    &       -0.528     \\\\\n",
       "\\textbf{sigma2} &        1e-10  &     2.21e-10     &     0.452  &         0.651        &    -3.33e-10    &     5.33e-10     \\\\\n",
       "\\bottomrule\n",
       "\\end{tabular}\n",
       "\\begin{tabular}{lclc}\n",
       "\\textbf{Ljung-Box (L1) (Q):}     & 1.22 & \\textbf{  Jarque-Bera (JB):  } & 15.05  \\\\\n",
       "\\textbf{Prob(Q):}                & 0.27 & \\textbf{  Prob(JB):          } &  0.00  \\\\\n",
       "\\textbf{Heteroskedasticity (H):} & 0.81 & \\textbf{  Skew:              } &  0.72  \\\\\n",
       "\\textbf{Prob(H) (two-sided):}    & 0.57 & \\textbf{  Kurtosis:          } &  4.39  \\\\\n",
       "\\bottomrule\n",
       "\\end{tabular}\n",
       "%\\caption{SARIMAX Results}\n",
       "\\end{center}\n",
       "\n",
       "Warnings: \\newline\n",
       " [1] Covariance matrix calculated using the outer product of gradients (complex-step). \\newline\n",
       " [2] Covariance matrix is singular or near-singular, with condition number 4.05e+25. Standard errors may be unstable."
      ],
      "text/plain": [
       "<class 'statsmodels.iolib.summary.Summary'>\n",
       "\"\"\"\n",
       "                               SARIMAX Results                                \n",
       "==============================================================================\n",
       "Dep. Variable:                    IPC   No. Observations:                   92\n",
       "Model:                 ARIMA(0, 2, 1)   Log Likelihood                 910.701\n",
       "Date:                Fri, 07 Mar 2025   AIC                          -1817.401\n",
       "Time:                        15:38:12   BIC                          -1812.401\n",
       "Sample:                             0   HQIC                         -1815.385\n",
       "                                 - 92                                         \n",
       "Covariance Type:                  opg                                         \n",
       "==============================================================================\n",
       "                 coef    std err          z      P>|z|      [0.025      0.975]\n",
       "------------------------------------------------------------------------------\n",
       "ma.L1         -0.5275   8.36e-20  -6.31e+18      0.000      -0.528      -0.528\n",
       "sigma2          1e-10   2.21e-10      0.452      0.651   -3.33e-10    5.33e-10\n",
       "===================================================================================\n",
       "Ljung-Box (L1) (Q):                   1.22   Jarque-Bera (JB):                15.05\n",
       "Prob(Q):                              0.27   Prob(JB):                         0.00\n",
       "Heteroskedasticity (H):               0.81   Skew:                             0.72\n",
       "Prob(H) (two-sided):                  0.57   Kurtosis:                         4.39\n",
       "===================================================================================\n",
       "\n",
       "Warnings:\n",
       "[1] Covariance matrix calculated using the outer product of gradients (complex-step).\n",
       "[2] Covariance matrix is singular or near-singular, with condition number 4.05e+25. Standard errors may be unstable.\n",
       "\"\"\""
      ]
     },
     "execution_count": 93,
     "metadata": {},
     "output_type": "execute_result"
    }
   ],
   "source": [
    "tarima021.summary()"
   ]
  },
  {
   "cell_type": "code",
   "execution_count": 94,
   "metadata": {},
   "outputs": [
    {
     "data": {
      "text/html": [
       "<table class=\"simpletable\">\n",
       "<caption>SARIMAX Results</caption>\n",
       "<tr>\n",
       "  <th>Dep. Variable:</th>         <td>diff2</td>      <th>  No. Observations:  </th>    <td>92</td>    \n",
       "</tr>\n",
       "<tr>\n",
       "  <th>Model:</th>            <td>ARIMA(0, 0, 1)</td>  <th>  Log Likelihood     </th>  <td>929.241</td> \n",
       "</tr>\n",
       "<tr>\n",
       "  <th>Date:</th>            <td>Fri, 07 Mar 2025</td> <th>  AIC                </th> <td>-1852.481</td>\n",
       "</tr>\n",
       "<tr>\n",
       "  <th>Time:</th>                <td>15:38:12</td>     <th>  BIC                </th> <td>-1844.916</td>\n",
       "</tr>\n",
       "<tr>\n",
       "  <th>Sample:</th>                  <td>0</td>        <th>  HQIC               </th> <td>-1849.428</td>\n",
       "</tr>\n",
       "<tr>\n",
       "  <th></th>                       <td> - 92</td>      <th>                     </th>     <td> </td>    \n",
       "</tr>\n",
       "<tr>\n",
       "  <th>Covariance Type:</th>        <td>opg</td>       <th>                     </th>     <td> </td>    \n",
       "</tr>\n",
       "</table>\n",
       "<table class=\"simpletable\">\n",
       "<tr>\n",
       "     <td></td>       <th>coef</th>     <th>std err</th>      <th>z</th>      <th>P>|z|</th>  <th>[0.025</th>    <th>0.975]</th>  \n",
       "</tr>\n",
       "<tr>\n",
       "  <th>const</th>  <td>-7.539e-07</td> <td>  6.3e-07</td> <td>   -1.197</td> <td> 0.231</td> <td>-1.99e-06</td> <td>  4.8e-07</td>\n",
       "</tr>\n",
       "<tr>\n",
       "  <th>ma.L1</th>  <td>   -0.5274</td> <td>  9.9e-13</td> <td>-5.33e+11</td> <td> 0.000</td> <td>   -0.527</td> <td>   -0.527</td>\n",
       "</tr>\n",
       "<tr>\n",
       "  <th>sigma2</th> <td> 9.295e-11</td> <td> 2.17e-10</td> <td>    0.428</td> <td> 0.668</td> <td>-3.32e-10</td> <td> 5.18e-10</td>\n",
       "</tr>\n",
       "</table>\n",
       "<table class=\"simpletable\">\n",
       "<tr>\n",
       "  <th>Ljung-Box (L1) (Q):</th>     <td>0.19</td> <th>  Jarque-Bera (JB):  </th> <td>16.81</td>\n",
       "</tr>\n",
       "<tr>\n",
       "  <th>Prob(Q):</th>                <td>0.66</td> <th>  Prob(JB):          </th> <td>0.00</td> \n",
       "</tr>\n",
       "<tr>\n",
       "  <th>Heteroskedasticity (H):</th> <td>0.71</td> <th>  Skew:              </th> <td>0.55</td> \n",
       "</tr>\n",
       "<tr>\n",
       "  <th>Prob(H) (two-sided):</th>    <td>0.35</td> <th>  Kurtosis:          </th> <td>4.79</td> \n",
       "</tr>\n",
       "</table><br/><br/>Warnings:<br/>[1] Covariance matrix calculated using the outer product of gradients (complex-step).<br/>[2] Covariance matrix is singular or near-singular, with condition number 1.06e+25. Standard errors may be unstable."
      ],
      "text/latex": [
       "\\begin{center}\n",
       "\\begin{tabular}{lclc}\n",
       "\\toprule\n",
       "\\textbf{Dep. Variable:}          &      diff2       & \\textbf{  No. Observations:  } &     92      \\\\\n",
       "\\textbf{Model:}                  &  ARIMA(0, 0, 1)  & \\textbf{  Log Likelihood     } &  929.241    \\\\\n",
       "\\textbf{Date:}                   & Fri, 07 Mar 2025 & \\textbf{  AIC                } & -1852.481   \\\\\n",
       "\\textbf{Time:}                   &     15:38:12     & \\textbf{  BIC                } & -1844.916   \\\\\n",
       "\\textbf{Sample:}                 &        0         & \\textbf{  HQIC               } & -1849.428   \\\\\n",
       "\\textbf{}                        &       - 92       & \\textbf{                     } &             \\\\\n",
       "\\textbf{Covariance Type:}        &       opg        & \\textbf{                     } &             \\\\\n",
       "\\bottomrule\n",
       "\\end{tabular}\n",
       "\\begin{tabular}{lcccccc}\n",
       "                & \\textbf{coef} & \\textbf{std err} & \\textbf{z} & \\textbf{P$> |$z$|$} & \\textbf{[0.025} & \\textbf{0.975]}  \\\\\n",
       "\\midrule\n",
       "\\textbf{const}  &   -7.539e-07  &      6.3e-07     &    -1.197  &         0.231        &    -1.99e-06    &      4.8e-07     \\\\\n",
       "\\textbf{ma.L1}  &      -0.5274  &      9.9e-13     & -5.33e+11  &         0.000        &       -0.527    &       -0.527     \\\\\n",
       "\\textbf{sigma2} &    9.295e-11  &     2.17e-10     &     0.428  &         0.668        &    -3.32e-10    &     5.18e-10     \\\\\n",
       "\\bottomrule\n",
       "\\end{tabular}\n",
       "\\begin{tabular}{lclc}\n",
       "\\textbf{Ljung-Box (L1) (Q):}     & 0.19 & \\textbf{  Jarque-Bera (JB):  } & 16.81  \\\\\n",
       "\\textbf{Prob(Q):}                & 0.66 & \\textbf{  Prob(JB):          } &  0.00  \\\\\n",
       "\\textbf{Heteroskedasticity (H):} & 0.71 & \\textbf{  Skew:              } &  0.55  \\\\\n",
       "\\textbf{Prob(H) (two-sided):}    & 0.35 & \\textbf{  Kurtosis:          } &  4.79  \\\\\n",
       "\\bottomrule\n",
       "\\end{tabular}\n",
       "%\\caption{SARIMAX Results}\n",
       "\\end{center}\n",
       "\n",
       "Warnings: \\newline\n",
       " [1] Covariance matrix calculated using the outer product of gradients (complex-step). \\newline\n",
       " [2] Covariance matrix is singular or near-singular, with condition number 1.06e+25. Standard errors may be unstable."
      ],
      "text/plain": [
       "<class 'statsmodels.iolib.summary.Summary'>\n",
       "\"\"\"\n",
       "                               SARIMAX Results                                \n",
       "==============================================================================\n",
       "Dep. Variable:                  diff2   No. Observations:                   92\n",
       "Model:                 ARIMA(0, 0, 1)   Log Likelihood                 929.241\n",
       "Date:                Fri, 07 Mar 2025   AIC                          -1852.481\n",
       "Time:                        15:38:12   BIC                          -1844.916\n",
       "Sample:                             0   HQIC                         -1849.428\n",
       "                                 - 92                                         \n",
       "Covariance Type:                  opg                                         \n",
       "==============================================================================\n",
       "                 coef    std err          z      P>|z|      [0.025      0.975]\n",
       "------------------------------------------------------------------------------\n",
       "const      -7.539e-07    6.3e-07     -1.197      0.231   -1.99e-06     4.8e-07\n",
       "ma.L1         -0.5274    9.9e-13  -5.33e+11      0.000      -0.527      -0.527\n",
       "sigma2      9.295e-11   2.17e-10      0.428      0.668   -3.32e-10    5.18e-10\n",
       "===================================================================================\n",
       "Ljung-Box (L1) (Q):                   0.19   Jarque-Bera (JB):                16.81\n",
       "Prob(Q):                              0.66   Prob(JB):                         0.00\n",
       "Heteroskedasticity (H):               0.71   Skew:                             0.55\n",
       "Prob(H) (two-sided):                  0.35   Kurtosis:                         4.79\n",
       "===================================================================================\n",
       "\n",
       "Warnings:\n",
       "[1] Covariance matrix calculated using the outer product of gradients (complex-step).\n",
       "[2] Covariance matrix is singular or near-singular, with condition number 1.06e+25. Standard errors may be unstable.\n",
       "\"\"\""
      ]
     },
     "execution_count": 94,
     "metadata": {},
     "output_type": "execute_result"
    }
   ],
   "source": [
    "tarma01.summary()"
   ]
  },
  {
   "cell_type": "markdown",
   "metadata": {},
   "source": [
    "## **Analisis de Residuos**"
   ]
  },
  {
   "cell_type": "markdown",
   "metadata": {},
   "source": [
    "#### **Obtener los residuos**"
   ]
  },
  {
   "cell_type": "code",
   "execution_count": 95,
   "metadata": {},
   "outputs": [],
   "source": [
    "resarima021 = arima021.resid.dropna()\n",
    "resarma01 = arma01.resid.dropna()\n",
    "restarima021 = tarima021.resid.dropna()\n",
    "restarma01 = tarma01.resid.dropna()"
   ]
  },
  {
   "cell_type": "markdown",
   "metadata": {},
   "source": [
    "### **Media Cero**"
   ]
  },
  {
   "cell_type": "markdown",
   "metadata": {},
   "source": [
    "##### <span style=\"font-size: 12px;\">info</span>"
   ]
  },
  {
   "cell_type": "markdown",
   "metadata": {},
   "source": [
    "$$\n",
    "H_0: \\beta = 0  \n",
    "\\quad\n",
    "\\text{vs}\n",
    "\\quad\n",
    "H_1: \\beta \\neq 0\n",
    "$$  "
   ]
  },
  {
   "cell_type": "markdown",
   "metadata": {},
   "source": [
    "\n",
    "| **Prueba**               | **Ventajas** | **Desventajas** | **Cuándo usarla** |\n",
    "|--------------------------|-------------|----------------|------------------|\n",
    "| **Prueba t de una muestra** | ✔ Fácil de interpretar. <br> ✔ Funciona bien si los datos son normales. <br> ✔ Muy utilizada en estadística. | ❌ Supone que los datos siguen una normal. <br> ❌ Puede perder precisión si la muestra es pequeña y la distribución no es normal. | Si los datos son **normales** o la muestra es grande (\\(n > 30\\)). |\n",
    "| **Prueba de signo**      | ✔ No asume normalidad. <br> ✔ Robusta ante valores atípicos. | ❌ Menos potente que la prueba t si los datos son normales. | Si los datos pueden no ser normales o tienen **outliers**. |\n",
    "| **Prueba de Wilcoxon (signed-rank)** | ✔ No asume normalidad. <br> ✔ Más potente que la prueba de signo. | ❌ Menos potente que la prueba t si los datos son normales. | Si los datos no son normales pero tienes suficientes observaciones (\\(n > 10\\)). |\n",
    "| **Prueba Z de una muestra** | ✔ Funciona bien en muestras grandes. <br> ✔ Similar a la prueba t pero para \\(n > 30\\). | ❌ Supone que se conoce la varianza poblacional. | Si la muestra es **grande (\\(n > 30\\))** y conoces la varianza poblacional. |\n",
    "\n",
    "\n",
    "**📌 ¿Qué prueba elegir?**\n",
    "- 📌 **Si los datos son normales** → **Prueba t de una muestra**.  \n",
    "- 📌 **Si la muestra es grande (\\(n > 30\\)) y conoces la varianza** → **Prueba Z**.  \n",
    "- 📌 **Si los datos no son normales y pueden tener outliers** → **Prueba de signo**.  \n",
    "- 📌 **Si los datos no son normales pero hay suficientes observaciones (\\(n > 10\\))** → **Prueba de Wilcoxon**.  \n",
    "  "
   ]
  },
  {
   "cell_type": "code",
   "execution_count": 96,
   "metadata": {},
   "outputs": [],
   "source": [
    "from scipy.stats import t as t_dist"
   ]
  },
  {
   "cell_type": "code",
   "execution_count": 97,
   "metadata": {},
   "outputs": [],
   "source": [
    "xres = resarima021.mean()\n",
    "sres = resarima021.std()\n",
    "n = len(resarima021)"
   ]
  },
  {
   "cell_type": "code",
   "execution_count": 98,
   "metadata": {},
   "outputs": [],
   "source": [
    "t = xres/sres * n**0.5"
   ]
  },
  {
   "cell_type": "code",
   "execution_count": 99,
   "metadata": {},
   "outputs": [
    {
     "data": {
      "text/plain": [
       "0.6265782181358964"
      ]
     },
     "execution_count": 99,
     "metadata": {},
     "output_type": "execute_result"
    }
   ],
   "source": [
    "p = 2 * t_dist.cdf(-abs(t), n-1)\n",
    "p"
   ]
  },
  {
   "cell_type": "markdown",
   "metadata": {},
   "source": [
    "##### Implementación"
   ]
  },
  {
   "cell_type": "code",
   "execution_count": 100,
   "metadata": {},
   "outputs": [
    {
     "data": {
      "text/plain": [
       "TtestResult(statistic=0.4882060649612207, pvalue=0.6265782181358963, df=91)"
      ]
     },
     "execution_count": 100,
     "metadata": {},
     "output_type": "execute_result"
    }
   ],
   "source": [
    "from scipy.stats import ttest_1samp\n",
    "\n",
    "ttest_1samp(resarima021, 0)"
   ]
  },
  {
   "cell_type": "code",
   "execution_count": 101,
   "metadata": {},
   "outputs": [
    {
     "data": {
      "text/plain": [
       "WilcoxonResult(statistic=2041.0, pvalue=0.7027567294577559)"
      ]
     },
     "execution_count": 101,
     "metadata": {},
     "output_type": "execute_result"
    }
   ],
   "source": [
    "from scipy.stats import wilcoxon\n",
    "\n",
    "wilcoxon(resarima021)"
   ]
  },
  {
   "cell_type": "code",
   "execution_count": 102,
   "metadata": {},
   "outputs": [
    {
     "data": {
      "text/plain": [
       "(-2.0, 0.7546517496104984)"
      ]
     },
     "execution_count": 102,
     "metadata": {},
     "output_type": "execute_result"
    }
   ],
   "source": [
    "from statsmodels.stats.descriptivestats import sign_test\n",
    "\n",
    "sign_test(resarima021)"
   ]
  },
  {
   "cell_type": "markdown",
   "metadata": {},
   "source": [
    "### **Distribucion Normal**"
   ]
  },
  {
   "cell_type": "markdown",
   "metadata": {},
   "source": [
    "##### <span style=\"font-size: 12px;\">info</span>"
   ]
  },
  {
   "cell_type": "markdown",
   "metadata": {},
   "source": [
    "$$\n",
    "H_0: \\text{Distribución normal}\n",
    "\\quad\n",
    "\\text{vs}\n",
    "\\quad\n",
    "H_1: \\text{Distribución NO normal} \n",
    "$$  "
   ]
  },
  {
   "cell_type": "markdown",
   "metadata": {},
   "source": [
    "**📌 Comparación de pruebas de normalidad**  \n",
    "\n",
    "| **Prueba**                | **Ventajas** | **Desventajas** | **Cuándo usarla** |\n",
    "|---------------------------|-------------|----------------|------------------|\n",
    "| **Shapiro-Wilk**          | ✔ Alta potencia en muestras pequeñas (< 50). <br> ✔ Sensible a desviaciones de normalidad. | ❌ No funciona bien en muestras grandes (> 5000). <br> ❌ Sensible a outliers. | Si la muestra es **pequeña** (n < 50). |\n",
    "| **Kolmogorov-Smirnov (KS)** | ✔ Se puede usar con cualquier distribución teórica. <br> ✔ Funciona para grandes muestras. | ❌ Poco potente para detectar desviaciones sutiles de normalidad. <br> ❌ Depende de la distribución teórica elegida. | Si quieres comparar los datos con una **distribución específica**. |\n",
    "| **Anderson-Darling (AD)** | ✔ Más potente que KS. <br> ✔ Detecta mejor problemas en las colas de la distribución. | ❌ Menos conocido que otras pruebas. <br> ❌ Necesita valores críticos específicos. | Si quieres evaluar **problemas en las colas** de la distribución. |\n",
    "| **D’Agostino-Pearson (K²)** | ✔ Funciona bien con muestras grandes (> 50). <br> ✔ Evalúa sesgo y curtosis. | ❌ No es recomendable para muestras pequeñas. | Si la muestra es **grande** y quieres evaluar **asimetría y curtosis**. |\n",
    "| **Jarque-Bera (JB)**      | ✔ Ampliamente usada en econometría y finanzas. <br> ✔ Basada en asimetría y curtosis. | ❌ No detecta desviaciones en las colas. <br> ❌ Puede fallar si los datos no tienen varianza constante. | Si trabajas con **series de tiempo o datos financieros**. |\n",
    "| **Lilliefors**            | ✔ Versión mejorada de KS. <br> ✔ Se puede usar cuando la media y varianza no son conocidas. | ❌ Menos potente que Shapiro-Wilk o AD. | Si quieres una prueba como KS pero sin conocer la media y varianza de antemano. |"
   ]
  },
  {
   "cell_type": "markdown",
   "metadata": {},
   "source": [
    "**📌 ¿Qué prueba elegir?**\n",
    "- 📌 **Si la muestra es pequeña ($n < 50$)** → **Shapiro-Wilk**.  \n",
    "- 📌 **Si la muestra es grande ($n > 50$)** → **D’Agostino-Pearson** o **Jarque-Bera**.  \n",
    "- 📌 **Si te interesan las colas de la distribución** → **Anderson-Darling**.  \n",
    "- 📌 **Si los datos vienen de un modelo financiero o econométrico** → **Jarque-Bera**.  \n",
    "- 📌 **Si quieres una prueba flexible sin asumir media y varianza** → **Lilliefors**.  \n"
   ]
  },
  {
   "cell_type": "markdown",
   "metadata": {},
   "source": [
    "#### Implementación"
   ]
  },
  {
   "cell_type": "code",
   "execution_count": 103,
   "metadata": {},
   "outputs": [
    {
     "data": {
      "text/plain": [
       "KstestResult(statistic=0.32107767359058836, pvalue=6.14297768131239e-09, statistic_location=-0.2606930057314685, statistic_sign=-1)"
      ]
     },
     "execution_count": 103,
     "metadata": {},
     "output_type": "execute_result"
    }
   ],
   "source": [
    "from scipy.stats import kstest\n",
    "# Estadistico, p-valor\n",
    "kstest(resarima021, 'norm')"
   ]
  },
  {
   "cell_type": "code",
   "execution_count": 104,
   "metadata": {},
   "outputs": [
    {
     "data": {
      "text/plain": [
       "(0.41876842740385, 0.0009999999999998899)"
      ]
     },
     "execution_count": 104,
     "metadata": {},
     "output_type": "execute_result"
    }
   ],
   "source": [
    "from statsmodels.stats.diagnostic import lilliefors\n",
    "# Estadistico, p-valor\n",
    "lilliefors(resarima021)"
   ]
  },
  {
   "cell_type": "code",
   "execution_count": 105,
   "metadata": {},
   "outputs": [
    {
     "data": {
      "text/plain": [
       "SignificanceResult(statistic=13528.424136386064, pvalue=0.0)"
      ]
     },
     "execution_count": 105,
     "metadata": {},
     "output_type": "execute_result"
    }
   ],
   "source": [
    "from scipy.stats import jarque_bera\n",
    "\n",
    "jarque_bera(resarima021)"
   ]
  },
  {
   "cell_type": "code",
   "execution_count": 106,
   "metadata": {},
   "outputs": [
    {
     "data": {
      "text/plain": [
       "NormaltestResult(statistic=154.298723113036, pvalue=3.1221804043197816e-34)"
      ]
     },
     "execution_count": 106,
     "metadata": {},
     "output_type": "execute_result"
    }
   ],
   "source": [
    "from scipy.stats import normaltest\n",
    "\n",
    "normaltest(resarima021)"
   ]
  },
  {
   "cell_type": "code",
   "execution_count": 107,
   "metadata": {},
   "outputs": [
    {
     "data": {
      "text/plain": [
       "AndersonResult(statistic=28.35396278149082, critical_values=array([0.554, 0.63 , 0.756, 0.882, 1.049]), significance_level=array([15. , 10. ,  5. ,  2.5,  1. ]), fit_result=  params: FitParams(loc=0.1802170379697535, scale=3.540679290012678)\n",
       " success: True\n",
       " message: '`anderson` successfully fit the distribution to the data.')"
      ]
     },
     "execution_count": 107,
     "metadata": {},
     "output_type": "execute_result"
    }
   ],
   "source": [
    "from scipy.stats import anderson\n",
    "\n",
    "anderson(resarima021)"
   ]
  },
  {
   "cell_type": "markdown",
   "metadata": {},
   "source": [
    "### **Varianza Constante**"
   ]
  },
  {
   "cell_type": "markdown",
   "metadata": {},
   "source": [
    "##### <span style=\"font-size: 12px;\">info</span>"
   ]
  },
  {
   "cell_type": "markdown",
   "metadata": {},
   "source": [
    "$$\n",
    "H_0: \\text{Varianza constante (homocedasticidad)}\n",
    "\\quad\n",
    "\\text{vs}\n",
    "\\quad\n",
    "H_1: \\text{Varianza NO constante (heterocedasticidad)} \n",
    "$$  "
   ]
  },
  {
   "cell_type": "markdown",
   "metadata": {},
   "source": [
    "**📌 Comparación de pruebas de homocedasticidad**  \n",
    "\n",
    "| **Prueba**              | **Ventajas** | **Desventajas** | **Cuándo usarla** |\n",
    "|-------------------------|-------------|----------------|------------------|\n",
    "| **Breusch-Pagan**       | ✔ Fácil de interpretar. <br> ✔ Ampliamente usada en econometría. <br> ✔ Buena para heterocedasticidad lineal. | ❌ No detecta formas no lineales de heterocedasticidad. <br> ❌ Sensible a errores no normales. | Si sospechas que la varianza de los residuales depende de las variables explicativas. |\n",
    "| **White**               | ✔ Detecta heterocedasticidad de cualquier tipo. <br> ✔ No necesita especificar la forma de la heterocedasticidad. | ❌ Puede perder potencia en muestras pequeñas. <br> ❌ Sensible a valores atípicos. | Si quieres detectar **cualquier** tipo de heterocedasticidad, no solo la lineal. |\n",
    "| **Goldfeld-Quandt**     | ✔ Útil si la heterocedasticidad está en dos grupos de datos. <br> ✔ Fácil de implementar. | ❌ Menos potente si la heterocedasticidad es gradual en lugar de abrupta. | Si sospechas que la heterocedasticidad ocurre entre dos subconjuntos de datos. |\n",
    "| **Levene**              | ✔ No asume normalidad en los datos. <br> ✔ Más robusto que Bartlett ante outliers. | ❌ Menos potente que Bartlett si los datos son normales. | Si los datos pueden **no ser normales**. |\n",
    "| **Bartlett**            | ✔ Más potente que Levene si los datos son normales. | ❌ Muy sensible a valores atípicos. <br> ❌ No funciona bien si los datos no son normales. | Si los datos son **normales** y quieres máxima precisión. |\n",
    "| **Brown-Forsythe**      | ✔ Versión mejorada de Levene, menos sensible a outliers. <br> ✔ Funciona bien en datos no normales. | ❌ Menos potente que Bartlett en datos perfectamente normales. | Si los datos pueden no ser normales, pero quieres evitar la sensibilidad extrema a outliers de Bartlett. |  "
   ]
  },
  {
   "cell_type": "markdown",
   "metadata": {},
   "source": [
    "**📌 ¿Qué prueba elegir?**\n",
    "- 📌 **Si tienes datos de regresión:**  \n",
    "  - **Breusch-Pagan** (heterocedasticidad lineal).  \n",
    "  - **White** (heterocedasticidad en cualquier forma).  \n",
    "- 📌 **Si divides los datos en dos grupos:**  \n",
    "  - **Goldfeld-Quandt**.  \n",
    "- 📌 **Si los datos pueden no ser normales:**  \n",
    "  - **Levene** o **Brown-Forsythe** (menos sensibles a outliers).  \n",
    "- 📌 **Si los datos son normales:**  \n",
    "  - **Bartlett** (máxima potencia)."
   ]
  },
  {
   "cell_type": "markdown",
   "metadata": {},
   "source": [
    "#### implementacion"
   ]
  },
  {
   "cell_type": "code",
   "execution_count": 108,
   "metadata": {},
   "outputs": [
    {
     "data": {
      "text/html": [
       "<div>\n",
       "<style scoped>\n",
       "    .dataframe tbody tr th:only-of-type {\n",
       "        vertical-align: middle;\n",
       "    }\n",
       "\n",
       "    .dataframe tbody tr th {\n",
       "        vertical-align: top;\n",
       "    }\n",
       "\n",
       "    .dataframe thead th {\n",
       "        text-align: right;\n",
       "    }\n",
       "</style>\n",
       "<table border=\"1\" class=\"dataframe\">\n",
       "  <thead>\n",
       "    <tr style=\"text-align: right;\">\n",
       "      <th></th>\n",
       "      <th>const</th>\n",
       "      <th>IPC</th>\n",
       "    </tr>\n",
       "  </thead>\n",
       "  <tbody>\n",
       "    <tr>\n",
       "      <th>0</th>\n",
       "      <td>1.0</td>\n",
       "      <td>30.210</td>\n",
       "    </tr>\n",
       "    <tr>\n",
       "      <th>1</th>\n",
       "      <td>1.0</td>\n",
       "      <td>30.321</td>\n",
       "    </tr>\n",
       "    <tr>\n",
       "      <th>2</th>\n",
       "      <td>1.0</td>\n",
       "      <td>30.349</td>\n",
       "    </tr>\n",
       "    <tr>\n",
       "      <th>3</th>\n",
       "      <td>1.0</td>\n",
       "      <td>30.430</td>\n",
       "    </tr>\n",
       "    <tr>\n",
       "      <th>4</th>\n",
       "      <td>1.0</td>\n",
       "      <td>30.433</td>\n",
       "    </tr>\n",
       "    <tr>\n",
       "      <th>...</th>\n",
       "      <td>...</td>\n",
       "      <td>...</td>\n",
       "    </tr>\n",
       "    <tr>\n",
       "      <th>87</th>\n",
       "      <td>1.0</td>\n",
       "      <td>62.939</td>\n",
       "    </tr>\n",
       "    <tr>\n",
       "      <th>88</th>\n",
       "      <td>1.0</td>\n",
       "      <td>63.380</td>\n",
       "    </tr>\n",
       "    <tr>\n",
       "      <th>89</th>\n",
       "      <td>1.0</td>\n",
       "      <td>63.633</td>\n",
       "    </tr>\n",
       "    <tr>\n",
       "      <th>90</th>\n",
       "      <td>1.0</td>\n",
       "      <td>64.170</td>\n",
       "    </tr>\n",
       "    <tr>\n",
       "      <th>91</th>\n",
       "      <td>1.0</td>\n",
       "      <td>64.787</td>\n",
       "    </tr>\n",
       "  </tbody>\n",
       "</table>\n",
       "<p>92 rows × 2 columns</p>\n",
       "</div>"
      ],
      "text/plain": [
       "    const     IPC\n",
       "0     1.0  30.210\n",
       "1     1.0  30.321\n",
       "2     1.0  30.349\n",
       "3     1.0  30.430\n",
       "4     1.0  30.433\n",
       "..    ...     ...\n",
       "87    1.0  62.939\n",
       "88    1.0  63.380\n",
       "89    1.0  63.633\n",
       "90    1.0  64.170\n",
       "91    1.0  64.787\n",
       "\n",
       "[92 rows x 2 columns]"
      ]
     },
     "execution_count": 108,
     "metadata": {},
     "output_type": "execute_result"
    }
   ],
   "source": [
    "from statsmodels.tools.tools import add_constant\n",
    "add_constant(ipc[['IPC']])"
   ]
  },
  {
   "cell_type": "code",
   "execution_count": 109,
   "metadata": {},
   "outputs": [
    {
     "name": "stdout",
     "output_type": "stream",
     "text": [
      "Statistic: 1.6846229943914612, p-value: 0.1943112961499781\n"
     ]
    }
   ],
   "source": [
    "# Breusch-Pagan test\n",
    "\n",
    "residuals = arima024.resid\n",
    "\n",
    "from statsmodels.stats.diagnostic import het_breuschpagan\n",
    "\n",
    "\n",
    "# Add a constant to the exogenous variables\n",
    "exog = add_constant(ipc[['IPC']])\n",
    "\n",
    "# Perform the test\n",
    "stat, p_value, _, _ = het_breuschpagan(residuals, exog)\n",
    "print(f'Statistic: {stat}, p-value: {p_value}') # p-value > 0.05, homocedasticidad"
   ]
  },
  {
   "cell_type": "markdown",
   "metadata": {},
   "source": [
    "### **Independencia**"
   ]
  },
  {
   "cell_type": "markdown",
   "metadata": {},
   "source": [
    "##### <span style=\"font-size: 12px;\">info</span>"
   ]
  },
  {
   "cell_type": "markdown",
   "metadata": {},
   "source": [
    "**📌 Comparación de pruebas de independencia**  \n",
    "\n",
    "| **Prueba**               | **Ventajas** | **Desventajas** | **Cuándo usarla** |\n",
    "|--------------------------|-------------|----------------|------------------|\n",
    "| **Chi-cuadrado de independencia** | ✔ Fácil de interpretar. <br> ✔ Funciona bien con datos categóricos. | ❌ No funciona con datos numéricos continuos. <br> ❌ Puede ser poco precisa si hay celdas con frecuencias bajas. | Si ambas variables son **categóricas**. |\n",
    "| **Coeficiente de correlación de Pearson** | ✔ Mide relación lineal entre dos variables numéricas. <br> ✔ Fácil de interpretar. | ❌ Solo detecta relaciones **lineales**. <br> ❌ Sensible a outliers. | Si ambas variables son **numéricas** y quieres ver si hay relación **lineal**. |\n",
    "| **Coeficiente de correlación de Spearman** | ✔ Mide relación **monótona** (no solo lineal). <br> ✔ Más robusto ante valores atípicos. | ❌ Menos potente que Pearson si la relación es realmente lineal. | Si ambas variables son **numéricas**, pero la relación puede no ser lineal. |\n",
    "| **Coeficiente de correlación de Kendall ($\\tau$)** | ✔ Más robusto ante empates en los datos. <br> ✔ Más preciso en muestras pequeñas. | ❌ Computacionalmente más costoso que Spearman. | Si los datos tienen **muchos valores repetidos** o la muestra es pequeña. |\n",
    "| **Prueba de Ljung-Box** | ✔ Específica para detectar correlación en series de tiempo. | ❌ Solo analiza autocorrelación, no correlación entre dos variables distintas. | Si trabajas con **series de tiempo** y quieres ver si hay autocorrelación. |\n",
    "| **Mutual Information (Información Mutua)** | ✔ Detecta **cualquier** tipo de relación entre variables. <br> ✔ No supone ninguna forma específica de relación. | ❌ No tiene una interpretación fácil como Pearson o Spearman. | Si buscas relaciones **no lineales** entre dos variables. |"
   ]
  },
  {
   "cell_type": "markdown",
   "metadata": {},
   "source": [
    "\n",
    "\n",
    "\n",
    "\n",
    "**📌 ¿Qué prueba elegir?**\n",
    "- 📌 **Si ambas variables son categóricas** → **Chi-cuadrado de independencia**.  \n",
    "- 📌 **Si ambas variables son numéricas y crees que la relación es lineal** → **Pearson**.  \n",
    "- 📌 **Si ambas variables son numéricas pero la relación puede no ser lineal** → **Spearman** o **Kendall**.  \n",
    "- 📌 **Si estás trabajando con series de tiempo** → **Ljung-Box**.  \n",
    "- 📌 **Si quieres detectar cualquier tipo de relación sin supuestos** → **Mutual Information**.  \n",
    "\n",
    "\n"
   ]
  },
  {
   "cell_type": "code",
   "execution_count": 110,
   "metadata": {},
   "outputs": [
    {
     "data": {
      "text/html": [
       "<div>\n",
       "<style scoped>\n",
       "    .dataframe tbody tr th:only-of-type {\n",
       "        vertical-align: middle;\n",
       "    }\n",
       "\n",
       "    .dataframe tbody tr th {\n",
       "        vertical-align: top;\n",
       "    }\n",
       "\n",
       "    .dataframe thead th {\n",
       "        text-align: right;\n",
       "    }\n",
       "</style>\n",
       "<table border=\"1\" class=\"dataframe\">\n",
       "  <thead>\n",
       "    <tr style=\"text-align: right;\">\n",
       "      <th></th>\n",
       "      <th>lb_stat</th>\n",
       "      <th>lb_pvalue</th>\n",
       "    </tr>\n",
       "  </thead>\n",
       "  <tbody>\n",
       "    <tr>\n",
       "      <th>1</th>\n",
       "      <td>15.106980</td>\n",
       "      <td>0.000102</td>\n",
       "    </tr>\n",
       "    <tr>\n",
       "      <th>2</th>\n",
       "      <td>15.106980</td>\n",
       "      <td>0.000524</td>\n",
       "    </tr>\n",
       "    <tr>\n",
       "      <th>3</th>\n",
       "      <td>15.106981</td>\n",
       "      <td>0.001727</td>\n",
       "    </tr>\n",
       "    <tr>\n",
       "      <th>4</th>\n",
       "      <td>15.106982</td>\n",
       "      <td>0.004484</td>\n",
       "    </tr>\n",
       "    <tr>\n",
       "      <th>5</th>\n",
       "      <td>15.106983</td>\n",
       "      <td>0.009915</td>\n",
       "    </tr>\n",
       "    <tr>\n",
       "      <th>6</th>\n",
       "      <td>15.106985</td>\n",
       "      <td>0.019441</td>\n",
       "    </tr>\n",
       "    <tr>\n",
       "      <th>7</th>\n",
       "      <td>15.106989</td>\n",
       "      <td>0.034652</td>\n",
       "    </tr>\n",
       "    <tr>\n",
       "      <th>8</th>\n",
       "      <td>15.106992</td>\n",
       "      <td>0.057098</td>\n",
       "    </tr>\n",
       "    <tr>\n",
       "      <th>9</th>\n",
       "      <td>15.106995</td>\n",
       "      <td>0.088039</td>\n",
       "    </tr>\n",
       "    <tr>\n",
       "      <th>10</th>\n",
       "      <td>15.107003</td>\n",
       "      <td>0.128209</td>\n",
       "    </tr>\n",
       "  </tbody>\n",
       "</table>\n",
       "</div>"
      ],
      "text/plain": [
       "      lb_stat  lb_pvalue\n",
       "1   15.106980   0.000102\n",
       "2   15.106980   0.000524\n",
       "3   15.106981   0.001727\n",
       "4   15.106982   0.004484\n",
       "5   15.106983   0.009915\n",
       "6   15.106985   0.019441\n",
       "7   15.106989   0.034652\n",
       "8   15.106992   0.057098\n",
       "9   15.106995   0.088039\n",
       "10  15.107003   0.128209"
      ]
     },
     "execution_count": 110,
     "metadata": {},
     "output_type": "execute_result"
    }
   ],
   "source": [
    "from statsmodels.stats.diagnostic import acorr_ljungbox\n",
    "\n",
    "acorr_ljungbox(tarima021.resid)"
   ]
  },
  {
   "cell_type": "markdown",
   "metadata": {},
   "source": [
    "#### Implementacion"
   ]
  },
  {
   "cell_type": "markdown",
   "metadata": {},
   "source": [
    "### **Modelo admisible**"
   ]
  },
  {
   "cell_type": "markdown",
   "metadata": {},
   "source": [
    "es Estacionario e einvertible"
   ]
  }
 ],
 "metadata": {
  "kernelspec": {
   "display_name": "data-mining",
   "language": "python",
   "name": "python3"
  },
  "language_info": {
   "codemirror_mode": {
    "name": "ipython",
    "version": 3
   },
   "file_extension": ".py",
   "mimetype": "text/x-python",
   "name": "python",
   "nbconvert_exporter": "python",
   "pygments_lexer": "ipython3",
   "version": "3.12.8"
  }
 },
 "nbformat": 4,
 "nbformat_minor": 2
}
