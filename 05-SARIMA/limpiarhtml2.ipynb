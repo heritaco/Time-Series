{
 "cells": [
  {
   "cell_type": "code",
   "execution_count": 2,
   "id": "f4f12fe0",
   "metadata": {},
   "outputs": [
    {
     "name": "stdout",
     "output_type": "stream",
     "text": [
      "Tabla de contenido insertada en C:\\Heri\\GitHub\\.Semester\\Econometrics-II\\05-SARIMA\\02-Diferencia-Estacional copy\\01-Precipitacion-en-Puebla.ipynb\n"
     ]
    }
   ],
   "source": [
    "import nbformat\n",
    "import re\n",
    "\n",
    "def slugify(text):\n",
    "    # Crear un slug para los enlaces (básico, simplificado)\n",
    "    return re.sub(r'\\W+', '-', text.strip()).lower()\n",
    "\n",
    "def generate_toc_cell(nb):\n",
    "    toc_lines = ['**Tabla de Contenido**\\n']\n",
    "    for cell in nb.cells:\n",
    "        if cell.cell_type == 'markdown':\n",
    "            lines = cell.source.split('\\n')\n",
    "            for line in lines:\n",
    "                m = re.match(r'^(#{1,6})\\s+(.*)', line)\n",
    "                if m:\n",
    "                    level = len(m.group(1))\n",
    "                    title = m.group(2).strip()\n",
    "                    link = slugify(title)\n",
    "                    indent = '  ' * (level -1)\n",
    "                    toc_lines.append(f'{indent}- [{title}](#{link})')\n",
    "\n",
    "    toc_text = '\\n'.join(toc_lines)\n",
    "    return nbformat.v4.new_markdown_cell(toc_text)\n",
    "\n",
    "def insert_toc_in_notebook(path_in, path_out=None):\n",
    "    if path_out is None:\n",
    "        path_out = path_in\n",
    "\n",
    "    nb = nbformat.read(path_in, as_version=4)\n",
    "    toc_cell = generate_toc_cell(nb)\n",
    "\n",
    "    # Insertar al inicio\n",
    "    nb.cells.insert(0, toc_cell)\n",
    "\n",
    "    nbformat.write(nb, path_out)\n",
    "    print(f\"Tabla de contenido insertada en {path_out}\")\n",
    "\n",
    "# Uso:\n",
    "input_path = r\"C:\\Heri\\GitHub\\.Semester\\Econometrics-II\\05-SARIMA\\02-Diferencia-Estacional copy\\01-Precipitacion-en-Puebla.ipynb\"\n",
    "insert_toc_in_notebook(input_path)\n"
   ]
  }
 ],
 "metadata": {
  "kernelspec": {
   "display_name": "Python 3",
   "language": "python",
   "name": "python3"
  },
  "language_info": {
   "codemirror_mode": {
    "name": "ipython",
    "version": 3
   },
   "file_extension": ".py",
   "mimetype": "text/x-python",
   "name": "python",
   "nbconvert_exporter": "python",
   "pygments_lexer": "ipython3",
   "version": "3.12.1"
  }
 },
 "nbformat": 4,
 "nbformat_minor": 5
}
