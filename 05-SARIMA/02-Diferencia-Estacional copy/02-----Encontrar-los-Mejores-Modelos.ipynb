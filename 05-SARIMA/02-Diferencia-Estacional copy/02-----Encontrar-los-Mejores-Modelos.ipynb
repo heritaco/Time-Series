{
 "cells": [
  {
   "cell_type": "markdown",
   "id": "60ea5822",
   "metadata": {},
   "source": [
    "<style>\n",
    "body {\n",
    "    max-width: 900px;\n",
    "    margin: 40px auto;\n",
    "    padding: 0 20px;\n",
    "    font-family: \"Georgia\", serif;\n",
    "    line-height: 1.6;\n",
    "}\n",
    "</style>\n",
    "\n",
    "<div style=\"text-align: center; padding: 60px 60px\">\n",
    "  <h1 style=\"font-weight: bold; font-size: 3.1em\">\n",
    "    ENCONTRAR EL MEJOR ARIMA PARA LA SERIE DIFERENCIADA CON PMDARIMA\n",
    "  </h1>\n",
    "</div>"
   ]
  },
  {
   "cell_type": "markdown",
   "id": "cdd377a6",
   "metadata": {},
   "source": [
    "Se usa la libreria de `pmdarima` para intentar diferentes combinaciones de modelos y encontrar sus $\\text{AIC}$."
   ]
  },
  {
   "cell_type": "markdown",
   "id": "dadf62c2",
   "metadata": {},
   "source": [
    "**RESULTADOS**:\n",
    "<pre>\n",
    "(1) ARIMA(1,0,0)(0,1,1)[12], AIC=1430.397\n",
    "(2) ARIMA(0,0,1)(0,1,1)[12], AIC=1431.266\n",
    "(3) ARIMA(1,0,1)(0,1,1)[12], AIC=1432.133\n",
    "(4) ARIMA(2,0,0)(0,1,1)[12], AIC=1432.157\n",
    "(5) ARIMA(1,0,0)(0,1,2)[12], AIC=1432.368\n",
    "(6) ARIMA(1,0,0)(1,1,1)[12], AIC=1432.373\n",
    "(7) ARIMA(0,0,2)(0,1,1)[12], AIC=1432.664\n",
    "(8) ARIMA(0,0,1)(0,1,2)[12], AIC=1433.240\n",
    "(9) ARIMA(0,0,1)(1,1,1)[12], AIC=1433.245\n",
    "(10) ARIMA(2,0,1)(0,1,1)[12], AIC=1434.127\n",
    "(11) ARIMA(0,0,0)(0,1,1)[12], AIC=1445.334\n",
    "(12) ARIMA(1,0,0)(1,1,0)[12], AIC=1523.141\n",
    "(13) ARIMA(0,0,1)(1,1,0)[12], AIC=1523.219\n",
    "(14) ARIMA(0,0,1)(0,1,0)[12], AIC=1652.849\n",
    "(15) ARIMA(1,0,0)(0,1,0)[12], AIC=1652.984\n",
    "(16) ARIMA(0,0,0)(0,1,0)[12], AIC=1655.671\n",
    "</pre>"
   ]
  },
  {
   "cell_type": "markdown",
   "id": "5008b714",
   "metadata": {},
   "source": [
    "# **CARGAR LOS DATOS**"
   ]
  },
  {
   "cell_type": "code",
   "execution_count": 1,
   "id": "b40f50cb",
   "metadata": {},
   "outputs": [],
   "source": [
    "import pandas as pd\n",
    "import numpy as np\n",
    "\n",
    "data=pd.read_csv('MXN00021035.csv')\n",
    "\n",
    "pre=data.iloc[:,6]  # Precipitacion, es la columna 5\n",
    "date=data.iloc[:,5] # Date, es la columna 6\n",
    "date = date.astype(str).str.replace(r'(\\d{4})(\\d{2})', r'\\1/\\2', regex=True)    # La fecha está como 195210 y la pasamos a 1952/10 \n",
    "date = pd.to_datetime(date, format='%Y/%m')                                     # Lo convertimos en fecha\n",
    "pre = pd.Series(pre.values, index=date)                                         # Creamos una Serie\n",
    "\n",
    "# Partir la serie para train y test\n",
    "pre_total = pre.copy()          # Copia de la serie original\n",
    "\n",
    "# Todas hasta los ultimos 12 meses\n",
    "pre = pre_total[:-12]           # Entrenamiento: todos menos los últimos 12 meses\n",
    "\n",
    "from scipy.stats import zscore\n",
    "\n",
    "# Estandarizar la serie original\n",
    "zpre = zscore(pre)"
   ]
  },
  {
   "cell_type": "markdown",
   "id": "67db5aa4",
   "metadata": {},
   "source": [
    "# **ENCONTRAR EL MEJOR ARIMA BASADO EN EL $\\text{AIC} $**"
   ]
  },
  {
   "cell_type": "code",
   "execution_count": 2,
   "id": "b8368a23",
   "metadata": {},
   "outputs": [],
   "source": [
    "import pmdarima as pm"
   ]
  },
  {
   "cell_type": "code",
   "execution_count": 9,
   "id": "45c55199",
   "metadata": {},
   "outputs": [
    {
     "name": "stdout",
     "output_type": "stream",
     "text": [
      "Performing stepwise search to minimize aic\n",
      " ARIMA(2,0,2)(1,1,1)[12] intercept   : AIC=inf, Time=3.40 sec\n",
      " ARIMA(0,0,0)(0,1,0)[12] intercept   : AIC=1655.671, Time=0.08 sec\n",
      " ARIMA(1,0,0)(1,1,0)[12] intercept   : AIC=1523.141, Time=0.64 sec\n",
      " ARIMA(0,0,1)(0,1,1)[12] intercept   : AIC=1431.266, Time=0.48 sec\n",
      " ARIMA(0,0,0)(0,1,0)[12]             : AIC=1653.671, Time=0.03 sec\n",
      " ARIMA(0,0,1)(0,1,0)[12] intercept   : AIC=1652.849, Time=0.09 sec\n",
      " ARIMA(0,0,1)(1,1,1)[12] intercept   : AIC=1433.245, Time=0.63 sec\n",
      " ARIMA(0,0,1)(0,1,2)[12] intercept   : AIC=1433.240, Time=1.95 sec\n",
      " ARIMA(0,0,1)(1,1,0)[12] intercept   : AIC=1523.219, Time=0.36 sec\n",
      " ARIMA(0,0,1)(1,1,2)[12] intercept   : AIC=inf, Time=4.49 sec\n",
      " ARIMA(0,0,0)(0,1,1)[12] intercept   : AIC=1445.334, Time=0.40 sec\n",
      " ARIMA(1,0,1)(0,1,1)[12] intercept   : AIC=1432.133, Time=1.22 sec\n",
      " ARIMA(0,0,2)(0,1,1)[12] intercept   : AIC=1432.664, Time=0.56 sec\n",
      " ARIMA(1,0,0)(0,1,1)[12] intercept   : AIC=1430.397, Time=0.67 sec\n",
      " ARIMA(1,0,0)(0,1,0)[12] intercept   : AIC=1652.984, Time=0.05 sec\n",
      " ARIMA(1,0,0)(1,1,1)[12] intercept   : AIC=1432.373, Time=0.59 sec\n",
      " ARIMA(1,0,0)(0,1,2)[12] intercept   : AIC=1432.368, Time=1.91 sec\n",
      " ARIMA(1,0,0)(1,1,2)[12] intercept   : AIC=inf, Time=4.56 sec\n",
      " ARIMA(2,0,0)(0,1,1)[12] intercept   : AIC=1432.157, Time=0.79 sec\n",
      " ARIMA(2,0,1)(0,1,1)[12] intercept   : AIC=1434.127, Time=1.49 sec\n",
      " ARIMA(1,0,0)(0,1,1)[12]             : AIC=1428.625, Time=0.26 sec\n",
      " ARIMA(1,0,0)(0,1,0)[12]             : AIC=1650.985, Time=0.02 sec\n",
      " ARIMA(1,0,0)(1,1,1)[12]             : AIC=1430.599, Time=0.44 sec\n",
      " ARIMA(1,0,0)(0,1,2)[12]             : AIC=1430.594, Time=1.12 sec\n",
      " ARIMA(1,0,0)(1,1,0)[12]             : AIC=1521.170, Time=0.15 sec\n",
      " ARIMA(1,0,0)(1,1,2)[12]             : AIC=inf, Time=3.50 sec\n",
      " ARIMA(0,0,0)(0,1,1)[12]             : AIC=1443.593, Time=0.13 sec\n",
      " ARIMA(2,0,0)(0,1,1)[12]             : AIC=1430.380, Time=0.32 sec\n",
      " ARIMA(1,0,1)(0,1,1)[12]             : AIC=1430.355, Time=0.58 sec\n",
      " ARIMA(0,0,1)(0,1,1)[12]             : AIC=1429.501, Time=0.22 sec\n",
      " ARIMA(2,0,1)(0,1,1)[12]             : AIC=1432.349, Time=0.71 sec\n",
      "\n",
      "Best model:  ARIMA(1,0,0)(0,1,1)[12]          \n",
      "Total fit time: 31.867 seconds\n"
     ]
    }
   ],
   "source": [
    "# Encontrar el mejor SARIMA, Basado en ul AIC \n",
    "auto_sarima_model = pm.auto_arima(zpre, \n",
    "                                  seasonal=True, \n",
    "                                  m=12,\n",
    "                                  stepwise=True, \n",
    "                                  suppress_warnings=True, \n",
    "                                  trace=True, \n",
    "                                  D=1,\n",
    "                                  max_order=None)"
   ]
  },
  {
   "cell_type": "markdown",
   "id": "a98e6b60",
   "metadata": {},
   "source": [
    "# **PONER LINDO EL OUTPUT**"
   ]
  },
  {
   "cell_type": "code",
   "execution_count": 4,
   "id": "eb1c5cca",
   "metadata": {},
   "outputs": [],
   "source": [
    "import re"
   ]
  },
  {
   "cell_type": "code",
   "execution_count": 10,
   "id": "a25dfc0a",
   "metadata": {},
   "outputs": [],
   "source": [
    "texto = \"\"\"\n",
    "Performing stepwise search to minimize aic\n",
    " ARIMA(2,0,2)(1,1,1)[12] intercept   : AIC=inf, Time=3.40 sec\n",
    " ARIMA(0,0,0)(0,1,0)[12] intercept   : AIC=1655.671, Time=0.08 sec\n",
    " ARIMA(1,0,0)(1,1,0)[12] intercept   : AIC=1523.141, Time=0.64 sec\n",
    " ARIMA(0,0,1)(0,1,1)[12] intercept   : AIC=1431.266, Time=0.48 sec\n",
    " ARIMA(0,0,0)(0,1,0)[12]             : AIC=1653.671, Time=0.03 sec\n",
    " ARIMA(0,0,1)(0,1,0)[12] intercept   : AIC=1652.849, Time=0.09 sec\n",
    " ARIMA(0,0,1)(1,1,1)[12] intercept   : AIC=1433.245, Time=0.63 sec\n",
    " ARIMA(0,0,1)(0,1,2)[12] intercept   : AIC=1433.240, Time=1.95 sec\n",
    " ARIMA(0,0,1)(1,1,0)[12] intercept   : AIC=1523.219, Time=0.36 sec\n",
    " ARIMA(0,0,1)(1,1,2)[12] intercept   : AIC=inf, Time=4.49 sec\n",
    " ARIMA(0,0,0)(0,1,1)[12] intercept   : AIC=1445.334, Time=0.40 sec\n",
    " ARIMA(1,0,1)(0,1,1)[12] intercept   : AIC=1432.133, Time=1.22 sec\n",
    " ARIMA(0,0,2)(0,1,1)[12] intercept   : AIC=1432.664, Time=0.56 sec\n",
    " ARIMA(1,0,0)(0,1,1)[12] intercept   : AIC=1430.397, Time=0.67 sec\n",
    " ARIMA(1,0,0)(0,1,0)[12] intercept   : AIC=1652.984, Time=0.05 sec\n",
    " ARIMA(1,0,0)(1,1,1)[12] intercept   : AIC=1432.373, Time=0.59 sec\n",
    " ARIMA(1,0,0)(0,1,2)[12] intercept   : AIC=1432.368, Time=1.91 sec\n",
    " ARIMA(1,0,0)(1,1,2)[12] intercept   : AIC=inf, Time=4.56 sec\n",
    " ARIMA(2,0,0)(0,1,1)[12] intercept   : AIC=1432.157, Time=0.79 sec\n",
    " ARIMA(2,0,1)(0,1,1)[12] intercept   : AIC=1434.127, Time=1.49 sec\n",
    " ARIMA(1,0,0)(0,1,1)[12]             : AIC=1428.625, Time=0.26 sec\n",
    " ARIMA(1,0,0)(0,1,0)[12]             : AIC=1650.985, Time=0.02 sec\n",
    " ARIMA(1,0,0)(1,1,1)[12]             : AIC=1430.599, Time=0.44 sec\n",
    " ARIMA(1,0,0)(0,1,2)[12]             : AIC=1430.594, Time=1.12 sec\n",
    " ARIMA(1,0,0)(1,1,0)[12]             : AIC=1521.170, Time=0.15 sec\n",
    " ARIMA(1,0,0)(1,1,2)[12]             : AIC=inf, Time=3.50 sec\n",
    " ARIMA(0,0,0)(0,1,1)[12]             : AIC=1443.593, Time=0.13 sec\n",
    " ARIMA(2,0,0)(0,1,1)[12]             : AIC=1430.380, Time=0.32 sec\n",
    " ARIMA(1,0,1)(0,1,1)[12]             : AIC=1430.355, Time=0.58 sec\n",
    " ARIMA(0,0,1)(0,1,1)[12]             : AIC=1429.501, Time=0.22 sec\n",
    " ARIMA(2,0,1)(0,1,1)[12]             : AIC=1432.349, Time=0.71 sec\n",
    "\n",
    "Best model:  ARIMA(1,0,0)(0,1,1)[12]          \n",
    "Total fit time: 31.867 seconds\n",
    "\"\"\""
   ]
  },
  {
   "cell_type": "code",
   "execution_count": 11,
   "id": "c78d4cf2",
   "metadata": {},
   "outputs": [
    {
     "name": "stdout",
     "output_type": "stream",
     "text": [
      "Performing stepwise search to minimize aic\n",
      "\n",
      "ARIMA(0,0,0)(0,1,0)[12], AIC=1655.671\n",
      "ARIMA(1,0,0)(1,1,0)[12], AIC=1523.141\n",
      "ARIMA(0,0,1)(0,1,1)[12], AIC=1431.266\n",
      "ARIMA(0,0,0)(0,1,0)[12], AIC=1653.671\n",
      "ARIMA(0,0,1)(0,1,0)[12], AIC=1652.849\n",
      "ARIMA(0,0,1)(1,1,1)[12], AIC=1433.245\n",
      "ARIMA(0,0,1)(0,1,2)[12], AIC=1433.240\n",
      "ARIMA(0,0,1)(1,1,0)[12], AIC=1523.219\n",
      "\n",
      "ARIMA(0,0,0)(0,1,1)[12], AIC=1445.334\n",
      "ARIMA(1,0,1)(0,1,1)[12], AIC=1432.133\n",
      "ARIMA(0,0,2)(0,1,1)[12], AIC=1432.664\n",
      "ARIMA(1,0,0)(0,1,1)[12], AIC=1430.397\n",
      "ARIMA(1,0,0)(0,1,0)[12], AIC=1652.984\n",
      "ARIMA(1,0,0)(1,1,1)[12], AIC=1432.373\n",
      "ARIMA(1,0,0)(0,1,2)[12], AIC=1432.368\n",
      "\n",
      "ARIMA(2,0,0)(0,1,1)[12], AIC=1432.157\n",
      "ARIMA(2,0,1)(0,1,1)[12], AIC=1434.127\n",
      "ARIMA(1,0,0)(0,1,1)[12], AIC=1428.625\n",
      "ARIMA(1,0,0)(0,1,0)[12], AIC=1650.985\n",
      "ARIMA(1,0,0)(1,1,1)[12], AIC=1430.599\n",
      "ARIMA(1,0,0)(0,1,2)[12], AIC=1430.594\n",
      "ARIMA(1,0,0)(1,1,0)[12], AIC=1521.170\n",
      "\n",
      "ARIMA(0,0,0)(0,1,1)[12], AIC=1443.593\n",
      "ARIMA(2,0,0)(0,1,1)[12], AIC=1430.380\n",
      "ARIMA(1,0,1)(0,1,1)[12], AIC=1430.355\n",
      "ARIMA(0,0,1)(0,1,1)[12], AIC=1429.501\n",
      "ARIMA(2,0,1)(0,1,1)[12], AIC=1432.349\n",
      "\n",
      "Best model:  ARIMA(1,0,0)(0,1,1)[12]\n",
      "Total fit time: 31.867 seconds\n"
     ]
    }
   ],
   "source": [
    "def limpiar_linea(linea):\n",
    "    # Eliminar la palabra \"intercept\" con espacios alrededor\n",
    "    linea = re.sub(r'\\s*intercept\\s*', ' ', linea)\n",
    "    # Eliminar la parte \", Time=x.xx sec\"\n",
    "    linea = re.sub(r',\\s*Time=\\d+\\.\\d+\\s*sec', '', linea)\n",
    "    # Limpiar espacios extras\n",
    "    linea = re.sub(r'            ', '', linea)\n",
    "    # Reemplazar : por una coma\n",
    "    linea = re.sub(r'] :', '],', linea)\n",
    "    # Si la línea contiene \"inf\", eliminarla\n",
    "    if 'inf' in linea:\n",
    "        return ''\n",
    "    return linea.strip()\n",
    "\n",
    "# Procesar todas las líneas\n",
    "lineas = texto.strip().split('\\n')\n",
    "lineas_limpias = [limpiar_linea(linea) for linea in lineas]\n",
    "\n",
    "resultado = \"\\n\".join(lineas_limpias)\n",
    "print(resultado)\n"
   ]
  },
  {
   "cell_type": "code",
   "execution_count": 12,
   "id": "658c2b4d",
   "metadata": {},
   "outputs": [],
   "source": [
    "texto = \"\"\"\n",
    "ARIMA(0,0,0)(0,1,0)[12], AIC=1655.671\n",
    "ARIMA(1,0,0)(1,1,0)[12], AIC=1523.141\n",
    "ARIMA(0,0,1)(0,1,1)[12], AIC=1431.266\n",
    "ARIMA(0,0,0)(0,1,0)[12], AIC=1653.671\n",
    "ARIMA(0,0,1)(0,1,0)[12], AIC=1652.849\n",
    "ARIMA(0,0,1)(1,1,1)[12], AIC=1433.245\n",
    "ARIMA(0,0,1)(0,1,2)[12], AIC=1433.240\n",
    "ARIMA(0,0,1)(1,1,0)[12], AIC=1523.219\n",
    "ARIMA(0,0,0)(0,1,1)[12], AIC=1445.334\n",
    "ARIMA(1,0,1)(0,1,1)[12], AIC=1432.133\n",
    "ARIMA(0,0,2)(0,1,1)[12], AIC=1432.664\n",
    "ARIMA(1,0,0)(0,1,1)[12], AIC=1430.397\n",
    "ARIMA(1,0,0)(0,1,0)[12], AIC=1652.984\n",
    "ARIMA(1,0,0)(1,1,1)[12], AIC=1432.373\n",
    "ARIMA(1,0,0)(0,1,2)[12], AIC=1432.368\n",
    "ARIMA(2,0,0)(0,1,1)[12], AIC=1432.157\n",
    "ARIMA(2,0,1)(0,1,1)[12], AIC=1434.127\n",
    "ARIMA(1,0,0)(0,1,1)[12], AIC=1428.625\n",
    "ARIMA(1,0,0)(0,1,0)[12], AIC=1650.985\n",
    "ARIMA(1,0,0)(1,1,1)[12], AIC=1430.599\n",
    "ARIMA(1,0,0)(0,1,2)[12], AIC=1430.594\n",
    "ARIMA(1,0,0)(1,1,0)[12], AIC=1521.170\n",
    "ARIMA(0,0,0)(0,1,1)[12], AIC=1443.593\n",
    "ARIMA(2,0,0)(0,1,1)[12], AIC=1430.380\n",
    "ARIMA(1,0,1)(0,1,1)[12], AIC=1430.355\n",
    "ARIMA(0,0,1)(0,1,1)[12], AIC=1429.501\n",
    "ARIMA(2,0,1)(0,1,1)[12], AIC=1432.349\n",
    "\"\"\""
   ]
  },
  {
   "cell_type": "code",
   "execution_count": 13,
   "id": "5d1ce49d",
   "metadata": {},
   "outputs": [
    {
     "name": "stdout",
     "output_type": "stream",
     "text": [
      "(1) ARIMA(1,0,0)(0,1,1)[12], AIC=1430.397\n",
      "(2) ARIMA(0,0,1)(0,1,1)[12], AIC=1431.266\n",
      "(3) ARIMA(1,0,1)(0,1,1)[12], AIC=1432.133\n",
      "(4) ARIMA(2,0,0)(0,1,1)[12], AIC=1432.157\n",
      "(5) ARIMA(1,0,0)(0,1,2)[12], AIC=1432.368\n",
      "(6) ARIMA(1,0,0)(1,1,1)[12], AIC=1432.373\n",
      "(7) ARIMA(0,0,2)(0,1,1)[12], AIC=1432.664\n",
      "(8) ARIMA(0,0,1)(0,1,2)[12], AIC=1433.240\n",
      "(9) ARIMA(0,0,1)(1,1,1)[12], AIC=1433.245\n",
      "(10) ARIMA(2,0,1)(0,1,1)[12], AIC=1434.127\n",
      "(11) ARIMA(0,0,0)(0,1,1)[12], AIC=1445.334\n",
      "(12) ARIMA(1,0,0)(1,1,0)[12], AIC=1523.141\n",
      "(13) ARIMA(0,0,1)(1,1,0)[12], AIC=1523.219\n",
      "(14) ARIMA(0,0,1)(0,1,0)[12], AIC=1652.849\n",
      "(15) ARIMA(1,0,0)(0,1,0)[12], AIC=1652.984\n",
      "(16) ARIMA(0,0,0)(0,1,0)[12], AIC=1655.671\n"
     ]
    }
   ],
   "source": [
    "def extraer_aic(linea):\n",
    "    match = re.search(r'AIC=([0-9]+\\.[0-9]+)', linea)\n",
    "    return float(match.group(1)) if match else float('inf')\n",
    "\n",
    "def extraer_modelo(linea):\n",
    "    match = re.match(r'(ARIMA\\([^)]+\\)\\([^)]+\\)\\[\\d+\\])', linea)\n",
    "    return match.group(1) if match else None\n",
    "\n",
    "# Limpiar líneas vacías\n",
    "lineas = [linea.strip() for linea in texto.strip().split('\\n') if linea.strip()]\n",
    "\n",
    "# Diccionario para eliminar duplicados (se queda con el primero que aparece)\n",
    "modelos_unicos = {}\n",
    "for linea in lineas:\n",
    "    modelo = extraer_modelo(linea)\n",
    "    if modelo and modelo not in modelos_unicos:\n",
    "        modelos_unicos[modelo] = linea\n",
    "\n",
    "# Extraer líneas únicas\n",
    "lineas_unicas = list(modelos_unicos.values())\n",
    "\n",
    "# Ordenar por AIC\n",
    "lineas_ordenadas = sorted(lineas_unicas, key=extraer_aic)\n",
    "\n",
    "# Añadir índice\n",
    "lineas_indexadas = [f\"({i+1}) {linea}\" for i, linea in enumerate(lineas_ordenadas)]\n",
    "\n",
    "# Resultado final\n",
    "resultado = \"\\n\".join(lineas_indexadas)\n",
    "print(resultado)\n"
   ]
  },
  {
   "cell_type": "markdown",
   "id": "dd51a8b0",
   "metadata": {},
   "source": [
    "# **RESULTADOS**"
   ]
  },
  {
   "cell_type": "markdown",
   "id": "de22fc4f",
   "metadata": {},
   "source": [
    "<pre>\n",
    "(1) ARIMA(1,0,0)(0,1,1)[12], AIC=1430.397\n",
    "(2) ARIMA(0,0,1)(0,1,1)[12], AIC=1431.266\n",
    "(3) ARIMA(1,0,1)(0,1,1)[12], AIC=1432.133\n",
    "(4) ARIMA(2,0,0)(0,1,1)[12], AIC=1432.157\n",
    "(5) ARIMA(1,0,0)(0,1,2)[12], AIC=1432.368\n",
    "(6) ARIMA(1,0,0)(1,1,1)[12], AIC=1432.373\n",
    "(7) ARIMA(0,0,2)(0,1,1)[12], AIC=1432.664\n",
    "(8) ARIMA(0,0,1)(0,1,2)[12], AIC=1433.240\n",
    "(9) ARIMA(0,0,1)(1,1,1)[12], AIC=1433.245\n",
    "(10) ARIMA(2,0,1)(0,1,1)[12], AIC=1434.127\n",
    "(11) ARIMA(0,0,0)(0,1,1)[12], AIC=1445.334\n",
    "(12) ARIMA(1,0,0)(1,1,0)[12], AIC=1523.141\n",
    "(13) ARIMA(0,0,1)(1,1,0)[12], AIC=1523.219\n",
    "(14) ARIMA(0,0,1)(0,1,0)[12], AIC=1652.849\n",
    "(15) ARIMA(1,0,0)(0,1,0)[12], AIC=1652.984\n",
    "(16) ARIMA(0,0,0)(0,1,0)[12], AIC=1655.671\n",
    "</pre>"
   ]
  }
 ],
 "metadata": {
  "kernelspec": {
   "display_name": "Python 3",
   "language": "python",
   "name": "python3"
  },
  "language_info": {
   "codemirror_mode": {
    "name": "ipython",
    "version": 3
   },
   "file_extension": ".py",
   "mimetype": "text/x-python",
   "name": "python",
   "nbconvert_exporter": "python",
   "pygments_lexer": "ipython3",
   "version": "3.12.1"
  }
 },
 "nbformat": 4,
 "nbformat_minor": 5
}
