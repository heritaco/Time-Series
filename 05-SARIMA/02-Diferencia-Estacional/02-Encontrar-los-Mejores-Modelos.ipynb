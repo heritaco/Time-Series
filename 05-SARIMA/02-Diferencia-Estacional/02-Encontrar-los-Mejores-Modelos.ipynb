{
 "cells": [
  {
   "cell_type": "markdown",
   "id": "e5f018aa",
   "metadata": {},
   "source": [
    "# **ENCONTRAR EL MEJOR ARIMA PARA LA SERIE TRANSFORMADA**"
   ]
  },
  {
   "cell_type": "markdown",
   "id": "3a9fa89c",
   "metadata": {},
   "source": [
    "## **Cargar los datos**"
   ]
  },
  {
   "cell_type": "code",
   "execution_count": 1,
   "id": "b40f50cb",
   "metadata": {},
   "outputs": [],
   "source": [
    "import pandas as pd\n",
    "import numpy as np\n",
    "\n",
    "data=pd.read_csv('MXN00021035.csv')\n",
    "\n",
    "pre=data.iloc[:,6]  # Precipitacion, es la columna 5\n",
    "date=data.iloc[:,5] # Date, es la columna 6\n",
    "date = date.astype(str).str.replace(r'(\\d{4})(\\d{2})', r'\\1/\\2', regex=True)    # La fecha está como 195210 y la pasamos a 1952/10 \n",
    "date = pd.to_datetime(date, format='%Y/%m')                                     # Lo convertimos en fecha\n",
    "pre = pd.Series(pre.values, index=date)                                         # Creamos una Serie\n",
    "\n",
    "# Primera diferencia estacional con periodicidad 12\n",
    "dpre = pre.diff(12).dropna() \n",
    "\n",
    "# Partir la serie para train y test\n",
    "dpre_total = dpre.copy()          # Copia de la serie original\n",
    "\n",
    "# Todas hasta los ultimos 12 meses\n",
    "dpre = dpre_total[:-12]           # Entrenamiento: todos menos los últimos 12 meses\n",
    "dpre_test = dpre_total[-12:]      # Test: últimos 12 meses"
   ]
  },
  {
   "cell_type": "markdown",
   "id": "67db5aa4",
   "metadata": {},
   "source": [
    "## **Encontrar el mejor SARIMA basado en AIC**"
   ]
  },
  {
   "cell_type": "code",
   "execution_count": 2,
   "id": "b8368a23",
   "metadata": {},
   "outputs": [],
   "source": [
    "import pmdarima as pm"
   ]
  },
  {
   "cell_type": "code",
   "execution_count": 3,
   "id": "45c55199",
   "metadata": {},
   "outputs": [
    {
     "name": "stdout",
     "output_type": "stream",
     "text": [
      "Performing stepwise search to minimize aic\n",
      " ARIMA(2,0,2)(1,0,1)[12] intercept   : AIC=inf, Time=1.59 sec\n",
      " ARIMA(0,0,0)(0,0,0)[12] intercept   : AIC=10443.104, Time=0.01 sec\n",
      " ARIMA(1,0,0)(1,0,0)[12] intercept   : AIC=10310.582, Time=0.33 sec\n",
      " ARIMA(0,0,1)(0,0,1)[12] intercept   : AIC=10218.699, Time=0.43 sec\n",
      " ARIMA(0,0,0)(0,0,0)[12]             : AIC=10441.104, Time=0.00 sec\n",
      " ARIMA(0,0,1)(0,0,0)[12] intercept   : AIC=10440.284, Time=0.03 sec\n",
      " ARIMA(0,0,1)(1,0,1)[12] intercept   : AIC=10220.678, Time=0.92 sec\n",
      " ARIMA(0,0,1)(0,0,2)[12] intercept   : AIC=10220.674, Time=1.87 sec\n",
      " ARIMA(0,0,1)(1,0,0)[12] intercept   : AIC=10310.665, Time=0.27 sec\n",
      " ARIMA(0,0,1)(1,0,2)[12] intercept   : AIC=inf, Time=1.99 sec\n",
      " ARIMA(0,0,0)(0,0,1)[12] intercept   : AIC=10232.767, Time=0.28 sec\n",
      " ARIMA(1,0,1)(0,0,1)[12] intercept   : AIC=10219.566, Time=0.65 sec\n",
      " ARIMA(0,0,2)(0,0,1)[12] intercept   : AIC=10220.097, Time=0.73 sec\n",
      " ARIMA(1,0,0)(0,0,1)[12] intercept   : AIC=10217.831, Time=0.38 sec\n",
      " ARIMA(1,0,0)(0,0,0)[12] intercept   : AIC=10440.419, Time=0.02 sec\n",
      " ARIMA(1,0,0)(1,0,1)[12] intercept   : AIC=10219.806, Time=0.87 sec\n",
      " ARIMA(1,0,0)(0,0,2)[12] intercept   : AIC=10219.801, Time=1.61 sec\n",
      " ARIMA(1,0,0)(1,0,2)[12] intercept   : AIC=inf, Time=2.09 sec\n",
      " ARIMA(2,0,0)(0,0,1)[12] intercept   : AIC=10219.591, Time=0.72 sec\n",
      " ARIMA(2,0,1)(0,0,1)[12] intercept   : AIC=inf, Time=1.09 sec\n",
      " ARIMA(1,0,0)(0,0,1)[12]             : AIC=10216.058, Time=0.27 sec\n",
      " ARIMA(1,0,0)(0,0,0)[12]             : AIC=10438.419, Time=0.01 sec\n",
      " ARIMA(1,0,0)(1,0,1)[12]             : AIC=10218.032, Time=0.26 sec\n",
      " ARIMA(1,0,0)(0,0,2)[12]             : AIC=10218.027, Time=0.72 sec\n",
      " ARIMA(1,0,0)(1,0,0)[12]             : AIC=10308.603, Time=0.12 sec\n",
      " ARIMA(1,0,0)(1,0,2)[12]             : AIC=inf, Time=1.24 sec\n",
      " ARIMA(0,0,0)(0,0,1)[12]             : AIC=10231.028, Time=0.05 sec\n",
      " ARIMA(2,0,0)(0,0,1)[12]             : AIC=10217.813, Time=0.27 sec\n",
      " ARIMA(1,0,1)(0,0,1)[12]             : AIC=10217.788, Time=0.37 sec\n",
      " ARIMA(0,0,1)(0,0,1)[12]             : AIC=10216.934, Time=0.21 sec\n",
      " ARIMA(2,0,1)(0,0,1)[12]             : AIC=inf, Time=0.50 sec\n",
      "\n",
      "Best model:  ARIMA(1,0,0)(0,0,1)[12]          \n",
      "Total fit time: 19.920 seconds\n"
     ]
    }
   ],
   "source": [
    "# Encontrar el mejor SARIMA, Basado en ul AIC \n",
    "auto_sarima_model = pm.auto_arima(dpre, \n",
    "                                  seasonal=True, \n",
    "                                  m=12,\n",
    "                                  stepwise=True, \n",
    "                                  suppress_warnings=True, \n",
    "                                  trace=True)"
   ]
  },
  {
   "cell_type": "markdown",
   "id": "a98e6b60",
   "metadata": {},
   "source": [
    "## **Poner Lindo el Output**"
   ]
  },
  {
   "cell_type": "code",
   "execution_count": 9,
   "id": "eb1c5cca",
   "metadata": {},
   "outputs": [],
   "source": [
    "import re"
   ]
  },
  {
   "cell_type": "code",
   "execution_count": 10,
   "id": "a25dfc0a",
   "metadata": {},
   "outputs": [],
   "source": [
    "texto = \"\"\"\n",
    "Performing stepwise search to minimize aic\n",
    " ARIMA(2,0,2)(1,0,1)[12] intercept   : AIC=inf, Time=1.59 sec\n",
    " ARIMA(0,0,0)(0,0,0)[12] intercept   : AIC=10443.104, Time=0.01 sec\n",
    " ARIMA(1,0,0)(1,0,0)[12] intercept   : AIC=10310.582, Time=0.33 sec\n",
    " ARIMA(0,0,1)(0,0,1)[12] intercept   : AIC=10218.699, Time=0.43 sec\n",
    " ARIMA(0,0,0)(0,0,0)[12]             : AIC=10441.104, Time=0.00 sec\n",
    " ARIMA(0,0,1)(0,0,0)[12] intercept   : AIC=10440.284, Time=0.03 sec\n",
    " ARIMA(0,0,1)(1,0,1)[12] intercept   : AIC=10220.678, Time=0.92 sec\n",
    " ARIMA(0,0,1)(0,0,2)[12] intercept   : AIC=10220.674, Time=1.87 sec\n",
    " ARIMA(0,0,1)(1,0,0)[12] intercept   : AIC=10310.665, Time=0.27 sec\n",
    " ARIMA(0,0,1)(1,0,2)[12] intercept   : AIC=inf, Time=1.99 sec\n",
    " ARIMA(0,0,0)(0,0,1)[12] intercept   : AIC=10232.767, Time=0.28 sec\n",
    " ARIMA(1,0,1)(0,0,1)[12] intercept   : AIC=10219.566, Time=0.65 sec\n",
    " ARIMA(0,0,2)(0,0,1)[12] intercept   : AIC=10220.097, Time=0.73 sec\n",
    " ARIMA(1,0,0)(0,0,1)[12] intercept   : AIC=10217.831, Time=0.38 sec\n",
    " ARIMA(1,0,0)(0,0,0)[12] intercept   : AIC=10440.419, Time=0.02 sec\n",
    " ARIMA(1,0,0)(1,0,1)[12] intercept   : AIC=10219.806, Time=0.87 sec\n",
    " ARIMA(1,0,0)(0,0,2)[12] intercept   : AIC=10219.801, Time=1.61 sec\n",
    " ARIMA(1,0,0)(1,0,2)[12] intercept   : AIC=inf, Time=2.09 sec\n",
    " ARIMA(2,0,0)(0,0,1)[12] intercept   : AIC=10219.591, Time=0.72 sec\n",
    " ARIMA(2,0,1)(0,0,1)[12] intercept   : AIC=inf, Time=1.09 sec\n",
    " ARIMA(1,0,0)(0,0,1)[12]             : AIC=10216.058, Time=0.27 sec\n",
    " ARIMA(1,0,0)(0,0,0)[12]             : AIC=10438.419, Time=0.01 sec\n",
    " ARIMA(1,0,0)(1,0,1)[12]             : AIC=10218.032, Time=0.26 sec\n",
    " ARIMA(1,0,0)(0,0,2)[12]             : AIC=10218.027, Time=0.72 sec\n",
    " ARIMA(1,0,0)(1,0,0)[12]             : AIC=10308.603, Time=0.12 sec\n",
    " ARIMA(1,0,0)(1,0,2)[12]             : AIC=inf, Time=1.24 sec\n",
    " ARIMA(0,0,0)(0,0,1)[12]             : AIC=10231.028, Time=0.05 sec\n",
    " ARIMA(2,0,0)(0,0,1)[12]             : AIC=10217.813, Time=0.27 sec\n",
    " ARIMA(1,0,1)(0,0,1)[12]             : AIC=10217.788, Time=0.37 sec\n",
    " ARIMA(0,0,1)(0,0,1)[12]             : AIC=10216.934, Time=0.21 sec\n",
    " ARIMA(2,0,1)(0,0,1)[12]             : AIC=inf, Time=0.50 sec\n",
    "\n",
    "Best model:  ARIMA(1,0,0)(0,0,1)[12]          \n",
    "Total fit time: 19.920 seconds\n",
    "\"\"\""
   ]
  },
  {
   "cell_type": "code",
   "execution_count": 11,
   "id": "c78d4cf2",
   "metadata": {},
   "outputs": [
    {
     "name": "stdout",
     "output_type": "stream",
     "text": [
      "Performing stepwise search to minimize aic\n",
      "\n",
      "ARIMA(0,0,0)(0,0,0)[12], AIC=10443.104\n",
      "ARIMA(1,0,0)(1,0,0)[12], AIC=10310.582\n",
      "ARIMA(0,0,1)(0,0,1)[12], AIC=10218.699\n",
      "ARIMA(0,0,0)(0,0,0)[12], AIC=10441.104\n",
      "ARIMA(0,0,1)(0,0,0)[12], AIC=10440.284\n",
      "ARIMA(0,0,1)(1,0,1)[12], AIC=10220.678\n",
      "ARIMA(0,0,1)(0,0,2)[12], AIC=10220.674\n",
      "ARIMA(0,0,1)(1,0,0)[12], AIC=10310.665\n",
      "\n",
      "ARIMA(0,0,0)(0,0,1)[12], AIC=10232.767\n",
      "ARIMA(1,0,1)(0,0,1)[12], AIC=10219.566\n",
      "ARIMA(0,0,2)(0,0,1)[12], AIC=10220.097\n",
      "ARIMA(1,0,0)(0,0,1)[12], AIC=10217.831\n",
      "ARIMA(1,0,0)(0,0,0)[12], AIC=10440.419\n",
      "ARIMA(1,0,0)(1,0,1)[12], AIC=10219.806\n",
      "ARIMA(1,0,0)(0,0,2)[12], AIC=10219.801\n",
      "\n",
      "ARIMA(2,0,0)(0,0,1)[12], AIC=10219.591\n",
      "\n",
      "ARIMA(1,0,0)(0,0,1)[12], AIC=10216.058\n",
      "ARIMA(1,0,0)(0,0,0)[12], AIC=10438.419\n",
      "ARIMA(1,0,0)(1,0,1)[12], AIC=10218.032\n",
      "ARIMA(1,0,0)(0,0,2)[12], AIC=10218.027\n",
      "ARIMA(1,0,0)(1,0,0)[12], AIC=10308.603\n",
      "\n",
      "ARIMA(0,0,0)(0,0,1)[12], AIC=10231.028\n",
      "ARIMA(2,0,0)(0,0,1)[12], AIC=10217.813\n",
      "ARIMA(1,0,1)(0,0,1)[12], AIC=10217.788\n",
      "ARIMA(0,0,1)(0,0,1)[12], AIC=10216.934\n",
      "\n",
      "\n",
      "Best model:  ARIMA(1,0,0)(0,0,1)[12]\n",
      "Total fit time: 19.920 seconds\n"
     ]
    }
   ],
   "source": [
    "def limpiar_linea(linea):\n",
    "    # Eliminar la palabra \"intercept\" con espacios alrededor\n",
    "    linea = re.sub(r'\\s*intercept\\s*', ' ', linea)\n",
    "    # Eliminar la parte \", Time=x.xx sec\"\n",
    "    linea = re.sub(r',\\s*Time=\\d+\\.\\d+\\s*sec', '', linea)\n",
    "    # Limpiar espacios extras\n",
    "    linea = re.sub(r'            ', '', linea)\n",
    "    # Reemplazar : por una coma\n",
    "    linea = re.sub(r'] :', '],', linea)\n",
    "    # Si la línea contiene \"inf\", eliminarla\n",
    "    if 'inf' in linea:\n",
    "        return ''\n",
    "    return linea.strip()\n",
    "\n",
    "# Procesar todas las líneas\n",
    "lineas = texto.strip().split('\\n')\n",
    "lineas_limpias = [limpiar_linea(linea) for linea in lineas]\n",
    "\n",
    "resultado = \"\\n\".join(lineas_limpias)\n",
    "print(resultado)\n"
   ]
  },
  {
   "cell_type": "code",
   "execution_count": 12,
   "id": "658c2b4d",
   "metadata": {},
   "outputs": [],
   "source": [
    "texto = \"\"\"\n",
    "ARIMA(0,0,0)(0,0,0)[12], AIC=10443.104\n",
    "ARIMA(1,0,0)(1,0,0)[12], AIC=10310.582\n",
    "ARIMA(0,0,1)(0,0,1)[12], AIC=10218.699\n",
    "ARIMA(0,0,0)(0,0,0)[12], AIC=10441.104\n",
    "ARIMA(0,0,1)(0,0,0)[12], AIC=10440.284\n",
    "ARIMA(0,0,1)(1,0,1)[12], AIC=10220.678\n",
    "ARIMA(0,0,1)(0,0,2)[12], AIC=10220.674\n",
    "ARIMA(0,0,1)(1,0,0)[12], AIC=10310.665\n",
    "ARIMA(0,0,0)(0,0,1)[12], AIC=10232.767\n",
    "ARIMA(1,0,1)(0,0,1)[12], AIC=10219.566\n",
    "ARIMA(0,0,2)(0,0,1)[12], AIC=10220.097\n",
    "ARIMA(1,0,0)(0,0,1)[12], AIC=10217.831\n",
    "ARIMA(1,0,0)(0,0,0)[12], AIC=10440.419\n",
    "ARIMA(1,0,0)(1,0,1)[12], AIC=10219.806\n",
    "ARIMA(1,0,0)(0,0,2)[12], AIC=10219.801\n",
    "ARIMA(2,0,0)(0,0,1)[12], AIC=10219.591\n",
    "ARIMA(1,0,0)(0,0,1)[12], AIC=10216.058\n",
    "ARIMA(1,0,0)(0,0,0)[12], AIC=10438.419\n",
    "ARIMA(1,0,0)(1,0,1)[12], AIC=10218.032\n",
    "ARIMA(1,0,0)(0,0,2)[12], AIC=10218.027\n",
    "ARIMA(1,0,0)(1,0,0)[12], AIC=10308.603\n",
    "ARIMA(0,0,0)(0,0,1)[12], AIC=10231.028\n",
    "ARIMA(2,0,0)(0,0,1)[12], AIC=10217.813\n",
    "ARIMA(1,0,1)(0,0,1)[12], AIC=10217.788\n",
    "ARIMA(0,0,1)(0,0,1)[12], AIC=10216.934\n",
    "\"\"\""
   ]
  },
  {
   "cell_type": "code",
   "execution_count": 13,
   "id": "5d1ce49d",
   "metadata": {},
   "outputs": [
    {
     "name": "stdout",
     "output_type": "stream",
     "text": [
      "(1) ARIMA(1,0,0)(0,0,1)[12], AIC=10217.831\n",
      "(2) ARIMA(0,0,1)(0,0,1)[12], AIC=10218.699\n",
      "(3) ARIMA(1,0,1)(0,0,1)[12], AIC=10219.566\n",
      "(4) ARIMA(2,0,0)(0,0,1)[12], AIC=10219.591\n",
      "(5) ARIMA(1,0,0)(0,0,2)[12], AIC=10219.801\n",
      "(6) ARIMA(1,0,0)(1,0,1)[12], AIC=10219.806\n",
      "(7) ARIMA(0,0,2)(0,0,1)[12], AIC=10220.097\n",
      "(8) ARIMA(0,0,1)(0,0,2)[12], AIC=10220.674\n",
      "(9) ARIMA(0,0,1)(1,0,1)[12], AIC=10220.678\n",
      "(10) ARIMA(0,0,0)(0,0,1)[12], AIC=10232.767\n",
      "(11) ARIMA(1,0,0)(1,0,0)[12], AIC=10310.582\n",
      "(12) ARIMA(0,0,1)(1,0,0)[12], AIC=10310.665\n",
      "(13) ARIMA(0,0,1)(0,0,0)[12], AIC=10440.284\n",
      "(14) ARIMA(1,0,0)(0,0,0)[12], AIC=10440.419\n",
      "(15) ARIMA(0,0,0)(0,0,0)[12], AIC=10443.104\n"
     ]
    }
   ],
   "source": [
    "def extraer_aic(linea):\n",
    "    match = re.search(r'AIC=([0-9]+\\.[0-9]+)', linea)\n",
    "    return float(match.group(1)) if match else float('inf')\n",
    "\n",
    "def extraer_modelo(linea):\n",
    "    match = re.match(r'(ARIMA\\([^)]+\\)\\([^)]+\\)\\[\\d+\\])', linea)\n",
    "    return match.group(1) if match else None\n",
    "\n",
    "# Limpiar líneas vacías\n",
    "lineas = [linea.strip() for linea in texto.strip().split('\\n') if linea.strip()]\n",
    "\n",
    "# Diccionario para eliminar duplicados (se queda con el primero que aparece)\n",
    "modelos_unicos = {}\n",
    "for linea in lineas:\n",
    "    modelo = extraer_modelo(linea)\n",
    "    if modelo and modelo not in modelos_unicos:\n",
    "        modelos_unicos[modelo] = linea\n",
    "\n",
    "# Extraer líneas únicas\n",
    "lineas_unicas = list(modelos_unicos.values())\n",
    "\n",
    "# Ordenar por AIC\n",
    "lineas_ordenadas = sorted(lineas_unicas, key=extraer_aic)\n",
    "\n",
    "# Añadir índice\n",
    "lineas_indexadas = [f\"({i+1}) {linea}\" for i, linea in enumerate(lineas_ordenadas)]\n",
    "\n",
    "# Resultado final\n",
    "resultado = \"\\n\".join(lineas_indexadas)\n",
    "print(resultado)\n"
   ]
  },
  {
   "cell_type": "markdown",
   "id": "dd51a8b0",
   "metadata": {},
   "source": [
    "## **RESULTADOS**"
   ]
  },
  {
   "cell_type": "markdown",
   "id": "de22fc4f",
   "metadata": {},
   "source": [
    "(1) ARIMA(1,0,0)(0,0,1)[12], AIC=10217.831  \n",
    "(2) ARIMA(0,0,1)(0,0,1)[12], AIC=10218.699  \n",
    "(3) ARIMA(1,0,1)(0,0,1)[12], AIC=10219.566  \n",
    "(4) ARIMA(2,0,0)(0,0,1)[12], AIC=10219.591  \n",
    "(5) ARIMA(1,0,0)(0,0,2)[12], AIC=10219.801  \n",
    "(6) ARIMA(1,0,0)(1,0,1)[12], AIC=10219.806  \n",
    "(7) ARIMA(0,0,2)(0,0,1)[12], AIC=10220.097  \n",
    "(8) ARIMA(0,0,1)(0,0,2)[12], AIC=10220.674  \n",
    "(9) ARIMA(0,0,1)(1,0,1)[12], AIC=10220.678  \n",
    "(10) ARIMA(0,0,0)(0,0,1)[12], AIC=10232.767  \n",
    "(11) ARIMA(1,0,0)(1,0,0)[12], AIC=10310.582  \n",
    "(12) ARIMA(0,0,1)(1,0,0)[12], AIC=10310.665  \n",
    "(13) ARIMA(0,0,1)(0,0,0)[12], AIC=10440.284  \n",
    "(14) ARIMA(1,0,0)(0,0,0)[12], AIC=10440.419  \n",
    "(15) ARIMA(0,0,0)(0,0,0)[12], AIC=10443.104  "
   ]
  }
 ],
 "metadata": {
  "kernelspec": {
   "display_name": "Python 3",
   "language": "python",
   "name": "python3"
  },
  "language_info": {
   "codemirror_mode": {
    "name": "ipython",
    "version": 3
   },
   "file_extension": ".py",
   "mimetype": "text/x-python",
   "name": "python",
   "nbconvert_exporter": "python",
   "pygments_lexer": "ipython3",
   "version": "3.12.1"
  }
 },
 "nbformat": 4,
 "nbformat_minor": 5
}
