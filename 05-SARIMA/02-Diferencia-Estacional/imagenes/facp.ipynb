{
 "cells": [
  {
   "cell_type": "code",
   "execution_count": 4,
   "id": "47927b38",
   "metadata": {},
   "outputs": [
    {
     "name": "stdout",
     "output_type": "stream",
     "text": [
      "Matriz solución:\n",
      "Matrix([[1.01010101010101], [-0.0989898989898990]])\n",
      "\n",
      "Fórmulas explícitas:\n",
      "gamma0: 1.0101010101010102\n",
      "gamma1: -0.09898989898989899\n",
      "\n",
      "Autocorrelación:\n",
      "rho1 (matriz): -0.0980000000000000\n",
      "rho1 (fórmula): -0.09799999999999999\n",
      "\n",
      "Resultados:\n",
      "gamma0: 1.01010101010101\n",
      "gamma1: -0.0989898989898990\n",
      "rho1 (matriz): -0.0980000000000000\n",
      "rho1 (fórmula): -0.09799999999999999\n",
      "Matriz A:\n",
      "Matrix([[1, -0.100000000000000], [-0.100000000000000, 1]])\n",
      "Vector b:\n",
      "Matrix([[1.02000000000000], [-0.200000000000000]])\n"
     ]
    }
   ],
   "source": [
    "from sympy import Matrix, Rational\n",
    "\n",
    "# Valores dados\n",
    "phi1_val = 0.1\n",
    "theta1_val = 0.2\n",
    "sigma2_val = 1\n",
    "\n",
    "# MATRIZ: A * gamma = b\n",
    "A = Matrix([[1, -phi1_val], [-phi1_val, 1]])\n",
    "b = Matrix([\n",
    "    sigma2_val - theta1_val * (phi1_val * sigma2_val - theta1_val * sigma2_val),\n",
    "    -theta1_val * sigma2_val\n",
    "])\n",
    "\n",
    "# Solución por álgebra matricial\n",
    "gamma_matrix_sol = A.inv() * b\n",
    "\n",
    "# SOLUCIÓN POR FÓRMULAS EXPLÍCITAS\n",
    "gamma0_formula = (sigma2_val - theta1_val * (phi1_val * sigma2_val - theta1_val * sigma2_val) +\n",
    "                  phi1_val * (-theta1_val * sigma2_val)) / (1 - phi1_val**2)\n",
    "\n",
    "gamma1_formula = (phi1_val * (sigma2_val - theta1_val * (phi1_val * sigma2_val - theta1_val * sigma2_val)) +\n",
    "                  (-theta1_val * sigma2_val)) / (1 - phi1_val**2)\n",
    "\n",
    "# Autocorrelación\n",
    "rho1_matrix = gamma_matrix_sol[1] / gamma_matrix_sol[0]\n",
    "rho1_formula = gamma1_formula / gamma0_formula\n",
    "\n",
    "gamma_matrix_sol, gamma0_formula, gamma1_formula, rho1_matrix, rho1_formula\n",
    "\n",
    "print(\"Matriz solución:\")\n",
    "print(gamma_matrix_sol)\n",
    "print(\"\\nFórmulas explícitas:\")\n",
    "print(f\"gamma0: {gamma0_formula}\")\n",
    "print(f\"gamma1: {gamma1_formula}\")\n",
    "print(\"\\nAutocorrelación:\")\n",
    "print(f\"rho1 (matriz): {rho1_matrix}\")\n",
    "print(f\"rho1 (fórmula): {rho1_formula}\")\n",
    "print(\"\\nResultados:\")\n",
    "print(f\"gamma0: {gamma_matrix_sol[0]}\")\n",
    "print(f\"gamma1: {gamma_matrix_sol[1]}\")\n",
    "print(f\"rho1 (matriz): {rho1_matrix}\")\n",
    "print(f\"rho1 (fórmula): {rho1_formula}\")\n",
    "\n",
    "print(\"Matriz A:\")  \n",
    "print(A)\n",
    "print(\"Vector b:\")\n",
    "print(b)\n"
   ]
  }
 ],
 "metadata": {
  "kernelspec": {
   "display_name": "Python 3",
   "language": "python",
   "name": "python3"
  },
  "language_info": {
   "codemirror_mode": {
    "name": "ipython",
    "version": 3
   },
   "file_extension": ".py",
   "mimetype": "text/x-python",
   "name": "python",
   "nbconvert_exporter": "python",
   "pygments_lexer": "ipython3",
   "version": "3.12.1"
  }
 },
 "nbformat": 4,
 "nbformat_minor": 5
}
