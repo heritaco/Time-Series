{
 "cells": [
  {
   "cell_type": "code",
   "execution_count": 2,
   "id": "3ea29bc3",
   "metadata": {},
   "outputs": [
    {
     "name": "stdout",
     "output_type": "stream",
     "text": [
      "Notebook limpio guardado en: C:\\Heri\\GitHub\\.Semester\\Econometrics-II\\05-SARIMA\\02-Diferencia-Estacional copy\\01-Precipitacion-en-Puebla.ipynb\n"
     ]
    }
   ],
   "source": [
    "import nbformat\n",
    "\n",
    "def clean_warnings_and_out_numbers(path_in, path_out=None):\n",
    "    if path_out is None:\n",
    "        path_out = path_in\n",
    "\n",
    "    nb = nbformat.read(path_in, as_version=4)\n",
    "\n",
    "    for cell in nb.cells:\n",
    "        if cell.cell_type == 'code':\n",
    "            # Quitar numeración Out[i]\n",
    "            cell.execution_count = None\n",
    "\n",
    "            if 'outputs' in cell:\n",
    "                clean_outputs = []\n",
    "                for output in cell.outputs:\n",
    "                    texts = []\n",
    "                    if 'text' in output:\n",
    "                        texts.append(output['text'])\n",
    "                    if 'ename' in output and output['ename'].lower() == 'warning':\n",
    "                        continue\n",
    "                    if 'traceback' in output:\n",
    "                        traceback_text = '\\n'.join(output['traceback'])\n",
    "                        texts.append(traceback_text)\n",
    "\n",
    "                    if any('warning' in t.lower() for t in texts):\n",
    "                        continue\n",
    "                    else:\n",
    "                        clean_outputs.append(output)\n",
    "                cell.outputs = clean_outputs\n",
    "\n",
    "    nbformat.write(nb, path_out)\n",
    "    print(f\"Notebook limpio guardado en: {path_out}\")\n",
    "\n",
    "# Ejemplo de uso:\n",
    "input_path = r\"C:\\Heri\\GitHub\\.Semester\\Econometrics-II\\05-SARIMA\\02-Diferencia-Estacional copy\\01-Precipitacion-en-Puebla.ipynb\"\n",
    "clean_warnings_and_out_numbers(input_path, r\"C:\\Heri\\GitHub\\.Semester\\Econometrics-II\\05-SARIMA\\02-Diferencia-Estacional copy\\01-Precipitacion-en-Puebla.ipynb\")\n"
   ]
  },
  {
   "cell_type": "code",
   "execution_count": 3,
   "id": "9c3e8f3c",
   "metadata": {},
   "outputs": [
    {
     "name": "stderr",
     "output_type": "stream",
     "text": [
      "[NbConvertApp] Converting notebook C:\\Users\\herie\\Downloads\\Time-Series-main (2)\\Time-Series-main\\05-SARIMA\\02-Diferencia-Estacional copy\\01-Precipitacion-en-Puebla.ipynb to html\n",
      "[NbConvertApp] ERROR | Notebook JSON is invalid: Additional properties are not allowed ('id' was unexpected)\n",
      "\n",
      "Failed validating 'additionalProperties' in markdown_cell:\n",
      "\n",
      "On instance['cells'][1]:\n",
      "{'cell_type': 'markdown',\n",
      " 'id': 'eb8bc43e',\n",
      " 'metadata': {},\n",
      " 'source': '**Tabla de Contenido**\\n'\n",
      "           '\\n'\n",
      "           '- [**CONFIGURACIÓN DE LA NOTETBOOK**](#-...'}\n",
      "[NbConvertApp] WARNING | Alternative text is missing on 29 image(s).\n",
      "[NbConvertApp] Writing 5301968 bytes to C:\\Users\\herie\\Downloads\\Time-Series-main (2)\\Time-Series-main\\05-SARIMA\\02-Diferencia-Estacional copy\\01-Precipitacion-en-Puebla.html\n"
     ]
    }
   ],
   "source": [
    "!jupyter nbconvert \"C:\\Users\\herie\\Downloads\\Time-Series-main (2)\\Time-Series-main\\05-SARIMA\\02-Diferencia-Estacional copy\\01-Precipitacion-en-Puebla.ipynb\" --to html --no-input"
   ]
  }
 ],
 "metadata": {
  "kernelspec": {
   "display_name": "Python 3",
   "language": "python",
   "name": "python3"
  },
  "language_info": {
   "codemirror_mode": {
    "name": "ipython",
    "version": 3
   },
   "file_extension": ".py",
   "mimetype": "text/x-python",
   "name": "python",
   "nbconvert_exporter": "python",
   "pygments_lexer": "ipython3",
   "version": "3.12.1"
  }
 },
 "nbformat": 4,
 "nbformat_minor": 5
}
