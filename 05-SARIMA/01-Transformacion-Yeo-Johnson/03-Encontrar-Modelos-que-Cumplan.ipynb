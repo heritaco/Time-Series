{
 "cells": [
  {
   "cell_type": "markdown",
   "metadata": {},
   "source": [
    "# **ENCONTRAR MODELOS QUE CUMPLAN LOS SUPUESTOS**"
   ]
  },
  {
   "cell_type": "markdown",
   "metadata": {},
   "source": [
    "(1) ARIMA(4,0,0)(1,0,1)[12], AIC=3966.056  \n",
    "(2) ARIMA(4,0,1)(1,0,1)[12], AIC=3967.978  \n",
    "(3) ARIMA(4,0,0)(1,0,2)[12], AIC=3968.090  \n",
    "(4) ARIMA(4,0,0)(2,0,1)[12], AIC=3968.231  \n",
    "(5) ARIMA(5,0,0)(1,0,1)[12], AIC=3973.839  \n",
    "(6) ARIMA(3,0,0)(1,0,1)[12], AIC=3979.490  \n",
    "(7) ARIMA(3,0,0)(1,0,2)[12], AIC=3981.431  \n",
    "(8) ARIMA(3,0,0)(2,0,1)[12], AIC=3981.441  \n",
    "(9) ARIMA(2,0,0)(1,0,1)[12], AIC=3982.753  \n",
    "(10) ARIMA(2,0,0)(1,0,2)[12], AIC=3984.673  \n",
    "(11) ARIMA(2,0,0)(2,0,1)[12], AIC=3984.687  \n",
    "(12) ARIMA(1,0,0)(1,0,1)[12], AIC=3986.540  \n",
    "(13) ARIMA(1,0,0)(1,0,2)[12], AIC=3988.490  \n",
    "(14) ARIMA(1,0,0)(2,0,1)[12], AIC=3988.500   \n",
    "(15) ARIMA(4,0,0)(2,0,0)[12], AIC=4001.353  \n",
    "(16) ARIMA(3,0,0)(2,0,0)[12], AIC=4014.781  \n",
    "(17) ARIMA(2,0,0)(2,0,0)[12], AIC=4018.072  \n",
    "(18) ARIMA(1,0,0)(2,0,0)[12], AIC=4023.570  \n",
    "(19) ARIMA(4,0,0)(1,0,0)[12], AIC=4037.099  \n",
    "(20) ARIMA(4,0,0)(0,0,2)[12], AIC=4041.324  \n",
    "(21) ARIMA(0,0,0)(1,0,1)[12], AIC=4045.176  \n",
    "(22) ARIMA(4,0,0)(0,0,1)[12], AIC=4054.553  \n",
    "(23) ARIMA(3,0,0)(1,0,0)[12], AIC=4063.736  \n",
    "(24) ARIMA(2,0,0)(1,0,0)[12], AIC=4071.669  \n",
    "(25) ARIMA(1,0,0)(1,0,0)[12], AIC=4074.805  \n",
    "(26) ARIMA(4,0,0)(0,0,0)[12], AIC=4085.184  \n",
    "(27) ARIMA(3,0,0)(0,0,2)[12], AIC=4086.016  \n",
    "(28) ARIMA(3,0,0)(0,0,1)[12], AIC=4106.841  \n",
    "(29) ARIMA(2,0,0)(0,0,2)[12], AIC=4110.743  \n",
    "(30) ARIMA(1,0,0)(0,0,2)[12], AIC=4110.941  \n",
    "(31) ARIMA(1,0,0)(0,0,1)[12], AIC=4138.416  \n",
    "(32) ARIMA(2,0,0)(0,0,1)[12], AIC=4140.415  \n",
    "(33) ARIMA(3,0,0)(0,0,0)[12], AIC=4160.393  \n",
    "(34) ARIMA(0,0,1)(0,0,1)[12], AIC=4193.130  \n",
    "(35) ARIMA(2,0,0)(0,0,0)[12], AIC=4220.945  \n",
    "(36) ARIMA(1,0,0)(0,0,0)[12], AIC=4227.799  \n",
    "(37) ARIMA(0,0,0)(0,0,0)[12], AIC=4565.249  "
   ]
  },
  {
   "cell_type": "markdown",
   "metadata": {},
   "source": [
    "## **Cargar los datos**"
   ]
  },
  {
   "cell_type": "code",
   "execution_count": 1,
   "metadata": {
    "tags": []
   },
   "outputs": [],
   "source": [
    "import pandas as pd\n",
    "from sklearn.preprocessing import PowerTransformer\n",
    "import numpy as np\n",
    "\n",
    "data=pd.read_csv('MXN00021035.csv')\n",
    "\n",
    "pre=data.iloc[:,6]  # Precipitacion, es la columna 5\n",
    "date=data.iloc[:,5] # Date, es la columna 6\n",
    "date = date.astype(str).str.replace(r'(\\d{4})(\\d{2})', r'\\1/\\2', regex=True)    # La fecha está como 195210 y la pasamos a 1952/10 \n",
    "date = pd.to_datetime(date, format='%Y/%m')                                     # Lo convertimos en fecha\n",
    "pre = pd.Series(pre.values, index=date)                                         # Creamos una Serie\n",
    "\n",
    "# Partir la serie para train y test\n",
    "pre_total = pre.copy()          # Copia de la serie original\n",
    "\n",
    "# Todas hasta los ultimos 12 meses\n",
    "pre = pre_total[:-12]           # Entrenamiento: todos menos los últimos 12 meses\n",
    "pre_test = pre_total[-12:]      # Test: últimos 12 meses\n",
    "\n",
    "X = pre.values.reshape(-1, 1)\n",
    "\n",
    "# Ajuste original para obtener lambda estimado\n",
    "pt = PowerTransformer(method='yeo-johnson', standardize=False)\n",
    "ypre = pt.fit_transform(X)"
   ]
  },
  {
   "cell_type": "markdown",
   "metadata": {},
   "source": [
    "# **MODELADO**"
   ]
  },
  {
   "cell_type": "code",
   "execution_count": 2,
   "metadata": {
    "tags": []
   },
   "outputs": [],
   "source": [
    "from statsmodels.tsa.statespace.sarimax import SARIMAX\n",
    "from modelo_admisible import * # Una funcion que hice para verificar si los parametros son estacionarios/invertibles"
   ]
  },
  {
   "cell_type": "markdown",
   "metadata": {},
   "source": [
    "## **1° Modelo con mejor AIC**"
   ]
  },
  {
   "cell_type": "code",
   "execution_count": 3,
   "metadata": {
    "tags": []
   },
   "outputs": [
    {
     "data": {
      "text/html": [
       "<table class=\"simpletable\">\n",
       "<caption>SARIMAX Results</caption>\n",
       "<tr>\n",
       "  <th>Dep. Variable:</th>                   <td>y</td>                <th>  No. Observations:  </th>    <td>660</td>   \n",
       "</tr>\n",
       "<tr>\n",
       "  <th>Model:</th>           <td>SARIMAX(4, 0, 0)x(1, 0, [1], 12)</td> <th>  Log Likelihood     </th> <td>-1995.315</td>\n",
       "</tr>\n",
       "<tr>\n",
       "  <th>Date:</th>                    <td>Fri, 25 Apr 2025</td>         <th>  AIC                </th> <td>4004.631</td> \n",
       "</tr>\n",
       "<tr>\n",
       "  <th>Time:</th>                        <td>17:45:53</td>             <th>  BIC                </th> <td>4036.076</td> \n",
       "</tr>\n",
       "<tr>\n",
       "  <th>Sample:</th>                          <td>0</td>                <th>  HQIC               </th> <td>4016.819</td> \n",
       "</tr>\n",
       "<tr>\n",
       "  <th></th>                              <td> - 660</td>              <th>                     </th>     <td> </td>    \n",
       "</tr>\n",
       "<tr>\n",
       "  <th>Covariance Type:</th>                <td>opg</td>               <th>                     </th>     <td> </td>    \n",
       "</tr>\n",
       "</table>\n",
       "<table class=\"simpletable\">\n",
       "<tr>\n",
       "      <td></td>        <th>coef</th>     <th>std err</th>      <th>z</th>      <th>P>|z|</th>  <th>[0.025</th>    <th>0.975]</th>  \n",
       "</tr>\n",
       "<tr>\n",
       "  <th>ar.L1</th>    <td>    0.3003</td> <td>    0.035</td> <td>    8.536</td> <td> 0.000</td> <td>    0.231</td> <td>    0.369</td>\n",
       "</tr>\n",
       "<tr>\n",
       "  <th>ar.L2</th>    <td>    0.1461</td> <td>    0.041</td> <td>    3.554</td> <td> 0.000</td> <td>    0.066</td> <td>    0.227</td>\n",
       "</tr>\n",
       "<tr>\n",
       "  <th>ar.L3</th>    <td>   -0.0319</td> <td>    0.041</td> <td>   -0.770</td> <td> 0.441</td> <td>   -0.113</td> <td>    0.049</td>\n",
       "</tr>\n",
       "<tr>\n",
       "  <th>ar.L4</th>    <td>   -0.1213</td> <td>    0.040</td> <td>   -3.056</td> <td> 0.002</td> <td>   -0.199</td> <td>   -0.044</td>\n",
       "</tr>\n",
       "<tr>\n",
       "  <th>ar.S.L12</th> <td>    0.9880</td> <td>    0.006</td> <td>  178.208</td> <td> 0.000</td> <td>    0.977</td> <td>    0.999</td>\n",
       "</tr>\n",
       "<tr>\n",
       "  <th>ma.S.L12</th> <td>   -0.6971</td> <td>    0.035</td> <td>  -20.193</td> <td> 0.000</td> <td>   -0.765</td> <td>   -0.629</td>\n",
       "</tr>\n",
       "<tr>\n",
       "  <th>sigma2</th>   <td>   23.8214</td> <td>    1.214</td> <td>   19.618</td> <td> 0.000</td> <td>   21.442</td> <td>   26.201</td>\n",
       "</tr>\n",
       "</table>\n",
       "<table class=\"simpletable\">\n",
       "<tr>\n",
       "  <th>Ljung-Box (L1) (Q):</th>     <td>0.39</td> <th>  Jarque-Bera (JB):  </th> <td>14.47</td>\n",
       "</tr>\n",
       "<tr>\n",
       "  <th>Prob(Q):</th>                <td>0.53</td> <th>  Prob(JB):          </th> <td>0.00</td> \n",
       "</tr>\n",
       "<tr>\n",
       "  <th>Heteroskedasticity (H):</th> <td>0.80</td> <th>  Skew:              </th> <td>-0.27</td>\n",
       "</tr>\n",
       "<tr>\n",
       "  <th>Prob(H) (two-sided):</th>    <td>0.09</td> <th>  Kurtosis:          </th> <td>3.49</td> \n",
       "</tr>\n",
       "</table><br/><br/>Warnings:<br/>[1] Covariance matrix calculated using the outer product of gradients (complex-step)."
      ],
      "text/latex": [
       "\\begin{center}\n",
       "\\begin{tabular}{lclc}\n",
       "\\toprule\n",
       "\\textbf{Dep. Variable:}          &                y                 & \\textbf{  No. Observations:  } &    660      \\\\\n",
       "\\textbf{Model:}                  & SARIMAX(4, 0, 0)x(1, 0, [1], 12) & \\textbf{  Log Likelihood     } & -1995.315   \\\\\n",
       "\\textbf{Date:}                   &         Fri, 25 Apr 2025         & \\textbf{  AIC                } &  4004.631   \\\\\n",
       "\\textbf{Time:}                   &             17:45:53             & \\textbf{  BIC                } &  4036.076   \\\\\n",
       "\\textbf{Sample:}                 &                0                 & \\textbf{  HQIC               } &  4016.819   \\\\\n",
       "\\textbf{}                        &               - 660              & \\textbf{                     } &             \\\\\n",
       "\\textbf{Covariance Type:}        &               opg                & \\textbf{                     } &             \\\\\n",
       "\\bottomrule\n",
       "\\end{tabular}\n",
       "\\begin{tabular}{lcccccc}\n",
       "                  & \\textbf{coef} & \\textbf{std err} & \\textbf{z} & \\textbf{P$> |$z$|$} & \\textbf{[0.025} & \\textbf{0.975]}  \\\\\n",
       "\\midrule\n",
       "\\textbf{ar.L1}    &       0.3003  &        0.035     &     8.536  &         0.000        &        0.231    &        0.369     \\\\\n",
       "\\textbf{ar.L2}    &       0.1461  &        0.041     &     3.554  &         0.000        &        0.066    &        0.227     \\\\\n",
       "\\textbf{ar.L3}    &      -0.0319  &        0.041     &    -0.770  &         0.441        &       -0.113    &        0.049     \\\\\n",
       "\\textbf{ar.L4}    &      -0.1213  &        0.040     &    -3.056  &         0.002        &       -0.199    &       -0.044     \\\\\n",
       "\\textbf{ar.S.L12} &       0.9880  &        0.006     &   178.208  &         0.000        &        0.977    &        0.999     \\\\\n",
       "\\textbf{ma.S.L12} &      -0.6971  &        0.035     &   -20.193  &         0.000        &       -0.765    &       -0.629     \\\\\n",
       "\\textbf{sigma2}   &      23.8214  &        1.214     &    19.618  &         0.000        &       21.442    &       26.201     \\\\\n",
       "\\bottomrule\n",
       "\\end{tabular}\n",
       "\\begin{tabular}{lclc}\n",
       "\\textbf{Ljung-Box (L1) (Q):}     & 0.39 & \\textbf{  Jarque-Bera (JB):  } & 14.47  \\\\\n",
       "\\textbf{Prob(Q):}                & 0.53 & \\textbf{  Prob(JB):          } &  0.00  \\\\\n",
       "\\textbf{Heteroskedasticity (H):} & 0.80 & \\textbf{  Skew:              } & -0.27  \\\\\n",
       "\\textbf{Prob(H) (two-sided):}    & 0.09 & \\textbf{  Kurtosis:          } &  3.49  \\\\\n",
       "\\bottomrule\n",
       "\\end{tabular}\n",
       "%\\caption{SARIMAX Results}\n",
       "\\end{center}\n",
       "\n",
       "Warnings: \\newline\n",
       " [1] Covariance matrix calculated using the outer product of gradients (complex-step)."
      ],
      "text/plain": [
       "<class 'statsmodels.iolib.summary.Summary'>\n",
       "\"\"\"\n",
       "                                      SARIMAX Results                                       \n",
       "============================================================================================\n",
       "Dep. Variable:                                    y   No. Observations:                  660\n",
       "Model:             SARIMAX(4, 0, 0)x(1, 0, [1], 12)   Log Likelihood               -1995.315\n",
       "Date:                              Fri, 25 Apr 2025   AIC                           4004.631\n",
       "Time:                                      17:45:53   BIC                           4036.076\n",
       "Sample:                                           0   HQIC                          4016.819\n",
       "                                              - 660                                         \n",
       "Covariance Type:                                opg                                         \n",
       "==============================================================================\n",
       "                 coef    std err          z      P>|z|      [0.025      0.975]\n",
       "------------------------------------------------------------------------------\n",
       "ar.L1          0.3003      0.035      8.536      0.000       0.231       0.369\n",
       "ar.L2          0.1461      0.041      3.554      0.000       0.066       0.227\n",
       "ar.L3         -0.0319      0.041     -0.770      0.441      -0.113       0.049\n",
       "ar.L4         -0.1213      0.040     -3.056      0.002      -0.199      -0.044\n",
       "ar.S.L12       0.9880      0.006    178.208      0.000       0.977       0.999\n",
       "ma.S.L12      -0.6971      0.035    -20.193      0.000      -0.765      -0.629\n",
       "sigma2        23.8214      1.214     19.618      0.000      21.442      26.201\n",
       "===================================================================================\n",
       "Ljung-Box (L1) (Q):                   0.39   Jarque-Bera (JB):                14.47\n",
       "Prob(Q):                              0.53   Prob(JB):                         0.00\n",
       "Heteroskedasticity (H):               0.80   Skew:                            -0.27\n",
       "Prob(H) (two-sided):                  0.09   Kurtosis:                         3.49\n",
       "===================================================================================\n",
       "\n",
       "Warnings:\n",
       "[1] Covariance matrix calculated using the outer product of gradients (complex-step).\n",
       "\"\"\""
      ]
     },
     "execution_count": 3,
     "metadata": {},
     "output_type": "execute_result"
    }
   ],
   "source": [
    "modelo=SARIMAX(ypre,\n",
    "               order=(4,0,0),\n",
    "               seasonal_order=(1,0,1,12)).fit()\n",
    "\n",
    "modelo.summary()"
   ]
  },
  {
   "cell_type": "code",
   "execution_count": 4,
   "metadata": {
    "tags": []
   },
   "outputs": [
    {
     "name": "stdout",
     "output_type": "stream",
     "text": [
      "Hay coeficientes no significativos, no se cumple el principio de parsimonia\n"
     ]
    }
   ],
   "source": [
    "parsimonia(modelo)"
   ]
  },
  {
   "cell_type": "code",
   "execution_count": 5,
   "metadata": {},
   "outputs": [
    {
     "name": "stdout",
     "output_type": "stream",
     "text": [
      "El polinomio de la parte autoregresiva es: {'p1': -0.300346048937883, 'p2': -0.1460809651941793, 'p3': 0.03191355424370412, 'p4': 0.12133348745962615, 'p12': -0.9880114220431615}\n",
      "\n",
      "Raíces del polinomio característico: [-1.01991628+0.j         -0.87191178+0.51188981j -0.87191178-0.51188981j\n",
      " -0.50674469+0.88079915j -0.50674469-0.88079915j  0.02354783+1.02463514j\n",
      "  0.02354783-1.02463514j  0.53490948+0.8379842j   0.53490948-0.8379842j\n",
      "  0.84387271+0.46792216j  0.84387271-0.46792216j  0.97256919+0.j        ]\n",
      "\n",
      "Módulo de las raíces: [1.01991628 1.0110694  1.0110694  1.01616796 1.01616796 1.02490569\n",
      " 1.02490569 0.99415575 0.99415575 0.96492088 0.96492088 0.97256919]\n",
      "\n",
      "¿Las raíces están fuera del círculo unitario?  False\n",
      "\n",
      "El modelo no es estacionario\n"
     ]
    }
   ],
   "source": [
    "estacionario(modelo)"
   ]
  },
  {
   "cell_type": "markdown",
   "metadata": {},
   "source": [
    "## **2° Modelo con mejor AIC**"
   ]
  },
  {
   "cell_type": "code",
   "execution_count": 6,
   "metadata": {
    "tags": []
   },
   "outputs": [
    {
     "data": {
      "text/html": [
       "<table class=\"simpletable\">\n",
       "<caption>SARIMAX Results</caption>\n",
       "<tr>\n",
       "  <th>Dep. Variable:</th>                  <td>y</td>               <th>  No. Observations:  </th>    <td>660</td>   \n",
       "</tr>\n",
       "<tr>\n",
       "  <th>Model:</th>           <td>SARIMAX(4, 0, 1)x(1, 0, 1, 12)</td> <th>  Log Likelihood     </th> <td>-1984.394</td>\n",
       "</tr>\n",
       "<tr>\n",
       "  <th>Date:</th>                   <td>Fri, 25 Apr 2025</td>        <th>  AIC                </th> <td>3984.787</td> \n",
       "</tr>\n",
       "<tr>\n",
       "  <th>Time:</th>                       <td>17:45:54</td>            <th>  BIC                </th> <td>4020.725</td> \n",
       "</tr>\n",
       "<tr>\n",
       "  <th>Sample:</th>                         <td>0</td>               <th>  HQIC               </th> <td>3998.717</td> \n",
       "</tr>\n",
       "<tr>\n",
       "  <th></th>                             <td> - 660</td>             <th>                     </th>     <td> </td>    \n",
       "</tr>\n",
       "<tr>\n",
       "  <th>Covariance Type:</th>               <td>opg</td>              <th>                     </th>     <td> </td>    \n",
       "</tr>\n",
       "</table>\n",
       "<table class=\"simpletable\">\n",
       "<tr>\n",
       "      <td></td>        <th>coef</th>     <th>std err</th>      <th>z</th>      <th>P>|z|</th>  <th>[0.025</th>    <th>0.975]</th>  \n",
       "</tr>\n",
       "<tr>\n",
       "  <th>ar.L1</th>    <td>    0.8873</td> <td>    0.101</td> <td>    8.804</td> <td> 0.000</td> <td>    0.690</td> <td>    1.085</td>\n",
       "</tr>\n",
       "<tr>\n",
       "  <th>ar.L2</th>    <td>   -0.0415</td> <td>    0.061</td> <td>   -0.676</td> <td> 0.499</td> <td>   -0.162</td> <td>    0.079</td>\n",
       "</tr>\n",
       "<tr>\n",
       "  <th>ar.L3</th>    <td>   -0.0966</td> <td>    0.058</td> <td>   -1.668</td> <td> 0.095</td> <td>   -0.210</td> <td>    0.017</td>\n",
       "</tr>\n",
       "<tr>\n",
       "  <th>ar.L4</th>    <td>   -0.1591</td> <td>    0.048</td> <td>   -3.308</td> <td> 0.001</td> <td>   -0.253</td> <td>   -0.065</td>\n",
       "</tr>\n",
       "<tr>\n",
       "  <th>ma.L1</th>    <td>   -0.6096</td> <td>    0.101</td> <td>   -6.048</td> <td> 0.000</td> <td>   -0.807</td> <td>   -0.412</td>\n",
       "</tr>\n",
       "<tr>\n",
       "  <th>ar.S.L12</th> <td>    0.9967</td> <td>    0.002</td> <td>  540.851</td> <td> 0.000</td> <td>    0.993</td> <td>    1.000</td>\n",
       "</tr>\n",
       "<tr>\n",
       "  <th>ma.S.L12</th> <td>   -0.7720</td> <td>    0.032</td> <td>  -24.325</td> <td> 0.000</td> <td>   -0.834</td> <td>   -0.710</td>\n",
       "</tr>\n",
       "<tr>\n",
       "  <th>sigma2</th>   <td>   22.6429</td> <td>    1.140</td> <td>   19.864</td> <td> 0.000</td> <td>   20.409</td> <td>   24.877</td>\n",
       "</tr>\n",
       "</table>\n",
       "<table class=\"simpletable\">\n",
       "<tr>\n",
       "  <th>Ljung-Box (L1) (Q):</th>     <td>0.17</td> <th>  Jarque-Bera (JB):  </th> <td>9.92</td> \n",
       "</tr>\n",
       "<tr>\n",
       "  <th>Prob(Q):</th>                <td>0.68</td> <th>  Prob(JB):          </th> <td>0.01</td> \n",
       "</tr>\n",
       "<tr>\n",
       "  <th>Heteroskedasticity (H):</th> <td>0.79</td> <th>  Skew:              </th> <td>-0.21</td>\n",
       "</tr>\n",
       "<tr>\n",
       "  <th>Prob(H) (two-sided):</th>    <td>0.08</td> <th>  Kurtosis:          </th> <td>3.43</td> \n",
       "</tr>\n",
       "</table><br/><br/>Warnings:<br/>[1] Covariance matrix calculated using the outer product of gradients (complex-step)."
      ],
      "text/latex": [
       "\\begin{center}\n",
       "\\begin{tabular}{lclc}\n",
       "\\toprule\n",
       "\\textbf{Dep. Variable:}          &               y                & \\textbf{  No. Observations:  } &    660      \\\\\n",
       "\\textbf{Model:}                  & SARIMAX(4, 0, 1)x(1, 0, 1, 12) & \\textbf{  Log Likelihood     } & -1984.394   \\\\\n",
       "\\textbf{Date:}                   &        Fri, 25 Apr 2025        & \\textbf{  AIC                } &  3984.787   \\\\\n",
       "\\textbf{Time:}                   &            17:45:54            & \\textbf{  BIC                } &  4020.725   \\\\\n",
       "\\textbf{Sample:}                 &               0                & \\textbf{  HQIC               } &  3998.717   \\\\\n",
       "\\textbf{}                        &              - 660             & \\textbf{                     } &             \\\\\n",
       "\\textbf{Covariance Type:}        &              opg               & \\textbf{                     } &             \\\\\n",
       "\\bottomrule\n",
       "\\end{tabular}\n",
       "\\begin{tabular}{lcccccc}\n",
       "                  & \\textbf{coef} & \\textbf{std err} & \\textbf{z} & \\textbf{P$> |$z$|$} & \\textbf{[0.025} & \\textbf{0.975]}  \\\\\n",
       "\\midrule\n",
       "\\textbf{ar.L1}    &       0.8873  &        0.101     &     8.804  &         0.000        &        0.690    &        1.085     \\\\\n",
       "\\textbf{ar.L2}    &      -0.0415  &        0.061     &    -0.676  &         0.499        &       -0.162    &        0.079     \\\\\n",
       "\\textbf{ar.L3}    &      -0.0966  &        0.058     &    -1.668  &         0.095        &       -0.210    &        0.017     \\\\\n",
       "\\textbf{ar.L4}    &      -0.1591  &        0.048     &    -3.308  &         0.001        &       -0.253    &       -0.065     \\\\\n",
       "\\textbf{ma.L1}    &      -0.6096  &        0.101     &    -6.048  &         0.000        &       -0.807    &       -0.412     \\\\\n",
       "\\textbf{ar.S.L12} &       0.9967  &        0.002     &   540.851  &         0.000        &        0.993    &        1.000     \\\\\n",
       "\\textbf{ma.S.L12} &      -0.7720  &        0.032     &   -24.325  &         0.000        &       -0.834    &       -0.710     \\\\\n",
       "\\textbf{sigma2}   &      22.6429  &        1.140     &    19.864  &         0.000        &       20.409    &       24.877     \\\\\n",
       "\\bottomrule\n",
       "\\end{tabular}\n",
       "\\begin{tabular}{lclc}\n",
       "\\textbf{Ljung-Box (L1) (Q):}     & 0.17 & \\textbf{  Jarque-Bera (JB):  } &  9.92  \\\\\n",
       "\\textbf{Prob(Q):}                & 0.68 & \\textbf{  Prob(JB):          } &  0.01  \\\\\n",
       "\\textbf{Heteroskedasticity (H):} & 0.79 & \\textbf{  Skew:              } & -0.21  \\\\\n",
       "\\textbf{Prob(H) (two-sided):}    & 0.08 & \\textbf{  Kurtosis:          } &  3.43  \\\\\n",
       "\\bottomrule\n",
       "\\end{tabular}\n",
       "%\\caption{SARIMAX Results}\n",
       "\\end{center}\n",
       "\n",
       "Warnings: \\newline\n",
       " [1] Covariance matrix calculated using the outer product of gradients (complex-step)."
      ],
      "text/plain": [
       "<class 'statsmodels.iolib.summary.Summary'>\n",
       "\"\"\"\n",
       "                                     SARIMAX Results                                      \n",
       "==========================================================================================\n",
       "Dep. Variable:                                  y   No. Observations:                  660\n",
       "Model:             SARIMAX(4, 0, 1)x(1, 0, 1, 12)   Log Likelihood               -1984.394\n",
       "Date:                            Fri, 25 Apr 2025   AIC                           3984.787\n",
       "Time:                                    17:45:54   BIC                           4020.725\n",
       "Sample:                                         0   HQIC                          3998.717\n",
       "                                            - 660                                         \n",
       "Covariance Type:                              opg                                         \n",
       "==============================================================================\n",
       "                 coef    std err          z      P>|z|      [0.025      0.975]\n",
       "------------------------------------------------------------------------------\n",
       "ar.L1          0.8873      0.101      8.804      0.000       0.690       1.085\n",
       "ar.L2         -0.0415      0.061     -0.676      0.499      -0.162       0.079\n",
       "ar.L3         -0.0966      0.058     -1.668      0.095      -0.210       0.017\n",
       "ar.L4         -0.1591      0.048     -3.308      0.001      -0.253      -0.065\n",
       "ma.L1         -0.6096      0.101     -6.048      0.000      -0.807      -0.412\n",
       "ar.S.L12       0.9967      0.002    540.851      0.000       0.993       1.000\n",
       "ma.S.L12      -0.7720      0.032    -24.325      0.000      -0.834      -0.710\n",
       "sigma2        22.6429      1.140     19.864      0.000      20.409      24.877\n",
       "===================================================================================\n",
       "Ljung-Box (L1) (Q):                   0.17   Jarque-Bera (JB):                 9.92\n",
       "Prob(Q):                              0.68   Prob(JB):                         0.01\n",
       "Heteroskedasticity (H):               0.79   Skew:                            -0.21\n",
       "Prob(H) (two-sided):                  0.08   Kurtosis:                         3.43\n",
       "===================================================================================\n",
       "\n",
       "Warnings:\n",
       "[1] Covariance matrix calculated using the outer product of gradients (complex-step).\n",
       "\"\"\""
      ]
     },
     "execution_count": 6,
     "metadata": {},
     "output_type": "execute_result"
    }
   ],
   "source": [
    "modelo=SARIMAX(ypre,\n",
    "               order=(4,0,1),\n",
    "               seasonal_order=(1,0,1,12)).fit()\n",
    "\n",
    "modelo.summary()"
   ]
  },
  {
   "cell_type": "code",
   "execution_count": 7,
   "metadata": {
    "tags": []
   },
   "outputs": [
    {
     "name": "stdout",
     "output_type": "stream",
     "text": [
      "Hay coeficientes no significativos, no se cumple el principio de parsimonia\n"
     ]
    }
   ],
   "source": [
    "parsimonia(modelo)"
   ]
  },
  {
   "cell_type": "code",
   "execution_count": 8,
   "metadata": {},
   "outputs": [
    {
     "name": "stdout",
     "output_type": "stream",
     "text": [
      "El polinomio de la parte autoregresiva es: {'p1': -0.8872876780833041, 'p2': 0.04147857369991719, 'p3': 0.09658334519393869, 'p4': 0.1591459664412079, 'p12': -0.9967299544141882}\n",
      "\n",
      "Raíces del polinomio característico: [-1.06311101+0.j         -0.89539628+0.54966805j -0.89539628-0.54966805j\n",
      " -0.48634149+0.91972028j -0.48634149-0.91972028j  0.06812343+1.0320463j\n",
      "  0.06812343-1.0320463j   0.57269517+0.79480956j  0.57269517-0.79480956j\n",
      "  0.92817818+0.j          0.80838558+0.41876971j  0.80838558-0.41876971j]\n",
      "\n",
      "Módulo de las raíces: [1.06311101 1.05065192 1.05065192 1.040391   1.040391   1.03429221\n",
      " 1.03429221 0.97964381 0.97964381 0.92817818 0.91041492 0.91041492]\n",
      "\n",
      "¿Las raíces están fuera del círculo unitario?  False\n",
      "\n",
      "El modelo no es estacionario\n"
     ]
    }
   ],
   "source": [
    "estacionario(modelo)"
   ]
  },
  {
   "cell_type": "markdown",
   "metadata": {},
   "source": [
    "## **3° Modelo con mejor AIC**"
   ]
  },
  {
   "cell_type": "code",
   "execution_count": 9,
   "metadata": {
    "tags": []
   },
   "outputs": [
    {
     "data": {
      "text/html": [
       "<table class=\"simpletable\">\n",
       "<caption>SARIMAX Results</caption>\n",
       "<tr>\n",
       "  <th>Dep. Variable:</th>                    <td>y</td>                  <th>  No. Observations:  </th>    <td>660</td>   \n",
       "</tr>\n",
       "<tr>\n",
       "  <th>Model:</th>           <td>SARIMAX(4, 0, 0)x(1, 0, [1, 2], 12)</td> <th>  Log Likelihood     </th> <td>-1995.310</td>\n",
       "</tr>\n",
       "<tr>\n",
       "  <th>Date:</th>                     <td>Fri, 25 Apr 2025</td>           <th>  AIC                </th> <td>4006.620</td> \n",
       "</tr>\n",
       "<tr>\n",
       "  <th>Time:</th>                         <td>17:45:56</td>               <th>  BIC                </th> <td>4042.558</td> \n",
       "</tr>\n",
       "<tr>\n",
       "  <th>Sample:</th>                           <td>0</td>                  <th>  HQIC               </th> <td>4020.549</td> \n",
       "</tr>\n",
       "<tr>\n",
       "  <th></th>                               <td> - 660</td>                <th>                     </th>     <td> </td>    \n",
       "</tr>\n",
       "<tr>\n",
       "  <th>Covariance Type:</th>                 <td>opg</td>                 <th>                     </th>     <td> </td>    \n",
       "</tr>\n",
       "</table>\n",
       "<table class=\"simpletable\">\n",
       "<tr>\n",
       "      <td></td>        <th>coef</th>     <th>std err</th>      <th>z</th>      <th>P>|z|</th>  <th>[0.025</th>    <th>0.975]</th>  \n",
       "</tr>\n",
       "<tr>\n",
       "  <th>ar.L1</th>    <td>    0.3006</td> <td>    0.035</td> <td>    8.522</td> <td> 0.000</td> <td>    0.231</td> <td>    0.370</td>\n",
       "</tr>\n",
       "<tr>\n",
       "  <th>ar.L2</th>    <td>    0.1460</td> <td>    0.041</td> <td>    3.538</td> <td> 0.000</td> <td>    0.065</td> <td>    0.227</td>\n",
       "</tr>\n",
       "<tr>\n",
       "  <th>ar.L3</th>    <td>   -0.0321</td> <td>    0.042</td> <td>   -0.772</td> <td> 0.440</td> <td>   -0.114</td> <td>    0.049</td>\n",
       "</tr>\n",
       "<tr>\n",
       "  <th>ar.L4</th>    <td>   -0.1213</td> <td>    0.040</td> <td>   -3.054</td> <td> 0.002</td> <td>   -0.199</td> <td>   -0.043</td>\n",
       "</tr>\n",
       "<tr>\n",
       "  <th>ar.S.L12</th> <td>    0.9881</td> <td>    0.006</td> <td>  174.714</td> <td> 0.000</td> <td>    0.977</td> <td>    0.999</td>\n",
       "</tr>\n",
       "<tr>\n",
       "  <th>ma.S.L12</th> <td>   -0.6942</td> <td>    0.039</td> <td>  -17.744</td> <td> 0.000</td> <td>   -0.771</td> <td>   -0.618</td>\n",
       "</tr>\n",
       "<tr>\n",
       "  <th>ma.S.L24</th> <td>   -0.0045</td> <td>    0.038</td> <td>   -0.120</td> <td> 0.905</td> <td>   -0.078</td> <td>    0.069</td>\n",
       "</tr>\n",
       "<tr>\n",
       "  <th>sigma2</th>   <td>   23.8213</td> <td>    1.214</td> <td>   19.618</td> <td> 0.000</td> <td>   21.441</td> <td>   26.201</td>\n",
       "</tr>\n",
       "</table>\n",
       "<table class=\"simpletable\">\n",
       "<tr>\n",
       "  <th>Ljung-Box (L1) (Q):</th>     <td>0.39</td> <th>  Jarque-Bera (JB):  </th> <td>14.48</td>\n",
       "</tr>\n",
       "<tr>\n",
       "  <th>Prob(Q):</th>                <td>0.53</td> <th>  Prob(JB):          </th> <td>0.00</td> \n",
       "</tr>\n",
       "<tr>\n",
       "  <th>Heteroskedasticity (H):</th> <td>0.80</td> <th>  Skew:              </th> <td>-0.27</td>\n",
       "</tr>\n",
       "<tr>\n",
       "  <th>Prob(H) (two-sided):</th>    <td>0.09</td> <th>  Kurtosis:          </th> <td>3.49</td> \n",
       "</tr>\n",
       "</table><br/><br/>Warnings:<br/>[1] Covariance matrix calculated using the outer product of gradients (complex-step)."
      ],
      "text/latex": [
       "\\begin{center}\n",
       "\\begin{tabular}{lclc}\n",
       "\\toprule\n",
       "\\textbf{Dep. Variable:}          &                  y                  & \\textbf{  No. Observations:  } &    660      \\\\\n",
       "\\textbf{Model:}                  & SARIMAX(4, 0, 0)x(1, 0, [1, 2], 12) & \\textbf{  Log Likelihood     } & -1995.310   \\\\\n",
       "\\textbf{Date:}                   &           Fri, 25 Apr 2025          & \\textbf{  AIC                } &  4006.620   \\\\\n",
       "\\textbf{Time:}                   &               17:45:56              & \\textbf{  BIC                } &  4042.558   \\\\\n",
       "\\textbf{Sample:}                 &                  0                  & \\textbf{  HQIC               } &  4020.549   \\\\\n",
       "\\textbf{}                        &                 - 660               & \\textbf{                     } &             \\\\\n",
       "\\textbf{Covariance Type:}        &                 opg                 & \\textbf{                     } &             \\\\\n",
       "\\bottomrule\n",
       "\\end{tabular}\n",
       "\\begin{tabular}{lcccccc}\n",
       "                  & \\textbf{coef} & \\textbf{std err} & \\textbf{z} & \\textbf{P$> |$z$|$} & \\textbf{[0.025} & \\textbf{0.975]}  \\\\\n",
       "\\midrule\n",
       "\\textbf{ar.L1}    &       0.3006  &        0.035     &     8.522  &         0.000        &        0.231    &        0.370     \\\\\n",
       "\\textbf{ar.L2}    &       0.1460  &        0.041     &     3.538  &         0.000        &        0.065    &        0.227     \\\\\n",
       "\\textbf{ar.L3}    &      -0.0321  &        0.042     &    -0.772  &         0.440        &       -0.114    &        0.049     \\\\\n",
       "\\textbf{ar.L4}    &      -0.1213  &        0.040     &    -3.054  &         0.002        &       -0.199    &       -0.043     \\\\\n",
       "\\textbf{ar.S.L12} &       0.9881  &        0.006     &   174.714  &         0.000        &        0.977    &        0.999     \\\\\n",
       "\\textbf{ma.S.L12} &      -0.6942  &        0.039     &   -17.744  &         0.000        &       -0.771    &       -0.618     \\\\\n",
       "\\textbf{ma.S.L24} &      -0.0045  &        0.038     &    -0.120  &         0.905        &       -0.078    &        0.069     \\\\\n",
       "\\textbf{sigma2}   &      23.8213  &        1.214     &    19.618  &         0.000        &       21.441    &       26.201     \\\\\n",
       "\\bottomrule\n",
       "\\end{tabular}\n",
       "\\begin{tabular}{lclc}\n",
       "\\textbf{Ljung-Box (L1) (Q):}     & 0.39 & \\textbf{  Jarque-Bera (JB):  } & 14.48  \\\\\n",
       "\\textbf{Prob(Q):}                & 0.53 & \\textbf{  Prob(JB):          } &  0.00  \\\\\n",
       "\\textbf{Heteroskedasticity (H):} & 0.80 & \\textbf{  Skew:              } & -0.27  \\\\\n",
       "\\textbf{Prob(H) (two-sided):}    & 0.09 & \\textbf{  Kurtosis:          } &  3.49  \\\\\n",
       "\\bottomrule\n",
       "\\end{tabular}\n",
       "%\\caption{SARIMAX Results}\n",
       "\\end{center}\n",
       "\n",
       "Warnings: \\newline\n",
       " [1] Covariance matrix calculated using the outer product of gradients (complex-step)."
      ],
      "text/plain": [
       "<class 'statsmodels.iolib.summary.Summary'>\n",
       "\"\"\"\n",
       "                                        SARIMAX Results                                        \n",
       "===============================================================================================\n",
       "Dep. Variable:                                       y   No. Observations:                  660\n",
       "Model:             SARIMAX(4, 0, 0)x(1, 0, [1, 2], 12)   Log Likelihood               -1995.310\n",
       "Date:                                 Fri, 25 Apr 2025   AIC                           4006.620\n",
       "Time:                                         17:45:56   BIC                           4042.558\n",
       "Sample:                                              0   HQIC                          4020.549\n",
       "                                                 - 660                                         \n",
       "Covariance Type:                                   opg                                         \n",
       "==============================================================================\n",
       "                 coef    std err          z      P>|z|      [0.025      0.975]\n",
       "------------------------------------------------------------------------------\n",
       "ar.L1          0.3006      0.035      8.522      0.000       0.231       0.370\n",
       "ar.L2          0.1460      0.041      3.538      0.000       0.065       0.227\n",
       "ar.L3         -0.0321      0.042     -0.772      0.440      -0.114       0.049\n",
       "ar.L4         -0.1213      0.040     -3.054      0.002      -0.199      -0.043\n",
       "ar.S.L12       0.9881      0.006    174.714      0.000       0.977       0.999\n",
       "ma.S.L12      -0.6942      0.039    -17.744      0.000      -0.771      -0.618\n",
       "ma.S.L24      -0.0045      0.038     -0.120      0.905      -0.078       0.069\n",
       "sigma2        23.8213      1.214     19.618      0.000      21.441      26.201\n",
       "===================================================================================\n",
       "Ljung-Box (L1) (Q):                   0.39   Jarque-Bera (JB):                14.48\n",
       "Prob(Q):                              0.53   Prob(JB):                         0.00\n",
       "Heteroskedasticity (H):               0.80   Skew:                            -0.27\n",
       "Prob(H) (two-sided):                  0.09   Kurtosis:                         3.49\n",
       "===================================================================================\n",
       "\n",
       "Warnings:\n",
       "[1] Covariance matrix calculated using the outer product of gradients (complex-step).\n",
       "\"\"\""
      ]
     },
     "execution_count": 9,
     "metadata": {},
     "output_type": "execute_result"
    }
   ],
   "source": [
    "modelo=SARIMAX(ypre,\n",
    "               order=(4,0,0),\n",
    "               seasonal_order=(1,0,2,12)).fit()\n",
    "\n",
    "modelo.summary()"
   ]
  },
  {
   "cell_type": "code",
   "execution_count": 10,
   "metadata": {
    "tags": []
   },
   "outputs": [
    {
     "name": "stdout",
     "output_type": "stream",
     "text": [
      "Hay coeficientes no significativos, no se cumple el principio de parsimonia\n"
     ]
    }
   ],
   "source": [
    "parsimonia(modelo)"
   ]
  },
  {
   "cell_type": "code",
   "execution_count": 11,
   "metadata": {},
   "outputs": [
    {
     "name": "stdout",
     "output_type": "stream",
     "text": [
      "El polinomio de la parte autoregresiva es: {'p1': -0.3006174215854788, 'p2': -0.14598922658307864, 'p3': 0.03206894850677084, 'p4': 0.12128358800794675, 'p12': -0.9881300733071426}\n",
      "\n",
      "Raíces del polinomio característico: [-1.01991649+0.j         -0.87192347+0.51189595j -0.87192347-0.51189595j\n",
      " -0.50672801+0.88082138j -0.50672801-0.88082138j  0.02357903+1.02462004j\n",
      "  0.02357903-1.02462004j  0.53490793+0.83794822j  0.53490793-0.83794822j\n",
      "  0.84384749+0.46790995j  0.84384749-0.46790995j  0.97255053+0.j        ]\n",
      "\n",
      "Módulo de las raíces: [1.01991649 1.01108258 1.01108258 1.01617891 1.01617891 1.02489131\n",
      " 1.02489131 0.99412459 0.99412459 0.9648929  0.9648929  0.97255053]\n",
      "\n",
      "¿Las raíces están fuera del círculo unitario?  False\n",
      "\n",
      "El modelo no es estacionario\n"
     ]
    }
   ],
   "source": [
    "estacionario(modelo)"
   ]
  },
  {
   "cell_type": "markdown",
   "metadata": {},
   "source": [
    "## **4° Modelo con mejor AIC**"
   ]
  },
  {
   "cell_type": "code",
   "execution_count": 12,
   "metadata": {
    "tags": []
   },
   "outputs": [
    {
     "data": {
      "text/html": [
       "<table class=\"simpletable\">\n",
       "<caption>SARIMAX Results</caption>\n",
       "<tr>\n",
       "  <th>Dep. Variable:</th>                   <td>y</td>                <th>  No. Observations:  </th>    <td>660</td>   \n",
       "</tr>\n",
       "<tr>\n",
       "  <th>Model:</th>           <td>SARIMAX(4, 0, 0)x(2, 0, [1], 12)</td> <th>  Log Likelihood     </th> <td>-1995.310</td>\n",
       "</tr>\n",
       "<tr>\n",
       "  <th>Date:</th>                    <td>Fri, 25 Apr 2025</td>         <th>  AIC                </th> <td>4006.621</td> \n",
       "</tr>\n",
       "<tr>\n",
       "  <th>Time:</th>                        <td>17:45:57</td>             <th>  BIC                </th> <td>4042.559</td> \n",
       "</tr>\n",
       "<tr>\n",
       "  <th>Sample:</th>                          <td>0</td>                <th>  HQIC               </th> <td>4020.550</td> \n",
       "</tr>\n",
       "<tr>\n",
       "  <th></th>                              <td> - 660</td>              <th>                     </th>     <td> </td>    \n",
       "</tr>\n",
       "<tr>\n",
       "  <th>Covariance Type:</th>                <td>opg</td>               <th>                     </th>     <td> </td>    \n",
       "</tr>\n",
       "</table>\n",
       "<table class=\"simpletable\">\n",
       "<tr>\n",
       "      <td></td>        <th>coef</th>     <th>std err</th>      <th>z</th>      <th>P>|z|</th>  <th>[0.025</th>    <th>0.975]</th>  \n",
       "</tr>\n",
       "<tr>\n",
       "  <th>ar.L1</th>    <td>    0.3006</td> <td>    0.035</td> <td>    8.521</td> <td> 0.000</td> <td>    0.231</td> <td>    0.370</td>\n",
       "</tr>\n",
       "<tr>\n",
       "  <th>ar.L2</th>    <td>    0.1460</td> <td>    0.041</td> <td>    3.539</td> <td> 0.000</td> <td>    0.065</td> <td>    0.227</td>\n",
       "</tr>\n",
       "<tr>\n",
       "  <th>ar.L3</th>    <td>   -0.0320</td> <td>    0.042</td> <td>   -0.771</td> <td> 0.441</td> <td>   -0.113</td> <td>    0.049</td>\n",
       "</tr>\n",
       "<tr>\n",
       "  <th>ar.L4</th>    <td>   -0.1213</td> <td>    0.040</td> <td>   -3.055</td> <td> 0.002</td> <td>   -0.199</td> <td>   -0.043</td>\n",
       "</tr>\n",
       "<tr>\n",
       "  <th>ar.S.L12</th> <td>    0.9939</td> <td>    0.056</td> <td>   17.881</td> <td> 0.000</td> <td>    0.885</td> <td>    1.103</td>\n",
       "</tr>\n",
       "<tr>\n",
       "  <th>ar.S.L24</th> <td>   -0.0058</td> <td>    0.053</td> <td>   -0.108</td> <td> 0.914</td> <td>   -0.110</td> <td>    0.099</td>\n",
       "</tr>\n",
       "<tr>\n",
       "  <th>ma.S.L12</th> <td>   -0.7003</td> <td>    0.049</td> <td>  -14.161</td> <td> 0.000</td> <td>   -0.797</td> <td>   -0.603</td>\n",
       "</tr>\n",
       "<tr>\n",
       "  <th>sigma2</th>   <td>   23.8209</td> <td>    1.214</td> <td>   19.619</td> <td> 0.000</td> <td>   21.441</td> <td>   26.201</td>\n",
       "</tr>\n",
       "</table>\n",
       "<table class=\"simpletable\">\n",
       "<tr>\n",
       "  <th>Ljung-Box (L1) (Q):</th>     <td>0.39</td> <th>  Jarque-Bera (JB):  </th> <td>14.48</td>\n",
       "</tr>\n",
       "<tr>\n",
       "  <th>Prob(Q):</th>                <td>0.53</td> <th>  Prob(JB):          </th> <td>0.00</td> \n",
       "</tr>\n",
       "<tr>\n",
       "  <th>Heteroskedasticity (H):</th> <td>0.80</td> <th>  Skew:              </th> <td>-0.27</td>\n",
       "</tr>\n",
       "<tr>\n",
       "  <th>Prob(H) (two-sided):</th>    <td>0.09</td> <th>  Kurtosis:          </th> <td>3.49</td> \n",
       "</tr>\n",
       "</table><br/><br/>Warnings:<br/>[1] Covariance matrix calculated using the outer product of gradients (complex-step)."
      ],
      "text/latex": [
       "\\begin{center}\n",
       "\\begin{tabular}{lclc}\n",
       "\\toprule\n",
       "\\textbf{Dep. Variable:}          &                y                 & \\textbf{  No. Observations:  } &    660      \\\\\n",
       "\\textbf{Model:}                  & SARIMAX(4, 0, 0)x(2, 0, [1], 12) & \\textbf{  Log Likelihood     } & -1995.310   \\\\\n",
       "\\textbf{Date:}                   &         Fri, 25 Apr 2025         & \\textbf{  AIC                } &  4006.621   \\\\\n",
       "\\textbf{Time:}                   &             17:45:57             & \\textbf{  BIC                } &  4042.559   \\\\\n",
       "\\textbf{Sample:}                 &                0                 & \\textbf{  HQIC               } &  4020.550   \\\\\n",
       "\\textbf{}                        &               - 660              & \\textbf{                     } &             \\\\\n",
       "\\textbf{Covariance Type:}        &               opg                & \\textbf{                     } &             \\\\\n",
       "\\bottomrule\n",
       "\\end{tabular}\n",
       "\\begin{tabular}{lcccccc}\n",
       "                  & \\textbf{coef} & \\textbf{std err} & \\textbf{z} & \\textbf{P$> |$z$|$} & \\textbf{[0.025} & \\textbf{0.975]}  \\\\\n",
       "\\midrule\n",
       "\\textbf{ar.L1}    &       0.3006  &        0.035     &     8.521  &         0.000        &        0.231    &        0.370     \\\\\n",
       "\\textbf{ar.L2}    &       0.1460  &        0.041     &     3.539  &         0.000        &        0.065    &        0.227     \\\\\n",
       "\\textbf{ar.L3}    &      -0.0320  &        0.042     &    -0.771  &         0.441        &       -0.113    &        0.049     \\\\\n",
       "\\textbf{ar.L4}    &      -0.1213  &        0.040     &    -3.055  &         0.002        &       -0.199    &       -0.043     \\\\\n",
       "\\textbf{ar.S.L12} &       0.9939  &        0.056     &    17.881  &         0.000        &        0.885    &        1.103     \\\\\n",
       "\\textbf{ar.S.L24} &      -0.0058  &        0.053     &    -0.108  &         0.914        &       -0.110    &        0.099     \\\\\n",
       "\\textbf{ma.S.L12} &      -0.7003  &        0.049     &   -14.161  &         0.000        &       -0.797    &       -0.603     \\\\\n",
       "\\textbf{sigma2}   &      23.8209  &        1.214     &    19.619  &         0.000        &       21.441    &       26.201     \\\\\n",
       "\\bottomrule\n",
       "\\end{tabular}\n",
       "\\begin{tabular}{lclc}\n",
       "\\textbf{Ljung-Box (L1) (Q):}     & 0.39 & \\textbf{  Jarque-Bera (JB):  } & 14.48  \\\\\n",
       "\\textbf{Prob(Q):}                & 0.53 & \\textbf{  Prob(JB):          } &  0.00  \\\\\n",
       "\\textbf{Heteroskedasticity (H):} & 0.80 & \\textbf{  Skew:              } & -0.27  \\\\\n",
       "\\textbf{Prob(H) (two-sided):}    & 0.09 & \\textbf{  Kurtosis:          } &  3.49  \\\\\n",
       "\\bottomrule\n",
       "\\end{tabular}\n",
       "%\\caption{SARIMAX Results}\n",
       "\\end{center}\n",
       "\n",
       "Warnings: \\newline\n",
       " [1] Covariance matrix calculated using the outer product of gradients (complex-step)."
      ],
      "text/plain": [
       "<class 'statsmodels.iolib.summary.Summary'>\n",
       "\"\"\"\n",
       "                                      SARIMAX Results                                       \n",
       "============================================================================================\n",
       "Dep. Variable:                                    y   No. Observations:                  660\n",
       "Model:             SARIMAX(4, 0, 0)x(2, 0, [1], 12)   Log Likelihood               -1995.310\n",
       "Date:                              Fri, 25 Apr 2025   AIC                           4006.621\n",
       "Time:                                      17:45:57   BIC                           4042.559\n",
       "Sample:                                           0   HQIC                          4020.550\n",
       "                                              - 660                                         \n",
       "Covariance Type:                                opg                                         \n",
       "==============================================================================\n",
       "                 coef    std err          z      P>|z|      [0.025      0.975]\n",
       "------------------------------------------------------------------------------\n",
       "ar.L1          0.3006      0.035      8.521      0.000       0.231       0.370\n",
       "ar.L2          0.1460      0.041      3.539      0.000       0.065       0.227\n",
       "ar.L3         -0.0320      0.042     -0.771      0.441      -0.113       0.049\n",
       "ar.L4         -0.1213      0.040     -3.055      0.002      -0.199      -0.043\n",
       "ar.S.L12       0.9939      0.056     17.881      0.000       0.885       1.103\n",
       "ar.S.L24      -0.0058      0.053     -0.108      0.914      -0.110       0.099\n",
       "ma.S.L12      -0.7003      0.049    -14.161      0.000      -0.797      -0.603\n",
       "sigma2        23.8209      1.214     19.619      0.000      21.441      26.201\n",
       "===================================================================================\n",
       "Ljung-Box (L1) (Q):                   0.39   Jarque-Bera (JB):                14.48\n",
       "Prob(Q):                              0.53   Prob(JB):                         0.00\n",
       "Heteroskedasticity (H):               0.80   Skew:                            -0.27\n",
       "Prob(H) (two-sided):                  0.09   Kurtosis:                         3.49\n",
       "===================================================================================\n",
       "\n",
       "Warnings:\n",
       "[1] Covariance matrix calculated using the outer product of gradients (complex-step).\n",
       "\"\"\""
      ]
     },
     "execution_count": 12,
     "metadata": {},
     "output_type": "execute_result"
    }
   ],
   "source": [
    "modelo=SARIMAX(ypre,\n",
    "               order=(4,0,0),\n",
    "               seasonal_order=(2,0,1,12)).fit()\n",
    "\n",
    "modelo.summary()"
   ]
  },
  {
   "cell_type": "code",
   "execution_count": 13,
   "metadata": {
    "tags": []
   },
   "outputs": [
    {
     "name": "stdout",
     "output_type": "stream",
     "text": [
      "Hay coeficientes no significativos, no se cumple el principio de parsimonia\n"
     ]
    }
   ],
   "source": [
    "parsimonia(modelo)"
   ]
  },
  {
   "cell_type": "code",
   "execution_count": 14,
   "metadata": {},
   "outputs": [
    {
     "name": "stdout",
     "output_type": "stream",
     "text": [
      "El polinomio de la parte autoregresiva es: {'p1': -0.30058617341685673, 'p2': -0.14600216837335225, 'p3': 0.032035186243183536, 'p4': 0.12128846360497197, 'p12': -0.9939491875492701, 'p24': 0.005762942554589791}\n",
      "\n",
      "Raíces del polinomio característico: [-1.53473894e+00+0.j         -1.32979376e+00+0.76740601j\n",
      " -1.32979376e+00-0.76740601j -7.67240592e-01+1.32963395j\n",
      " -7.67240592e-01-1.32963395j -4.45423246e-04+1.53447759j\n",
      " -4.45423246e-04-1.53447759j  7.66988777e-01+1.33039536j\n",
      "  7.66988777e-01-1.33039536j -1.02004854e+00+0.j\n",
      " -8.71948370e-01+0.51196967j -8.71948370e-01-0.51196967j\n",
      " -5.06772669e-01+0.8809093j  -5.06772669e-01-0.8809093j\n",
      "  2.37756678e-02+1.02476283j  2.37756678e-02-1.02476283j\n",
      "  1.33022721e+00+0.76785877j  1.33022721e+00-0.76785877j\n",
      "  1.53526639e+00+0.j          5.35028030e-01+0.83773167j\n",
      "  5.35028030e-01-0.83773167j  8.43736151e-01+0.46777952j\n",
      "  8.43736151e-01-0.46777952j  9.72411033e-01+0.j        ]\n",
      "\n",
      "Módulo de las raíces: [1.53473894 1.53533821 1.53533821 1.53511712 1.53511712 1.53447765\n",
      " 1.53447765 1.53565087 1.53565087 1.02004854 1.01114138 1.01114138\n",
      " 1.01627739 1.01627739 1.0250386  1.0250386  1.53593995 1.53593995\n",
      " 1.53526639 0.99400671 0.99400671 0.96473228 0.96473228 0.97241103]\n",
      "\n",
      "¿Las raíces están fuera del círculo unitario?  False\n",
      "\n",
      "El modelo no es estacionario\n"
     ]
    }
   ],
   "source": [
    "estacionario(modelo)"
   ]
  },
  {
   "cell_type": "markdown",
   "metadata": {},
   "source": [
    "## **5° Modelo con mejor AIC**"
   ]
  },
  {
   "cell_type": "code",
   "execution_count": 15,
   "metadata": {
    "tags": []
   },
   "outputs": [
    {
     "data": {
      "text/html": [
       "<table class=\"simpletable\">\n",
       "<caption>SARIMAX Results</caption>\n",
       "<tr>\n",
       "  <th>Dep. Variable:</th>                   <td>y</td>                <th>  No. Observations:  </th>    <td>660</td>   \n",
       "</tr>\n",
       "<tr>\n",
       "  <th>Model:</th>           <td>SARIMAX(5, 0, 0)x(1, 0, [1], 12)</td> <th>  Log Likelihood     </th> <td>-1986.049</td>\n",
       "</tr>\n",
       "<tr>\n",
       "  <th>Date:</th>                    <td>Fri, 25 Apr 2025</td>         <th>  AIC                </th> <td>3988.098</td> \n",
       "</tr>\n",
       "<tr>\n",
       "  <th>Time:</th>                        <td>17:45:58</td>             <th>  BIC                </th> <td>4024.036</td> \n",
       "</tr>\n",
       "<tr>\n",
       "  <th>Sample:</th>                          <td>0</td>                <th>  HQIC               </th> <td>4002.028</td> \n",
       "</tr>\n",
       "<tr>\n",
       "  <th></th>                              <td> - 660</td>              <th>                     </th>     <td> </td>    \n",
       "</tr>\n",
       "<tr>\n",
       "  <th>Covariance Type:</th>                <td>opg</td>               <th>                     </th>     <td> </td>    \n",
       "</tr>\n",
       "</table>\n",
       "<table class=\"simpletable\">\n",
       "<tr>\n",
       "      <td></td>        <th>coef</th>     <th>std err</th>      <th>z</th>      <th>P>|z|</th>  <th>[0.025</th>    <th>0.975]</th>  \n",
       "</tr>\n",
       "<tr>\n",
       "  <th>ar.L1</th>    <td>    0.2954</td> <td>    0.035</td> <td>    8.479</td> <td> 0.000</td> <td>    0.227</td> <td>    0.364</td>\n",
       "</tr>\n",
       "<tr>\n",
       "  <th>ar.L2</th>    <td>    0.1388</td> <td>    0.041</td> <td>    3.386</td> <td> 0.001</td> <td>    0.058</td> <td>    0.219</td>\n",
       "</tr>\n",
       "<tr>\n",
       "  <th>ar.L3</th>    <td>   -0.0145</td> <td>    0.041</td> <td>   -0.356</td> <td> 0.722</td> <td>   -0.094</td> <td>    0.065</td>\n",
       "</tr>\n",
       "<tr>\n",
       "  <th>ar.L4</th>    <td>   -0.0932</td> <td>    0.042</td> <td>   -2.225</td> <td> 0.026</td> <td>   -0.175</td> <td>   -0.011</td>\n",
       "</tr>\n",
       "<tr>\n",
       "  <th>ar.L5</th>    <td>   -0.1895</td> <td>    0.037</td> <td>   -5.155</td> <td> 0.000</td> <td>   -0.261</td> <td>   -0.117</td>\n",
       "</tr>\n",
       "<tr>\n",
       "  <th>ar.S.L12</th> <td>    0.9949</td> <td>    0.003</td> <td>  368.266</td> <td> 0.000</td> <td>    0.990</td> <td>    1.000</td>\n",
       "</tr>\n",
       "<tr>\n",
       "  <th>ma.S.L12</th> <td>   -0.7637</td> <td>    0.032</td> <td>  -23.629</td> <td> 0.000</td> <td>   -0.827</td> <td>   -0.700</td>\n",
       "</tr>\n",
       "<tr>\n",
       "  <th>sigma2</th>   <td>   22.9265</td> <td>    1.181</td> <td>   19.415</td> <td> 0.000</td> <td>   20.612</td> <td>   25.241</td>\n",
       "</tr>\n",
       "</table>\n",
       "<table class=\"simpletable\">\n",
       "<tr>\n",
       "  <th>Ljung-Box (L1) (Q):</th>     <td>0.83</td> <th>  Jarque-Bera (JB):  </th> <td>10.69</td>\n",
       "</tr>\n",
       "<tr>\n",
       "  <th>Prob(Q):</th>                <td>0.36</td> <th>  Prob(JB):          </th> <td>0.00</td> \n",
       "</tr>\n",
       "<tr>\n",
       "  <th>Heteroskedasticity (H):</th> <td>0.77</td> <th>  Skew:              </th> <td>-0.25</td>\n",
       "</tr>\n",
       "<tr>\n",
       "  <th>Prob(H) (two-sided):</th>    <td>0.06</td> <th>  Kurtosis:          </th> <td>3.37</td> \n",
       "</tr>\n",
       "</table><br/><br/>Warnings:<br/>[1] Covariance matrix calculated using the outer product of gradients (complex-step)."
      ],
      "text/latex": [
       "\\begin{center}\n",
       "\\begin{tabular}{lclc}\n",
       "\\toprule\n",
       "\\textbf{Dep. Variable:}          &                y                 & \\textbf{  No. Observations:  } &    660      \\\\\n",
       "\\textbf{Model:}                  & SARIMAX(5, 0, 0)x(1, 0, [1], 12) & \\textbf{  Log Likelihood     } & -1986.049   \\\\\n",
       "\\textbf{Date:}                   &         Fri, 25 Apr 2025         & \\textbf{  AIC                } &  3988.098   \\\\\n",
       "\\textbf{Time:}                   &             17:45:58             & \\textbf{  BIC                } &  4024.036   \\\\\n",
       "\\textbf{Sample:}                 &                0                 & \\textbf{  HQIC               } &  4002.028   \\\\\n",
       "\\textbf{}                        &               - 660              & \\textbf{                     } &             \\\\\n",
       "\\textbf{Covariance Type:}        &               opg                & \\textbf{                     } &             \\\\\n",
       "\\bottomrule\n",
       "\\end{tabular}\n",
       "\\begin{tabular}{lcccccc}\n",
       "                  & \\textbf{coef} & \\textbf{std err} & \\textbf{z} & \\textbf{P$> |$z$|$} & \\textbf{[0.025} & \\textbf{0.975]}  \\\\\n",
       "\\midrule\n",
       "\\textbf{ar.L1}    &       0.2954  &        0.035     &     8.479  &         0.000        &        0.227    &        0.364     \\\\\n",
       "\\textbf{ar.L2}    &       0.1388  &        0.041     &     3.386  &         0.001        &        0.058    &        0.219     \\\\\n",
       "\\textbf{ar.L3}    &      -0.0145  &        0.041     &    -0.356  &         0.722        &       -0.094    &        0.065     \\\\\n",
       "\\textbf{ar.L4}    &      -0.0932  &        0.042     &    -2.225  &         0.026        &       -0.175    &       -0.011     \\\\\n",
       "\\textbf{ar.L5}    &      -0.1895  &        0.037     &    -5.155  &         0.000        &       -0.261    &       -0.117     \\\\\n",
       "\\textbf{ar.S.L12} &       0.9949  &        0.003     &   368.266  &         0.000        &        0.990    &        1.000     \\\\\n",
       "\\textbf{ma.S.L12} &      -0.7637  &        0.032     &   -23.629  &         0.000        &       -0.827    &       -0.700     \\\\\n",
       "\\textbf{sigma2}   &      22.9265  &        1.181     &    19.415  &         0.000        &       20.612    &       25.241     \\\\\n",
       "\\bottomrule\n",
       "\\end{tabular}\n",
       "\\begin{tabular}{lclc}\n",
       "\\textbf{Ljung-Box (L1) (Q):}     & 0.83 & \\textbf{  Jarque-Bera (JB):  } & 10.69  \\\\\n",
       "\\textbf{Prob(Q):}                & 0.36 & \\textbf{  Prob(JB):          } &  0.00  \\\\\n",
       "\\textbf{Heteroskedasticity (H):} & 0.77 & \\textbf{  Skew:              } & -0.25  \\\\\n",
       "\\textbf{Prob(H) (two-sided):}    & 0.06 & \\textbf{  Kurtosis:          } &  3.37  \\\\\n",
       "\\bottomrule\n",
       "\\end{tabular}\n",
       "%\\caption{SARIMAX Results}\n",
       "\\end{center}\n",
       "\n",
       "Warnings: \\newline\n",
       " [1] Covariance matrix calculated using the outer product of gradients (complex-step)."
      ],
      "text/plain": [
       "<class 'statsmodels.iolib.summary.Summary'>\n",
       "\"\"\"\n",
       "                                      SARIMAX Results                                       \n",
       "============================================================================================\n",
       "Dep. Variable:                                    y   No. Observations:                  660\n",
       "Model:             SARIMAX(5, 0, 0)x(1, 0, [1], 12)   Log Likelihood               -1986.049\n",
       "Date:                              Fri, 25 Apr 2025   AIC                           3988.098\n",
       "Time:                                      17:45:58   BIC                           4024.036\n",
       "Sample:                                           0   HQIC                          4002.028\n",
       "                                              - 660                                         \n",
       "Covariance Type:                                opg                                         \n",
       "==============================================================================\n",
       "                 coef    std err          z      P>|z|      [0.025      0.975]\n",
       "------------------------------------------------------------------------------\n",
       "ar.L1          0.2954      0.035      8.479      0.000       0.227       0.364\n",
       "ar.L2          0.1388      0.041      3.386      0.001       0.058       0.219\n",
       "ar.L3         -0.0145      0.041     -0.356      0.722      -0.094       0.065\n",
       "ar.L4         -0.0932      0.042     -2.225      0.026      -0.175      -0.011\n",
       "ar.L5         -0.1895      0.037     -5.155      0.000      -0.261      -0.117\n",
       "ar.S.L12       0.9949      0.003    368.266      0.000       0.990       1.000\n",
       "ma.S.L12      -0.7637      0.032    -23.629      0.000      -0.827      -0.700\n",
       "sigma2        22.9265      1.181     19.415      0.000      20.612      25.241\n",
       "===================================================================================\n",
       "Ljung-Box (L1) (Q):                   0.83   Jarque-Bera (JB):                10.69\n",
       "Prob(Q):                              0.36   Prob(JB):                         0.00\n",
       "Heteroskedasticity (H):               0.77   Skew:                            -0.25\n",
       "Prob(H) (two-sided):                  0.06   Kurtosis:                         3.37\n",
       "===================================================================================\n",
       "\n",
       "Warnings:\n",
       "[1] Covariance matrix calculated using the outer product of gradients (complex-step).\n",
       "\"\"\""
      ]
     },
     "execution_count": 15,
     "metadata": {},
     "output_type": "execute_result"
    }
   ],
   "source": [
    "modelo=SARIMAX(ypre,\n",
    "               order=(5,0,0),\n",
    "               seasonal_order=(1,0,1,12)).fit()\n",
    "\n",
    "modelo.summary()"
   ]
  },
  {
   "cell_type": "code",
   "execution_count": 16,
   "metadata": {
    "tags": []
   },
   "outputs": [
    {
     "name": "stdout",
     "output_type": "stream",
     "text": [
      "Hay coeficientes no significativos, no se cumple el principio de parsimonia\n"
     ]
    }
   ],
   "source": [
    "parsimonia(modelo)"
   ]
  },
  {
   "cell_type": "code",
   "execution_count": 17,
   "metadata": {},
   "outputs": [
    {
     "name": "stdout",
     "output_type": "stream",
     "text": [
      "El polinomio de la parte autoregresiva es: {'p1': -0.2954202472185968, 'p2': -0.1388057549895606, 'p3': 0.014523610986628157, 'p4': 0.09319488734433287, 'p5': 0.1894640063531091, 'p12': -0.9948518293458459}\n",
      "\n",
      "Raíces del polinomio característico: [-1.00397912+0.j         -0.88710316+0.51151576j -0.88710316-0.51151576j\n",
      " -0.48969912+0.88157471j -0.48969912-0.88157471j  0.00767171+1.01953715j\n",
      "  0.00767171-1.01953715j  0.54846345+0.84388147j  0.54846345-0.84388147j\n",
      "  0.98728965+0.j          0.82901186+0.46457735j  0.82901186-0.46457735j]\n",
      "\n",
      "Módulo de las raíces: [1.00397912 1.02401191 1.02401191 1.00845386 1.00845386 1.01956601\n",
      " 1.01956601 1.00645322 1.00645322 0.98728965 0.95031193 0.95031193]\n",
      "\n",
      "¿Las raíces están fuera del círculo unitario?  False\n",
      "\n",
      "El modelo no es estacionario\n"
     ]
    }
   ],
   "source": [
    "estacionario(modelo)"
   ]
  },
  {
   "cell_type": "markdown",
   "metadata": {},
   "source": [
    "## **6° Modelo con mejor AIC**"
   ]
  },
  {
   "cell_type": "code",
   "execution_count": 18,
   "metadata": {
    "tags": []
   },
   "outputs": [
    {
     "data": {
      "text/html": [
       "<table class=\"simpletable\">\n",
       "<caption>SARIMAX Results</caption>\n",
       "<tr>\n",
       "  <th>Dep. Variable:</th>                   <td>y</td>                <th>  No. Observations:  </th>    <td>660</td>   \n",
       "</tr>\n",
       "<tr>\n",
       "  <th>Model:</th>           <td>SARIMAX(3, 0, 0)x(1, 0, [1], 12)</td> <th>  Log Likelihood     </th> <td>-1999.521</td>\n",
       "</tr>\n",
       "<tr>\n",
       "  <th>Date:</th>                    <td>Fri, 25 Apr 2025</td>         <th>  AIC                </th> <td>4011.043</td> \n",
       "</tr>\n",
       "<tr>\n",
       "  <th>Time:</th>                        <td>17:45:59</td>             <th>  BIC                </th> <td>4037.996</td> \n",
       "</tr>\n",
       "<tr>\n",
       "  <th>Sample:</th>                          <td>0</td>                <th>  HQIC               </th> <td>4021.490</td> \n",
       "</tr>\n",
       "<tr>\n",
       "  <th></th>                              <td> - 660</td>              <th>                     </th>     <td> </td>    \n",
       "</tr>\n",
       "<tr>\n",
       "  <th>Covariance Type:</th>                <td>opg</td>               <th>                     </th>     <td> </td>    \n",
       "</tr>\n",
       "</table>\n",
       "<table class=\"simpletable\">\n",
       "<tr>\n",
       "      <td></td>        <th>coef</th>     <th>std err</th>      <th>z</th>      <th>P>|z|</th>  <th>[0.025</th>    <th>0.975]</th>  \n",
       "</tr>\n",
       "<tr>\n",
       "  <th>ar.L1</th>    <td>    0.3017</td> <td>    0.035</td> <td>    8.615</td> <td> 0.000</td> <td>    0.233</td> <td>    0.370</td>\n",
       "</tr>\n",
       "<tr>\n",
       "  <th>ar.L2</th>    <td>    0.1333</td> <td>    0.041</td> <td>    3.276</td> <td> 0.001</td> <td>    0.054</td> <td>    0.213</td>\n",
       "</tr>\n",
       "<tr>\n",
       "  <th>ar.L3</th>    <td>   -0.0580</td> <td>    0.039</td> <td>   -1.478</td> <td> 0.139</td> <td>   -0.135</td> <td>    0.019</td>\n",
       "</tr>\n",
       "<tr>\n",
       "  <th>ar.S.L12</th> <td>    0.9827</td> <td>    0.007</td> <td>  133.392</td> <td> 0.000</td> <td>    0.968</td> <td>    0.997</td>\n",
       "</tr>\n",
       "<tr>\n",
       "  <th>ma.S.L12</th> <td>   -0.6673</td> <td>    0.035</td> <td>  -19.017</td> <td> 0.000</td> <td>   -0.736</td> <td>   -0.599</td>\n",
       "</tr>\n",
       "<tr>\n",
       "  <th>sigma2</th>   <td>   24.2344</td> <td>    1.263</td> <td>   19.183</td> <td> 0.000</td> <td>   21.758</td> <td>   26.710</td>\n",
       "</tr>\n",
       "</table>\n",
       "<table class=\"simpletable\">\n",
       "<tr>\n",
       "  <th>Ljung-Box (L1) (Q):</th>     <td>0.14</td> <th>  Jarque-Bera (JB):  </th> <td>14.32</td>\n",
       "</tr>\n",
       "<tr>\n",
       "  <th>Prob(Q):</th>                <td>0.70</td> <th>  Prob(JB):          </th> <td>0.00</td> \n",
       "</tr>\n",
       "<tr>\n",
       "  <th>Heteroskedasticity (H):</th> <td>0.81</td> <th>  Skew:              </th> <td>-0.27</td>\n",
       "</tr>\n",
       "<tr>\n",
       "  <th>Prob(H) (two-sided):</th>    <td>0.13</td> <th>  Kurtosis:          </th> <td>3.47</td> \n",
       "</tr>\n",
       "</table><br/><br/>Warnings:<br/>[1] Covariance matrix calculated using the outer product of gradients (complex-step)."
      ],
      "text/latex": [
       "\\begin{center}\n",
       "\\begin{tabular}{lclc}\n",
       "\\toprule\n",
       "\\textbf{Dep. Variable:}          &                y                 & \\textbf{  No. Observations:  } &    660      \\\\\n",
       "\\textbf{Model:}                  & SARIMAX(3, 0, 0)x(1, 0, [1], 12) & \\textbf{  Log Likelihood     } & -1999.521   \\\\\n",
       "\\textbf{Date:}                   &         Fri, 25 Apr 2025         & \\textbf{  AIC                } &  4011.043   \\\\\n",
       "\\textbf{Time:}                   &             17:45:59             & \\textbf{  BIC                } &  4037.996   \\\\\n",
       "\\textbf{Sample:}                 &                0                 & \\textbf{  HQIC               } &  4021.490   \\\\\n",
       "\\textbf{}                        &               - 660              & \\textbf{                     } &             \\\\\n",
       "\\textbf{Covariance Type:}        &               opg                & \\textbf{                     } &             \\\\\n",
       "\\bottomrule\n",
       "\\end{tabular}\n",
       "\\begin{tabular}{lcccccc}\n",
       "                  & \\textbf{coef} & \\textbf{std err} & \\textbf{z} & \\textbf{P$> |$z$|$} & \\textbf{[0.025} & \\textbf{0.975]}  \\\\\n",
       "\\midrule\n",
       "\\textbf{ar.L1}    &       0.3017  &        0.035     &     8.615  &         0.000        &        0.233    &        0.370     \\\\\n",
       "\\textbf{ar.L2}    &       0.1333  &        0.041     &     3.276  &         0.001        &        0.054    &        0.213     \\\\\n",
       "\\textbf{ar.L3}    &      -0.0580  &        0.039     &    -1.478  &         0.139        &       -0.135    &        0.019     \\\\\n",
       "\\textbf{ar.S.L12} &       0.9827  &        0.007     &   133.392  &         0.000        &        0.968    &        0.997     \\\\\n",
       "\\textbf{ma.S.L12} &      -0.6673  &        0.035     &   -19.017  &         0.000        &       -0.736    &       -0.599     \\\\\n",
       "\\textbf{sigma2}   &      24.2344  &        1.263     &    19.183  &         0.000        &       21.758    &       26.710     \\\\\n",
       "\\bottomrule\n",
       "\\end{tabular}\n",
       "\\begin{tabular}{lclc}\n",
       "\\textbf{Ljung-Box (L1) (Q):}     & 0.14 & \\textbf{  Jarque-Bera (JB):  } & 14.32  \\\\\n",
       "\\textbf{Prob(Q):}                & 0.70 & \\textbf{  Prob(JB):          } &  0.00  \\\\\n",
       "\\textbf{Heteroskedasticity (H):} & 0.81 & \\textbf{  Skew:              } & -0.27  \\\\\n",
       "\\textbf{Prob(H) (two-sided):}    & 0.13 & \\textbf{  Kurtosis:          } &  3.47  \\\\\n",
       "\\bottomrule\n",
       "\\end{tabular}\n",
       "%\\caption{SARIMAX Results}\n",
       "\\end{center}\n",
       "\n",
       "Warnings: \\newline\n",
       " [1] Covariance matrix calculated using the outer product of gradients (complex-step)."
      ],
      "text/plain": [
       "<class 'statsmodels.iolib.summary.Summary'>\n",
       "\"\"\"\n",
       "                                      SARIMAX Results                                       \n",
       "============================================================================================\n",
       "Dep. Variable:                                    y   No. Observations:                  660\n",
       "Model:             SARIMAX(3, 0, 0)x(1, 0, [1], 12)   Log Likelihood               -1999.521\n",
       "Date:                              Fri, 25 Apr 2025   AIC                           4011.043\n",
       "Time:                                      17:45:59   BIC                           4037.996\n",
       "Sample:                                           0   HQIC                          4021.490\n",
       "                                              - 660                                         \n",
       "Covariance Type:                                opg                                         \n",
       "==============================================================================\n",
       "                 coef    std err          z      P>|z|      [0.025      0.975]\n",
       "------------------------------------------------------------------------------\n",
       "ar.L1          0.3017      0.035      8.615      0.000       0.233       0.370\n",
       "ar.L2          0.1333      0.041      3.276      0.001       0.054       0.213\n",
       "ar.L3         -0.0580      0.039     -1.478      0.139      -0.135       0.019\n",
       "ar.S.L12       0.9827      0.007    133.392      0.000       0.968       0.997\n",
       "ma.S.L12      -0.6673      0.035    -19.017      0.000      -0.736      -0.599\n",
       "sigma2        24.2344      1.263     19.183      0.000      21.758      26.710\n",
       "===================================================================================\n",
       "Ljung-Box (L1) (Q):                   0.14   Jarque-Bera (JB):                14.32\n",
       "Prob(Q):                              0.70   Prob(JB):                         0.00\n",
       "Heteroskedasticity (H):               0.81   Skew:                            -0.27\n",
       "Prob(H) (two-sided):                  0.13   Kurtosis:                         3.47\n",
       "===================================================================================\n",
       "\n",
       "Warnings:\n",
       "[1] Covariance matrix calculated using the outer product of gradients (complex-step).\n",
       "\"\"\""
      ]
     },
     "execution_count": 18,
     "metadata": {},
     "output_type": "execute_result"
    }
   ],
   "source": [
    "modelo=SARIMAX(ypre,\n",
    "               order=(3,0,0),\n",
    "               seasonal_order=(1,0,1,12)).fit()\n",
    "\n",
    "modelo.summary()"
   ]
  },
  {
   "cell_type": "code",
   "execution_count": 19,
   "metadata": {},
   "outputs": [
    {
     "name": "stdout",
     "output_type": "stream",
     "text": [
      "Hay coeficientes no significativos, no se cumple el principio de parsimonia\n"
     ]
    }
   ],
   "source": [
    "parsimonia(modelo)"
   ]
  },
  {
   "cell_type": "code",
   "execution_count": 20,
   "metadata": {},
   "outputs": [
    {
     "name": "stdout",
     "output_type": "stream",
     "text": [
      "El polinomio de la parte autoregresiva es: {'p1': -0.30167666956999567, 'p2': -0.1333115639367756, 'p3': 0.057978430935308974, 'p12': -0.9827357188394699}\n",
      "\n",
      "Raíces del polinomio característico: [-1.01011989+0.j         -0.88130486+0.50660505j -0.88130486-0.50660505j\n",
      " -0.50295972+0.89110442j -0.50295972-0.89110442j  0.027195  +1.01534784j\n",
      "  0.027195  -1.01534784j  0.52640432+0.84366618j  0.52640432-0.84366618j\n",
      "  0.85346619+0.46670264j  0.85346619-0.46670264j  0.96451803+0.j        ]\n",
      "\n",
      "Módulo de las raíces: [1.01011989 1.01653673 1.01653673 1.02324756 1.02324756 1.01571196\n",
      " 1.01571196 0.9944215  0.9944215  0.97273629 0.97273629 0.96451803]\n",
      "\n",
      "¿Las raíces están fuera del círculo unitario?  False\n",
      "\n",
      "El modelo no es estacionario\n"
     ]
    }
   ],
   "source": [
    "estacionario(modelo)"
   ]
  },
  {
   "cell_type": "markdown",
   "metadata": {},
   "source": [
    "## **7° Modelo con mejor AIC**"
   ]
  },
  {
   "cell_type": "code",
   "execution_count": 21,
   "metadata": {
    "tags": []
   },
   "outputs": [
    {
     "data": {
      "text/html": [
       "<table class=\"simpletable\">\n",
       "<caption>SARIMAX Results</caption>\n",
       "<tr>\n",
       "  <th>Dep. Variable:</th>                    <td>y</td>                  <th>  No. Observations:  </th>    <td>660</td>   \n",
       "</tr>\n",
       "<tr>\n",
       "  <th>Model:</th>           <td>SARIMAX(3, 0, 0)x(1, 0, [1, 2], 12)</td> <th>  Log Likelihood     </th> <td>-1999.511</td>\n",
       "</tr>\n",
       "<tr>\n",
       "  <th>Date:</th>                     <td>Fri, 25 Apr 2025</td>           <th>  AIC                </th> <td>4013.023</td> \n",
       "</tr>\n",
       "<tr>\n",
       "  <th>Time:</th>                         <td>17:46:00</td>               <th>  BIC                </th> <td>4044.468</td> \n",
       "</tr>\n",
       "<tr>\n",
       "  <th>Sample:</th>                           <td>0</td>                  <th>  HQIC               </th> <td>4025.211</td> \n",
       "</tr>\n",
       "<tr>\n",
       "  <th></th>                               <td> - 660</td>                <th>                     </th>     <td> </td>    \n",
       "</tr>\n",
       "<tr>\n",
       "  <th>Covariance Type:</th>                 <td>opg</td>                 <th>                     </th>     <td> </td>    \n",
       "</tr>\n",
       "</table>\n",
       "<table class=\"simpletable\">\n",
       "<tr>\n",
       "      <td></td>        <th>coef</th>     <th>std err</th>      <th>z</th>      <th>P>|z|</th>  <th>[0.025</th>    <th>0.975]</th>  \n",
       "</tr>\n",
       "<tr>\n",
       "  <th>ar.L1</th>    <td>    0.3020</td> <td>    0.035</td> <td>    8.588</td> <td> 0.000</td> <td>    0.233</td> <td>    0.371</td>\n",
       "</tr>\n",
       "<tr>\n",
       "  <th>ar.L2</th>    <td>    0.1332</td> <td>    0.041</td> <td>    3.253</td> <td> 0.001</td> <td>    0.053</td> <td>    0.213</td>\n",
       "</tr>\n",
       "<tr>\n",
       "  <th>ar.L3</th>    <td>   -0.0582</td> <td>    0.039</td> <td>   -1.479</td> <td> 0.139</td> <td>   -0.135</td> <td>    0.019</td>\n",
       "</tr>\n",
       "<tr>\n",
       "  <th>ar.S.L12</th> <td>    0.9830</td> <td>    0.008</td> <td>  130.773</td> <td> 0.000</td> <td>    0.968</td> <td>    0.998</td>\n",
       "</tr>\n",
       "<tr>\n",
       "  <th>ma.S.L12</th> <td>   -0.6636</td> <td>    0.039</td> <td>  -17.207</td> <td> 0.000</td> <td>   -0.739</td> <td>   -0.588</td>\n",
       "</tr>\n",
       "<tr>\n",
       "  <th>ma.S.L24</th> <td>   -0.0060</td> <td>    0.038</td> <td>   -0.159</td> <td> 0.874</td> <td>   -0.080</td> <td>    0.068</td>\n",
       "</tr>\n",
       "<tr>\n",
       "  <th>sigma2</th>   <td>   24.2331</td> <td>    1.263</td> <td>   19.180</td> <td> 0.000</td> <td>   21.757</td> <td>   26.709</td>\n",
       "</tr>\n",
       "</table>\n",
       "<table class=\"simpletable\">\n",
       "<tr>\n",
       "  <th>Ljung-Box (L1) (Q):</th>     <td>0.14</td> <th>  Jarque-Bera (JB):  </th> <td>14.36</td>\n",
       "</tr>\n",
       "<tr>\n",
       "  <th>Prob(Q):</th>                <td>0.71</td> <th>  Prob(JB):          </th> <td>0.00</td> \n",
       "</tr>\n",
       "<tr>\n",
       "  <th>Heteroskedasticity (H):</th> <td>0.81</td> <th>  Skew:              </th> <td>-0.27</td>\n",
       "</tr>\n",
       "<tr>\n",
       "  <th>Prob(H) (two-sided):</th>    <td>0.13</td> <th>  Kurtosis:          </th> <td>3.47</td> \n",
       "</tr>\n",
       "</table><br/><br/>Warnings:<br/>[1] Covariance matrix calculated using the outer product of gradients (complex-step)."
      ],
      "text/latex": [
       "\\begin{center}\n",
       "\\begin{tabular}{lclc}\n",
       "\\toprule\n",
       "\\textbf{Dep. Variable:}          &                  y                  & \\textbf{  No. Observations:  } &    660      \\\\\n",
       "\\textbf{Model:}                  & SARIMAX(3, 0, 0)x(1, 0, [1, 2], 12) & \\textbf{  Log Likelihood     } & -1999.511   \\\\\n",
       "\\textbf{Date:}                   &           Fri, 25 Apr 2025          & \\textbf{  AIC                } &  4013.023   \\\\\n",
       "\\textbf{Time:}                   &               17:46:00              & \\textbf{  BIC                } &  4044.468   \\\\\n",
       "\\textbf{Sample:}                 &                  0                  & \\textbf{  HQIC               } &  4025.211   \\\\\n",
       "\\textbf{}                        &                 - 660               & \\textbf{                     } &             \\\\\n",
       "\\textbf{Covariance Type:}        &                 opg                 & \\textbf{                     } &             \\\\\n",
       "\\bottomrule\n",
       "\\end{tabular}\n",
       "\\begin{tabular}{lcccccc}\n",
       "                  & \\textbf{coef} & \\textbf{std err} & \\textbf{z} & \\textbf{P$> |$z$|$} & \\textbf{[0.025} & \\textbf{0.975]}  \\\\\n",
       "\\midrule\n",
       "\\textbf{ar.L1}    &       0.3020  &        0.035     &     8.588  &         0.000        &        0.233    &        0.371     \\\\\n",
       "\\textbf{ar.L2}    &       0.1332  &        0.041     &     3.253  &         0.001        &        0.053    &        0.213     \\\\\n",
       "\\textbf{ar.L3}    &      -0.0582  &        0.039     &    -1.479  &         0.139        &       -0.135    &        0.019     \\\\\n",
       "\\textbf{ar.S.L12} &       0.9830  &        0.008     &   130.773  &         0.000        &        0.968    &        0.998     \\\\\n",
       "\\textbf{ma.S.L12} &      -0.6636  &        0.039     &   -17.207  &         0.000        &       -0.739    &       -0.588     \\\\\n",
       "\\textbf{ma.S.L24} &      -0.0060  &        0.038     &    -0.159  &         0.874        &       -0.080    &        0.068     \\\\\n",
       "\\textbf{sigma2}   &      24.2331  &        1.263     &    19.180  &         0.000        &       21.757    &       26.709     \\\\\n",
       "\\bottomrule\n",
       "\\end{tabular}\n",
       "\\begin{tabular}{lclc}\n",
       "\\textbf{Ljung-Box (L1) (Q):}     & 0.14 & \\textbf{  Jarque-Bera (JB):  } & 14.36  \\\\\n",
       "\\textbf{Prob(Q):}                & 0.71 & \\textbf{  Prob(JB):          } &  0.00  \\\\\n",
       "\\textbf{Heteroskedasticity (H):} & 0.81 & \\textbf{  Skew:              } & -0.27  \\\\\n",
       "\\textbf{Prob(H) (two-sided):}    & 0.13 & \\textbf{  Kurtosis:          } &  3.47  \\\\\n",
       "\\bottomrule\n",
       "\\end{tabular}\n",
       "%\\caption{SARIMAX Results}\n",
       "\\end{center}\n",
       "\n",
       "Warnings: \\newline\n",
       " [1] Covariance matrix calculated using the outer product of gradients (complex-step)."
      ],
      "text/plain": [
       "<class 'statsmodels.iolib.summary.Summary'>\n",
       "\"\"\"\n",
       "                                        SARIMAX Results                                        \n",
       "===============================================================================================\n",
       "Dep. Variable:                                       y   No. Observations:                  660\n",
       "Model:             SARIMAX(3, 0, 0)x(1, 0, [1, 2], 12)   Log Likelihood               -1999.511\n",
       "Date:                                 Fri, 25 Apr 2025   AIC                           4013.023\n",
       "Time:                                         17:46:00   BIC                           4044.468\n",
       "Sample:                                              0   HQIC                          4025.211\n",
       "                                                 - 660                                         \n",
       "Covariance Type:                                   opg                                         \n",
       "==============================================================================\n",
       "                 coef    std err          z      P>|z|      [0.025      0.975]\n",
       "------------------------------------------------------------------------------\n",
       "ar.L1          0.3020      0.035      8.588      0.000       0.233       0.371\n",
       "ar.L2          0.1332      0.041      3.253      0.001       0.053       0.213\n",
       "ar.L3         -0.0582      0.039     -1.479      0.139      -0.135       0.019\n",
       "ar.S.L12       0.9830      0.008    130.773      0.000       0.968       0.998\n",
       "ma.S.L12      -0.6636      0.039    -17.207      0.000      -0.739      -0.588\n",
       "ma.S.L24      -0.0060      0.038     -0.159      0.874      -0.080       0.068\n",
       "sigma2        24.2331      1.263     19.180      0.000      21.757      26.709\n",
       "===================================================================================\n",
       "Ljung-Box (L1) (Q):                   0.14   Jarque-Bera (JB):                14.36\n",
       "Prob(Q):                              0.71   Prob(JB):                         0.00\n",
       "Heteroskedasticity (H):               0.81   Skew:                            -0.27\n",
       "Prob(H) (two-sided):                  0.13   Kurtosis:                         3.47\n",
       "===================================================================================\n",
       "\n",
       "Warnings:\n",
       "[1] Covariance matrix calculated using the outer product of gradients (complex-step).\n",
       "\"\"\""
      ]
     },
     "execution_count": 21,
     "metadata": {},
     "output_type": "execute_result"
    }
   ],
   "source": [
    "modelo=SARIMAX(ypre,\n",
    "               order=(3,0,0),\n",
    "               seasonal_order=(1,0,2,12)).fit()\n",
    "\n",
    "modelo.summary()"
   ]
  },
  {
   "cell_type": "code",
   "execution_count": 22,
   "metadata": {
    "tags": []
   },
   "outputs": [
    {
     "name": "stdout",
     "output_type": "stream",
     "text": [
      "Hay coeficientes no significativos, no se cumple el principio de parsimonia\n"
     ]
    }
   ],
   "source": [
    "parsimonia(modelo)"
   ]
  },
  {
   "cell_type": "code",
   "execution_count": 23,
   "metadata": {},
   "outputs": [
    {
     "name": "stdout",
     "output_type": "stream",
     "text": [
      "El polinomio de la parte autoregresiva es: {'p1': -0.3019976344814268, 'p2': -0.13318922458030863, 'p3': 0.05822025781473239, 'p12': -0.982956000297419}\n",
      "\n",
      "Raíces del polinomio característico: [-1.01011623+0.j         -0.88130876+0.50660928j -0.88130876-0.50660928j\n",
      " -0.50294212+0.89112287j -0.50294212-0.89112287j  0.02723743+1.0153284j\n",
      "  0.02723743-1.0153284j   0.52639799+0.84360801j  0.52639799-0.84360801j\n",
      "  0.85342186+0.46669384j  0.85342186-0.46669384j  0.96450343+0.j        ]\n",
      "\n",
      "Módulo de las raíces: [1.01011623 1.01654222 1.01654222 1.02325498 1.02325498 1.01569368\n",
      " 1.01569368 0.99436881 0.99436881 0.97269318 0.97269318 0.96450343]\n",
      "\n",
      "¿Las raíces están fuera del círculo unitario?  False\n",
      "\n",
      "El modelo no es estacionario\n"
     ]
    }
   ],
   "source": [
    "estacionario(modelo)"
   ]
  },
  {
   "cell_type": "markdown",
   "metadata": {},
   "source": [
    "## **8° Modelo con mejor AIC**"
   ]
  },
  {
   "cell_type": "code",
   "execution_count": 24,
   "metadata": {
    "tags": []
   },
   "outputs": [
    {
     "data": {
      "text/html": [
       "<table class=\"simpletable\">\n",
       "<caption>SARIMAX Results</caption>\n",
       "<tr>\n",
       "  <th>Dep. Variable:</th>                   <td>y</td>                <th>  No. Observations:  </th>    <td>660</td>   \n",
       "</tr>\n",
       "<tr>\n",
       "  <th>Model:</th>           <td>SARIMAX(3, 0, 0)x(2, 0, [1], 12)</td> <th>  Log Likelihood     </th> <td>-1999.513</td>\n",
       "</tr>\n",
       "<tr>\n",
       "  <th>Date:</th>                    <td>Fri, 25 Apr 2025</td>         <th>  AIC                </th> <td>4013.025</td> \n",
       "</tr>\n",
       "<tr>\n",
       "  <th>Time:</th>                        <td>17:46:02</td>             <th>  BIC                </th> <td>4044.471</td> \n",
       "</tr>\n",
       "<tr>\n",
       "  <th>Sample:</th>                          <td>0</td>                <th>  HQIC               </th> <td>4025.214</td> \n",
       "</tr>\n",
       "<tr>\n",
       "  <th></th>                              <td> - 660</td>              <th>                     </th>     <td> </td>    \n",
       "</tr>\n",
       "<tr>\n",
       "  <th>Covariance Type:</th>                <td>opg</td>               <th>                     </th>     <td> </td>    \n",
       "</tr>\n",
       "</table>\n",
       "<table class=\"simpletable\">\n",
       "<tr>\n",
       "      <td></td>        <th>coef</th>     <th>std err</th>      <th>z</th>      <th>P>|z|</th>  <th>[0.025</th>    <th>0.975]</th>  \n",
       "</tr>\n",
       "<tr>\n",
       "  <th>ar.L1</th>    <td>    0.3020</td> <td>    0.035</td> <td>    8.587</td> <td> 0.000</td> <td>    0.233</td> <td>    0.371</td>\n",
       "</tr>\n",
       "<tr>\n",
       "  <th>ar.L2</th>    <td>    0.1331</td> <td>    0.041</td> <td>    3.251</td> <td> 0.001</td> <td>    0.053</td> <td>    0.213</td>\n",
       "</tr>\n",
       "<tr>\n",
       "  <th>ar.L3</th>    <td>   -0.0582</td> <td>    0.039</td> <td>   -1.478</td> <td> 0.139</td> <td>   -0.135</td> <td>    0.019</td>\n",
       "</tr>\n",
       "<tr>\n",
       "  <th>ar.S.L12</th> <td>    0.9909</td> <td>    0.059</td> <td>   16.808</td> <td> 0.000</td> <td>    0.875</td> <td>    1.106</td>\n",
       "</tr>\n",
       "<tr>\n",
       "  <th>ar.S.L24</th> <td>   -0.0078</td> <td>    0.056</td> <td>   -0.141</td> <td> 0.888</td> <td>   -0.117</td> <td>    0.101</td>\n",
       "</tr>\n",
       "<tr>\n",
       "  <th>ma.S.L12</th> <td>   -0.6721</td> <td>    0.054</td> <td>  -12.529</td> <td> 0.000</td> <td>   -0.777</td> <td>   -0.567</td>\n",
       "</tr>\n",
       "<tr>\n",
       "  <th>sigma2</th>   <td>   24.2328</td> <td>    1.263</td> <td>   19.180</td> <td> 0.000</td> <td>   21.757</td> <td>   26.709</td>\n",
       "</tr>\n",
       "</table>\n",
       "<table class=\"simpletable\">\n",
       "<tr>\n",
       "  <th>Ljung-Box (L1) (Q):</th>     <td>0.14</td> <th>  Jarque-Bera (JB):  </th> <td>14.36</td>\n",
       "</tr>\n",
       "<tr>\n",
       "  <th>Prob(Q):</th>                <td>0.70</td> <th>  Prob(JB):          </th> <td>0.00</td> \n",
       "</tr>\n",
       "<tr>\n",
       "  <th>Heteroskedasticity (H):</th> <td>0.81</td> <th>  Skew:              </th> <td>-0.27</td>\n",
       "</tr>\n",
       "<tr>\n",
       "  <th>Prob(H) (two-sided):</th>    <td>0.13</td> <th>  Kurtosis:          </th> <td>3.47</td> \n",
       "</tr>\n",
       "</table><br/><br/>Warnings:<br/>[1] Covariance matrix calculated using the outer product of gradients (complex-step)."
      ],
      "text/latex": [
       "\\begin{center}\n",
       "\\begin{tabular}{lclc}\n",
       "\\toprule\n",
       "\\textbf{Dep. Variable:}          &                y                 & \\textbf{  No. Observations:  } &    660      \\\\\n",
       "\\textbf{Model:}                  & SARIMAX(3, 0, 0)x(2, 0, [1], 12) & \\textbf{  Log Likelihood     } & -1999.513   \\\\\n",
       "\\textbf{Date:}                   &         Fri, 25 Apr 2025         & \\textbf{  AIC                } &  4013.025   \\\\\n",
       "\\textbf{Time:}                   &             17:46:02             & \\textbf{  BIC                } &  4044.471   \\\\\n",
       "\\textbf{Sample:}                 &                0                 & \\textbf{  HQIC               } &  4025.214   \\\\\n",
       "\\textbf{}                        &               - 660              & \\textbf{                     } &             \\\\\n",
       "\\textbf{Covariance Type:}        &               opg                & \\textbf{                     } &             \\\\\n",
       "\\bottomrule\n",
       "\\end{tabular}\n",
       "\\begin{tabular}{lcccccc}\n",
       "                  & \\textbf{coef} & \\textbf{std err} & \\textbf{z} & \\textbf{P$> |$z$|$} & \\textbf{[0.025} & \\textbf{0.975]}  \\\\\n",
       "\\midrule\n",
       "\\textbf{ar.L1}    &       0.3020  &        0.035     &     8.587  &         0.000        &        0.233    &        0.371     \\\\\n",
       "\\textbf{ar.L2}    &       0.1331  &        0.041     &     3.251  &         0.001        &        0.053    &        0.213     \\\\\n",
       "\\textbf{ar.L3}    &      -0.0582  &        0.039     &    -1.478  &         0.139        &       -0.135    &        0.019     \\\\\n",
       "\\textbf{ar.S.L12} &       0.9909  &        0.059     &    16.808  &         0.000        &        0.875    &        1.106     \\\\\n",
       "\\textbf{ar.S.L24} &      -0.0078  &        0.056     &    -0.141  &         0.888        &       -0.117    &        0.101     \\\\\n",
       "\\textbf{ma.S.L12} &      -0.6721  &        0.054     &   -12.529  &         0.000        &       -0.777    &       -0.567     \\\\\n",
       "\\textbf{sigma2}   &      24.2328  &        1.263     &    19.180  &         0.000        &       21.757    &       26.709     \\\\\n",
       "\\bottomrule\n",
       "\\end{tabular}\n",
       "\\begin{tabular}{lclc}\n",
       "\\textbf{Ljung-Box (L1) (Q):}     & 0.14 & \\textbf{  Jarque-Bera (JB):  } & 14.36  \\\\\n",
       "\\textbf{Prob(Q):}                & 0.70 & \\textbf{  Prob(JB):          } &  0.00  \\\\\n",
       "\\textbf{Heteroskedasticity (H):} & 0.81 & \\textbf{  Skew:              } & -0.27  \\\\\n",
       "\\textbf{Prob(H) (two-sided):}    & 0.13 & \\textbf{  Kurtosis:          } &  3.47  \\\\\n",
       "\\bottomrule\n",
       "\\end{tabular}\n",
       "%\\caption{SARIMAX Results}\n",
       "\\end{center}\n",
       "\n",
       "Warnings: \\newline\n",
       " [1] Covariance matrix calculated using the outer product of gradients (complex-step)."
      ],
      "text/plain": [
       "<class 'statsmodels.iolib.summary.Summary'>\n",
       "\"\"\"\n",
       "                                      SARIMAX Results                                       \n",
       "============================================================================================\n",
       "Dep. Variable:                                    y   No. Observations:                  660\n",
       "Model:             SARIMAX(3, 0, 0)x(2, 0, [1], 12)   Log Likelihood               -1999.513\n",
       "Date:                              Fri, 25 Apr 2025   AIC                           4013.025\n",
       "Time:                                      17:46:02   BIC                           4044.471\n",
       "Sample:                                           0   HQIC                          4025.214\n",
       "                                              - 660                                         \n",
       "Covariance Type:                                opg                                         \n",
       "==============================================================================\n",
       "                 coef    std err          z      P>|z|      [0.025      0.975]\n",
       "------------------------------------------------------------------------------\n",
       "ar.L1          0.3020      0.035      8.587      0.000       0.233       0.371\n",
       "ar.L2          0.1331      0.041      3.251      0.001       0.053       0.213\n",
       "ar.L3         -0.0582      0.039     -1.478      0.139      -0.135       0.019\n",
       "ar.S.L12       0.9909      0.059     16.808      0.000       0.875       1.106\n",
       "ar.S.L24      -0.0078      0.056     -0.141      0.888      -0.117       0.101\n",
       "ma.S.L12      -0.6721      0.054    -12.529      0.000      -0.777      -0.567\n",
       "sigma2        24.2328      1.263     19.180      0.000      21.757      26.709\n",
       "===================================================================================\n",
       "Ljung-Box (L1) (Q):                   0.14   Jarque-Bera (JB):                14.36\n",
       "Prob(Q):                              0.70   Prob(JB):                         0.00\n",
       "Heteroskedasticity (H):               0.81   Skew:                            -0.27\n",
       "Prob(H) (two-sided):                  0.13   Kurtosis:                         3.47\n",
       "===================================================================================\n",
       "\n",
       "Warnings:\n",
       "[1] Covariance matrix calculated using the outer product of gradients (complex-step).\n",
       "\"\"\""
      ]
     },
     "execution_count": 24,
     "metadata": {},
     "output_type": "execute_result"
    }
   ],
   "source": [
    "modelo=SARIMAX(ypre,\n",
    "               order=(3,0,0),\n",
    "               seasonal_order=(2,0,1,12)).fit()\n",
    "\n",
    "modelo.summary()"
   ]
  },
  {
   "cell_type": "code",
   "execution_count": 25,
   "metadata": {
    "tags": []
   },
   "outputs": [
    {
     "name": "stdout",
     "output_type": "stream",
     "text": [
      "Hay coeficientes no significativos, no se cumple el principio de parsimonia\n"
     ]
    }
   ],
   "source": [
    "parsimonia(modelo)"
   ]
  },
  {
   "cell_type": "code",
   "execution_count": 26,
   "metadata": {},
   "outputs": [
    {
     "name": "stdout",
     "output_type": "stream",
     "text": [
      "El polinomio de la parte autoregresiva es: {'p1': -0.30197548060077517, 'p2': -0.13309444995844166, 'p3': 0.05817276879133878, 'p12': -0.9909075822101404, 'p24': 0.007839834249408331}\n",
      "\n",
      "Raíces del polinomio característico: [-1.49576522e+00+0.j         -1.29500440e+00+0.74793942j\n",
      " -1.29500440e+00-0.74793942j -7.47689176e-01+1.29476015j\n",
      " -7.47689176e-01-1.29476015j -6.63264687e-04+1.4954238j\n",
      " -6.63264687e-04-1.4954238j  -1.01020208e+00+0.j\n",
      " -8.81437950e-01+0.50666882j -8.81437950e-01-0.50666882j\n",
      " -5.02941249e-01+0.89135517j -5.02941249e-01-0.89135517j\n",
      "  7.47432528e-01+1.29590685j  7.47432528e-01-1.29590685j\n",
      "  2.75060236e-02+1.01539451j  2.75060236e-02-1.01539451j\n",
      "  1.29566401e+00+0.74838817j  1.29566401e+00-0.74838817j\n",
      "  1.49628582e+00+0.j          5.26532856e-01+0.84338346j\n",
      "  5.26532856e-01-0.84338346j  8.53297752e-01+0.46650108j\n",
      "  8.53297752e-01-0.46650108j  9.64287212e-01+0.j        ]\n",
      "\n",
      "Módulo de las raíces: [1.49576522 1.49547643 1.49547643 1.49513977 1.49513977 1.49542395\n",
      " 1.49542395 1.01020208 1.0166839  1.0166839  1.02345686 1.02345686\n",
      " 1.49600466 1.49600466 1.015767   1.015767   1.49627206 1.49627206\n",
      " 1.49628582 0.99424973 0.99424973 0.97249181 0.97249181 0.96428721]\n",
      "\n",
      "¿Las raíces están fuera del círculo unitario?  False\n",
      "\n",
      "El modelo no es estacionario\n"
     ]
    }
   ],
   "source": [
    "estacionario(modelo)"
   ]
  },
  {
   "cell_type": "markdown",
   "metadata": {},
   "source": [
    "## **9° Modelo con mejor AIC**"
   ]
  },
  {
   "cell_type": "code",
   "execution_count": 27,
   "metadata": {
    "tags": []
   },
   "outputs": [
    {
     "data": {
      "text/html": [
       "<table class=\"simpletable\">\n",
       "<caption>SARIMAX Results</caption>\n",
       "<tr>\n",
       "  <th>Dep. Variable:</th>                   <td>y</td>                <th>  No. Observations:  </th>    <td>660</td>   \n",
       "</tr>\n",
       "<tr>\n",
       "  <th>Model:</th>           <td>SARIMAX(2, 0, 0)x(1, 0, [1], 12)</td> <th>  Log Likelihood     </th> <td>-2000.532</td>\n",
       "</tr>\n",
       "<tr>\n",
       "  <th>Date:</th>                    <td>Fri, 25 Apr 2025</td>         <th>  AIC                </th> <td>4011.064</td> \n",
       "</tr>\n",
       "<tr>\n",
       "  <th>Time:</th>                        <td>17:46:02</td>             <th>  BIC                </th> <td>4033.526</td> \n",
       "</tr>\n",
       "<tr>\n",
       "  <th>Sample:</th>                          <td>0</td>                <th>  HQIC               </th> <td>4019.770</td> \n",
       "</tr>\n",
       "<tr>\n",
       "  <th></th>                              <td> - 660</td>              <th>                     </th>     <td> </td>    \n",
       "</tr>\n",
       "<tr>\n",
       "  <th>Covariance Type:</th>                <td>opg</td>               <th>                     </th>     <td> </td>    \n",
       "</tr>\n",
       "</table>\n",
       "<table class=\"simpletable\">\n",
       "<tr>\n",
       "      <td></td>        <th>coef</th>     <th>std err</th>      <th>z</th>      <th>P>|z|</th>  <th>[0.025</th>    <th>0.975]</th>  \n",
       "</tr>\n",
       "<tr>\n",
       "  <th>ar.L1</th>    <td>    0.2948</td> <td>    0.035</td> <td>    8.406</td> <td> 0.000</td> <td>    0.226</td> <td>    0.364</td>\n",
       "</tr>\n",
       "<tr>\n",
       "  <th>ar.L2</th>    <td>    0.1193</td> <td>    0.038</td> <td>    3.114</td> <td> 0.002</td> <td>    0.044</td> <td>    0.194</td>\n",
       "</tr>\n",
       "<tr>\n",
       "  <th>ar.S.L12</th> <td>    0.9803</td> <td>    0.008</td> <td>  121.954</td> <td> 0.000</td> <td>    0.965</td> <td>    0.996</td>\n",
       "</tr>\n",
       "<tr>\n",
       "  <th>ma.S.L12</th> <td>   -0.6580</td> <td>    0.035</td> <td>  -18.652</td> <td> 0.000</td> <td>   -0.727</td> <td>   -0.589</td>\n",
       "</tr>\n",
       "<tr>\n",
       "  <th>sigma2</th>   <td>   24.3489</td> <td>    1.271</td> <td>   19.155</td> <td> 0.000</td> <td>   21.858</td> <td>   26.840</td>\n",
       "</tr>\n",
       "</table>\n",
       "<table class=\"simpletable\">\n",
       "<tr>\n",
       "  <th>Ljung-Box (L1) (Q):</th>     <td>0.01</td> <th>  Jarque-Bera (JB):  </th> <td>14.49</td>\n",
       "</tr>\n",
       "<tr>\n",
       "  <th>Prob(Q):</th>                <td>0.94</td> <th>  Prob(JB):          </th> <td>0.00</td> \n",
       "</tr>\n",
       "<tr>\n",
       "  <th>Heteroskedasticity (H):</th> <td>0.81</td> <th>  Skew:              </th> <td>-0.27</td>\n",
       "</tr>\n",
       "<tr>\n",
       "  <th>Prob(H) (two-sided):</th>    <td>0.13</td> <th>  Kurtosis:          </th> <td>3.48</td> \n",
       "</tr>\n",
       "</table><br/><br/>Warnings:<br/>[1] Covariance matrix calculated using the outer product of gradients (complex-step)."
      ],
      "text/latex": [
       "\\begin{center}\n",
       "\\begin{tabular}{lclc}\n",
       "\\toprule\n",
       "\\textbf{Dep. Variable:}          &                y                 & \\textbf{  No. Observations:  } &    660      \\\\\n",
       "\\textbf{Model:}                  & SARIMAX(2, 0, 0)x(1, 0, [1], 12) & \\textbf{  Log Likelihood     } & -2000.532   \\\\\n",
       "\\textbf{Date:}                   &         Fri, 25 Apr 2025         & \\textbf{  AIC                } &  4011.064   \\\\\n",
       "\\textbf{Time:}                   &             17:46:02             & \\textbf{  BIC                } &  4033.526   \\\\\n",
       "\\textbf{Sample:}                 &                0                 & \\textbf{  HQIC               } &  4019.770   \\\\\n",
       "\\textbf{}                        &               - 660              & \\textbf{                     } &             \\\\\n",
       "\\textbf{Covariance Type:}        &               opg                & \\textbf{                     } &             \\\\\n",
       "\\bottomrule\n",
       "\\end{tabular}\n",
       "\\begin{tabular}{lcccccc}\n",
       "                  & \\textbf{coef} & \\textbf{std err} & \\textbf{z} & \\textbf{P$> |$z$|$} & \\textbf{[0.025} & \\textbf{0.975]}  \\\\\n",
       "\\midrule\n",
       "\\textbf{ar.L1}    &       0.2948  &        0.035     &     8.406  &         0.000        &        0.226    &        0.364     \\\\\n",
       "\\textbf{ar.L2}    &       0.1193  &        0.038     &     3.114  &         0.002        &        0.044    &        0.194     \\\\\n",
       "\\textbf{ar.S.L12} &       0.9803  &        0.008     &   121.954  &         0.000        &        0.965    &        0.996     \\\\\n",
       "\\textbf{ma.S.L12} &      -0.6580  &        0.035     &   -18.652  &         0.000        &       -0.727    &       -0.589     \\\\\n",
       "\\textbf{sigma2}   &      24.3489  &        1.271     &    19.155  &         0.000        &       21.858    &       26.840     \\\\\n",
       "\\bottomrule\n",
       "\\end{tabular}\n",
       "\\begin{tabular}{lclc}\n",
       "\\textbf{Ljung-Box (L1) (Q):}     & 0.01 & \\textbf{  Jarque-Bera (JB):  } & 14.49  \\\\\n",
       "\\textbf{Prob(Q):}                & 0.94 & \\textbf{  Prob(JB):          } &  0.00  \\\\\n",
       "\\textbf{Heteroskedasticity (H):} & 0.81 & \\textbf{  Skew:              } & -0.27  \\\\\n",
       "\\textbf{Prob(H) (two-sided):}    & 0.13 & \\textbf{  Kurtosis:          } &  3.48  \\\\\n",
       "\\bottomrule\n",
       "\\end{tabular}\n",
       "%\\caption{SARIMAX Results}\n",
       "\\end{center}\n",
       "\n",
       "Warnings: \\newline\n",
       " [1] Covariance matrix calculated using the outer product of gradients (complex-step)."
      ],
      "text/plain": [
       "<class 'statsmodels.iolib.summary.Summary'>\n",
       "\"\"\"\n",
       "                                      SARIMAX Results                                       \n",
       "============================================================================================\n",
       "Dep. Variable:                                    y   No. Observations:                  660\n",
       "Model:             SARIMAX(2, 0, 0)x(1, 0, [1], 12)   Log Likelihood               -2000.532\n",
       "Date:                              Fri, 25 Apr 2025   AIC                           4011.064\n",
       "Time:                                      17:46:02   BIC                           4033.526\n",
       "Sample:                                           0   HQIC                          4019.770\n",
       "                                              - 660                                         \n",
       "Covariance Type:                                opg                                         \n",
       "==============================================================================\n",
       "                 coef    std err          z      P>|z|      [0.025      0.975]\n",
       "------------------------------------------------------------------------------\n",
       "ar.L1          0.2948      0.035      8.406      0.000       0.226       0.364\n",
       "ar.L2          0.1193      0.038      3.114      0.002       0.044       0.194\n",
       "ar.S.L12       0.9803      0.008    121.954      0.000       0.965       0.996\n",
       "ma.S.L12      -0.6580      0.035    -18.652      0.000      -0.727      -0.589\n",
       "sigma2        24.3489      1.271     19.155      0.000      21.858      26.840\n",
       "===================================================================================\n",
       "Ljung-Box (L1) (Q):                   0.01   Jarque-Bera (JB):                14.49\n",
       "Prob(Q):                              0.94   Prob(JB):                         0.00\n",
       "Heteroskedasticity (H):               0.81   Skew:                            -0.27\n",
       "Prob(H) (two-sided):                  0.13   Kurtosis:                         3.48\n",
       "===================================================================================\n",
       "\n",
       "Warnings:\n",
       "[1] Covariance matrix calculated using the outer product of gradients (complex-step).\n",
       "\"\"\""
      ]
     },
     "execution_count": 27,
     "metadata": {},
     "output_type": "execute_result"
    }
   ],
   "source": [
    "modelo=SARIMAX(ypre,\n",
    "               order=(2,0,0),\n",
    "               seasonal_order=(1,0,1,12)).fit()\n",
    "\n",
    "modelo.summary()"
   ]
  },
  {
   "cell_type": "code",
   "execution_count": 28,
   "metadata": {
    "tags": []
   },
   "outputs": [
    {
     "name": "stdout",
     "output_type": "stream",
     "text": [
      "El modelo cumple el principio de parsimonia\n",
      "\n",
      ":)\n"
     ]
    }
   ],
   "source": [
    "parsimonia(modelo)"
   ]
  },
  {
   "cell_type": "code",
   "execution_count": 29,
   "metadata": {},
   "outputs": [
    {
     "name": "stdout",
     "output_type": "stream",
     "text": [
      "El polinomio de la parte autoregresiva es: {'p1': -0.29481907512258765, 'p2': -0.11927638675421809, 'p12': -0.9802916854728666}\n",
      "\n",
      "Raíces del polinomio característico: [-1.01531136+0.j         -0.87913772+0.5111211j  -0.87913772-0.5111211j\n",
      " -0.49981852+0.88742428j -0.49981852-0.88742428j  0.02249023+1.01362844j\n",
      "  0.02249023-1.01362844j  0.52640751+0.84879406j  0.52640751-0.84879406j\n",
      "  0.85731657+0.46436595j  0.85731657-0.46436595j  0.96079521+0.j        ]\n",
      "\n",
      "Módulo de las raíces: [1.01531136 1.0169208  1.0169208  1.0184991  1.0184991  1.01387792\n",
      " 1.01387792 0.99877736 0.99877736 0.97500125 0.97500125 0.96079521]\n",
      "\n",
      "¿Las raíces están fuera del círculo unitario?  False\n",
      "\n",
      "El modelo no es estacionario\n"
     ]
    }
   ],
   "source": [
    "estacionario(modelo)"
   ]
  },
  {
   "cell_type": "markdown",
   "metadata": {},
   "source": [
    "## **10° Modelo con mejor AIC**"
   ]
  },
  {
   "cell_type": "code",
   "execution_count": 30,
   "metadata": {
    "tags": []
   },
   "outputs": [
    {
     "data": {
      "text/html": [
       "<table class=\"simpletable\">\n",
       "<caption>SARIMAX Results</caption>\n",
       "<tr>\n",
       "  <th>Dep. Variable:</th>                    <td>y</td>                  <th>  No. Observations:  </th>    <td>660</td>   \n",
       "</tr>\n",
       "<tr>\n",
       "  <th>Model:</th>           <td>SARIMAX(2, 0, 0)x(1, 0, [1, 2], 12)</td> <th>  Log Likelihood     </th> <td>-2000.529</td>\n",
       "</tr>\n",
       "<tr>\n",
       "  <th>Date:</th>                     <td>Fri, 25 Apr 2025</td>           <th>  AIC                </th> <td>4013.058</td> \n",
       "</tr>\n",
       "<tr>\n",
       "  <th>Time:</th>                         <td>17:46:03</td>               <th>  BIC                </th> <td>4040.011</td> \n",
       "</tr>\n",
       "<tr>\n",
       "  <th>Sample:</th>                           <td>0</td>                  <th>  HQIC               </th> <td>4023.505</td> \n",
       "</tr>\n",
       "<tr>\n",
       "  <th></th>                               <td> - 660</td>                <th>                     </th>     <td> </td>    \n",
       "</tr>\n",
       "<tr>\n",
       "  <th>Covariance Type:</th>                 <td>opg</td>                 <th>                     </th>     <td> </td>    \n",
       "</tr>\n",
       "</table>\n",
       "<table class=\"simpletable\">\n",
       "<tr>\n",
       "      <td></td>        <th>coef</th>     <th>std err</th>      <th>z</th>      <th>P>|z|</th>  <th>[0.025</th>    <th>0.975]</th>  \n",
       "</tr>\n",
       "<tr>\n",
       "  <th>ar.L1</th>    <td>    0.2950</td> <td>    0.035</td> <td>    8.371</td> <td> 0.000</td> <td>    0.226</td> <td>    0.364</td>\n",
       "</tr>\n",
       "<tr>\n",
       "  <th>ar.L2</th>    <td>    0.1191</td> <td>    0.038</td> <td>    3.095</td> <td> 0.002</td> <td>    0.044</td> <td>    0.195</td>\n",
       "</tr>\n",
       "<tr>\n",
       "  <th>ar.S.L12</th> <td>    0.9804</td> <td>    0.008</td> <td>  118.388</td> <td> 0.000</td> <td>    0.964</td> <td>    0.997</td>\n",
       "</tr>\n",
       "<tr>\n",
       "  <th>ma.S.L12</th> <td>   -0.6559</td> <td>    0.038</td> <td>  -17.084</td> <td> 0.000</td> <td>   -0.731</td> <td>   -0.581</td>\n",
       "</tr>\n",
       "<tr>\n",
       "  <th>ma.S.L24</th> <td>   -0.0034</td> <td>    0.038</td> <td>   -0.091</td> <td> 0.928</td> <td>   -0.078</td> <td>    0.071</td>\n",
       "</tr>\n",
       "<tr>\n",
       "  <th>sigma2</th>   <td>   24.3492</td> <td>    1.271</td> <td>   19.151</td> <td> 0.000</td> <td>   21.857</td> <td>   26.841</td>\n",
       "</tr>\n",
       "</table>\n",
       "<table class=\"simpletable\">\n",
       "<tr>\n",
       "  <th>Ljung-Box (L1) (Q):</th>     <td>0.01</td> <th>  Jarque-Bera (JB):  </th> <td>14.52</td>\n",
       "</tr>\n",
       "<tr>\n",
       "  <th>Prob(Q):</th>                <td>0.94</td> <th>  Prob(JB):          </th> <td>0.00</td> \n",
       "</tr>\n",
       "<tr>\n",
       "  <th>Heteroskedasticity (H):</th> <td>0.81</td> <th>  Skew:              </th> <td>-0.27</td>\n",
       "</tr>\n",
       "<tr>\n",
       "  <th>Prob(H) (two-sided):</th>    <td>0.13</td> <th>  Kurtosis:          </th> <td>3.48</td> \n",
       "</tr>\n",
       "</table><br/><br/>Warnings:<br/>[1] Covariance matrix calculated using the outer product of gradients (complex-step)."
      ],
      "text/latex": [
       "\\begin{center}\n",
       "\\begin{tabular}{lclc}\n",
       "\\toprule\n",
       "\\textbf{Dep. Variable:}          &                  y                  & \\textbf{  No. Observations:  } &    660      \\\\\n",
       "\\textbf{Model:}                  & SARIMAX(2, 0, 0)x(1, 0, [1, 2], 12) & \\textbf{  Log Likelihood     } & -2000.529   \\\\\n",
       "\\textbf{Date:}                   &           Fri, 25 Apr 2025          & \\textbf{  AIC                } &  4013.058   \\\\\n",
       "\\textbf{Time:}                   &               17:46:03              & \\textbf{  BIC                } &  4040.011   \\\\\n",
       "\\textbf{Sample:}                 &                  0                  & \\textbf{  HQIC               } &  4023.505   \\\\\n",
       "\\textbf{}                        &                 - 660               & \\textbf{                     } &             \\\\\n",
       "\\textbf{Covariance Type:}        &                 opg                 & \\textbf{                     } &             \\\\\n",
       "\\bottomrule\n",
       "\\end{tabular}\n",
       "\\begin{tabular}{lcccccc}\n",
       "                  & \\textbf{coef} & \\textbf{std err} & \\textbf{z} & \\textbf{P$> |$z$|$} & \\textbf{[0.025} & \\textbf{0.975]}  \\\\\n",
       "\\midrule\n",
       "\\textbf{ar.L1}    &       0.2950  &        0.035     &     8.371  &         0.000        &        0.226    &        0.364     \\\\\n",
       "\\textbf{ar.L2}    &       0.1191  &        0.038     &     3.095  &         0.002        &        0.044    &        0.195     \\\\\n",
       "\\textbf{ar.S.L12} &       0.9804  &        0.008     &   118.388  &         0.000        &        0.964    &        0.997     \\\\\n",
       "\\textbf{ma.S.L12} &      -0.6559  &        0.038     &   -17.084  &         0.000        &       -0.731    &       -0.581     \\\\\n",
       "\\textbf{ma.S.L24} &      -0.0034  &        0.038     &    -0.091  &         0.928        &       -0.078    &        0.071     \\\\\n",
       "\\textbf{sigma2}   &      24.3492  &        1.271     &    19.151  &         0.000        &       21.857    &       26.841     \\\\\n",
       "\\bottomrule\n",
       "\\end{tabular}\n",
       "\\begin{tabular}{lclc}\n",
       "\\textbf{Ljung-Box (L1) (Q):}     & 0.01 & \\textbf{  Jarque-Bera (JB):  } & 14.52  \\\\\n",
       "\\textbf{Prob(Q):}                & 0.94 & \\textbf{  Prob(JB):          } &  0.00  \\\\\n",
       "\\textbf{Heteroskedasticity (H):} & 0.81 & \\textbf{  Skew:              } & -0.27  \\\\\n",
       "\\textbf{Prob(H) (two-sided):}    & 0.13 & \\textbf{  Kurtosis:          } &  3.48  \\\\\n",
       "\\bottomrule\n",
       "\\end{tabular}\n",
       "%\\caption{SARIMAX Results}\n",
       "\\end{center}\n",
       "\n",
       "Warnings: \\newline\n",
       " [1] Covariance matrix calculated using the outer product of gradients (complex-step)."
      ],
      "text/plain": [
       "<class 'statsmodels.iolib.summary.Summary'>\n",
       "\"\"\"\n",
       "                                        SARIMAX Results                                        \n",
       "===============================================================================================\n",
       "Dep. Variable:                                       y   No. Observations:                  660\n",
       "Model:             SARIMAX(2, 0, 0)x(1, 0, [1, 2], 12)   Log Likelihood               -2000.529\n",
       "Date:                                 Fri, 25 Apr 2025   AIC                           4013.058\n",
       "Time:                                         17:46:03   BIC                           4040.011\n",
       "Sample:                                              0   HQIC                          4023.505\n",
       "                                                 - 660                                         \n",
       "Covariance Type:                                   opg                                         \n",
       "==============================================================================\n",
       "                 coef    std err          z      P>|z|      [0.025      0.975]\n",
       "------------------------------------------------------------------------------\n",
       "ar.L1          0.2950      0.035      8.371      0.000       0.226       0.364\n",
       "ar.L2          0.1191      0.038      3.095      0.002       0.044       0.195\n",
       "ar.S.L12       0.9804      0.008    118.388      0.000       0.964       0.997\n",
       "ma.S.L12      -0.6559      0.038    -17.084      0.000      -0.731      -0.581\n",
       "ma.S.L24      -0.0034      0.038     -0.091      0.928      -0.078       0.071\n",
       "sigma2        24.3492      1.271     19.151      0.000      21.857      26.841\n",
       "===================================================================================\n",
       "Ljung-Box (L1) (Q):                   0.01   Jarque-Bera (JB):                14.52\n",
       "Prob(Q):                              0.94   Prob(JB):                         0.00\n",
       "Heteroskedasticity (H):               0.81   Skew:                            -0.27\n",
       "Prob(H) (two-sided):                  0.13   Kurtosis:                         3.48\n",
       "===================================================================================\n",
       "\n",
       "Warnings:\n",
       "[1] Covariance matrix calculated using the outer product of gradients (complex-step).\n",
       "\"\"\""
      ]
     },
     "execution_count": 30,
     "metadata": {},
     "output_type": "execute_result"
    }
   ],
   "source": [
    "modelo=SARIMAX(ypre,\n",
    "               order=(2,0,0),\n",
    "               seasonal_order=(1,0,2,12)).fit()\n",
    "\n",
    "modelo.summary()"
   ]
  },
  {
   "cell_type": "code",
   "execution_count": 31,
   "metadata": {},
   "outputs": [
    {
     "name": "stdout",
     "output_type": "stream",
     "text": [
      "Hay coeficientes no significativos, no se cumple el principio de parsimonia\n"
     ]
    }
   ],
   "source": [
    "parsimonia(modelo)"
   ]
  },
  {
   "cell_type": "code",
   "execution_count": 32,
   "metadata": {},
   "outputs": [
    {
     "name": "stdout",
     "output_type": "stream",
     "text": [
      "El polinomio de la parte autoregresiva es: {'p1': -0.29496929549968887, 'p2': -0.11913943494390405, 'p12': -0.9804276495274172}\n",
      "\n",
      "Raíces del polinomio característico: [-1.01532078+0.j         -0.87913353+0.51113452j -0.87913353-0.51113452j\n",
      " -0.49979822+0.88742468j -0.49979822-0.88742468j  0.0225028 +1.01360844j\n",
      "  0.0225028 -1.01360844j  0.52639881+0.84877242j  0.52639881-0.84877242j\n",
      "  0.85729923+0.46435988j  0.85729923-0.46435988j  0.96078261+0.j        ]\n",
      "\n",
      "Módulo de las raíces: [1.01532078 1.01692393 1.01692393 1.01848948 1.01848948 1.01385819\n",
      " 1.01385819 0.99875438 0.99875438 0.97498311 0.97498311 0.96078261]\n",
      "\n",
      "¿Las raíces están fuera del círculo unitario?  False\n",
      "\n",
      "El modelo no es estacionario\n"
     ]
    }
   ],
   "source": [
    "estacionario(modelo)"
   ]
  },
  {
   "cell_type": "markdown",
   "metadata": {},
   "source": [
    "## **11° Modelo con mejor AIC**"
   ]
  },
  {
   "cell_type": "code",
   "execution_count": 33,
   "metadata": {
    "tags": []
   },
   "outputs": [
    {
     "data": {
      "text/html": [
       "<table class=\"simpletable\">\n",
       "<caption>SARIMAX Results</caption>\n",
       "<tr>\n",
       "  <th>Dep. Variable:</th>                   <td>y</td>                <th>  No. Observations:  </th>    <td>660</td>   \n",
       "</tr>\n",
       "<tr>\n",
       "  <th>Model:</th>           <td>SARIMAX(2, 0, 0)x(2, 0, [1], 12)</td> <th>  Log Likelihood     </th> <td>-2000.529</td>\n",
       "</tr>\n",
       "<tr>\n",
       "  <th>Date:</th>                    <td>Fri, 25 Apr 2025</td>         <th>  AIC                </th> <td>4013.059</td> \n",
       "</tr>\n",
       "<tr>\n",
       "  <th>Time:</th>                        <td>17:46:05</td>             <th>  BIC                </th> <td>4040.012</td> \n",
       "</tr>\n",
       "<tr>\n",
       "  <th>Sample:</th>                          <td>0</td>                <th>  HQIC               </th> <td>4023.506</td> \n",
       "</tr>\n",
       "<tr>\n",
       "  <th></th>                              <td> - 660</td>              <th>                     </th>     <td> </td>    \n",
       "</tr>\n",
       "<tr>\n",
       "  <th>Covariance Type:</th>                <td>opg</td>               <th>                     </th>     <td> </td>    \n",
       "</tr>\n",
       "</table>\n",
       "<table class=\"simpletable\">\n",
       "<tr>\n",
       "      <td></td>        <th>coef</th>     <th>std err</th>      <th>z</th>      <th>P>|z|</th>  <th>[0.025</th>    <th>0.975]</th>  \n",
       "</tr>\n",
       "<tr>\n",
       "  <th>ar.L1</th>    <td>    0.2950</td> <td>    0.035</td> <td>    8.371</td> <td> 0.000</td> <td>    0.226</td> <td>    0.364</td>\n",
       "</tr>\n",
       "<tr>\n",
       "  <th>ar.L2</th>    <td>    0.1191</td> <td>    0.038</td> <td>    3.096</td> <td> 0.002</td> <td>    0.044</td> <td>    0.195</td>\n",
       "</tr>\n",
       "<tr>\n",
       "  <th>ar.S.L12</th> <td>    0.9849</td> <td>    0.060</td> <td>   16.360</td> <td> 0.000</td> <td>    0.867</td> <td>    1.103</td>\n",
       "</tr>\n",
       "<tr>\n",
       "  <th>ar.S.L24</th> <td>   -0.0044</td> <td>    0.056</td> <td>   -0.079</td> <td> 0.937</td> <td>   -0.115</td> <td>    0.106</td>\n",
       "</tr>\n",
       "<tr>\n",
       "  <th>ma.S.L12</th> <td>   -0.6607</td> <td>    0.055</td> <td>  -11.996</td> <td> 0.000</td> <td>   -0.769</td> <td>   -0.553</td>\n",
       "</tr>\n",
       "<tr>\n",
       "  <th>sigma2</th>   <td>   24.3488</td> <td>    1.271</td> <td>   19.151</td> <td> 0.000</td> <td>   21.857</td> <td>   26.841</td>\n",
       "</tr>\n",
       "</table>\n",
       "<table class=\"simpletable\">\n",
       "<tr>\n",
       "  <th>Ljung-Box (L1) (Q):</th>     <td>0.01</td> <th>  Jarque-Bera (JB):  </th> <td>14.51</td>\n",
       "</tr>\n",
       "<tr>\n",
       "  <th>Prob(Q):</th>                <td>0.94</td> <th>  Prob(JB):          </th> <td>0.00</td> \n",
       "</tr>\n",
       "<tr>\n",
       "  <th>Heteroskedasticity (H):</th> <td>0.81</td> <th>  Skew:              </th> <td>-0.27</td>\n",
       "</tr>\n",
       "<tr>\n",
       "  <th>Prob(H) (two-sided):</th>    <td>0.13</td> <th>  Kurtosis:          </th> <td>3.48</td> \n",
       "</tr>\n",
       "</table><br/><br/>Warnings:<br/>[1] Covariance matrix calculated using the outer product of gradients (complex-step)."
      ],
      "text/latex": [
       "\\begin{center}\n",
       "\\begin{tabular}{lclc}\n",
       "\\toprule\n",
       "\\textbf{Dep. Variable:}          &                y                 & \\textbf{  No. Observations:  } &    660      \\\\\n",
       "\\textbf{Model:}                  & SARIMAX(2, 0, 0)x(2, 0, [1], 12) & \\textbf{  Log Likelihood     } & -2000.529   \\\\\n",
       "\\textbf{Date:}                   &         Fri, 25 Apr 2025         & \\textbf{  AIC                } &  4013.059   \\\\\n",
       "\\textbf{Time:}                   &             17:46:05             & \\textbf{  BIC                } &  4040.012   \\\\\n",
       "\\textbf{Sample:}                 &                0                 & \\textbf{  HQIC               } &  4023.506   \\\\\n",
       "\\textbf{}                        &               - 660              & \\textbf{                     } &             \\\\\n",
       "\\textbf{Covariance Type:}        &               opg                & \\textbf{                     } &             \\\\\n",
       "\\bottomrule\n",
       "\\end{tabular}\n",
       "\\begin{tabular}{lcccccc}\n",
       "                  & \\textbf{coef} & \\textbf{std err} & \\textbf{z} & \\textbf{P$> |$z$|$} & \\textbf{[0.025} & \\textbf{0.975]}  \\\\\n",
       "\\midrule\n",
       "\\textbf{ar.L1}    &       0.2950  &        0.035     &     8.371  &         0.000        &        0.226    &        0.364     \\\\\n",
       "\\textbf{ar.L2}    &       0.1191  &        0.038     &     3.096  &         0.002        &        0.044    &        0.195     \\\\\n",
       "\\textbf{ar.S.L12} &       0.9849  &        0.060     &    16.360  &         0.000        &        0.867    &        1.103     \\\\\n",
       "\\textbf{ar.S.L24} &      -0.0044  &        0.056     &    -0.079  &         0.937        &       -0.115    &        0.106     \\\\\n",
       "\\textbf{ma.S.L12} &      -0.6607  &        0.055     &   -11.996  &         0.000        &       -0.769    &       -0.553     \\\\\n",
       "\\textbf{sigma2}   &      24.3488  &        1.271     &    19.151  &         0.000        &       21.857    &       26.841     \\\\\n",
       "\\bottomrule\n",
       "\\end{tabular}\n",
       "\\begin{tabular}{lclc}\n",
       "\\textbf{Ljung-Box (L1) (Q):}     & 0.01 & \\textbf{  Jarque-Bera (JB):  } & 14.51  \\\\\n",
       "\\textbf{Prob(Q):}                & 0.94 & \\textbf{  Prob(JB):          } &  0.00  \\\\\n",
       "\\textbf{Heteroskedasticity (H):} & 0.81 & \\textbf{  Skew:              } & -0.27  \\\\\n",
       "\\textbf{Prob(H) (two-sided):}    & 0.13 & \\textbf{  Kurtosis:          } &  3.48  \\\\\n",
       "\\bottomrule\n",
       "\\end{tabular}\n",
       "%\\caption{SARIMAX Results}\n",
       "\\end{center}\n",
       "\n",
       "Warnings: \\newline\n",
       " [1] Covariance matrix calculated using the outer product of gradients (complex-step)."
      ],
      "text/plain": [
       "<class 'statsmodels.iolib.summary.Summary'>\n",
       "\"\"\"\n",
       "                                      SARIMAX Results                                       \n",
       "============================================================================================\n",
       "Dep. Variable:                                    y   No. Observations:                  660\n",
       "Model:             SARIMAX(2, 0, 0)x(2, 0, [1], 12)   Log Likelihood               -2000.529\n",
       "Date:                              Fri, 25 Apr 2025   AIC                           4013.059\n",
       "Time:                                      17:46:05   BIC                           4040.012\n",
       "Sample:                                           0   HQIC                          4023.506\n",
       "                                              - 660                                         \n",
       "Covariance Type:                                opg                                         \n",
       "==============================================================================\n",
       "                 coef    std err          z      P>|z|      [0.025      0.975]\n",
       "------------------------------------------------------------------------------\n",
       "ar.L1          0.2950      0.035      8.371      0.000       0.226       0.364\n",
       "ar.L2          0.1191      0.038      3.096      0.002       0.044       0.195\n",
       "ar.S.L12       0.9849      0.060     16.360      0.000       0.867       1.103\n",
       "ar.S.L24      -0.0044      0.056     -0.079      0.937      -0.115       0.106\n",
       "ma.S.L12      -0.6607      0.055    -11.996      0.000      -0.769      -0.553\n",
       "sigma2        24.3488      1.271     19.151      0.000      21.857      26.841\n",
       "===================================================================================\n",
       "Ljung-Box (L1) (Q):                   0.01   Jarque-Bera (JB):                14.51\n",
       "Prob(Q):                              0.94   Prob(JB):                         0.00\n",
       "Heteroskedasticity (H):               0.81   Skew:                            -0.27\n",
       "Prob(H) (two-sided):                  0.13   Kurtosis:                         3.48\n",
       "===================================================================================\n",
       "\n",
       "Warnings:\n",
       "[1] Covariance matrix calculated using the outer product of gradients (complex-step).\n",
       "\"\"\""
      ]
     },
     "execution_count": 33,
     "metadata": {},
     "output_type": "execute_result"
    }
   ],
   "source": [
    "modelo=SARIMAX(ypre,\n",
    "               order=(2,0,0),\n",
    "               seasonal_order=(2,0,1,12)).fit()\n",
    "\n",
    "modelo.summary()"
   ]
  },
  {
   "cell_type": "code",
   "execution_count": 34,
   "metadata": {},
   "outputs": [
    {
     "name": "stdout",
     "output_type": "stream",
     "text": [
      "Hay coeficientes no significativos, no se cumple el principio de parsimonia\n"
     ]
    }
   ],
   "source": [
    "parsimonia(modelo)"
   ]
  },
  {
   "cell_type": "code",
   "execution_count": 35,
   "metadata": {},
   "outputs": [
    {
     "name": "stdout",
     "output_type": "stream",
     "text": [
      "El polinomio de la parte autoregresiva es: {'p1': -0.29497307242772247, 'p2': -0.11913861448040762, 'p12': -0.9849457447588865, 'p24': 0.0044457292099251075}\n",
      "\n",
      "Raíces del polinomio característico: [-1.56769009e+00+0.j         -1.35760811e+00+0.78383113j\n",
      " -1.35760811e+00-0.78383113j -7.83859353e-01+1.35750497j\n",
      " -7.83859353e-01-1.35750497j -2.81771826e-04+1.56761593j\n",
      " -2.81771826e-04-1.56761593j  7.83579631e-01+1.35799301j\n",
      "  7.83579631e-01-1.35799301j  1.35788987e+00+0.78431564j\n",
      "  1.35788987e+00-0.78431564j  1.56824955e+00+0.j\n",
      " -1.01539236e+00+0.j         -8.79194697e-01+0.51119j\n",
      " -8.79194697e-01-0.51119j    -4.99785561e-01+0.88753123j\n",
      " -4.99785561e-01-0.88753123j  2.26273424e-02+1.01365121j\n",
      "  2.26273424e-02-1.01365121j  5.26492474e-01+0.84866196j\n",
      "  5.26492474e-01-0.84866196j  8.57233102e-01+0.46423402j\n",
      "  8.57233102e-01-0.46423402j  9.60647038e-01+0.j        ]\n",
      "\n",
      "Módulo de las raíces: [1.56769009 1.56763867 1.56763867 1.56756347 1.56756347 1.56761595\n",
      " 1.56761595 1.56784631 1.56784631 1.56812497 1.56812497 1.56824955\n",
      " 1.01539236 1.01700468 1.01700468 1.01857611 1.01857611 1.01390373\n",
      " 1.01390373 0.99870989 0.99870989 0.97486502 0.97486502 0.96064704]\n",
      "\n",
      "¿Las raíces están fuera del círculo unitario?  False\n",
      "\n",
      "El modelo no es estacionario\n"
     ]
    }
   ],
   "source": [
    "estacionario(modelo)"
   ]
  },
  {
   "cell_type": "markdown",
   "metadata": {},
   "source": [
    "## **12° Modelo con mejor AIC**"
   ]
  },
  {
   "cell_type": "code",
   "execution_count": 36,
   "metadata": {
    "tags": []
   },
   "outputs": [
    {
     "data": {
      "text/html": [
       "<table class=\"simpletable\">\n",
       "<caption>SARIMAX Results</caption>\n",
       "<tr>\n",
       "  <th>Dep. Variable:</th>                   <td>y</td>                <th>  No. Observations:  </th>    <td>660</td>   \n",
       "</tr>\n",
       "<tr>\n",
       "  <th>Model:</th>           <td>SARIMAX(1, 0, 0)x(1, 0, [1], 12)</td> <th>  Log Likelihood     </th> <td>-2004.961</td>\n",
       "</tr>\n",
       "<tr>\n",
       "  <th>Date:</th>                    <td>Fri, 25 Apr 2025</td>         <th>  AIC                </th> <td>4017.922</td> \n",
       "</tr>\n",
       "<tr>\n",
       "  <th>Time:</th>                        <td>17:46:05</td>             <th>  BIC                </th> <td>4035.891</td> \n",
       "</tr>\n",
       "<tr>\n",
       "  <th>Sample:</th>                          <td>0</td>                <th>  HQIC               </th> <td>4024.887</td> \n",
       "</tr>\n",
       "<tr>\n",
       "  <th></th>                              <td> - 660</td>              <th>                     </th>     <td> </td>    \n",
       "</tr>\n",
       "<tr>\n",
       "  <th>Covariance Type:</th>                <td>opg</td>               <th>                     </th>     <td> </td>    \n",
       "</tr>\n",
       "</table>\n",
       "<table class=\"simpletable\">\n",
       "<tr>\n",
       "      <td></td>        <th>coef</th>     <th>std err</th>      <th>z</th>      <th>P>|z|</th>  <th>[0.025</th>    <th>0.975]</th>  \n",
       "</tr>\n",
       "<tr>\n",
       "  <th>ar.L1</th>    <td>    0.3277</td> <td>    0.033</td> <td>    9.894</td> <td> 0.000</td> <td>    0.263</td> <td>    0.393</td>\n",
       "</tr>\n",
       "<tr>\n",
       "  <th>ar.S.L12</th> <td>    0.9844</td> <td>    0.007</td> <td>  146.596</td> <td> 0.000</td> <td>    0.971</td> <td>    0.998</td>\n",
       "</tr>\n",
       "<tr>\n",
       "  <th>ma.S.L12</th> <td>   -0.6662</td> <td>    0.035</td> <td>  -19.224</td> <td> 0.000</td> <td>   -0.734</td> <td>   -0.598</td>\n",
       "</tr>\n",
       "<tr>\n",
       "  <th>sigma2</th>   <td>   24.5922</td> <td>    1.273</td> <td>   19.314</td> <td> 0.000</td> <td>   22.097</td> <td>   27.088</td>\n",
       "</tr>\n",
       "</table>\n",
       "<table class=\"simpletable\">\n",
       "<tr>\n",
       "  <th>Ljung-Box (L1) (Q):</th>     <td>1.33</td> <th>  Jarque-Bera (JB):  </th> <td>17.14</td>\n",
       "</tr>\n",
       "<tr>\n",
       "  <th>Prob(Q):</th>                <td>0.25</td> <th>  Prob(JB):          </th> <td>0.00</td> \n",
       "</tr>\n",
       "<tr>\n",
       "  <th>Heteroskedasticity (H):</th> <td>0.82</td> <th>  Skew:              </th> <td>-0.29</td>\n",
       "</tr>\n",
       "<tr>\n",
       "  <th>Prob(H) (two-sided):</th>    <td>0.14</td> <th>  Kurtosis:          </th> <td>3.53</td> \n",
       "</tr>\n",
       "</table><br/><br/>Warnings:<br/>[1] Covariance matrix calculated using the outer product of gradients (complex-step)."
      ],
      "text/latex": [
       "\\begin{center}\n",
       "\\begin{tabular}{lclc}\n",
       "\\toprule\n",
       "\\textbf{Dep. Variable:}          &                y                 & \\textbf{  No. Observations:  } &    660      \\\\\n",
       "\\textbf{Model:}                  & SARIMAX(1, 0, 0)x(1, 0, [1], 12) & \\textbf{  Log Likelihood     } & -2004.961   \\\\\n",
       "\\textbf{Date:}                   &         Fri, 25 Apr 2025         & \\textbf{  AIC                } &  4017.922   \\\\\n",
       "\\textbf{Time:}                   &             17:46:05             & \\textbf{  BIC                } &  4035.891   \\\\\n",
       "\\textbf{Sample:}                 &                0                 & \\textbf{  HQIC               } &  4024.887   \\\\\n",
       "\\textbf{}                        &               - 660              & \\textbf{                     } &             \\\\\n",
       "\\textbf{Covariance Type:}        &               opg                & \\textbf{                     } &             \\\\\n",
       "\\bottomrule\n",
       "\\end{tabular}\n",
       "\\begin{tabular}{lcccccc}\n",
       "                  & \\textbf{coef} & \\textbf{std err} & \\textbf{z} & \\textbf{P$> |$z$|$} & \\textbf{[0.025} & \\textbf{0.975]}  \\\\\n",
       "\\midrule\n",
       "\\textbf{ar.L1}    &       0.3277  &        0.033     &     9.894  &         0.000        &        0.263    &        0.393     \\\\\n",
       "\\textbf{ar.S.L12} &       0.9844  &        0.007     &   146.596  &         0.000        &        0.971    &        0.998     \\\\\n",
       "\\textbf{ma.S.L12} &      -0.6662  &        0.035     &   -19.224  &         0.000        &       -0.734    &       -0.598     \\\\\n",
       "\\textbf{sigma2}   &      24.5922  &        1.273     &    19.314  &         0.000        &       22.097    &       27.088     \\\\\n",
       "\\bottomrule\n",
       "\\end{tabular}\n",
       "\\begin{tabular}{lclc}\n",
       "\\textbf{Ljung-Box (L1) (Q):}     & 1.33 & \\textbf{  Jarque-Bera (JB):  } & 17.14  \\\\\n",
       "\\textbf{Prob(Q):}                & 0.25 & \\textbf{  Prob(JB):          } &  0.00  \\\\\n",
       "\\textbf{Heteroskedasticity (H):} & 0.82 & \\textbf{  Skew:              } & -0.29  \\\\\n",
       "\\textbf{Prob(H) (two-sided):}    & 0.14 & \\textbf{  Kurtosis:          } &  3.53  \\\\\n",
       "\\bottomrule\n",
       "\\end{tabular}\n",
       "%\\caption{SARIMAX Results}\n",
       "\\end{center}\n",
       "\n",
       "Warnings: \\newline\n",
       " [1] Covariance matrix calculated using the outer product of gradients (complex-step)."
      ],
      "text/plain": [
       "<class 'statsmodels.iolib.summary.Summary'>\n",
       "\"\"\"\n",
       "                                      SARIMAX Results                                       \n",
       "============================================================================================\n",
       "Dep. Variable:                                    y   No. Observations:                  660\n",
       "Model:             SARIMAX(1, 0, 0)x(1, 0, [1], 12)   Log Likelihood               -2004.961\n",
       "Date:                              Fri, 25 Apr 2025   AIC                           4017.922\n",
       "Time:                                      17:46:05   BIC                           4035.891\n",
       "Sample:                                           0   HQIC                          4024.887\n",
       "                                              - 660                                         \n",
       "Covariance Type:                                opg                                         \n",
       "==============================================================================\n",
       "                 coef    std err          z      P>|z|      [0.025      0.975]\n",
       "------------------------------------------------------------------------------\n",
       "ar.L1          0.3277      0.033      9.894      0.000       0.263       0.393\n",
       "ar.S.L12       0.9844      0.007    146.596      0.000       0.971       0.998\n",
       "ma.S.L12      -0.6662      0.035    -19.224      0.000      -0.734      -0.598\n",
       "sigma2        24.5922      1.273     19.314      0.000      22.097      27.088\n",
       "===================================================================================\n",
       "Ljung-Box (L1) (Q):                   1.33   Jarque-Bera (JB):                17.14\n",
       "Prob(Q):                              0.25   Prob(JB):                         0.00\n",
       "Heteroskedasticity (H):               0.82   Skew:                            -0.29\n",
       "Prob(H) (two-sided):                  0.14   Kurtosis:                         3.53\n",
       "===================================================================================\n",
       "\n",
       "Warnings:\n",
       "[1] Covariance matrix calculated using the outer product of gradients (complex-step).\n",
       "\"\"\""
      ]
     },
     "execution_count": 36,
     "metadata": {},
     "output_type": "execute_result"
    }
   ],
   "source": [
    "modelo=SARIMAX(ypre,\n",
    "               order=(1,0,0),\n",
    "               seasonal_order=(1,0,1,12)).fit()\n",
    "\n",
    "modelo.summary()"
   ]
  },
  {
   "cell_type": "code",
   "execution_count": 37,
   "metadata": {},
   "outputs": [
    {
     "name": "stdout",
     "output_type": "stream",
     "text": [
      "El modelo cumple el principio de parsimonia\n",
      "\n",
      ":)\n"
     ]
    }
   ],
   "source": [
    "parsimonia(modelo)"
   ]
  },
  {
   "cell_type": "code",
   "execution_count": 38,
   "metadata": {},
   "outputs": [
    {
     "name": "stdout",
     "output_type": "stream",
     "text": [
      "El polinomio de la parte autoregresiva es: {'p1': -0.32773058130776067, 'p12': -0.9844387560601991}\n",
      "\n",
      "Raíces del polinomio característico: [-1.0257851 +0.j         -0.88064454+0.52142404j -0.88064454-0.52142404j\n",
      " -0.49002688+0.89048j    -0.49002688-0.89048j     0.02685313+1.00458431j\n",
      "  0.02685313-1.00458431j  0.51792113+0.84399725j  0.51792113-0.84399725j\n",
      "  0.9698924 +0.j          0.8538435 +0.47305154j  0.8538435 -0.47305154j]\n",
      "\n",
      "Módulo de las raíces: [1.0257851  1.02343433 1.02343433 1.01640591 1.01640591 1.00494315\n",
      " 1.00494315 0.99023919 0.99023919 0.9698924  0.97612831 0.97612831]\n",
      "\n",
      "¿Las raíces están fuera del círculo unitario?  False\n",
      "\n",
      "El modelo no es estacionario\n"
     ]
    }
   ],
   "source": [
    "estacionario(modelo)"
   ]
  },
  {
   "cell_type": "markdown",
   "metadata": {},
   "source": [
    "## **13° Modelo con mejor AIC**"
   ]
  },
  {
   "cell_type": "code",
   "execution_count": 39,
   "metadata": {
    "tags": []
   },
   "outputs": [
    {
     "data": {
      "text/html": [
       "<table class=\"simpletable\">\n",
       "<caption>SARIMAX Results</caption>\n",
       "<tr>\n",
       "  <th>Dep. Variable:</th>                    <td>y</td>                  <th>  No. Observations:  </th>    <td>660</td>   \n",
       "</tr>\n",
       "<tr>\n",
       "  <th>Model:</th>           <td>SARIMAX(1, 0, 0)x(1, 0, [1, 2], 12)</td> <th>  Log Likelihood     </th> <td>-2004.944</td>\n",
       "</tr>\n",
       "<tr>\n",
       "  <th>Date:</th>                     <td>Fri, 25 Apr 2025</td>           <th>  AIC                </th> <td>4019.888</td> \n",
       "</tr>\n",
       "<tr>\n",
       "  <th>Time:</th>                         <td>17:46:06</td>               <th>  BIC                </th> <td>4042.349</td> \n",
       "</tr>\n",
       "<tr>\n",
       "  <th>Sample:</th>                           <td>0</td>                  <th>  HQIC               </th> <td>4028.594</td> \n",
       "</tr>\n",
       "<tr>\n",
       "  <th></th>                               <td> - 660</td>                <th>                     </th>     <td> </td>    \n",
       "</tr>\n",
       "<tr>\n",
       "  <th>Covariance Type:</th>                 <td>opg</td>                 <th>                     </th>     <td> </td>    \n",
       "</tr>\n",
       "</table>\n",
       "<table class=\"simpletable\">\n",
       "<tr>\n",
       "      <td></td>        <th>coef</th>     <th>std err</th>      <th>z</th>      <th>P>|z|</th>  <th>[0.025</th>    <th>0.975]</th>  \n",
       "</tr>\n",
       "<tr>\n",
       "  <th>ar.L1</th>    <td>    0.3281</td> <td>    0.033</td> <td>    9.881</td> <td> 0.000</td> <td>    0.263</td> <td>    0.393</td>\n",
       "</tr>\n",
       "<tr>\n",
       "  <th>ar.S.L12</th> <td>    0.9847</td> <td>    0.007</td> <td>  144.522</td> <td> 0.000</td> <td>    0.971</td> <td>    0.998</td>\n",
       "</tr>\n",
       "<tr>\n",
       "  <th>ma.S.L12</th> <td>   -0.6611</td> <td>    0.038</td> <td>  -17.291</td> <td> 0.000</td> <td>   -0.736</td> <td>   -0.586</td>\n",
       "</tr>\n",
       "<tr>\n",
       "  <th>ma.S.L24</th> <td>   -0.0081</td> <td>    0.038</td> <td>   -0.214</td> <td> 0.831</td> <td>   -0.082</td> <td>    0.066</td>\n",
       "</tr>\n",
       "<tr>\n",
       "  <th>sigma2</th>   <td>   24.5931</td> <td>    1.273</td> <td>   19.314</td> <td> 0.000</td> <td>   22.097</td> <td>   27.089</td>\n",
       "</tr>\n",
       "</table>\n",
       "<table class=\"simpletable\">\n",
       "<tr>\n",
       "  <th>Ljung-Box (L1) (Q):</th>     <td>1.33</td> <th>  Jarque-Bera (JB):  </th> <td>17.19</td>\n",
       "</tr>\n",
       "<tr>\n",
       "  <th>Prob(Q):</th>                <td>0.25</td> <th>  Prob(JB):          </th> <td>0.00</td> \n",
       "</tr>\n",
       "<tr>\n",
       "  <th>Heteroskedasticity (H):</th> <td>0.82</td> <th>  Skew:              </th> <td>-0.29</td>\n",
       "</tr>\n",
       "<tr>\n",
       "  <th>Prob(H) (two-sided):</th>    <td>0.14</td> <th>  Kurtosis:          </th> <td>3.53</td> \n",
       "</tr>\n",
       "</table><br/><br/>Warnings:<br/>[1] Covariance matrix calculated using the outer product of gradients (complex-step)."
      ],
      "text/latex": [
       "\\begin{center}\n",
       "\\begin{tabular}{lclc}\n",
       "\\toprule\n",
       "\\textbf{Dep. Variable:}          &                  y                  & \\textbf{  No. Observations:  } &    660      \\\\\n",
       "\\textbf{Model:}                  & SARIMAX(1, 0, 0)x(1, 0, [1, 2], 12) & \\textbf{  Log Likelihood     } & -2004.944   \\\\\n",
       "\\textbf{Date:}                   &           Fri, 25 Apr 2025          & \\textbf{  AIC                } &  4019.888   \\\\\n",
       "\\textbf{Time:}                   &               17:46:06              & \\textbf{  BIC                } &  4042.349   \\\\\n",
       "\\textbf{Sample:}                 &                  0                  & \\textbf{  HQIC               } &  4028.594   \\\\\n",
       "\\textbf{}                        &                 - 660               & \\textbf{                     } &             \\\\\n",
       "\\textbf{Covariance Type:}        &                 opg                 & \\textbf{                     } &             \\\\\n",
       "\\bottomrule\n",
       "\\end{tabular}\n",
       "\\begin{tabular}{lcccccc}\n",
       "                  & \\textbf{coef} & \\textbf{std err} & \\textbf{z} & \\textbf{P$> |$z$|$} & \\textbf{[0.025} & \\textbf{0.975]}  \\\\\n",
       "\\midrule\n",
       "\\textbf{ar.L1}    &       0.3281  &        0.033     &     9.881  &         0.000        &        0.263    &        0.393     \\\\\n",
       "\\textbf{ar.S.L12} &       0.9847  &        0.007     &   144.522  &         0.000        &        0.971    &        0.998     \\\\\n",
       "\\textbf{ma.S.L12} &      -0.6611  &        0.038     &   -17.291  &         0.000        &       -0.736    &       -0.586     \\\\\n",
       "\\textbf{ma.S.L24} &      -0.0081  &        0.038     &    -0.214  &         0.831        &       -0.082    &        0.066     \\\\\n",
       "\\textbf{sigma2}   &      24.5931  &        1.273     &    19.314  &         0.000        &       22.097    &       27.089     \\\\\n",
       "\\bottomrule\n",
       "\\end{tabular}\n",
       "\\begin{tabular}{lclc}\n",
       "\\textbf{Ljung-Box (L1) (Q):}     & 1.33 & \\textbf{  Jarque-Bera (JB):  } & 17.19  \\\\\n",
       "\\textbf{Prob(Q):}                & 0.25 & \\textbf{  Prob(JB):          } &  0.00  \\\\\n",
       "\\textbf{Heteroskedasticity (H):} & 0.82 & \\textbf{  Skew:              } & -0.29  \\\\\n",
       "\\textbf{Prob(H) (two-sided):}    & 0.14 & \\textbf{  Kurtosis:          } &  3.53  \\\\\n",
       "\\bottomrule\n",
       "\\end{tabular}\n",
       "%\\caption{SARIMAX Results}\n",
       "\\end{center}\n",
       "\n",
       "Warnings: \\newline\n",
       " [1] Covariance matrix calculated using the outer product of gradients (complex-step)."
      ],
      "text/plain": [
       "<class 'statsmodels.iolib.summary.Summary'>\n",
       "\"\"\"\n",
       "                                        SARIMAX Results                                        \n",
       "===============================================================================================\n",
       "Dep. Variable:                                       y   No. Observations:                  660\n",
       "Model:             SARIMAX(1, 0, 0)x(1, 0, [1, 2], 12)   Log Likelihood               -2004.944\n",
       "Date:                                 Fri, 25 Apr 2025   AIC                           4019.888\n",
       "Time:                                         17:46:06   BIC                           4042.349\n",
       "Sample:                                              0   HQIC                          4028.594\n",
       "                                                 - 660                                         \n",
       "Covariance Type:                                   opg                                         \n",
       "==============================================================================\n",
       "                 coef    std err          z      P>|z|      [0.025      0.975]\n",
       "------------------------------------------------------------------------------\n",
       "ar.L1          0.3281      0.033      9.881      0.000       0.263       0.393\n",
       "ar.S.L12       0.9847      0.007    144.522      0.000       0.971       0.998\n",
       "ma.S.L12      -0.6611      0.038    -17.291      0.000      -0.736      -0.586\n",
       "ma.S.L24      -0.0081      0.038     -0.214      0.831      -0.082       0.066\n",
       "sigma2        24.5931      1.273     19.314      0.000      22.097      27.089\n",
       "===================================================================================\n",
       "Ljung-Box (L1) (Q):                   1.33   Jarque-Bera (JB):                17.19\n",
       "Prob(Q):                              0.25   Prob(JB):                         0.00\n",
       "Heteroskedasticity (H):               0.82   Skew:                            -0.29\n",
       "Prob(H) (two-sided):                  0.14   Kurtosis:                         3.53\n",
       "===================================================================================\n",
       "\n",
       "Warnings:\n",
       "[1] Covariance matrix calculated using the outer product of gradients (complex-step).\n",
       "\"\"\""
      ]
     },
     "execution_count": 39,
     "metadata": {},
     "output_type": "execute_result"
    }
   ],
   "source": [
    "modelo=SARIMAX(ypre,\n",
    "               order=(1,0,0),\n",
    "               seasonal_order=(1,0,2,12)).fit()\n",
    "\n",
    "modelo.summary()"
   ]
  },
  {
   "cell_type": "code",
   "execution_count": 40,
   "metadata": {},
   "outputs": [
    {
     "name": "stdout",
     "output_type": "stream",
     "text": [
      "Hay coeficientes no significativos, no se cumple el principio de parsimonia\n"
     ]
    }
   ],
   "source": [
    "parsimonia(modelo)"
   ]
  },
  {
   "cell_type": "code",
   "execution_count": 41,
   "metadata": {},
   "outputs": [
    {
     "name": "stdout",
     "output_type": "stream",
     "text": [
      "El polinomio de la parte autoregresiva es: {'p1': -0.32813563731529066, 'p12': -0.984674418061925}\n",
      "\n",
      "Raíces del polinomio característico: [-1.02579135+0.j         -0.88064294+0.52143578j -0.88064294-0.52143578j\n",
      " -0.49000752+0.89048973j -0.49000752-0.89048973j  0.026884  +1.00457203j\n",
      "  0.026884  -1.00457203j  0.5179363 +0.84395369j  0.5179363 -0.84395369j\n",
      "  0.96982896+0.j          0.85381135+0.47300313j  0.85381135-0.47300313j]\n",
      "\n",
      "Módulo de las raíces: [1.02579135 1.02343894 1.02343894 1.0164051  1.0164051  1.00493169\n",
      " 1.00493169 0.99021    0.99021    0.96982896 0.97607673 0.97607673]\n",
      "\n",
      "¿Las raíces están fuera del círculo unitario?  False\n",
      "\n",
      "El modelo no es estacionario\n"
     ]
    }
   ],
   "source": [
    "estacionario(modelo)"
   ]
  },
  {
   "cell_type": "markdown",
   "metadata": {},
   "source": [
    "## **14° Modelo con mejor AIC**"
   ]
  },
  {
   "cell_type": "code",
   "execution_count": 42,
   "metadata": {
    "tags": []
   },
   "outputs": [
    {
     "data": {
      "text/html": [
       "<table class=\"simpletable\">\n",
       "<caption>SARIMAX Results</caption>\n",
       "<tr>\n",
       "  <th>Dep. Variable:</th>                   <td>y</td>                <th>  No. Observations:  </th>    <td>660</td>   \n",
       "</tr>\n",
       "<tr>\n",
       "  <th>Model:</th>           <td>SARIMAX(1, 0, 0)x(2, 0, [1], 12)</td> <th>  Log Likelihood     </th> <td>-2004.946</td>\n",
       "</tr>\n",
       "<tr>\n",
       "  <th>Date:</th>                    <td>Fri, 25 Apr 2025</td>         <th>  AIC                </th> <td>4019.893</td> \n",
       "</tr>\n",
       "<tr>\n",
       "  <th>Time:</th>                        <td>17:46:07</td>             <th>  BIC                </th> <td>4042.354</td> \n",
       "</tr>\n",
       "<tr>\n",
       "  <th>Sample:</th>                          <td>0</td>                <th>  HQIC               </th> <td>4028.599</td> \n",
       "</tr>\n",
       "<tr>\n",
       "  <th></th>                              <td> - 660</td>              <th>                     </th>     <td> </td>    \n",
       "</tr>\n",
       "<tr>\n",
       "  <th>Covariance Type:</th>                <td>opg</td>               <th>                     </th>     <td> </td>    \n",
       "</tr>\n",
       "</table>\n",
       "<table class=\"simpletable\">\n",
       "<tr>\n",
       "      <td></td>        <th>coef</th>     <th>std err</th>      <th>z</th>      <th>P>|z|</th>  <th>[0.025</th>    <th>0.975]</th>  \n",
       "</tr>\n",
       "<tr>\n",
       "  <th>ar.L1</th>    <td>    0.3281</td> <td>    0.033</td> <td>    9.879</td> <td> 0.000</td> <td>    0.263</td> <td>    0.393</td>\n",
       "</tr>\n",
       "<tr>\n",
       "  <th>ar.S.L12</th> <td>    0.9950</td> <td>    0.058</td> <td>   17.019</td> <td> 0.000</td> <td>    0.880</td> <td>    1.110</td>\n",
       "</tr>\n",
       "<tr>\n",
       "  <th>ar.S.L24</th> <td>   -0.0102</td> <td>    0.056</td> <td>   -0.183</td> <td> 0.855</td> <td>   -0.119</td> <td>    0.099</td>\n",
       "</tr>\n",
       "<tr>\n",
       "  <th>ma.S.L12</th> <td>   -0.6722</td> <td>    0.053</td> <td>  -12.649</td> <td> 0.000</td> <td>   -0.776</td> <td>   -0.568</td>\n",
       "</tr>\n",
       "<tr>\n",
       "  <th>sigma2</th>   <td>   24.5926</td> <td>    1.273</td> <td>   19.314</td> <td> 0.000</td> <td>   22.097</td> <td>   27.088</td>\n",
       "</tr>\n",
       "</table>\n",
       "<table class=\"simpletable\">\n",
       "<tr>\n",
       "  <th>Ljung-Box (L1) (Q):</th>     <td>1.33</td> <th>  Jarque-Bera (JB):  </th> <td>17.18</td>\n",
       "</tr>\n",
       "<tr>\n",
       "  <th>Prob(Q):</th>                <td>0.25</td> <th>  Prob(JB):          </th> <td>0.00</td> \n",
       "</tr>\n",
       "<tr>\n",
       "  <th>Heteroskedasticity (H):</th> <td>0.82</td> <th>  Skew:              </th> <td>-0.29</td>\n",
       "</tr>\n",
       "<tr>\n",
       "  <th>Prob(H) (two-sided):</th>    <td>0.14</td> <th>  Kurtosis:          </th> <td>3.53</td> \n",
       "</tr>\n",
       "</table><br/><br/>Warnings:<br/>[1] Covariance matrix calculated using the outer product of gradients (complex-step)."
      ],
      "text/latex": [
       "\\begin{center}\n",
       "\\begin{tabular}{lclc}\n",
       "\\toprule\n",
       "\\textbf{Dep. Variable:}          &                y                 & \\textbf{  No. Observations:  } &    660      \\\\\n",
       "\\textbf{Model:}                  & SARIMAX(1, 0, 0)x(2, 0, [1], 12) & \\textbf{  Log Likelihood     } & -2004.946   \\\\\n",
       "\\textbf{Date:}                   &         Fri, 25 Apr 2025         & \\textbf{  AIC                } &  4019.893   \\\\\n",
       "\\textbf{Time:}                   &             17:46:07             & \\textbf{  BIC                } &  4042.354   \\\\\n",
       "\\textbf{Sample:}                 &                0                 & \\textbf{  HQIC               } &  4028.599   \\\\\n",
       "\\textbf{}                        &               - 660              & \\textbf{                     } &             \\\\\n",
       "\\textbf{Covariance Type:}        &               opg                & \\textbf{                     } &             \\\\\n",
       "\\bottomrule\n",
       "\\end{tabular}\n",
       "\\begin{tabular}{lcccccc}\n",
       "                  & \\textbf{coef} & \\textbf{std err} & \\textbf{z} & \\textbf{P$> |$z$|$} & \\textbf{[0.025} & \\textbf{0.975]}  \\\\\n",
       "\\midrule\n",
       "\\textbf{ar.L1}    &       0.3281  &        0.033     &     9.879  &         0.000        &        0.263    &        0.393     \\\\\n",
       "\\textbf{ar.S.L12} &       0.9950  &        0.058     &    17.019  &         0.000        &        0.880    &        1.110     \\\\\n",
       "\\textbf{ar.S.L24} &      -0.0102  &        0.056     &    -0.183  &         0.855        &       -0.119    &        0.099     \\\\\n",
       "\\textbf{ma.S.L12} &      -0.6722  &        0.053     &   -12.649  &         0.000        &       -0.776    &       -0.568     \\\\\n",
       "\\textbf{sigma2}   &      24.5926  &        1.273     &    19.314  &         0.000        &       22.097    &       27.088     \\\\\n",
       "\\bottomrule\n",
       "\\end{tabular}\n",
       "\\begin{tabular}{lclc}\n",
       "\\textbf{Ljung-Box (L1) (Q):}     & 1.33 & \\textbf{  Jarque-Bera (JB):  } & 17.18  \\\\\n",
       "\\textbf{Prob(Q):}                & 0.25 & \\textbf{  Prob(JB):          } &  0.00  \\\\\n",
       "\\textbf{Heteroskedasticity (H):} & 0.82 & \\textbf{  Skew:              } & -0.29  \\\\\n",
       "\\textbf{Prob(H) (two-sided):}    & 0.14 & \\textbf{  Kurtosis:          } &  3.53  \\\\\n",
       "\\bottomrule\n",
       "\\end{tabular}\n",
       "%\\caption{SARIMAX Results}\n",
       "\\end{center}\n",
       "\n",
       "Warnings: \\newline\n",
       " [1] Covariance matrix calculated using the outer product of gradients (complex-step)."
      ],
      "text/plain": [
       "<class 'statsmodels.iolib.summary.Summary'>\n",
       "\"\"\"\n",
       "                                      SARIMAX Results                                       \n",
       "============================================================================================\n",
       "Dep. Variable:                                    y   No. Observations:                  660\n",
       "Model:             SARIMAX(1, 0, 0)x(2, 0, [1], 12)   Log Likelihood               -2004.946\n",
       "Date:                              Fri, 25 Apr 2025   AIC                           4019.893\n",
       "Time:                                      17:46:07   BIC                           4042.354\n",
       "Sample:                                           0   HQIC                          4028.599\n",
       "                                              - 660                                         \n",
       "Covariance Type:                                opg                                         \n",
       "==============================================================================\n",
       "                 coef    std err          z      P>|z|      [0.025      0.975]\n",
       "------------------------------------------------------------------------------\n",
       "ar.L1          0.3281      0.033      9.879      0.000       0.263       0.393\n",
       "ar.S.L12       0.9950      0.058     17.019      0.000       0.880       1.110\n",
       "ar.S.L24      -0.0102      0.056     -0.183      0.855      -0.119       0.099\n",
       "ma.S.L12      -0.6722      0.053    -12.649      0.000      -0.776      -0.568\n",
       "sigma2        24.5926      1.273     19.314      0.000      22.097      27.088\n",
       "===================================================================================\n",
       "Ljung-Box (L1) (Q):                   1.33   Jarque-Bera (JB):                17.18\n",
       "Prob(Q):                              0.25   Prob(JB):                         0.00\n",
       "Heteroskedasticity (H):               0.82   Skew:                            -0.29\n",
       "Prob(H) (two-sided):                  0.14   Kurtosis:                         3.53\n",
       "===================================================================================\n",
       "\n",
       "Warnings:\n",
       "[1] Covariance matrix calculated using the outer product of gradients (complex-step).\n",
       "\"\"\""
      ]
     },
     "execution_count": 42,
     "metadata": {},
     "output_type": "execute_result"
    }
   ],
   "source": [
    "modelo=SARIMAX(ypre,\n",
    "               order=(1,0,0),\n",
    "               seasonal_order=(2,0,1,12)).fit()\n",
    "\n",
    "modelo.summary()"
   ]
  },
  {
   "cell_type": "code",
   "execution_count": 43,
   "metadata": {},
   "outputs": [
    {
     "name": "stdout",
     "output_type": "stream",
     "text": [
      "Hay coeficientes no significativos, no se cumple el principio de parsimonia\n"
     ]
    }
   ],
   "source": [
    "parsimonia(modelo)"
   ]
  },
  {
   "cell_type": "code",
   "execution_count": 44,
   "metadata": {},
   "outputs": [
    {
     "name": "stdout",
     "output_type": "stream",
     "text": [
      "El polinomio de la parte autoregresiva es: {'p1': -0.32807748613457727, 'p12': -0.9950195922628233, 'p24': 0.010214721621611484}\n",
      "\n",
      "Raíces del polinomio característico: [-1.46268704e+00+0.j         -1.26695619e+00+0.73111313j\n",
      " -1.26695619e+00-0.73111313j -7.31973549e-01+1.26672804j\n",
      " -7.31973549e-01-1.26672804j -6.23310422e-04+1.46331928j\n",
      " -6.23310422e-04-1.46331928j  7.31350144e-01+1.26780765j\n",
      "  7.31350144e-01-1.26780765j -1.02610475e+00+0.j\n",
      " -8.80789925e-01+0.52170972j -8.80789925e-01-0.52170972j\n",
      " -4.89840376e-01+0.89074303j -4.89840376e-01-0.89074303j\n",
      "  1.26757950e+00+0.7321929j   1.26757950e+00-0.7321929j\n",
      "  1.46393385e+00+0.j          2.71745855e-02+1.00454834j\n",
      "  2.71745855e-02-1.00454834j  5.18052996e-01+0.84370345j\n",
      "  5.18052996e-01-0.84370345j  9.69575546e-01+0.j\n",
      "  8.53667321e-01+0.47278593j  8.53667321e-01-0.47278593j]\n",
      "\n",
      "Módulo de las raíces: [1.46268704 1.46277285 1.46277285 1.46300554 1.46300554 1.46331941\n",
      " 1.46331941 1.4636288  1.4636288  1.02610475 1.023705   1.023705\n",
      " 1.01654648 1.01654648 1.46385253 1.46385253 1.46393385 1.00491583\n",
      " 1.00491583 0.99005778 0.99005778 0.96957555 0.97584549 0.97584549]\n",
      "\n",
      "¿Las raíces están fuera del círculo unitario?  False\n",
      "\n",
      "El modelo no es estacionario\n"
     ]
    }
   ],
   "source": [
    "estacionario(modelo)"
   ]
  },
  {
   "cell_type": "markdown",
   "metadata": {},
   "source": [
    "## **15° Modelo con mejor AIC**"
   ]
  },
  {
   "cell_type": "code",
   "execution_count": 45,
   "metadata": {
    "tags": []
   },
   "outputs": [
    {
     "data": {
      "text/html": [
       "<table class=\"simpletable\">\n",
       "<caption>SARIMAX Results</caption>\n",
       "<tr>\n",
       "  <th>Dep. Variable:</th>                  <td>y</td>               <th>  No. Observations:  </th>    <td>660</td>   \n",
       "</tr>\n",
       "<tr>\n",
       "  <th>Model:</th>           <td>SARIMAX(4, 0, 0)x(2, 0, 0, 12)</td> <th>  Log Likelihood     </th> <td>-2030.584</td>\n",
       "</tr>\n",
       "<tr>\n",
       "  <th>Date:</th>                   <td>Fri, 25 Apr 2025</td>        <th>  AIC                </th> <td>4075.168</td> \n",
       "</tr>\n",
       "<tr>\n",
       "  <th>Time:</th>                       <td>17:46:07</td>            <th>  BIC                </th> <td>4106.613</td> \n",
       "</tr>\n",
       "<tr>\n",
       "  <th>Sample:</th>                         <td>0</td>               <th>  HQIC               </th> <td>4087.356</td> \n",
       "</tr>\n",
       "<tr>\n",
       "  <th></th>                             <td> - 660</td>             <th>                     </th>     <td> </td>    \n",
       "</tr>\n",
       "<tr>\n",
       "  <th>Covariance Type:</th>               <td>opg</td>              <th>                     </th>     <td> </td>    \n",
       "</tr>\n",
       "</table>\n",
       "<table class=\"simpletable\">\n",
       "<tr>\n",
       "      <td></td>        <th>coef</th>     <th>std err</th>      <th>z</th>      <th>P>|z|</th>  <th>[0.025</th>    <th>0.975]</th>  \n",
       "</tr>\n",
       "<tr>\n",
       "  <th>ar.L1</th>    <td>    0.2435</td> <td>    0.035</td> <td>    7.045</td> <td> 0.000</td> <td>    0.176</td> <td>    0.311</td>\n",
       "</tr>\n",
       "<tr>\n",
       "  <th>ar.L2</th>    <td>    0.1635</td> <td>    0.040</td> <td>    4.056</td> <td> 0.000</td> <td>    0.084</td> <td>    0.243</td>\n",
       "</tr>\n",
       "<tr>\n",
       "  <th>ar.L3</th>    <td>   -0.0035</td> <td>    0.041</td> <td>   -0.085</td> <td> 0.932</td> <td>   -0.083</td> <td>    0.077</td>\n",
       "</tr>\n",
       "<tr>\n",
       "  <th>ar.L4</th>    <td>   -0.0462</td> <td>    0.038</td> <td>   -1.210</td> <td> 0.226</td> <td>   -0.121</td> <td>    0.029</td>\n",
       "</tr>\n",
       "<tr>\n",
       "  <th>ar.S.L12</th> <td>    0.5002</td> <td>    0.034</td> <td>   14.800</td> <td> 0.000</td> <td>    0.434</td> <td>    0.566</td>\n",
       "</tr>\n",
       "<tr>\n",
       "  <th>ar.S.L24</th> <td>    0.3983</td> <td>    0.035</td> <td>   11.325</td> <td> 0.000</td> <td>    0.329</td> <td>    0.467</td>\n",
       "</tr>\n",
       "<tr>\n",
       "  <th>sigma2</th>   <td>   26.7779</td> <td>    1.484</td> <td>   18.045</td> <td> 0.000</td> <td>   23.869</td> <td>   29.686</td>\n",
       "</tr>\n",
       "</table>\n",
       "<table class=\"simpletable\">\n",
       "<tr>\n",
       "  <th>Ljung-Box (L1) (Q):</th>     <td>0.62</td> <th>  Jarque-Bera (JB):  </th> <td>11.73</td>\n",
       "</tr>\n",
       "<tr>\n",
       "  <th>Prob(Q):</th>                <td>0.43</td> <th>  Prob(JB):          </th> <td>0.00</td> \n",
       "</tr>\n",
       "<tr>\n",
       "  <th>Heteroskedasticity (H):</th> <td>0.80</td> <th>  Skew:              </th> <td>-0.28</td>\n",
       "</tr>\n",
       "<tr>\n",
       "  <th>Prob(H) (two-sided):</th>    <td>0.10</td> <th>  Kurtosis:          </th> <td>3.32</td> \n",
       "</tr>\n",
       "</table><br/><br/>Warnings:<br/>[1] Covariance matrix calculated using the outer product of gradients (complex-step)."
      ],
      "text/latex": [
       "\\begin{center}\n",
       "\\begin{tabular}{lclc}\n",
       "\\toprule\n",
       "\\textbf{Dep. Variable:}          &               y                & \\textbf{  No. Observations:  } &    660      \\\\\n",
       "\\textbf{Model:}                  & SARIMAX(4, 0, 0)x(2, 0, 0, 12) & \\textbf{  Log Likelihood     } & -2030.584   \\\\\n",
       "\\textbf{Date:}                   &        Fri, 25 Apr 2025        & \\textbf{  AIC                } &  4075.168   \\\\\n",
       "\\textbf{Time:}                   &            17:46:07            & \\textbf{  BIC                } &  4106.613   \\\\\n",
       "\\textbf{Sample:}                 &               0                & \\textbf{  HQIC               } &  4087.356   \\\\\n",
       "\\textbf{}                        &              - 660             & \\textbf{                     } &             \\\\\n",
       "\\textbf{Covariance Type:}        &              opg               & \\textbf{                     } &             \\\\\n",
       "\\bottomrule\n",
       "\\end{tabular}\n",
       "\\begin{tabular}{lcccccc}\n",
       "                  & \\textbf{coef} & \\textbf{std err} & \\textbf{z} & \\textbf{P$> |$z$|$} & \\textbf{[0.025} & \\textbf{0.975]}  \\\\\n",
       "\\midrule\n",
       "\\textbf{ar.L1}    &       0.2435  &        0.035     &     7.045  &         0.000        &        0.176    &        0.311     \\\\\n",
       "\\textbf{ar.L2}    &       0.1635  &        0.040     &     4.056  &         0.000        &        0.084    &        0.243     \\\\\n",
       "\\textbf{ar.L3}    &      -0.0035  &        0.041     &    -0.085  &         0.932        &       -0.083    &        0.077     \\\\\n",
       "\\textbf{ar.L4}    &      -0.0462  &        0.038     &    -1.210  &         0.226        &       -0.121    &        0.029     \\\\\n",
       "\\textbf{ar.S.L12} &       0.5002  &        0.034     &    14.800  &         0.000        &        0.434    &        0.566     \\\\\n",
       "\\textbf{ar.S.L24} &       0.3983  &        0.035     &    11.325  &         0.000        &        0.329    &        0.467     \\\\\n",
       "\\textbf{sigma2}   &      26.7779  &        1.484     &    18.045  &         0.000        &       23.869    &       29.686     \\\\\n",
       "\\bottomrule\n",
       "\\end{tabular}\n",
       "\\begin{tabular}{lclc}\n",
       "\\textbf{Ljung-Box (L1) (Q):}     & 0.62 & \\textbf{  Jarque-Bera (JB):  } & 11.73  \\\\\n",
       "\\textbf{Prob(Q):}                & 0.43 & \\textbf{  Prob(JB):          } &  0.00  \\\\\n",
       "\\textbf{Heteroskedasticity (H):} & 0.80 & \\textbf{  Skew:              } & -0.28  \\\\\n",
       "\\textbf{Prob(H) (two-sided):}    & 0.10 & \\textbf{  Kurtosis:          } &  3.32  \\\\\n",
       "\\bottomrule\n",
       "\\end{tabular}\n",
       "%\\caption{SARIMAX Results}\n",
       "\\end{center}\n",
       "\n",
       "Warnings: \\newline\n",
       " [1] Covariance matrix calculated using the outer product of gradients (complex-step)."
      ],
      "text/plain": [
       "<class 'statsmodels.iolib.summary.Summary'>\n",
       "\"\"\"\n",
       "                                     SARIMAX Results                                      \n",
       "==========================================================================================\n",
       "Dep. Variable:                                  y   No. Observations:                  660\n",
       "Model:             SARIMAX(4, 0, 0)x(2, 0, 0, 12)   Log Likelihood               -2030.584\n",
       "Date:                            Fri, 25 Apr 2025   AIC                           4075.168\n",
       "Time:                                    17:46:07   BIC                           4106.613\n",
       "Sample:                                         0   HQIC                          4087.356\n",
       "                                            - 660                                         \n",
       "Covariance Type:                              opg                                         \n",
       "==============================================================================\n",
       "                 coef    std err          z      P>|z|      [0.025      0.975]\n",
       "------------------------------------------------------------------------------\n",
       "ar.L1          0.2435      0.035      7.045      0.000       0.176       0.311\n",
       "ar.L2          0.1635      0.040      4.056      0.000       0.084       0.243\n",
       "ar.L3         -0.0035      0.041     -0.085      0.932      -0.083       0.077\n",
       "ar.L4         -0.0462      0.038     -1.210      0.226      -0.121       0.029\n",
       "ar.S.L12       0.5002      0.034     14.800      0.000       0.434       0.566\n",
       "ar.S.L24       0.3983      0.035     11.325      0.000       0.329       0.467\n",
       "sigma2        26.7779      1.484     18.045      0.000      23.869      29.686\n",
       "===================================================================================\n",
       "Ljung-Box (L1) (Q):                   0.62   Jarque-Bera (JB):                11.73\n",
       "Prob(Q):                              0.43   Prob(JB):                         0.00\n",
       "Heteroskedasticity (H):               0.80   Skew:                            -0.28\n",
       "Prob(H) (two-sided):                  0.10   Kurtosis:                         3.32\n",
       "===================================================================================\n",
       "\n",
       "Warnings:\n",
       "[1] Covariance matrix calculated using the outer product of gradients (complex-step).\n",
       "\"\"\""
      ]
     },
     "execution_count": 45,
     "metadata": {},
     "output_type": "execute_result"
    }
   ],
   "source": [
    "modelo=SARIMAX(ypre,\n",
    "               order=(4,0,0),\n",
    "               seasonal_order=(2,0,0,12)).fit()\n",
    "\n",
    "modelo.summary()"
   ]
  },
  {
   "cell_type": "code",
   "execution_count": 46,
   "metadata": {},
   "outputs": [
    {
     "name": "stdout",
     "output_type": "stream",
     "text": [
      "Hay coeficientes no significativos, no se cumple el principio de parsimonia\n"
     ]
    }
   ],
   "source": [
    "parsimonia(modelo)"
   ]
  },
  {
   "cell_type": "code",
   "execution_count": 47,
   "metadata": {},
   "outputs": [
    {
     "name": "stdout",
     "output_type": "stream",
     "text": [
      "El polinomio de la parte autoregresiva es: {'p1': -0.24347961854084113, 'p2': -0.16349945214626382, 'p3': 0.0034863256340445185, 'p4': 0.046188438252728704, 'p12': -0.5002204831539854, 'p24': -0.3983071933587162}\n",
      "\n",
      "Raíces del polinomio característico: [-1.03946406+0.27916413j -1.03946406-0.27916413j -1.01283422+0.j\n",
      " -0.87590541+0.50668635j -0.87590541-0.50668635j -0.7613588 +0.76109486j\n",
      " -0.7613588 -0.76109486j -0.50692424+0.8804771j  -0.50692424-0.8804771j\n",
      " -0.27707572+1.04399189j -0.27707572-1.04399189j  0.01183785+1.01864418j\n",
      "  0.01183785-1.01864418j  0.28896339+1.03828947j  0.28896339-1.03828947j\n",
      "  0.5233792 +0.85990545j  0.5233792 -0.85990545j  0.76315828+0.74605906j\n",
      "  0.76315828-0.74605906j  0.86347228+0.47855589j  0.86347228-0.47855589j\n",
      "  1.02578359+0.27068286j  1.02578359-0.27068286j  0.98110149+0.j        ]\n",
      "\n",
      "Módulo de las raíces: [1.07629835 1.07629835 1.01283422 1.01189987 1.01189987 1.07653732\n",
      " 1.07653732 1.0159784  1.0159784  1.08013426 1.08013426 1.01871296\n",
      " 1.01871296 1.07774991 1.07774991 1.00665941 1.00665941 1.06724631\n",
      " 1.06724631 0.98721837 0.98721837 1.0608964  1.0608964  0.98110149]\n",
      "\n",
      "¿Las raíces están fuera del círculo unitario?  False\n",
      "\n",
      "El modelo no es estacionario\n"
     ]
    }
   ],
   "source": [
    "estacionario(modelo)"
   ]
  },
  {
   "cell_type": "markdown",
   "metadata": {},
   "source": [
    "## **16° Modelo con mejor AIC**"
   ]
  },
  {
   "cell_type": "code",
   "execution_count": 48,
   "metadata": {
    "tags": []
   },
   "outputs": [
    {
     "data": {
      "text/html": [
       "<table class=\"simpletable\">\n",
       "<caption>SARIMAX Results</caption>\n",
       "<tr>\n",
       "  <th>Dep. Variable:</th>                  <td>y</td>               <th>  No. Observations:  </th>    <td>660</td>   \n",
       "</tr>\n",
       "<tr>\n",
       "  <th>Model:</th>           <td>SARIMAX(3, 0, 0)x(2, 0, 0, 12)</td> <th>  Log Likelihood     </th> <td>-2031.214</td>\n",
       "</tr>\n",
       "<tr>\n",
       "  <th>Date:</th>                   <td>Fri, 25 Apr 2025</td>        <th>  AIC                </th> <td>4074.429</td> \n",
       "</tr>\n",
       "<tr>\n",
       "  <th>Time:</th>                       <td>17:46:08</td>            <th>  BIC                </th> <td>4101.382</td> \n",
       "</tr>\n",
       "<tr>\n",
       "  <th>Sample:</th>                         <td>0</td>               <th>  HQIC               </th> <td>4084.876</td> \n",
       "</tr>\n",
       "<tr>\n",
       "  <th></th>                             <td> - 660</td>             <th>                     </th>     <td> </td>    \n",
       "</tr>\n",
       "<tr>\n",
       "  <th>Covariance Type:</th>               <td>opg</td>              <th>                     </th>     <td> </td>    \n",
       "</tr>\n",
       "</table>\n",
       "<table class=\"simpletable\">\n",
       "<tr>\n",
       "      <td></td>        <th>coef</th>     <th>std err</th>      <th>z</th>      <th>P>|z|</th>  <th>[0.025</th>    <th>0.975]</th>  \n",
       "</tr>\n",
       "<tr>\n",
       "  <th>ar.L1</th>    <td>    0.2498</td> <td>    0.035</td> <td>    7.214</td> <td> 0.000</td> <td>    0.182</td> <td>    0.318</td>\n",
       "</tr>\n",
       "<tr>\n",
       "  <th>ar.L2</th>    <td>    0.1598</td> <td>    0.040</td> <td>    3.974</td> <td> 0.000</td> <td>    0.081</td> <td>    0.239</td>\n",
       "</tr>\n",
       "<tr>\n",
       "  <th>ar.L3</th>    <td>   -0.0108</td> <td>    0.039</td> <td>   -0.276</td> <td> 0.783</td> <td>   -0.088</td> <td>    0.066</td>\n",
       "</tr>\n",
       "<tr>\n",
       "  <th>ar.S.L12</th> <td>    0.4998</td> <td>    0.034</td> <td>   14.727</td> <td> 0.000</td> <td>    0.433</td> <td>    0.566</td>\n",
       "</tr>\n",
       "<tr>\n",
       "  <th>ar.S.L24</th> <td>    0.3904</td> <td>    0.035</td> <td>   11.041</td> <td> 0.000</td> <td>    0.321</td> <td>    0.460</td>\n",
       "</tr>\n",
       "<tr>\n",
       "  <th>sigma2</th>   <td>   26.8644</td> <td>    1.500</td> <td>   17.908</td> <td> 0.000</td> <td>   23.924</td> <td>   29.805</td>\n",
       "</tr>\n",
       "</table>\n",
       "<table class=\"simpletable\">\n",
       "<tr>\n",
       "  <th>Ljung-Box (L1) (Q):</th>     <td>0.56</td> <th>  Jarque-Bera (JB):  </th> <td>11.42</td>\n",
       "</tr>\n",
       "<tr>\n",
       "  <th>Prob(Q):</th>                <td>0.46</td> <th>  Prob(JB):          </th> <td>0.00</td> \n",
       "</tr>\n",
       "<tr>\n",
       "  <th>Heteroskedasticity (H):</th> <td>0.81</td> <th>  Skew:              </th> <td>-0.28</td>\n",
       "</tr>\n",
       "<tr>\n",
       "  <th>Prob(H) (two-sided):</th>    <td>0.12</td> <th>  Kurtosis:          </th> <td>3.30</td> \n",
       "</tr>\n",
       "</table><br/><br/>Warnings:<br/>[1] Covariance matrix calculated using the outer product of gradients (complex-step)."
      ],
      "text/latex": [
       "\\begin{center}\n",
       "\\begin{tabular}{lclc}\n",
       "\\toprule\n",
       "\\textbf{Dep. Variable:}          &               y                & \\textbf{  No. Observations:  } &    660      \\\\\n",
       "\\textbf{Model:}                  & SARIMAX(3, 0, 0)x(2, 0, 0, 12) & \\textbf{  Log Likelihood     } & -2031.214   \\\\\n",
       "\\textbf{Date:}                   &        Fri, 25 Apr 2025        & \\textbf{  AIC                } &  4074.429   \\\\\n",
       "\\textbf{Time:}                   &            17:46:08            & \\textbf{  BIC                } &  4101.382   \\\\\n",
       "\\textbf{Sample:}                 &               0                & \\textbf{  HQIC               } &  4084.876   \\\\\n",
       "\\textbf{}                        &              - 660             & \\textbf{                     } &             \\\\\n",
       "\\textbf{Covariance Type:}        &              opg               & \\textbf{                     } &             \\\\\n",
       "\\bottomrule\n",
       "\\end{tabular}\n",
       "\\begin{tabular}{lcccccc}\n",
       "                  & \\textbf{coef} & \\textbf{std err} & \\textbf{z} & \\textbf{P$> |$z$|$} & \\textbf{[0.025} & \\textbf{0.975]}  \\\\\n",
       "\\midrule\n",
       "\\textbf{ar.L1}    &       0.2498  &        0.035     &     7.214  &         0.000        &        0.182    &        0.318     \\\\\n",
       "\\textbf{ar.L2}    &       0.1598  &        0.040     &     3.974  &         0.000        &        0.081    &        0.239     \\\\\n",
       "\\textbf{ar.L3}    &      -0.0108  &        0.039     &    -0.276  &         0.783        &       -0.088    &        0.066     \\\\\n",
       "\\textbf{ar.S.L12} &       0.4998  &        0.034     &    14.727  &         0.000        &        0.433    &        0.566     \\\\\n",
       "\\textbf{ar.S.L24} &       0.3904  &        0.035     &    11.041  &         0.000        &        0.321    &        0.460     \\\\\n",
       "\\textbf{sigma2}   &      26.8644  &        1.500     &    17.908  &         0.000        &       23.924    &       29.805     \\\\\n",
       "\\bottomrule\n",
       "\\end{tabular}\n",
       "\\begin{tabular}{lclc}\n",
       "\\textbf{Ljung-Box (L1) (Q):}     & 0.56 & \\textbf{  Jarque-Bera (JB):  } & 11.42  \\\\\n",
       "\\textbf{Prob(Q):}                & 0.46 & \\textbf{  Prob(JB):          } &  0.00  \\\\\n",
       "\\textbf{Heteroskedasticity (H):} & 0.81 & \\textbf{  Skew:              } & -0.28  \\\\\n",
       "\\textbf{Prob(H) (two-sided):}    & 0.12 & \\textbf{  Kurtosis:          } &  3.30  \\\\\n",
       "\\bottomrule\n",
       "\\end{tabular}\n",
       "%\\caption{SARIMAX Results}\n",
       "\\end{center}\n",
       "\n",
       "Warnings: \\newline\n",
       " [1] Covariance matrix calculated using the outer product of gradients (complex-step)."
      ],
      "text/plain": [
       "<class 'statsmodels.iolib.summary.Summary'>\n",
       "\"\"\"\n",
       "                                     SARIMAX Results                                      \n",
       "==========================================================================================\n",
       "Dep. Variable:                                  y   No. Observations:                  660\n",
       "Model:             SARIMAX(3, 0, 0)x(2, 0, 0, 12)   Log Likelihood               -2031.214\n",
       "Date:                            Fri, 25 Apr 2025   AIC                           4074.429\n",
       "Time:                                    17:46:08   BIC                           4101.382\n",
       "Sample:                                         0   HQIC                          4084.876\n",
       "                                            - 660                                         \n",
       "Covariance Type:                              opg                                         \n",
       "==============================================================================\n",
       "                 coef    std err          z      P>|z|      [0.025      0.975]\n",
       "------------------------------------------------------------------------------\n",
       "ar.L1          0.2498      0.035      7.214      0.000       0.182       0.318\n",
       "ar.L2          0.1598      0.040      3.974      0.000       0.081       0.239\n",
       "ar.L3         -0.0108      0.039     -0.276      0.783      -0.088       0.066\n",
       "ar.S.L12       0.4998      0.034     14.727      0.000       0.433       0.566\n",
       "ar.S.L24       0.3904      0.035     11.041      0.000       0.321       0.460\n",
       "sigma2        26.8644      1.500     17.908      0.000      23.924      29.805\n",
       "===================================================================================\n",
       "Ljung-Box (L1) (Q):                   0.56   Jarque-Bera (JB):                11.42\n",
       "Prob(Q):                              0.46   Prob(JB):                         0.00\n",
       "Heteroskedasticity (H):               0.81   Skew:                            -0.28\n",
       "Prob(H) (two-sided):                  0.12   Kurtosis:                         3.30\n",
       "===================================================================================\n",
       "\n",
       "Warnings:\n",
       "[1] Covariance matrix calculated using the outer product of gradients (complex-step).\n",
       "\"\"\""
      ]
     },
     "execution_count": 48,
     "metadata": {},
     "output_type": "execute_result"
    }
   ],
   "source": [
    "modelo=SARIMAX(ypre,\n",
    "               order=(3,0,0),\n",
    "               seasonal_order=(2,0,0,12)).fit()\n",
    "\n",
    "modelo.summary()"
   ]
  },
  {
   "cell_type": "code",
   "execution_count": 49,
   "metadata": {},
   "outputs": [
    {
     "name": "stdout",
     "output_type": "stream",
     "text": [
      "Hay coeficientes no significativos, no se cumple el principio de parsimonia\n"
     ]
    }
   ],
   "source": [
    "parsimonia(modelo)"
   ]
  },
  {
   "cell_type": "code",
   "execution_count": 50,
   "metadata": {},
   "outputs": [
    {
     "name": "stdout",
     "output_type": "stream",
     "text": [
      "El polinomio de la parte autoregresiva es: {'p1': -0.24982584998193216, 'p2': -0.1598361648525539, 'p3': 0.010789210087580051, 'p12': -0.4997815755633345, 'p24': -0.3904455230208252}\n",
      "\n",
      "Raíces del polinomio característico: [-1.04030259+0.27785899j -1.04030259-0.27785899j -1.01102541+0.j\n",
      " -0.87890085+0.50586838j -0.87890085-0.50586838j -0.76347047+0.7632893j\n",
      " -0.76347047-0.7632893j  -0.50600542+0.88367157j -0.50600542-0.88367157j\n",
      " -0.27559929+1.0450765j  -0.27559929-1.0450765j   0.01298239+1.01686835j\n",
      "  0.01298239-1.01686835j  0.28809044+1.03840855j  0.28809044-1.03840855j\n",
      "  0.52171575+0.86151385j  0.52171575-0.86151385j  0.76464697+0.74835674j\n",
      "  0.76464697-0.74835674j  0.8666605 +0.47792404j  0.8666605 -0.47792404j\n",
      "  1.02663686+0.26906255j  1.02663686-0.26906255j  0.9781168 +0.j        ]\n",
      "\n",
      "Módulo de las raíces: [1.07677068 1.07677068 1.01102541 1.01408556 1.01408556 1.07958219\n",
      " 1.07958219 1.01829118 1.01829118 1.08080519 1.08080519 1.01695122\n",
      " 1.01695122 1.07763093 1.07763093 1.007171   1.007171   1.0699172\n",
      " 1.0699172  0.98970289 0.98970289 1.06130952 1.06130952 0.9781168 ]\n",
      "\n",
      "¿Las raíces están fuera del círculo unitario?  False\n",
      "\n",
      "El modelo no es estacionario\n"
     ]
    }
   ],
   "source": [
    "estacionario(modelo)"
   ]
  },
  {
   "cell_type": "markdown",
   "metadata": {},
   "source": [
    "## **17° Modelo con mejor AIC**"
   ]
  },
  {
   "cell_type": "code",
   "execution_count": 51,
   "metadata": {
    "tags": []
   },
   "outputs": [
    {
     "data": {
      "text/html": [
       "<table class=\"simpletable\">\n",
       "<caption>SARIMAX Results</caption>\n",
       "<tr>\n",
       "  <th>Dep. Variable:</th>                  <td>y</td>               <th>  No. Observations:  </th>    <td>660</td>   \n",
       "</tr>\n",
       "<tr>\n",
       "  <th>Model:</th>           <td>SARIMAX(2, 0, 0)x(2, 0, 0, 12)</td> <th>  Log Likelihood     </th> <td>-2031.249</td>\n",
       "</tr>\n",
       "<tr>\n",
       "  <th>Date:</th>                   <td>Fri, 25 Apr 2025</td>        <th>  AIC                </th> <td>4072.498</td> \n",
       "</tr>\n",
       "<tr>\n",
       "  <th>Time:</th>                       <td>17:46:08</td>            <th>  BIC                </th> <td>4094.960</td> \n",
       "</tr>\n",
       "<tr>\n",
       "  <th>Sample:</th>                         <td>0</td>               <th>  HQIC               </th> <td>4081.205</td> \n",
       "</tr>\n",
       "<tr>\n",
       "  <th></th>                             <td> - 660</td>             <th>                     </th>     <td> </td>    \n",
       "</tr>\n",
       "<tr>\n",
       "  <th>Covariance Type:</th>               <td>opg</td>              <th>                     </th>     <td> </td>    \n",
       "</tr>\n",
       "</table>\n",
       "<table class=\"simpletable\">\n",
       "<tr>\n",
       "      <td></td>        <th>coef</th>     <th>std err</th>      <th>z</th>      <th>P>|z|</th>  <th>[0.025</th>    <th>0.975]</th>  \n",
       "</tr>\n",
       "<tr>\n",
       "  <th>ar.L1</th>    <td>    0.2496</td> <td>    0.035</td> <td>    7.216</td> <td> 0.000</td> <td>    0.182</td> <td>    0.317</td>\n",
       "</tr>\n",
       "<tr>\n",
       "  <th>ar.L2</th>    <td>    0.1583</td> <td>    0.039</td> <td>    4.041</td> <td> 0.000</td> <td>    0.082</td> <td>    0.235</td>\n",
       "</tr>\n",
       "<tr>\n",
       "  <th>ar.S.L12</th> <td>    0.4991</td> <td>    0.034</td> <td>   14.685</td> <td> 0.000</td> <td>    0.433</td> <td>    0.566</td>\n",
       "</tr>\n",
       "<tr>\n",
       "  <th>ar.S.L24</th> <td>    0.3892</td> <td>    0.035</td> <td>   11.120</td> <td> 0.000</td> <td>    0.321</td> <td>    0.458</td>\n",
       "</tr>\n",
       "<tr>\n",
       "  <th>sigma2</th>   <td>   26.8750</td> <td>    1.498</td> <td>   17.942</td> <td> 0.000</td> <td>   23.939</td> <td>   29.811</td>\n",
       "</tr>\n",
       "</table>\n",
       "<table class=\"simpletable\">\n",
       "<tr>\n",
       "  <th>Ljung-Box (L1) (Q):</th>     <td>0.48</td> <th>  Jarque-Bera (JB):  </th> <td>11.44</td>\n",
       "</tr>\n",
       "<tr>\n",
       "  <th>Prob(Q):</th>                <td>0.49</td> <th>  Prob(JB):          </th> <td>0.00</td> \n",
       "</tr>\n",
       "<tr>\n",
       "  <th>Heteroskedasticity (H):</th> <td>0.81</td> <th>  Skew:              </th> <td>-0.28</td>\n",
       "</tr>\n",
       "<tr>\n",
       "  <th>Prob(H) (two-sided):</th>    <td>0.11</td> <th>  Kurtosis:          </th> <td>3.30</td> \n",
       "</tr>\n",
       "</table><br/><br/>Warnings:<br/>[1] Covariance matrix calculated using the outer product of gradients (complex-step)."
      ],
      "text/latex": [
       "\\begin{center}\n",
       "\\begin{tabular}{lclc}\n",
       "\\toprule\n",
       "\\textbf{Dep. Variable:}          &               y                & \\textbf{  No. Observations:  } &    660      \\\\\n",
       "\\textbf{Model:}                  & SARIMAX(2, 0, 0)x(2, 0, 0, 12) & \\textbf{  Log Likelihood     } & -2031.249   \\\\\n",
       "\\textbf{Date:}                   &        Fri, 25 Apr 2025        & \\textbf{  AIC                } &  4072.498   \\\\\n",
       "\\textbf{Time:}                   &            17:46:08            & \\textbf{  BIC                } &  4094.960   \\\\\n",
       "\\textbf{Sample:}                 &               0                & \\textbf{  HQIC               } &  4081.205   \\\\\n",
       "\\textbf{}                        &              - 660             & \\textbf{                     } &             \\\\\n",
       "\\textbf{Covariance Type:}        &              opg               & \\textbf{                     } &             \\\\\n",
       "\\bottomrule\n",
       "\\end{tabular}\n",
       "\\begin{tabular}{lcccccc}\n",
       "                  & \\textbf{coef} & \\textbf{std err} & \\textbf{z} & \\textbf{P$> |$z$|$} & \\textbf{[0.025} & \\textbf{0.975]}  \\\\\n",
       "\\midrule\n",
       "\\textbf{ar.L1}    &       0.2496  &        0.035     &     7.216  &         0.000        &        0.182    &        0.317     \\\\\n",
       "\\textbf{ar.L2}    &       0.1583  &        0.039     &     4.041  &         0.000        &        0.082    &        0.235     \\\\\n",
       "\\textbf{ar.S.L12} &       0.4991  &        0.034     &    14.685  &         0.000        &        0.433    &        0.566     \\\\\n",
       "\\textbf{ar.S.L24} &       0.3892  &        0.035     &    11.120  &         0.000        &        0.321    &        0.458     \\\\\n",
       "\\textbf{sigma2}   &      26.8750  &        1.498     &    17.942  &         0.000        &       23.939    &       29.811     \\\\\n",
       "\\bottomrule\n",
       "\\end{tabular}\n",
       "\\begin{tabular}{lclc}\n",
       "\\textbf{Ljung-Box (L1) (Q):}     & 0.48 & \\textbf{  Jarque-Bera (JB):  } & 11.44  \\\\\n",
       "\\textbf{Prob(Q):}                & 0.49 & \\textbf{  Prob(JB):          } &  0.00  \\\\\n",
       "\\textbf{Heteroskedasticity (H):} & 0.81 & \\textbf{  Skew:              } & -0.28  \\\\\n",
       "\\textbf{Prob(H) (two-sided):}    & 0.11 & \\textbf{  Kurtosis:          } &  3.30  \\\\\n",
       "\\bottomrule\n",
       "\\end{tabular}\n",
       "%\\caption{SARIMAX Results}\n",
       "\\end{center}\n",
       "\n",
       "Warnings: \\newline\n",
       " [1] Covariance matrix calculated using the outer product of gradients (complex-step)."
      ],
      "text/plain": [
       "<class 'statsmodels.iolib.summary.Summary'>\n",
       "\"\"\"\n",
       "                                     SARIMAX Results                                      \n",
       "==========================================================================================\n",
       "Dep. Variable:                                  y   No. Observations:                  660\n",
       "Model:             SARIMAX(2, 0, 0)x(2, 0, 0, 12)   Log Likelihood               -2031.249\n",
       "Date:                            Fri, 25 Apr 2025   AIC                           4072.498\n",
       "Time:                                    17:46:08   BIC                           4094.960\n",
       "Sample:                                         0   HQIC                          4081.205\n",
       "                                            - 660                                         \n",
       "Covariance Type:                              opg                                         \n",
       "==============================================================================\n",
       "                 coef    std err          z      P>|z|      [0.025      0.975]\n",
       "------------------------------------------------------------------------------\n",
       "ar.L1          0.2496      0.035      7.216      0.000       0.182       0.317\n",
       "ar.L2          0.1583      0.039      4.041      0.000       0.082       0.235\n",
       "ar.S.L12       0.4991      0.034     14.685      0.000       0.433       0.566\n",
       "ar.S.L24       0.3892      0.035     11.120      0.000       0.321       0.458\n",
       "sigma2        26.8750      1.498     17.942      0.000      23.939      29.811\n",
       "===================================================================================\n",
       "Ljung-Box (L1) (Q):                   0.48   Jarque-Bera (JB):                11.44\n",
       "Prob(Q):                              0.49   Prob(JB):                         0.00\n",
       "Heteroskedasticity (H):               0.81   Skew:                            -0.28\n",
       "Prob(H) (two-sided):                  0.11   Kurtosis:                         3.30\n",
       "===================================================================================\n",
       "\n",
       "Warnings:\n",
       "[1] Covariance matrix calculated using the outer product of gradients (complex-step).\n",
       "\"\"\""
      ]
     },
     "execution_count": 51,
     "metadata": {},
     "output_type": "execute_result"
    }
   ],
   "source": [
    "modelo=SARIMAX(ypre,\n",
    "               order=(2,0,0),\n",
    "               seasonal_order=(2,0,0,12)).fit()\n",
    "\n",
    "modelo.summary()"
   ]
  },
  {
   "cell_type": "code",
   "execution_count": 52,
   "metadata": {},
   "outputs": [
    {
     "name": "stdout",
     "output_type": "stream",
     "text": [
      "El modelo cumple el principio de parsimonia\n",
      "\n",
      ":)\n"
     ]
    }
   ],
   "source": [
    "parsimonia(modelo)"
   ]
  },
  {
   "cell_type": "code",
   "execution_count": 53,
   "metadata": {},
   "outputs": [
    {
     "name": "stdout",
     "output_type": "stream",
     "text": [
      "El polinomio de la parte autoregresiva es: {'p1': -0.24964220824097386, 'p2': -0.15828290621118607, 'p12': -0.4991209944745254, 'p24': -0.3891817432055088}\n",
      "\n",
      "Raíces del polinomio característico: [-1.04065395+0.27823907j -1.04065395-0.27823907j -1.01181288+0.j\n",
      " -0.8787205 +0.50649216j -0.8787205 -0.50649216j -0.76321263+0.76342755j\n",
      " -0.76321263-0.76342755j -0.50570077+0.8833324j  -0.50570077-0.8833324j\n",
      " -0.27574739+1.04489788j -0.27574739-1.04489788j  0.01245041+1.01681679j\n",
      "  0.01245041-1.01681679j  0.28786954+1.03878388j  0.28786954-1.03878388j\n",
      "  0.52183468+0.86222111j  0.52183468-0.86222111j  0.76510784+0.74860056j\n",
      "  0.76510784-0.74860056j  0.86731277+0.47753055j  0.86731277-0.47753055j\n",
      "  1.02664024+0.26869604j  1.02664024-0.26869604j  0.97745242+0.j        ]\n",
      "\n",
      "Módulo de las raíces: [1.07720826 1.07720826 1.01181288 1.01424062 1.01424062 1.07949763\n",
      " 1.07949763 1.01784547 1.01784547 1.08067026 1.08067026 1.01689301\n",
      " 1.01689301 1.07793359 1.07793359 1.00783762 1.00783762 1.07041712\n",
      " 1.07041712 0.99008427 0.99008427 1.06121994 1.06121994 0.97745242]\n",
      "\n",
      "¿Las raíces están fuera del círculo unitario?  False\n",
      "\n",
      "El modelo no es estacionario\n"
     ]
    }
   ],
   "source": [
    "estacionario(modelo)"
   ]
  },
  {
   "cell_type": "markdown",
   "metadata": {},
   "source": [
    "## **18° Modelo con mejor AIC**"
   ]
  },
  {
   "cell_type": "code",
   "execution_count": 54,
   "metadata": {
    "tags": []
   },
   "outputs": [
    {
     "data": {
      "text/html": [
       "<table class=\"simpletable\">\n",
       "<caption>SARIMAX Results</caption>\n",
       "<tr>\n",
       "  <th>Dep. Variable:</th>                  <td>y</td>               <th>  No. Observations:  </th>    <td>660</td>   \n",
       "</tr>\n",
       "<tr>\n",
       "  <th>Model:</th>           <td>SARIMAX(1, 0, 0)x(2, 0, 0, 12)</td> <th>  Log Likelihood     </th> <td>-2038.612</td>\n",
       "</tr>\n",
       "<tr>\n",
       "  <th>Date:</th>                   <td>Fri, 25 Apr 2025</td>        <th>  AIC                </th> <td>4085.224</td> \n",
       "</tr>\n",
       "<tr>\n",
       "  <th>Time:</th>                       <td>17:46:09</td>            <th>  BIC                </th> <td>4103.193</td> \n",
       "</tr>\n",
       "<tr>\n",
       "  <th>Sample:</th>                         <td>0</td>               <th>  HQIC               </th> <td>4092.189</td> \n",
       "</tr>\n",
       "<tr>\n",
       "  <th></th>                             <td> - 660</td>             <th>                     </th>     <td> </td>    \n",
       "</tr>\n",
       "<tr>\n",
       "  <th>Covariance Type:</th>               <td>opg</td>              <th>                     </th>     <td> </td>    \n",
       "</tr>\n",
       "</table>\n",
       "<table class=\"simpletable\">\n",
       "<tr>\n",
       "      <td></td>        <th>coef</th>     <th>std err</th>      <th>z</th>      <th>P>|z|</th>  <th>[0.025</th>    <th>0.975]</th>  \n",
       "</tr>\n",
       "<tr>\n",
       "  <th>ar.L1</th>    <td>    0.2661</td> <td>    0.033</td> <td>    8.023</td> <td> 0.000</td> <td>    0.201</td> <td>    0.331</td>\n",
       "</tr>\n",
       "<tr>\n",
       "  <th>ar.S.L12</th> <td>    0.5173</td> <td>    0.034</td> <td>   15.321</td> <td> 0.000</td> <td>    0.451</td> <td>    0.583</td>\n",
       "</tr>\n",
       "<tr>\n",
       "  <th>ar.S.L24</th> <td>    0.3982</td> <td>    0.035</td> <td>   11.271</td> <td> 0.000</td> <td>    0.329</td> <td>    0.467</td>\n",
       "</tr>\n",
       "<tr>\n",
       "  <th>sigma2</th>   <td>   27.3559</td> <td>    1.500</td> <td>   18.233</td> <td> 0.000</td> <td>   24.415</td> <td>   30.296</td>\n",
       "</tr>\n",
       "</table>\n",
       "<table class=\"simpletable\">\n",
       "<tr>\n",
       "  <th>Ljung-Box (L1) (Q):</th>     <td>2.66</td> <th>  Jarque-Bera (JB):  </th> <td>14.30</td>\n",
       "</tr>\n",
       "<tr>\n",
       "  <th>Prob(Q):</th>                <td>0.10</td> <th>  Prob(JB):          </th> <td>0.00</td> \n",
       "</tr>\n",
       "<tr>\n",
       "  <th>Heteroskedasticity (H):</th> <td>0.82</td> <th>  Skew:              </th> <td>-0.30</td>\n",
       "</tr>\n",
       "<tr>\n",
       "  <th>Prob(H) (two-sided):</th>    <td>0.13</td> <th>  Kurtosis:          </th> <td>3.39</td> \n",
       "</tr>\n",
       "</table><br/><br/>Warnings:<br/>[1] Covariance matrix calculated using the outer product of gradients (complex-step)."
      ],
      "text/latex": [
       "\\begin{center}\n",
       "\\begin{tabular}{lclc}\n",
       "\\toprule\n",
       "\\textbf{Dep. Variable:}          &               y                & \\textbf{  No. Observations:  } &    660      \\\\\n",
       "\\textbf{Model:}                  & SARIMAX(1, 0, 0)x(2, 0, 0, 12) & \\textbf{  Log Likelihood     } & -2038.612   \\\\\n",
       "\\textbf{Date:}                   &        Fri, 25 Apr 2025        & \\textbf{  AIC                } &  4085.224   \\\\\n",
       "\\textbf{Time:}                   &            17:46:09            & \\textbf{  BIC                } &  4103.193   \\\\\n",
       "\\textbf{Sample:}                 &               0                & \\textbf{  HQIC               } &  4092.189   \\\\\n",
       "\\textbf{}                        &              - 660             & \\textbf{                     } &             \\\\\n",
       "\\textbf{Covariance Type:}        &              opg               & \\textbf{                     } &             \\\\\n",
       "\\bottomrule\n",
       "\\end{tabular}\n",
       "\\begin{tabular}{lcccccc}\n",
       "                  & \\textbf{coef} & \\textbf{std err} & \\textbf{z} & \\textbf{P$> |$z$|$} & \\textbf{[0.025} & \\textbf{0.975]}  \\\\\n",
       "\\midrule\n",
       "\\textbf{ar.L1}    &       0.2661  &        0.033     &     8.023  &         0.000        &        0.201    &        0.331     \\\\\n",
       "\\textbf{ar.S.L12} &       0.5173  &        0.034     &    15.321  &         0.000        &        0.451    &        0.583     \\\\\n",
       "\\textbf{ar.S.L24} &       0.3982  &        0.035     &    11.271  &         0.000        &        0.329    &        0.467     \\\\\n",
       "\\textbf{sigma2}   &      27.3559  &        1.500     &    18.233  &         0.000        &       24.415    &       30.296     \\\\\n",
       "\\bottomrule\n",
       "\\end{tabular}\n",
       "\\begin{tabular}{lclc}\n",
       "\\textbf{Ljung-Box (L1) (Q):}     & 2.66 & \\textbf{  Jarque-Bera (JB):  } & 14.30  \\\\\n",
       "\\textbf{Prob(Q):}                & 0.10 & \\textbf{  Prob(JB):          } &  0.00  \\\\\n",
       "\\textbf{Heteroskedasticity (H):} & 0.82 & \\textbf{  Skew:              } & -0.30  \\\\\n",
       "\\textbf{Prob(H) (two-sided):}    & 0.13 & \\textbf{  Kurtosis:          } &  3.39  \\\\\n",
       "\\bottomrule\n",
       "\\end{tabular}\n",
       "%\\caption{SARIMAX Results}\n",
       "\\end{center}\n",
       "\n",
       "Warnings: \\newline\n",
       " [1] Covariance matrix calculated using the outer product of gradients (complex-step)."
      ],
      "text/plain": [
       "<class 'statsmodels.iolib.summary.Summary'>\n",
       "\"\"\"\n",
       "                                     SARIMAX Results                                      \n",
       "==========================================================================================\n",
       "Dep. Variable:                                  y   No. Observations:                  660\n",
       "Model:             SARIMAX(1, 0, 0)x(2, 0, 0, 12)   Log Likelihood               -2038.612\n",
       "Date:                            Fri, 25 Apr 2025   AIC                           4085.224\n",
       "Time:                                    17:46:09   BIC                           4103.193\n",
       "Sample:                                         0   HQIC                          4092.189\n",
       "                                            - 660                                         \n",
       "Covariance Type:                              opg                                         \n",
       "==============================================================================\n",
       "                 coef    std err          z      P>|z|      [0.025      0.975]\n",
       "------------------------------------------------------------------------------\n",
       "ar.L1          0.2661      0.033      8.023      0.000       0.201       0.331\n",
       "ar.S.L12       0.5173      0.034     15.321      0.000       0.451       0.583\n",
       "ar.S.L24       0.3982      0.035     11.271      0.000       0.329       0.467\n",
       "sigma2        27.3559      1.500     18.233      0.000      24.415      30.296\n",
       "===================================================================================\n",
       "Ljung-Box (L1) (Q):                   2.66   Jarque-Bera (JB):                14.30\n",
       "Prob(Q):                              0.10   Prob(JB):                         0.00\n",
       "Heteroskedasticity (H):               0.82   Skew:                            -0.30\n",
       "Prob(H) (two-sided):                  0.13   Kurtosis:                         3.39\n",
       "===================================================================================\n",
       "\n",
       "Warnings:\n",
       "[1] Covariance matrix calculated using the outer product of gradients (complex-step).\n",
       "\"\"\""
      ]
     },
     "execution_count": 54,
     "metadata": {},
     "output_type": "execute_result"
    }
   ],
   "source": [
    "modelo=SARIMAX(ypre,\n",
    "               order=(1,0,0),\n",
    "               seasonal_order=(2,0,0,12)).fit()\n",
    "\n",
    "modelo.summary()"
   ]
  },
  {
   "cell_type": "code",
   "execution_count": 55,
   "metadata": {},
   "outputs": [
    {
     "name": "stdout",
     "output_type": "stream",
     "text": [
      "El modelo cumple el principio de parsimonia\n",
      "\n",
      ":)\n"
     ]
    }
   ],
   "source": [
    "parsimonia(modelo)"
   ]
  },
  {
   "cell_type": "code",
   "execution_count": 56,
   "metadata": {},
   "outputs": [
    {
     "name": "stdout",
     "output_type": "stream",
     "text": [
      "El polinomio de la parte autoregresiva es: {'p1': -0.2660586427480248, 'p12': -0.5173131760990318, 'p24': -0.39819322821595765}\n",
      "\n",
      "Raíces del polinomio característico: [-1.04405148+0.28155386j -1.04405148-0.28155386j -1.01887068+0.j\n",
      " -0.87806029+0.51422238j -0.87806029-0.51422238j -0.76005984+0.76703821j\n",
      " -0.76005984-0.76703821j -0.49661395+0.88360842j -0.49661395-0.88360842j\n",
      " -0.27172827+1.04207143j -0.27172827-1.04207143j  0.01514845+1.00701521j\n",
      "  0.01514845-1.00701521j  0.28538322+1.03429805j  0.28538322-1.03429805j\n",
      "  0.51235082+0.85738499j  0.51235082-0.85738499j  0.76025917+0.75116077j\n",
      "  0.76025917-0.75116077j  1.0301972 +0.27343469j  1.0301972 -0.27343469j\n",
      "  0.98734392+0.j          0.86293835+0.48693561j  0.86293835-0.48693561j]\n",
      "\n",
      "Módulo de las raíces: [1.08134918 1.08134918 1.01887068 1.0175532  1.0175532  1.07983266\n",
      " 1.07983266 1.01360212 1.01360212 1.07691648 1.07691648 1.00712915\n",
      " 1.00712915 1.07294736 1.07294736 0.99880548 0.99880548 1.06875465\n",
      " 1.06875465 1.06586716 1.06586716 0.98734392 0.99084251 0.99084251]\n",
      "\n",
      "¿Las raíces están fuera del círculo unitario?  False\n",
      "\n",
      "El modelo no es estacionario\n"
     ]
    }
   ],
   "source": [
    "estacionario(modelo)"
   ]
  },
  {
   "cell_type": "markdown",
   "metadata": {},
   "source": [
    "## **19° Modelo con mejor AIC**"
   ]
  },
  {
   "cell_type": "code",
   "execution_count": 57,
   "metadata": {
    "tags": []
   },
   "outputs": [
    {
     "data": {
      "text/html": [
       "<table class=\"simpletable\">\n",
       "<caption>SARIMAX Results</caption>\n",
       "<tr>\n",
       "  <th>Dep. Variable:</th>                  <td>y</td>               <th>  No. Observations:  </th>    <td>660</td>   \n",
       "</tr>\n",
       "<tr>\n",
       "  <th>Model:</th>           <td>SARIMAX(4, 0, 0)x(1, 0, 0, 12)</td> <th>  Log Likelihood     </th> <td>-2077.509</td>\n",
       "</tr>\n",
       "<tr>\n",
       "  <th>Date:</th>                   <td>Fri, 25 Apr 2025</td>        <th>  AIC                </th> <td>4167.019</td> \n",
       "</tr>\n",
       "<tr>\n",
       "  <th>Time:</th>                       <td>17:46:09</td>            <th>  BIC                </th> <td>4193.972</td> \n",
       "</tr>\n",
       "<tr>\n",
       "  <th>Sample:</th>                         <td>0</td>               <th>  HQIC               </th> <td>4177.466</td> \n",
       "</tr>\n",
       "<tr>\n",
       "  <th></th>                             <td> - 660</td>             <th>                     </th>     <td> </td>    \n",
       "</tr>\n",
       "<tr>\n",
       "  <th>Covariance Type:</th>               <td>opg</td>              <th>                     </th>     <td> </td>    \n",
       "</tr>\n",
       "</table>\n",
       "<table class=\"simpletable\">\n",
       "<tr>\n",
       "      <td></td>        <th>coef</th>     <th>std err</th>      <th>z</th>      <th>P>|z|</th>  <th>[0.025</th>    <th>0.975]</th>  \n",
       "</tr>\n",
       "<tr>\n",
       "  <th>ar.L1</th>    <td>    0.3943</td> <td>    0.040</td> <td>    9.948</td> <td> 0.000</td> <td>    0.317</td> <td>    0.472</td>\n",
       "</tr>\n",
       "<tr>\n",
       "  <th>ar.L2</th>    <td>    0.2190</td> <td>    0.044</td> <td>    5.030</td> <td> 0.000</td> <td>    0.134</td> <td>    0.304</td>\n",
       "</tr>\n",
       "<tr>\n",
       "  <th>ar.L3</th>    <td>    0.0424</td> <td>    0.042</td> <td>    1.007</td> <td> 0.314</td> <td>   -0.040</td> <td>    0.125</td>\n",
       "</tr>\n",
       "<tr>\n",
       "  <th>ar.L4</th>    <td>    0.0337</td> <td>    0.037</td> <td>    0.907</td> <td> 0.364</td> <td>   -0.039</td> <td>    0.106</td>\n",
       "</tr>\n",
       "<tr>\n",
       "  <th>ar.S.L12</th> <td>    0.6747</td> <td>    0.035</td> <td>   19.213</td> <td> 0.000</td> <td>    0.606</td> <td>    0.743</td>\n",
       "</tr>\n",
       "<tr>\n",
       "  <th>sigma2</th>   <td>   31.3642</td> <td>    1.836</td> <td>   17.086</td> <td> 0.000</td> <td>   27.766</td> <td>   34.962</td>\n",
       "</tr>\n",
       "</table>\n",
       "<table class=\"simpletable\">\n",
       "<tr>\n",
       "  <th>Ljung-Box (L1) (Q):</th>     <td>2.06</td> <th>  Jarque-Bera (JB):  </th> <td>14.58</td>\n",
       "</tr>\n",
       "<tr>\n",
       "  <th>Prob(Q):</th>                <td>0.15</td> <th>  Prob(JB):          </th> <td>0.00</td> \n",
       "</tr>\n",
       "<tr>\n",
       "  <th>Heteroskedasticity (H):</th> <td>0.79</td> <th>  Skew:              </th> <td>-0.33</td>\n",
       "</tr>\n",
       "<tr>\n",
       "  <th>Prob(H) (two-sided):</th>    <td>0.08</td> <th>  Kurtosis:          </th> <td>3.30</td> \n",
       "</tr>\n",
       "</table><br/><br/>Warnings:<br/>[1] Covariance matrix calculated using the outer product of gradients (complex-step)."
      ],
      "text/latex": [
       "\\begin{center}\n",
       "\\begin{tabular}{lclc}\n",
       "\\toprule\n",
       "\\textbf{Dep. Variable:}          &               y                & \\textbf{  No. Observations:  } &    660      \\\\\n",
       "\\textbf{Model:}                  & SARIMAX(4, 0, 0)x(1, 0, 0, 12) & \\textbf{  Log Likelihood     } & -2077.509   \\\\\n",
       "\\textbf{Date:}                   &        Fri, 25 Apr 2025        & \\textbf{  AIC                } &  4167.019   \\\\\n",
       "\\textbf{Time:}                   &            17:46:09            & \\textbf{  BIC                } &  4193.972   \\\\\n",
       "\\textbf{Sample:}                 &               0                & \\textbf{  HQIC               } &  4177.466   \\\\\n",
       "\\textbf{}                        &              - 660             & \\textbf{                     } &             \\\\\n",
       "\\textbf{Covariance Type:}        &              opg               & \\textbf{                     } &             \\\\\n",
       "\\bottomrule\n",
       "\\end{tabular}\n",
       "\\begin{tabular}{lcccccc}\n",
       "                  & \\textbf{coef} & \\textbf{std err} & \\textbf{z} & \\textbf{P$> |$z$|$} & \\textbf{[0.025} & \\textbf{0.975]}  \\\\\n",
       "\\midrule\n",
       "\\textbf{ar.L1}    &       0.3943  &        0.040     &     9.948  &         0.000        &        0.317    &        0.472     \\\\\n",
       "\\textbf{ar.L2}    &       0.2190  &        0.044     &     5.030  &         0.000        &        0.134    &        0.304     \\\\\n",
       "\\textbf{ar.L3}    &       0.0424  &        0.042     &     1.007  &         0.314        &       -0.040    &        0.125     \\\\\n",
       "\\textbf{ar.L4}    &       0.0337  &        0.037     &     0.907  &         0.364        &       -0.039    &        0.106     \\\\\n",
       "\\textbf{ar.S.L12} &       0.6747  &        0.035     &    19.213  &         0.000        &        0.606    &        0.743     \\\\\n",
       "\\textbf{sigma2}   &      31.3642  &        1.836     &    17.086  &         0.000        &       27.766    &       34.962     \\\\\n",
       "\\bottomrule\n",
       "\\end{tabular}\n",
       "\\begin{tabular}{lclc}\n",
       "\\textbf{Ljung-Box (L1) (Q):}     & 2.06 & \\textbf{  Jarque-Bera (JB):  } & 14.58  \\\\\n",
       "\\textbf{Prob(Q):}                & 0.15 & \\textbf{  Prob(JB):          } &  0.00  \\\\\n",
       "\\textbf{Heteroskedasticity (H):} & 0.79 & \\textbf{  Skew:              } & -0.33  \\\\\n",
       "\\textbf{Prob(H) (two-sided):}    & 0.08 & \\textbf{  Kurtosis:          } &  3.30  \\\\\n",
       "\\bottomrule\n",
       "\\end{tabular}\n",
       "%\\caption{SARIMAX Results}\n",
       "\\end{center}\n",
       "\n",
       "Warnings: \\newline\n",
       " [1] Covariance matrix calculated using the outer product of gradients (complex-step)."
      ],
      "text/plain": [
       "<class 'statsmodels.iolib.summary.Summary'>\n",
       "\"\"\"\n",
       "                                     SARIMAX Results                                      \n",
       "==========================================================================================\n",
       "Dep. Variable:                                  y   No. Observations:                  660\n",
       "Model:             SARIMAX(4, 0, 0)x(1, 0, 0, 12)   Log Likelihood               -2077.509\n",
       "Date:                            Fri, 25 Apr 2025   AIC                           4167.019\n",
       "Time:                                    17:46:09   BIC                           4193.972\n",
       "Sample:                                         0   HQIC                          4177.466\n",
       "                                            - 660                                         \n",
       "Covariance Type:                              opg                                         \n",
       "==============================================================================\n",
       "                 coef    std err          z      P>|z|      [0.025      0.975]\n",
       "------------------------------------------------------------------------------\n",
       "ar.L1          0.3943      0.040      9.948      0.000       0.317       0.472\n",
       "ar.L2          0.2190      0.044      5.030      0.000       0.134       0.304\n",
       "ar.L3          0.0424      0.042      1.007      0.314      -0.040       0.125\n",
       "ar.L4          0.0337      0.037      0.907      0.364      -0.039       0.106\n",
       "ar.S.L12       0.6747      0.035     19.213      0.000       0.606       0.743\n",
       "sigma2        31.3642      1.836     17.086      0.000      27.766      34.962\n",
       "===================================================================================\n",
       "Ljung-Box (L1) (Q):                   2.06   Jarque-Bera (JB):                14.58\n",
       "Prob(Q):                              0.15   Prob(JB):                         0.00\n",
       "Heteroskedasticity (H):               0.79   Skew:                            -0.33\n",
       "Prob(H) (two-sided):                  0.08   Kurtosis:                         3.30\n",
       "===================================================================================\n",
       "\n",
       "Warnings:\n",
       "[1] Covariance matrix calculated using the outer product of gradients (complex-step).\n",
       "\"\"\""
      ]
     },
     "execution_count": 57,
     "metadata": {},
     "output_type": "execute_result"
    }
   ],
   "source": [
    "modelo=SARIMAX(ypre,\n",
    "               order=(4,0,0),\n",
    "               seasonal_order=(1,0,0,12)).fit()\n",
    "\n",
    "modelo.summary()"
   ]
  },
  {
   "cell_type": "code",
   "execution_count": 58,
   "metadata": {},
   "outputs": [
    {
     "name": "stdout",
     "output_type": "stream",
     "text": [
      "Hay coeficientes no significativos, no se cumple el principio de parsimonia\n"
     ]
    }
   ],
   "source": [
    "parsimonia(modelo)"
   ]
  },
  {
   "cell_type": "code",
   "execution_count": 59,
   "metadata": {},
   "outputs": [
    {
     "name": "stdout",
     "output_type": "stream",
     "text": [
      "El polinomio de la parte autoregresiva es: {'p1': -0.3943453237863403, 'p2': -0.2190180790594245, 'p3': -0.042431012269332075, 'p4': -0.0336928807513495, 'p12': -0.6746668991171246}\n",
      "\n",
      "Raíces del polinomio característico: [-1.0477594 +0.j         -0.91186409+0.52735438j -0.91186409-0.52735438j\n",
      " -0.51746416+0.92185349j -0.51746416-0.92185349j  0.02660289+1.05251289j\n",
      "  0.02660289-1.05251289j  0.55862666+0.87855588j  0.55862666-0.87855588j\n",
      "  0.89303841+0.44947735j  0.89303841-0.44947735j  0.94987997+0.j        ]\n",
      "\n",
      "Módulo de las raíces: [1.0477594  1.05337494 1.05337494 1.05715799 1.05715799 1.05284903\n",
      " 1.05284903 1.0411168  1.0411168  0.99977372 0.99977372 0.94987997]\n",
      "\n",
      "¿Las raíces están fuera del círculo unitario?  False\n",
      "\n",
      "El modelo no es estacionario\n"
     ]
    }
   ],
   "source": [
    "estacionario(modelo)"
   ]
  },
  {
   "cell_type": "markdown",
   "metadata": {},
   "source": [
    "## **20° Modelo con mejor AIC**"
   ]
  },
  {
   "cell_type": "code",
   "execution_count": 60,
   "metadata": {
    "tags": []
   },
   "outputs": [
    {
     "data": {
      "text/html": [
       "<table class=\"simpletable\">\n",
       "<caption>SARIMAX Results</caption>\n",
       "<tr>\n",
       "  <th>Dep. Variable:</th>                    <td>y</td>                  <th>  No. Observations:  </th>    <td>660</td>   \n",
       "</tr>\n",
       "<tr>\n",
       "  <th>Model:</th>           <td>SARIMAX(4, 0, 0)x(0, 0, [1, 2], 12)</td> <th>  Log Likelihood     </th> <td>-2099.819</td>\n",
       "</tr>\n",
       "<tr>\n",
       "  <th>Date:</th>                     <td>Fri, 25 Apr 2025</td>           <th>  AIC                </th> <td>4213.638</td> \n",
       "</tr>\n",
       "<tr>\n",
       "  <th>Time:</th>                         <td>17:46:10</td>               <th>  BIC                </th> <td>4245.084</td> \n",
       "</tr>\n",
       "<tr>\n",
       "  <th>Sample:</th>                           <td>0</td>                  <th>  HQIC               </th> <td>4225.827</td> \n",
       "</tr>\n",
       "<tr>\n",
       "  <th></th>                               <td> - 660</td>                <th>                     </th>     <td> </td>    \n",
       "</tr>\n",
       "<tr>\n",
       "  <th>Covariance Type:</th>                 <td>opg</td>                 <th>                     </th>     <td> </td>    \n",
       "</tr>\n",
       "</table>\n",
       "<table class=\"simpletable\">\n",
       "<tr>\n",
       "      <td></td>        <th>coef</th>     <th>std err</th>      <th>z</th>      <th>P>|z|</th>  <th>[0.025</th>    <th>0.975]</th>  \n",
       "</tr>\n",
       "<tr>\n",
       "  <th>ar.L1</th>    <td>    0.6195</td> <td>    0.043</td> <td>   14.539</td> <td> 0.000</td> <td>    0.536</td> <td>    0.703</td>\n",
       "</tr>\n",
       "<tr>\n",
       "  <th>ar.L2</th>    <td>    0.2559</td> <td>    0.047</td> <td>    5.452</td> <td> 0.000</td> <td>    0.164</td> <td>    0.348</td>\n",
       "</tr>\n",
       "<tr>\n",
       "  <th>ar.L3</th>    <td>   -0.0075</td> <td>    0.045</td> <td>   -0.167</td> <td> 0.868</td> <td>   -0.096</td> <td>    0.081</td>\n",
       "</tr>\n",
       "<tr>\n",
       "  <th>ar.L4</th>    <td>   -0.0263</td> <td>    0.038</td> <td>   -0.688</td> <td> 0.491</td> <td>   -0.101</td> <td>    0.049</td>\n",
       "</tr>\n",
       "<tr>\n",
       "  <th>ma.S.L12</th> <td>    0.3460</td> <td>    0.039</td> <td>    8.901</td> <td> 0.000</td> <td>    0.270</td> <td>    0.422</td>\n",
       "</tr>\n",
       "<tr>\n",
       "  <th>ma.S.L24</th> <td>    0.2260</td> <td>    0.041</td> <td>    5.491</td> <td> 0.000</td> <td>    0.145</td> <td>    0.307</td>\n",
       "</tr>\n",
       "<tr>\n",
       "  <th>sigma2</th>   <td>   33.7794</td> <td>    2.068</td> <td>   16.338</td> <td> 0.000</td> <td>   29.727</td> <td>   37.832</td>\n",
       "</tr>\n",
       "</table>\n",
       "<table class=\"simpletable\">\n",
       "<tr>\n",
       "  <th>Ljung-Box (L1) (Q):</th>     <td>1.54</td> <th>  Jarque-Bera (JB):  </th> <td>3.89</td> \n",
       "</tr>\n",
       "<tr>\n",
       "  <th>Prob(Q):</th>                <td>0.22</td> <th>  Prob(JB):          </th> <td>0.14</td> \n",
       "</tr>\n",
       "<tr>\n",
       "  <th>Heteroskedasticity (H):</th> <td>0.81</td> <th>  Skew:              </th> <td>-0.19</td>\n",
       "</tr>\n",
       "<tr>\n",
       "  <th>Prob(H) (two-sided):</th>    <td>0.12</td> <th>  Kurtosis:          </th> <td>3.00</td> \n",
       "</tr>\n",
       "</table><br/><br/>Warnings:<br/>[1] Covariance matrix calculated using the outer product of gradients (complex-step)."
      ],
      "text/latex": [
       "\\begin{center}\n",
       "\\begin{tabular}{lclc}\n",
       "\\toprule\n",
       "\\textbf{Dep. Variable:}          &                  y                  & \\textbf{  No. Observations:  } &    660      \\\\\n",
       "\\textbf{Model:}                  & SARIMAX(4, 0, 0)x(0, 0, [1, 2], 12) & \\textbf{  Log Likelihood     } & -2099.819   \\\\\n",
       "\\textbf{Date:}                   &           Fri, 25 Apr 2025          & \\textbf{  AIC                } &  4213.638   \\\\\n",
       "\\textbf{Time:}                   &               17:46:10              & \\textbf{  BIC                } &  4245.084   \\\\\n",
       "\\textbf{Sample:}                 &                  0                  & \\textbf{  HQIC               } &  4225.827   \\\\\n",
       "\\textbf{}                        &                 - 660               & \\textbf{                     } &             \\\\\n",
       "\\textbf{Covariance Type:}        &                 opg                 & \\textbf{                     } &             \\\\\n",
       "\\bottomrule\n",
       "\\end{tabular}\n",
       "\\begin{tabular}{lcccccc}\n",
       "                  & \\textbf{coef} & \\textbf{std err} & \\textbf{z} & \\textbf{P$> |$z$|$} & \\textbf{[0.025} & \\textbf{0.975]}  \\\\\n",
       "\\midrule\n",
       "\\textbf{ar.L1}    &       0.6195  &        0.043     &    14.539  &         0.000        &        0.536    &        0.703     \\\\\n",
       "\\textbf{ar.L2}    &       0.2559  &        0.047     &     5.452  &         0.000        &        0.164    &        0.348     \\\\\n",
       "\\textbf{ar.L3}    &      -0.0075  &        0.045     &    -0.167  &         0.868        &       -0.096    &        0.081     \\\\\n",
       "\\textbf{ar.L4}    &      -0.0263  &        0.038     &    -0.688  &         0.491        &       -0.101    &        0.049     \\\\\n",
       "\\textbf{ma.S.L12} &       0.3460  &        0.039     &     8.901  &         0.000        &        0.270    &        0.422     \\\\\n",
       "\\textbf{ma.S.L24} &       0.2260  &        0.041     &     5.491  &         0.000        &        0.145    &        0.307     \\\\\n",
       "\\textbf{sigma2}   &      33.7794  &        2.068     &    16.338  &         0.000        &       29.727    &       37.832     \\\\\n",
       "\\bottomrule\n",
       "\\end{tabular}\n",
       "\\begin{tabular}{lclc}\n",
       "\\textbf{Ljung-Box (L1) (Q):}     & 1.54 & \\textbf{  Jarque-Bera (JB):  } &  3.89  \\\\\n",
       "\\textbf{Prob(Q):}                & 0.22 & \\textbf{  Prob(JB):          } &  0.14  \\\\\n",
       "\\textbf{Heteroskedasticity (H):} & 0.81 & \\textbf{  Skew:              } & -0.19  \\\\\n",
       "\\textbf{Prob(H) (two-sided):}    & 0.12 & \\textbf{  Kurtosis:          } &  3.00  \\\\\n",
       "\\bottomrule\n",
       "\\end{tabular}\n",
       "%\\caption{SARIMAX Results}\n",
       "\\end{center}\n",
       "\n",
       "Warnings: \\newline\n",
       " [1] Covariance matrix calculated using the outer product of gradients (complex-step)."
      ],
      "text/plain": [
       "<class 'statsmodels.iolib.summary.Summary'>\n",
       "\"\"\"\n",
       "                                        SARIMAX Results                                        \n",
       "===============================================================================================\n",
       "Dep. Variable:                                       y   No. Observations:                  660\n",
       "Model:             SARIMAX(4, 0, 0)x(0, 0, [1, 2], 12)   Log Likelihood               -2099.819\n",
       "Date:                                 Fri, 25 Apr 2025   AIC                           4213.638\n",
       "Time:                                         17:46:10   BIC                           4245.084\n",
       "Sample:                                              0   HQIC                          4225.827\n",
       "                                                 - 660                                         \n",
       "Covariance Type:                                   opg                                         \n",
       "==============================================================================\n",
       "                 coef    std err          z      P>|z|      [0.025      0.975]\n",
       "------------------------------------------------------------------------------\n",
       "ar.L1          0.6195      0.043     14.539      0.000       0.536       0.703\n",
       "ar.L2          0.2559      0.047      5.452      0.000       0.164       0.348\n",
       "ar.L3         -0.0075      0.045     -0.167      0.868      -0.096       0.081\n",
       "ar.L4         -0.0263      0.038     -0.688      0.491      -0.101       0.049\n",
       "ma.S.L12       0.3460      0.039      8.901      0.000       0.270       0.422\n",
       "ma.S.L24       0.2260      0.041      5.491      0.000       0.145       0.307\n",
       "sigma2        33.7794      2.068     16.338      0.000      29.727      37.832\n",
       "===================================================================================\n",
       "Ljung-Box (L1) (Q):                   1.54   Jarque-Bera (JB):                 3.89\n",
       "Prob(Q):                              0.22   Prob(JB):                         0.14\n",
       "Heteroskedasticity (H):               0.81   Skew:                            -0.19\n",
       "Prob(H) (two-sided):                  0.12   Kurtosis:                         3.00\n",
       "===================================================================================\n",
       "\n",
       "Warnings:\n",
       "[1] Covariance matrix calculated using the outer product of gradients (complex-step).\n",
       "\"\"\""
      ]
     },
     "execution_count": 60,
     "metadata": {},
     "output_type": "execute_result"
    }
   ],
   "source": [
    "modelo=SARIMAX(ypre,\n",
    "               order=(4,0,0),\n",
    "               seasonal_order=(0,0,2,12)).fit()\n",
    "\n",
    "modelo.summary()"
   ]
  },
  {
   "cell_type": "code",
   "execution_count": 61,
   "metadata": {},
   "outputs": [
    {
     "name": "stdout",
     "output_type": "stream",
     "text": [
      "Hay coeficientes no significativos, no se cumple el principio de parsimonia\n"
     ]
    }
   ],
   "source": [
    "parsimonia(modelo)"
   ]
  },
  {
   "cell_type": "code",
   "execution_count": 62,
   "metadata": {},
   "outputs": [
    {
     "name": "stdout",
     "output_type": "stream",
     "text": [
      "El polinomio de la parte autoregresiva es: {'p1': -0.6195490623417439, 'p2': -0.2558892690871024, 'p3': 0.007534665584938049, 'p4': 0.026330746441322793}\n",
      "\n",
      "Raíces del polinomio característico: [-2.4773109 +1.79264147j -2.4773109 -1.79264147j  3.51196815+0.j\n",
      "  1.156499  +0.j        ]\n",
      "\n",
      "Módulo de las raíces: [3.05788043 3.05788043 3.51196815 1.156499  ]\n",
      "\n",
      "¿Las raíces están fuera del círculo unitario?  True\n",
      "\n",
      "El modelo es estacionario\n",
      "\n",
      ":)\n"
     ]
    }
   ],
   "source": [
    "estacionario(modelo)"
   ]
  },
  {
   "cell_type": "code",
   "execution_count": 63,
   "metadata": {},
   "outputs": [
    {
     "name": "stdout",
     "output_type": "stream",
     "text": [
      "El polinomio de la parte media móvil es: {'p12': 0.34598943418681893, 'p24': 0.22599866686419873}\n",
      "\n",
      "Raíces del polinomio característico: [-1.05000846+0.17153746j -1.05000846-0.17153746j -0.99510274+0.37644843j\n",
      " -0.99510274-0.37644843j -0.82356527+0.67356003j -0.82356527-0.67356003j\n",
      " -0.67356003+0.82356527j -0.67356003-0.82356527j -0.37644843+0.99510274j\n",
      " -0.37644843-0.99510274j -0.17153746+1.05000846j -0.17153746-1.05000846j\n",
      "  0.17153746+1.05000846j  0.17153746-1.05000846j  0.37644843+0.99510274j\n",
      "  0.37644843-0.99510274j  0.67356003+0.82356527j  0.67356003-0.82356527j\n",
      "  0.82356527+0.67356003j  0.82356527-0.67356003j  1.05000846+0.17153746j\n",
      "  1.05000846-0.17153746j  0.99510274+0.37644843j  0.99510274-0.37644843j]\n",
      "\n",
      "Módulo de las raíces: [1.06392804 1.06392804 1.06392804 1.06392804 1.06392804 1.06392804\n",
      " 1.06392804 1.06392804 1.06392804 1.06392804 1.06392804 1.06392804\n",
      " 1.06392804 1.06392804 1.06392804 1.06392804 1.06392804 1.06392804\n",
      " 1.06392804 1.06392804 1.06392804 1.06392804 1.06392804 1.06392804]\n",
      "\n",
      "¿Las raíces están fuera del círculo unitario?  True\n",
      "\n",
      "El modelo es invertible\n",
      "\n",
      ":)\n"
     ]
    }
   ],
   "source": [
    "invertible(modelo)"
   ]
  },
  {
   "cell_type": "code",
   "execution_count": 64,
   "metadata": {},
   "outputs": [
    {
     "name": "stdout",
     "output_type": "stream",
     "text": [
      "Los residuos no son cero, pvalor=1.7427931491008582e-08, media=1.266339715683027\n"
     ]
    }
   ],
   "source": [
    "media_cero(modelo)"
   ]
  },
  {
   "cell_type": "markdown",
   "metadata": {},
   "source": [
    "## **21° Modelo con mejor AIC**"
   ]
  },
  {
   "cell_type": "code",
   "execution_count": 65,
   "metadata": {
    "tags": []
   },
   "outputs": [
    {
     "data": {
      "text/html": [
       "<table class=\"simpletable\">\n",
       "<caption>SARIMAX Results</caption>\n",
       "<tr>\n",
       "  <th>Dep. Variable:</th>              <td>y</td>           <th>  No. Observations:  </th>    <td>660</td>   \n",
       "</tr>\n",
       "<tr>\n",
       "  <th>Model:</th>           <td>SARIMAX(1, 0, [1], 12)</td> <th>  Log Likelihood     </th> <td>-2036.477</td>\n",
       "</tr>\n",
       "<tr>\n",
       "  <th>Date:</th>               <td>Fri, 25 Apr 2025</td>    <th>  AIC                </th> <td>4078.955</td> \n",
       "</tr>\n",
       "<tr>\n",
       "  <th>Time:</th>                   <td>17:46:10</td>        <th>  BIC                </th> <td>4092.431</td> \n",
       "</tr>\n",
       "<tr>\n",
       "  <th>Sample:</th>                     <td>0</td>           <th>  HQIC               </th> <td>4084.178</td> \n",
       "</tr>\n",
       "<tr>\n",
       "  <th></th>                         <td> - 660</td>         <th>                     </th>     <td> </td>    \n",
       "</tr>\n",
       "<tr>\n",
       "  <th>Covariance Type:</th>           <td>opg</td>          <th>                     </th>     <td> </td>    \n",
       "</tr>\n",
       "</table>\n",
       "<table class=\"simpletable\">\n",
       "<tr>\n",
       "      <td></td>        <th>coef</th>     <th>std err</th>      <th>z</th>      <th>P>|z|</th>  <th>[0.025</th>    <th>0.975]</th>  \n",
       "</tr>\n",
       "<tr>\n",
       "  <th>ar.S.L12</th> <td>    0.9875</td> <td>    0.006</td> <td>  176.771</td> <td> 0.000</td> <td>    0.977</td> <td>    0.998</td>\n",
       "</tr>\n",
       "<tr>\n",
       "  <th>ma.S.L12</th> <td>   -0.5847</td> <td>    0.035</td> <td>  -16.796</td> <td> 0.000</td> <td>   -0.653</td> <td>   -0.516</td>\n",
       "</tr>\n",
       "<tr>\n",
       "  <th>sigma2</th>   <td>   26.8363</td> <td>    1.265</td> <td>   21.206</td> <td> 0.000</td> <td>   24.356</td> <td>   29.317</td>\n",
       "</tr>\n",
       "</table>\n",
       "<table class=\"simpletable\">\n",
       "<tr>\n",
       "  <th>Ljung-Box (L1) (Q):</th>     <td>51.20</td> <th>  Jarque-Bera (JB):  </th> <td>50.89</td>\n",
       "</tr>\n",
       "<tr>\n",
       "  <th>Prob(Q):</th>                <td>0.00</td>  <th>  Prob(JB):          </th> <td>0.00</td> \n",
       "</tr>\n",
       "<tr>\n",
       "  <th>Heteroskedasticity (H):</th> <td>0.91</td>  <th>  Skew:              </th> <td>-0.40</td>\n",
       "</tr>\n",
       "<tr>\n",
       "  <th>Prob(H) (two-sided):</th>    <td>0.50</td>  <th>  Kurtosis:          </th> <td>4.09</td> \n",
       "</tr>\n",
       "</table><br/><br/>Warnings:<br/>[1] Covariance matrix calculated using the outer product of gradients (complex-step)."
      ],
      "text/latex": [
       "\\begin{center}\n",
       "\\begin{tabular}{lclc}\n",
       "\\toprule\n",
       "\\textbf{Dep. Variable:}          &           y            & \\textbf{  No. Observations:  } &    660      \\\\\n",
       "\\textbf{Model:}                  & SARIMAX(1, 0, [1], 12) & \\textbf{  Log Likelihood     } & -2036.477   \\\\\n",
       "\\textbf{Date:}                   &    Fri, 25 Apr 2025    & \\textbf{  AIC                } &  4078.955   \\\\\n",
       "\\textbf{Time:}                   &        17:46:10        & \\textbf{  BIC                } &  4092.431   \\\\\n",
       "\\textbf{Sample:}                 &           0            & \\textbf{  HQIC               } &  4084.178   \\\\\n",
       "\\textbf{}                        &          - 660         & \\textbf{                     } &             \\\\\n",
       "\\textbf{Covariance Type:}        &          opg           & \\textbf{                     } &             \\\\\n",
       "\\bottomrule\n",
       "\\end{tabular}\n",
       "\\begin{tabular}{lcccccc}\n",
       "                  & \\textbf{coef} & \\textbf{std err} & \\textbf{z} & \\textbf{P$> |$z$|$} & \\textbf{[0.025} & \\textbf{0.975]}  \\\\\n",
       "\\midrule\n",
       "\\textbf{ar.S.L12} &       0.9875  &        0.006     &   176.771  &         0.000        &        0.977    &        0.998     \\\\\n",
       "\\textbf{ma.S.L12} &      -0.5847  &        0.035     &   -16.796  &         0.000        &       -0.653    &       -0.516     \\\\\n",
       "\\textbf{sigma2}   &      26.8363  &        1.265     &    21.206  &         0.000        &       24.356    &       29.317     \\\\\n",
       "\\bottomrule\n",
       "\\end{tabular}\n",
       "\\begin{tabular}{lclc}\n",
       "\\textbf{Ljung-Box (L1) (Q):}     & 51.20 & \\textbf{  Jarque-Bera (JB):  } & 50.89  \\\\\n",
       "\\textbf{Prob(Q):}                &  0.00 & \\textbf{  Prob(JB):          } &  0.00  \\\\\n",
       "\\textbf{Heteroskedasticity (H):} &  0.91 & \\textbf{  Skew:              } & -0.40  \\\\\n",
       "\\textbf{Prob(H) (two-sided):}    &  0.50 & \\textbf{  Kurtosis:          } &  4.09  \\\\\n",
       "\\bottomrule\n",
       "\\end{tabular}\n",
       "%\\caption{SARIMAX Results}\n",
       "\\end{center}\n",
       "\n",
       "Warnings: \\newline\n",
       " [1] Covariance matrix calculated using the outer product of gradients (complex-step)."
      ],
      "text/plain": [
       "<class 'statsmodels.iolib.summary.Summary'>\n",
       "\"\"\"\n",
       "                                 SARIMAX Results                                  \n",
       "==================================================================================\n",
       "Dep. Variable:                          y   No. Observations:                  660\n",
       "Model:             SARIMAX(1, 0, [1], 12)   Log Likelihood               -2036.477\n",
       "Date:                    Fri, 25 Apr 2025   AIC                           4078.955\n",
       "Time:                            17:46:10   BIC                           4092.431\n",
       "Sample:                                 0   HQIC                          4084.178\n",
       "                                    - 660                                         \n",
       "Covariance Type:                      opg                                         \n",
       "==============================================================================\n",
       "                 coef    std err          z      P>|z|      [0.025      0.975]\n",
       "------------------------------------------------------------------------------\n",
       "ar.S.L12       0.9875      0.006    176.771      0.000       0.977       0.998\n",
       "ma.S.L12      -0.5847      0.035    -16.796      0.000      -0.653      -0.516\n",
       "sigma2        26.8363      1.265     21.206      0.000      24.356      29.317\n",
       "===================================================================================\n",
       "Ljung-Box (L1) (Q):                  51.20   Jarque-Bera (JB):                50.89\n",
       "Prob(Q):                              0.00   Prob(JB):                         0.00\n",
       "Heteroskedasticity (H):               0.91   Skew:                            -0.40\n",
       "Prob(H) (two-sided):                  0.50   Kurtosis:                         4.09\n",
       "===================================================================================\n",
       "\n",
       "Warnings:\n",
       "[1] Covariance matrix calculated using the outer product of gradients (complex-step).\n",
       "\"\"\""
      ]
     },
     "execution_count": 65,
     "metadata": {},
     "output_type": "execute_result"
    }
   ],
   "source": [
    "modelo=SARIMAX(ypre,\n",
    "               order=(0,0,0),\n",
    "               seasonal_order=(1,0,1,12)).fit()\n",
    "\n",
    "modelo.summary()"
   ]
  },
  {
   "cell_type": "code",
   "execution_count": 66,
   "metadata": {},
   "outputs": [
    {
     "name": "stdout",
     "output_type": "stream",
     "text": [
      "El modelo cumple el principio de parsimonia\n",
      "\n",
      ":)\n"
     ]
    }
   ],
   "source": [
    "parsimonia(modelo)"
   ]
  },
  {
   "cell_type": "code",
   "execution_count": 67,
   "metadata": {},
   "outputs": [
    {
     "name": "stdout",
     "output_type": "stream",
     "text": [
      "El polinomio de la parte autoregresiva es: {'p12': -0.9874989803108878}\n",
      "\n",
      "Raíces del polinomio característico: [-1.00104887e+00+0.j         -8.66933750e-01+0.50052443j\n",
      " -8.66933750e-01-0.50052443j -5.00524434e-01+0.86693375j\n",
      " -5.00524434e-01-0.86693375j -4.16333634e-17+1.00104887j\n",
      " -4.16333634e-17-1.00104887j  5.00524434e-01+0.86693375j\n",
      "  5.00524434e-01-0.86693375j  1.00104887e+00+0.j\n",
      "  8.66933750e-01+0.50052443j  8.66933750e-01-0.50052443j]\n",
      "\n",
      "Módulo de las raíces: [1.00104887 1.00104887 1.00104887 1.00104887 1.00104887 1.00104887\n",
      " 1.00104887 1.00104887 1.00104887 1.00104887 1.00104887 1.00104887]\n",
      "\n",
      "¿Las raíces están fuera del círculo unitario?  True\n",
      "\n",
      "El modelo es estacionario\n",
      "\n",
      ":)\n"
     ]
    }
   ],
   "source": [
    "estacionario(modelo)"
   ]
  },
  {
   "cell_type": "code",
   "execution_count": 68,
   "metadata": {},
   "outputs": [
    {
     "name": "stdout",
     "output_type": "stream",
     "text": [
      "El polinomio de la parte media móvil es: {'p12': -0.5847145830639543}\n",
      "\n",
      "Raíces del polinomio característico: [-1.04573427e+00+0.j         -9.05632441e-01+0.52286713j\n",
      " -9.05632441e-01-0.52286713j -5.22867134e-01+0.90563244j\n",
      " -5.22867134e-01-0.90563244j -5.55111512e-17+1.04573427j\n",
      " -5.55111512e-17-1.04573427j  5.22867134e-01+0.90563244j\n",
      "  5.22867134e-01-0.90563244j  1.04573427e+00+0.j\n",
      "  9.05632441e-01+0.52286713j  9.05632441e-01-0.52286713j]\n",
      "\n",
      "Módulo de las raíces: [1.04573427 1.04573427 1.04573427 1.04573427 1.04573427 1.04573427\n",
      " 1.04573427 1.04573427 1.04573427 1.04573427 1.04573427 1.04573427]\n",
      "\n",
      "¿Las raíces están fuera del círculo unitario?  True\n",
      "\n",
      "El modelo es invertible\n",
      "\n",
      ":)\n"
     ]
    }
   ],
   "source": [
    "invertible(modelo)"
   ]
  },
  {
   "cell_type": "code",
   "execution_count": 69,
   "metadata": {},
   "outputs": [
    {
     "name": "stdout",
     "output_type": "stream",
     "text": [
      "Los residuos no son cero, pvalor=0.009140293343123973, media=0.5597256048781123\n"
     ]
    }
   ],
   "source": [
    "media_cero(modelo)"
   ]
  },
  {
   "cell_type": "markdown",
   "metadata": {},
   "source": [
    "## **22° Modelo con mejor AIC**"
   ]
  },
  {
   "cell_type": "code",
   "execution_count": 70,
   "metadata": {
    "tags": []
   },
   "outputs": [
    {
     "data": {
      "text/html": [
       "<table class=\"simpletable\">\n",
       "<caption>SARIMAX Results</caption>\n",
       "<tr>\n",
       "  <th>Dep. Variable:</th>                   <td>y</td>                <th>  No. Observations:  </th>    <td>660</td>   \n",
       "</tr>\n",
       "<tr>\n",
       "  <th>Model:</th>           <td>SARIMAX(4, 0, 0)x(0, 0, [1], 12)</td> <th>  Log Likelihood     </th> <td>-2116.861</td>\n",
       "</tr>\n",
       "<tr>\n",
       "  <th>Date:</th>                    <td>Fri, 25 Apr 2025</td>         <th>  AIC                </th> <td>4245.723</td> \n",
       "</tr>\n",
       "<tr>\n",
       "  <th>Time:</th>                        <td>17:46:10</td>             <th>  BIC                </th> <td>4272.676</td> \n",
       "</tr>\n",
       "<tr>\n",
       "  <th>Sample:</th>                          <td>0</td>                <th>  HQIC               </th> <td>4256.170</td> \n",
       "</tr>\n",
       "<tr>\n",
       "  <th></th>                              <td> - 660</td>              <th>                     </th>     <td> </td>    \n",
       "</tr>\n",
       "<tr>\n",
       "  <th>Covariance Type:</th>                <td>opg</td>               <th>                     </th>     <td> </td>    \n",
       "</tr>\n",
       "</table>\n",
       "<table class=\"simpletable\">\n",
       "<tr>\n",
       "      <td></td>        <th>coef</th>     <th>std err</th>      <th>z</th>      <th>P>|z|</th>  <th>[0.025</th>    <th>0.975]</th>  \n",
       "</tr>\n",
       "<tr>\n",
       "  <th>ar.L1</th>    <td>    0.7155</td> <td>    0.042</td> <td>   17.025</td> <td> 0.000</td> <td>    0.633</td> <td>    0.798</td>\n",
       "</tr>\n",
       "<tr>\n",
       "  <th>ar.L2</th>    <td>    0.2030</td> <td>    0.049</td> <td>    4.185</td> <td> 0.000</td> <td>    0.108</td> <td>    0.298</td>\n",
       "</tr>\n",
       "<tr>\n",
       "  <th>ar.L3</th>    <td>   -0.0286</td> <td>    0.047</td> <td>   -0.605</td> <td> 0.545</td> <td>   -0.121</td> <td>    0.064</td>\n",
       "</tr>\n",
       "<tr>\n",
       "  <th>ar.L4</th>    <td>   -0.0266</td> <td>    0.038</td> <td>   -0.697</td> <td> 0.486</td> <td>   -0.101</td> <td>    0.048</td>\n",
       "</tr>\n",
       "<tr>\n",
       "  <th>ma.S.L12</th> <td>    0.3302</td> <td>    0.039</td> <td>    8.411</td> <td> 0.000</td> <td>    0.253</td> <td>    0.407</td>\n",
       "</tr>\n",
       "<tr>\n",
       "  <th>sigma2</th>   <td>   35.6074</td> <td>    2.147</td> <td>   16.587</td> <td> 0.000</td> <td>   31.400</td> <td>   39.815</td>\n",
       "</tr>\n",
       "</table>\n",
       "<table class=\"simpletable\">\n",
       "<tr>\n",
       "  <th>Ljung-Box (L1) (Q):</th>     <td>1.47</td> <th>  Jarque-Bera (JB):  </th> <td>4.01</td> \n",
       "</tr>\n",
       "<tr>\n",
       "  <th>Prob(Q):</th>                <td>0.22</td> <th>  Prob(JB):          </th> <td>0.13</td> \n",
       "</tr>\n",
       "<tr>\n",
       "  <th>Heteroskedasticity (H):</th> <td>0.83</td> <th>  Skew:              </th> <td>-0.19</td>\n",
       "</tr>\n",
       "<tr>\n",
       "  <th>Prob(H) (two-sided):</th>    <td>0.16</td> <th>  Kurtosis:          </th> <td>3.04</td> \n",
       "</tr>\n",
       "</table><br/><br/>Warnings:<br/>[1] Covariance matrix calculated using the outer product of gradients (complex-step)."
      ],
      "text/latex": [
       "\\begin{center}\n",
       "\\begin{tabular}{lclc}\n",
       "\\toprule\n",
       "\\textbf{Dep. Variable:}          &                y                 & \\textbf{  No. Observations:  } &    660      \\\\\n",
       "\\textbf{Model:}                  & SARIMAX(4, 0, 0)x(0, 0, [1], 12) & \\textbf{  Log Likelihood     } & -2116.861   \\\\\n",
       "\\textbf{Date:}                   &         Fri, 25 Apr 2025         & \\textbf{  AIC                } &  4245.723   \\\\\n",
       "\\textbf{Time:}                   &             17:46:10             & \\textbf{  BIC                } &  4272.676   \\\\\n",
       "\\textbf{Sample:}                 &                0                 & \\textbf{  HQIC               } &  4256.170   \\\\\n",
       "\\textbf{}                        &               - 660              & \\textbf{                     } &             \\\\\n",
       "\\textbf{Covariance Type:}        &               opg                & \\textbf{                     } &             \\\\\n",
       "\\bottomrule\n",
       "\\end{tabular}\n",
       "\\begin{tabular}{lcccccc}\n",
       "                  & \\textbf{coef} & \\textbf{std err} & \\textbf{z} & \\textbf{P$> |$z$|$} & \\textbf{[0.025} & \\textbf{0.975]}  \\\\\n",
       "\\midrule\n",
       "\\textbf{ar.L1}    &       0.7155  &        0.042     &    17.025  &         0.000        &        0.633    &        0.798     \\\\\n",
       "\\textbf{ar.L2}    &       0.2030  &        0.049     &     4.185  &         0.000        &        0.108    &        0.298     \\\\\n",
       "\\textbf{ar.L3}    &      -0.0286  &        0.047     &    -0.605  &         0.545        &       -0.121    &        0.064     \\\\\n",
       "\\textbf{ar.L4}    &      -0.0266  &        0.038     &    -0.697  &         0.486        &       -0.101    &        0.048     \\\\\n",
       "\\textbf{ma.S.L12} &       0.3302  &        0.039     &     8.411  &         0.000        &        0.253    &        0.407     \\\\\n",
       "\\textbf{sigma2}   &      35.6074  &        2.147     &    16.587  &         0.000        &       31.400    &       39.815     \\\\\n",
       "\\bottomrule\n",
       "\\end{tabular}\n",
       "\\begin{tabular}{lclc}\n",
       "\\textbf{Ljung-Box (L1) (Q):}     & 1.47 & \\textbf{  Jarque-Bera (JB):  } &  4.01  \\\\\n",
       "\\textbf{Prob(Q):}                & 0.22 & \\textbf{  Prob(JB):          } &  0.13  \\\\\n",
       "\\textbf{Heteroskedasticity (H):} & 0.83 & \\textbf{  Skew:              } & -0.19  \\\\\n",
       "\\textbf{Prob(H) (two-sided):}    & 0.16 & \\textbf{  Kurtosis:          } &  3.04  \\\\\n",
       "\\bottomrule\n",
       "\\end{tabular}\n",
       "%\\caption{SARIMAX Results}\n",
       "\\end{center}\n",
       "\n",
       "Warnings: \\newline\n",
       " [1] Covariance matrix calculated using the outer product of gradients (complex-step)."
      ],
      "text/plain": [
       "<class 'statsmodels.iolib.summary.Summary'>\n",
       "\"\"\"\n",
       "                                      SARIMAX Results                                       \n",
       "============================================================================================\n",
       "Dep. Variable:                                    y   No. Observations:                  660\n",
       "Model:             SARIMAX(4, 0, 0)x(0, 0, [1], 12)   Log Likelihood               -2116.861\n",
       "Date:                              Fri, 25 Apr 2025   AIC                           4245.723\n",
       "Time:                                      17:46:10   BIC                           4272.676\n",
       "Sample:                                           0   HQIC                          4256.170\n",
       "                                              - 660                                         \n",
       "Covariance Type:                                opg                                         \n",
       "==============================================================================\n",
       "                 coef    std err          z      P>|z|      [0.025      0.975]\n",
       "------------------------------------------------------------------------------\n",
       "ar.L1          0.7155      0.042     17.025      0.000       0.633       0.798\n",
       "ar.L2          0.2030      0.049      4.185      0.000       0.108       0.298\n",
       "ar.L3         -0.0286      0.047     -0.605      0.545      -0.121       0.064\n",
       "ar.L4         -0.0266      0.038     -0.697      0.486      -0.101       0.048\n",
       "ma.S.L12       0.3302      0.039      8.411      0.000       0.253       0.407\n",
       "sigma2        35.6074      2.147     16.587      0.000      31.400      39.815\n",
       "===================================================================================\n",
       "Ljung-Box (L1) (Q):                   1.47   Jarque-Bera (JB):                 4.01\n",
       "Prob(Q):                              0.22   Prob(JB):                         0.13\n",
       "Heteroskedasticity (H):               0.83   Skew:                            -0.19\n",
       "Prob(H) (two-sided):                  0.16   Kurtosis:                         3.04\n",
       "===================================================================================\n",
       "\n",
       "Warnings:\n",
       "[1] Covariance matrix calculated using the outer product of gradients (complex-step).\n",
       "\"\"\""
      ]
     },
     "execution_count": 70,
     "metadata": {},
     "output_type": "execute_result"
    }
   ],
   "source": [
    "modelo=SARIMAX(ypre,\n",
    "               order=(4,0,0),\n",
    "               seasonal_order=(0,0,1,12)).fit()\n",
    "\n",
    "modelo.summary()"
   ]
  },
  {
   "cell_type": "code",
   "execution_count": 71,
   "metadata": {},
   "outputs": [
    {
     "name": "stdout",
     "output_type": "stream",
     "text": [
      "Hay coeficientes no significativos, no se cumple el principio de parsimonia\n"
     ]
    }
   ],
   "source": [
    "parsimonia(modelo)"
   ]
  },
  {
   "cell_type": "code",
   "execution_count": 72,
   "metadata": {},
   "outputs": [
    {
     "name": "stdout",
     "output_type": "stream",
     "text": [
      "El polinomio de la parte autoregresiva es: {'p1': -0.7155201547031885, 'p2': -0.20301297958343614, 'p3': 0.028636887234124192, 'p4': 0.0266065789820712}\n",
      "\n",
      "Raíces del polinomio característico: [-2.62541049+1.98016219j -2.62541049-1.98016219j  3.02588457+0.j\n",
      "  1.14862791+0.j        ]\n",
      "\n",
      "Módulo de las raíces: [3.28843771 3.28843771 3.02588457 1.14862791]\n",
      "\n",
      "¿Las raíces están fuera del círculo unitario?  True\n",
      "\n",
      "El modelo es estacionario\n",
      "\n",
      ":)\n"
     ]
    }
   ],
   "source": [
    "estacionario(modelo)"
   ]
  },
  {
   "cell_type": "code",
   "execution_count": 73,
   "metadata": {},
   "outputs": [
    {
     "name": "stdout",
     "output_type": "stream",
     "text": [
      "El polinomio de la parte media móvil es: {'p12': 0.33023166445038543}\n",
      "\n",
      "Raíces del polinomio característico: [-1.0593567 +0.28385377j -1.0593567 -0.28385377j -0.77550293+0.77550293j\n",
      " -0.77550293-0.77550293j -0.28385377+1.0593567j  -0.28385377-1.0593567j\n",
      "  0.28385377+1.0593567j   0.28385377-1.0593567j   0.77550293+0.77550293j\n",
      "  0.77550293-0.77550293j  1.0593567 +0.28385377j  1.0593567 -0.28385377j]\n",
      "\n",
      "Módulo de las raíces: [1.09672676 1.09672676 1.09672676 1.09672676 1.09672676 1.09672676\n",
      " 1.09672676 1.09672676 1.09672676 1.09672676 1.09672676 1.09672676]\n",
      "\n",
      "¿Las raíces están fuera del círculo unitario?  True\n",
      "\n",
      "El modelo es invertible\n",
      "\n",
      ":)\n"
     ]
    }
   ],
   "source": [
    "invertible(modelo)"
   ]
  },
  {
   "cell_type": "code",
   "execution_count": 74,
   "metadata": {},
   "outputs": [
    {
     "name": "stdout",
     "output_type": "stream",
     "text": [
      "Los residuos no son cero, pvalor=2.1363312182284036e-08, media=1.2910276449124833\n"
     ]
    }
   ],
   "source": [
    "media_cero(modelo)"
   ]
  },
  {
   "cell_type": "markdown",
   "metadata": {},
   "source": [
    "## **23° Modelo con mejor AIC**"
   ]
  },
  {
   "cell_type": "code",
   "execution_count": 75,
   "metadata": {
    "tags": []
   },
   "outputs": [
    {
     "data": {
      "text/html": [
       "<table class=\"simpletable\">\n",
       "<caption>SARIMAX Results</caption>\n",
       "<tr>\n",
       "  <th>Dep. Variable:</th>                  <td>y</td>               <th>  No. Observations:  </th>    <td>660</td>   \n",
       "</tr>\n",
       "<tr>\n",
       "  <th>Model:</th>           <td>SARIMAX(3, 0, 0)x(1, 0, 0, 12)</td> <th>  Log Likelihood     </th> <td>-2077.877</td>\n",
       "</tr>\n",
       "<tr>\n",
       "  <th>Date:</th>                   <td>Fri, 25 Apr 2025</td>        <th>  AIC                </th> <td>4165.754</td> \n",
       "</tr>\n",
       "<tr>\n",
       "  <th>Time:</th>                       <td>17:46:10</td>            <th>  BIC                </th> <td>4188.215</td> \n",
       "</tr>\n",
       "<tr>\n",
       "  <th>Sample:</th>                         <td>0</td>               <th>  HQIC               </th> <td>4174.460</td> \n",
       "</tr>\n",
       "<tr>\n",
       "  <th></th>                             <td> - 660</td>             <th>                     </th>     <td> </td>    \n",
       "</tr>\n",
       "<tr>\n",
       "  <th>Covariance Type:</th>               <td>opg</td>              <th>                     </th>     <td> </td>    \n",
       "</tr>\n",
       "</table>\n",
       "<table class=\"simpletable\">\n",
       "<tr>\n",
       "      <td></td>        <th>coef</th>     <th>std err</th>      <th>z</th>      <th>P>|z|</th>  <th>[0.025</th>    <th>0.975]</th>  \n",
       "</tr>\n",
       "<tr>\n",
       "  <th>ar.L1</th>    <td>    0.4002</td> <td>    0.040</td> <td>   10.026</td> <td> 0.000</td> <td>    0.322</td> <td>    0.478</td>\n",
       "</tr>\n",
       "<tr>\n",
       "  <th>ar.L2</th>    <td>    0.2279</td> <td>    0.043</td> <td>    5.260</td> <td> 0.000</td> <td>    0.143</td> <td>    0.313</td>\n",
       "</tr>\n",
       "<tr>\n",
       "  <th>ar.L3</th>    <td>    0.0557</td> <td>    0.039</td> <td>    1.439</td> <td> 0.150</td> <td>   -0.020</td> <td>    0.132</td>\n",
       "</tr>\n",
       "<tr>\n",
       "  <th>ar.S.L12</th> <td>    0.6699</td> <td>    0.035</td> <td>   19.178</td> <td> 0.000</td> <td>    0.601</td> <td>    0.738</td>\n",
       "</tr>\n",
       "<tr>\n",
       "  <th>sigma2</th>   <td>   31.4064</td> <td>    1.833</td> <td>   17.130</td> <td> 0.000</td> <td>   27.813</td> <td>   35.000</td>\n",
       "</tr>\n",
       "</table>\n",
       "<table class=\"simpletable\">\n",
       "<tr>\n",
       "  <th>Ljung-Box (L1) (Q):</th>     <td>2.43</td> <th>  Jarque-Bera (JB):  </th> <td>14.29</td>\n",
       "</tr>\n",
       "<tr>\n",
       "  <th>Prob(Q):</th>                <td>0.12</td> <th>  Prob(JB):          </th> <td>0.00</td> \n",
       "</tr>\n",
       "<tr>\n",
       "  <th>Heteroskedasticity (H):</th> <td>0.78</td> <th>  Skew:              </th> <td>-0.33</td>\n",
       "</tr>\n",
       "<tr>\n",
       "  <th>Prob(H) (two-sided):</th>    <td>0.06</td> <th>  Kurtosis:          </th> <td>3.30</td> \n",
       "</tr>\n",
       "</table><br/><br/>Warnings:<br/>[1] Covariance matrix calculated using the outer product of gradients (complex-step)."
      ],
      "text/latex": [
       "\\begin{center}\n",
       "\\begin{tabular}{lclc}\n",
       "\\toprule\n",
       "\\textbf{Dep. Variable:}          &               y                & \\textbf{  No. Observations:  } &    660      \\\\\n",
       "\\textbf{Model:}                  & SARIMAX(3, 0, 0)x(1, 0, 0, 12) & \\textbf{  Log Likelihood     } & -2077.877   \\\\\n",
       "\\textbf{Date:}                   &        Fri, 25 Apr 2025        & \\textbf{  AIC                } &  4165.754   \\\\\n",
       "\\textbf{Time:}                   &            17:46:10            & \\textbf{  BIC                } &  4188.215   \\\\\n",
       "\\textbf{Sample:}                 &               0                & \\textbf{  HQIC               } &  4174.460   \\\\\n",
       "\\textbf{}                        &              - 660             & \\textbf{                     } &             \\\\\n",
       "\\textbf{Covariance Type:}        &              opg               & \\textbf{                     } &             \\\\\n",
       "\\bottomrule\n",
       "\\end{tabular}\n",
       "\\begin{tabular}{lcccccc}\n",
       "                  & \\textbf{coef} & \\textbf{std err} & \\textbf{z} & \\textbf{P$> |$z$|$} & \\textbf{[0.025} & \\textbf{0.975]}  \\\\\n",
       "\\midrule\n",
       "\\textbf{ar.L1}    &       0.4002  &        0.040     &    10.026  &         0.000        &        0.322    &        0.478     \\\\\n",
       "\\textbf{ar.L2}    &       0.2279  &        0.043     &     5.260  &         0.000        &        0.143    &        0.313     \\\\\n",
       "\\textbf{ar.L3}    &       0.0557  &        0.039     &     1.439  &         0.150        &       -0.020    &        0.132     \\\\\n",
       "\\textbf{ar.S.L12} &       0.6699  &        0.035     &    19.178  &         0.000        &        0.601    &        0.738     \\\\\n",
       "\\textbf{sigma2}   &      31.4064  &        1.833     &    17.130  &         0.000        &       27.813    &       35.000     \\\\\n",
       "\\bottomrule\n",
       "\\end{tabular}\n",
       "\\begin{tabular}{lclc}\n",
       "\\textbf{Ljung-Box (L1) (Q):}     & 2.43 & \\textbf{  Jarque-Bera (JB):  } & 14.29  \\\\\n",
       "\\textbf{Prob(Q):}                & 0.12 & \\textbf{  Prob(JB):          } &  0.00  \\\\\n",
       "\\textbf{Heteroskedasticity (H):} & 0.78 & \\textbf{  Skew:              } & -0.33  \\\\\n",
       "\\textbf{Prob(H) (two-sided):}    & 0.06 & \\textbf{  Kurtosis:          } &  3.30  \\\\\n",
       "\\bottomrule\n",
       "\\end{tabular}\n",
       "%\\caption{SARIMAX Results}\n",
       "\\end{center}\n",
       "\n",
       "Warnings: \\newline\n",
       " [1] Covariance matrix calculated using the outer product of gradients (complex-step)."
      ],
      "text/plain": [
       "<class 'statsmodels.iolib.summary.Summary'>\n",
       "\"\"\"\n",
       "                                     SARIMAX Results                                      \n",
       "==========================================================================================\n",
       "Dep. Variable:                                  y   No. Observations:                  660\n",
       "Model:             SARIMAX(3, 0, 0)x(1, 0, 0, 12)   Log Likelihood               -2077.877\n",
       "Date:                            Fri, 25 Apr 2025   AIC                           4165.754\n",
       "Time:                                    17:46:10   BIC                           4188.215\n",
       "Sample:                                         0   HQIC                          4174.460\n",
       "                                            - 660                                         \n",
       "Covariance Type:                              opg                                         \n",
       "==============================================================================\n",
       "                 coef    std err          z      P>|z|      [0.025      0.975]\n",
       "------------------------------------------------------------------------------\n",
       "ar.L1          0.4002      0.040     10.026      0.000       0.322       0.478\n",
       "ar.L2          0.2279      0.043      5.260      0.000       0.143       0.313\n",
       "ar.L3          0.0557      0.039      1.439      0.150      -0.020       0.132\n",
       "ar.S.L12       0.6699      0.035     19.178      0.000       0.601       0.738\n",
       "sigma2        31.4064      1.833     17.130      0.000      27.813      35.000\n",
       "===================================================================================\n",
       "Ljung-Box (L1) (Q):                   2.43   Jarque-Bera (JB):                14.29\n",
       "Prob(Q):                              0.12   Prob(JB):                         0.00\n",
       "Heteroskedasticity (H):               0.78   Skew:                            -0.33\n",
       "Prob(H) (two-sided):                  0.06   Kurtosis:                         3.30\n",
       "===================================================================================\n",
       "\n",
       "Warnings:\n",
       "[1] Covariance matrix calculated using the outer product of gradients (complex-step).\n",
       "\"\"\""
      ]
     },
     "execution_count": 75,
     "metadata": {},
     "output_type": "execute_result"
    }
   ],
   "source": [
    "modelo=SARIMAX(ypre,\n",
    "               order=(3,0,0),\n",
    "               seasonal_order=(1,0,0,12)).fit()\n",
    "\n",
    "modelo.summary()"
   ]
  },
  {
   "cell_type": "code",
   "execution_count": 76,
   "metadata": {},
   "outputs": [
    {
     "name": "stdout",
     "output_type": "stream",
     "text": [
      "Hay coeficientes no significativos, no se cumple el principio de parsimonia\n"
     ]
    }
   ],
   "source": [
    "parsimonia(modelo)"
   ]
  },
  {
   "cell_type": "code",
   "execution_count": 77,
   "metadata": {},
   "outputs": [
    {
     "name": "stdout",
     "output_type": "stream",
     "text": [
      "El polinomio de la parte autoregresiva es: {'p1': -0.400174020610416, 'p2': -0.22794547034432242, 'p3': -0.05574785460294913, 'p12': -0.6698843139386909}\n",
      "\n",
      "Raíces del polinomio característico: [-1.05220189+0.j         -0.90958638+0.52983555j -0.90958638-0.52983555j\n",
      " -0.51892049+0.91921921j -0.51892049-0.91921921j  0.02532635+1.05666773j\n",
      "  0.02532635-1.05666773j  0.56272603+0.87798168j  0.56272603-0.87798168j\n",
      "  0.89116652+0.44785163j  0.89116652-0.44785163j  0.95077782+0.j        ]\n",
      "\n",
      "Módulo de las raíces: [1.05220189 1.05265051 1.05265051 1.05557682 1.05557682 1.0569712\n",
      " 1.0569712  1.04283863 1.04283863 0.99737096 0.99737096 0.95077782]\n",
      "\n",
      "¿Las raíces están fuera del círculo unitario?  False\n",
      "\n",
      "El modelo no es estacionario\n"
     ]
    }
   ],
   "source": [
    "estacionario(modelo)"
   ]
  },
  {
   "cell_type": "markdown",
   "metadata": {},
   "source": [
    "## **24° Modelo con mejor AIC**"
   ]
  },
  {
   "cell_type": "code",
   "execution_count": 78,
   "metadata": {
    "tags": []
   },
   "outputs": [
    {
     "data": {
      "text/html": [
       "<table class=\"simpletable\">\n",
       "<caption>SARIMAX Results</caption>\n",
       "<tr>\n",
       "  <th>Dep. Variable:</th>                  <td>y</td>               <th>  No. Observations:  </th>    <td>660</td>   \n",
       "</tr>\n",
       "<tr>\n",
       "  <th>Model:</th>           <td>SARIMAX(2, 0, 0)x(1, 0, 0, 12)</td> <th>  Log Likelihood     </th> <td>-2078.894</td>\n",
       "</tr>\n",
       "<tr>\n",
       "  <th>Date:</th>                   <td>Fri, 25 Apr 2025</td>        <th>  AIC                </th> <td>4165.788</td> \n",
       "</tr>\n",
       "<tr>\n",
       "  <th>Time:</th>                       <td>17:46:11</td>            <th>  BIC                </th> <td>4183.757</td> \n",
       "</tr>\n",
       "<tr>\n",
       "  <th>Sample:</th>                         <td>0</td>               <th>  HQIC               </th> <td>4172.753</td> \n",
       "</tr>\n",
       "<tr>\n",
       "  <th></th>                             <td> - 660</td>             <th>                     </th>     <td> </td>    \n",
       "</tr>\n",
       "<tr>\n",
       "  <th>Covariance Type:</th>               <td>opg</td>              <th>                     </th>     <td> </td>    \n",
       "</tr>\n",
       "</table>\n",
       "<table class=\"simpletable\">\n",
       "<tr>\n",
       "      <td></td>        <th>coef</th>     <th>std err</th>      <th>z</th>      <th>P>|z|</th>  <th>[0.025</th>    <th>0.975]</th>  \n",
       "</tr>\n",
       "<tr>\n",
       "  <th>ar.L1</th>    <td>    0.4177</td> <td>    0.040</td> <td>   10.479</td> <td> 0.000</td> <td>    0.340</td> <td>    0.496</td>\n",
       "</tr>\n",
       "<tr>\n",
       "  <th>ar.L2</th>    <td>    0.2525</td> <td>    0.040</td> <td>    6.330</td> <td> 0.000</td> <td>    0.174</td> <td>    0.331</td>\n",
       "</tr>\n",
       "<tr>\n",
       "  <th>ar.S.L12</th> <td>    0.6656</td> <td>    0.035</td> <td>   19.060</td> <td> 0.000</td> <td>    0.597</td> <td>    0.734</td>\n",
       "</tr>\n",
       "<tr>\n",
       "  <th>sigma2</th>   <td>   31.5106</td> <td>    1.835</td> <td>   17.168</td> <td> 0.000</td> <td>   27.913</td> <td>   35.108</td>\n",
       "</tr>\n",
       "</table>\n",
       "<table class=\"simpletable\">\n",
       "<tr>\n",
       "  <th>Ljung-Box (L1) (Q):</th>     <td>4.30</td> <th>  Jarque-Bera (JB):  </th> <td>14.10</td>\n",
       "</tr>\n",
       "<tr>\n",
       "  <th>Prob(Q):</th>                <td>0.04</td> <th>  Prob(JB):          </th> <td>0.00</td> \n",
       "</tr>\n",
       "<tr>\n",
       "  <th>Heteroskedasticity (H):</th> <td>0.78</td> <th>  Skew:              </th> <td>-0.32</td>\n",
       "</tr>\n",
       "<tr>\n",
       "  <th>Prob(H) (two-sided):</th>    <td>0.06</td> <th>  Kurtosis:          </th> <td>3.32</td> \n",
       "</tr>\n",
       "</table><br/><br/>Warnings:<br/>[1] Covariance matrix calculated using the outer product of gradients (complex-step)."
      ],
      "text/latex": [
       "\\begin{center}\n",
       "\\begin{tabular}{lclc}\n",
       "\\toprule\n",
       "\\textbf{Dep. Variable:}          &               y                & \\textbf{  No. Observations:  } &    660      \\\\\n",
       "\\textbf{Model:}                  & SARIMAX(2, 0, 0)x(1, 0, 0, 12) & \\textbf{  Log Likelihood     } & -2078.894   \\\\\n",
       "\\textbf{Date:}                   &        Fri, 25 Apr 2025        & \\textbf{  AIC                } &  4165.788   \\\\\n",
       "\\textbf{Time:}                   &            17:46:11            & \\textbf{  BIC                } &  4183.757   \\\\\n",
       "\\textbf{Sample:}                 &               0                & \\textbf{  HQIC               } &  4172.753   \\\\\n",
       "\\textbf{}                        &              - 660             & \\textbf{                     } &             \\\\\n",
       "\\textbf{Covariance Type:}        &              opg               & \\textbf{                     } &             \\\\\n",
       "\\bottomrule\n",
       "\\end{tabular}\n",
       "\\begin{tabular}{lcccccc}\n",
       "                  & \\textbf{coef} & \\textbf{std err} & \\textbf{z} & \\textbf{P$> |$z$|$} & \\textbf{[0.025} & \\textbf{0.975]}  \\\\\n",
       "\\midrule\n",
       "\\textbf{ar.L1}    &       0.4177  &        0.040     &    10.479  &         0.000        &        0.340    &        0.496     \\\\\n",
       "\\textbf{ar.L2}    &       0.2525  &        0.040     &     6.330  &         0.000        &        0.174    &        0.331     \\\\\n",
       "\\textbf{ar.S.L12} &       0.6656  &        0.035     &    19.060  &         0.000        &        0.597    &        0.734     \\\\\n",
       "\\textbf{sigma2}   &      31.5106  &        1.835     &    17.168  &         0.000        &       27.913    &       35.108     \\\\\n",
       "\\bottomrule\n",
       "\\end{tabular}\n",
       "\\begin{tabular}{lclc}\n",
       "\\textbf{Ljung-Box (L1) (Q):}     & 4.30 & \\textbf{  Jarque-Bera (JB):  } & 14.10  \\\\\n",
       "\\textbf{Prob(Q):}                & 0.04 & \\textbf{  Prob(JB):          } &  0.00  \\\\\n",
       "\\textbf{Heteroskedasticity (H):} & 0.78 & \\textbf{  Skew:              } & -0.32  \\\\\n",
       "\\textbf{Prob(H) (two-sided):}    & 0.06 & \\textbf{  Kurtosis:          } &  3.32  \\\\\n",
       "\\bottomrule\n",
       "\\end{tabular}\n",
       "%\\caption{SARIMAX Results}\n",
       "\\end{center}\n",
       "\n",
       "Warnings: \\newline\n",
       " [1] Covariance matrix calculated using the outer product of gradients (complex-step)."
      ],
      "text/plain": [
       "<class 'statsmodels.iolib.summary.Summary'>\n",
       "\"\"\"\n",
       "                                     SARIMAX Results                                      \n",
       "==========================================================================================\n",
       "Dep. Variable:                                  y   No. Observations:                  660\n",
       "Model:             SARIMAX(2, 0, 0)x(1, 0, 0, 12)   Log Likelihood               -2078.894\n",
       "Date:                            Fri, 25 Apr 2025   AIC                           4165.788\n",
       "Time:                                    17:46:11   BIC                           4183.757\n",
       "Sample:                                         0   HQIC                          4172.753\n",
       "                                            - 660                                         \n",
       "Covariance Type:                              opg                                         \n",
       "==============================================================================\n",
       "                 coef    std err          z      P>|z|      [0.025      0.975]\n",
       "------------------------------------------------------------------------------\n",
       "ar.L1          0.4177      0.040     10.479      0.000       0.340       0.496\n",
       "ar.L2          0.2525      0.040      6.330      0.000       0.174       0.331\n",
       "ar.S.L12       0.6656      0.035     19.060      0.000       0.597       0.734\n",
       "sigma2        31.5106      1.835     17.168      0.000      27.913      35.108\n",
       "===================================================================================\n",
       "Ljung-Box (L1) (Q):                   4.30   Jarque-Bera (JB):                14.10\n",
       "Prob(Q):                              0.04   Prob(JB):                         0.00\n",
       "Heteroskedasticity (H):               0.78   Skew:                            -0.32\n",
       "Prob(H) (two-sided):                  0.06   Kurtosis:                         3.32\n",
       "===================================================================================\n",
       "\n",
       "Warnings:\n",
       "[1] Covariance matrix calculated using the outer product of gradients (complex-step).\n",
       "\"\"\""
      ]
     },
     "execution_count": 78,
     "metadata": {},
     "output_type": "execute_result"
    }
   ],
   "source": [
    "modelo=SARIMAX(ypre,\n",
    "               order=(2,0,0),\n",
    "               seasonal_order=(1,0,0,12)).fit()\n",
    "\n",
    "modelo.summary()"
   ]
  },
  {
   "cell_type": "code",
   "execution_count": 79,
   "metadata": {},
   "outputs": [
    {
     "name": "stdout",
     "output_type": "stream",
     "text": [
      "El modelo cumple el principio de parsimonia\n",
      "\n",
      ":)\n"
     ]
    }
   ],
   "source": [
    "parsimonia(modelo)"
   ]
  },
  {
   "cell_type": "code",
   "execution_count": 80,
   "metadata": {},
   "outputs": [
    {
     "name": "stdout",
     "output_type": "stream",
     "text": [
      "El polinomio de la parte autoregresiva es: {'p1': -0.41773090697122894, 'p2': -0.2525234371401539, 'p12': -0.6655754803106958}\n",
      "\n",
      "Raíces del polinomio característico: [-1.04741943+0.j         -0.91296606+0.52524079j -0.91296606-0.52524079j\n",
      " -0.52312585+0.92441786j -0.52312585-0.92441786j  0.03065601+1.06035047j\n",
      "  0.03065601-1.06035047j  0.56538623+0.87327468j  0.56538623-0.87327468j\n",
      "  0.88734515+0.44750105j  0.88734515-0.44750105j  0.95282848+0.j        ]\n",
      "\n",
      "Módulo de las raíces: [1.04741943 1.05327343 1.05327343 1.06217185 1.06217185 1.06079353\n",
      " 1.06079353 1.04032218 1.04032218 0.99380009 0.99380009 0.95282848]\n",
      "\n",
      "¿Las raíces están fuera del círculo unitario?  False\n",
      "\n",
      "El modelo no es estacionario\n"
     ]
    }
   ],
   "source": [
    "estacionario(modelo)"
   ]
  },
  {
   "cell_type": "markdown",
   "metadata": {},
   "source": [
    "## **25° Modelo con mejor AIC**"
   ]
  },
  {
   "cell_type": "code",
   "execution_count": 81,
   "metadata": {
    "tags": []
   },
   "outputs": [
    {
     "data": {
      "text/html": [
       "<table class=\"simpletable\">\n",
       "<caption>SARIMAX Results</caption>\n",
       "<tr>\n",
       "  <th>Dep. Variable:</th>                  <td>y</td>               <th>  No. Observations:  </th>    <td>660</td>   \n",
       "</tr>\n",
       "<tr>\n",
       "  <th>Model:</th>           <td>SARIMAX(1, 0, 0)x(1, 0, 0, 12)</td> <th>  Log Likelihood     </th> <td>-2091.719</td>\n",
       "</tr>\n",
       "<tr>\n",
       "  <th>Date:</th>                   <td>Fri, 25 Apr 2025</td>        <th>  AIC                </th> <td>4189.439</td> \n",
       "</tr>\n",
       "<tr>\n",
       "  <th>Time:</th>                       <td>17:46:11</td>            <th>  BIC                </th> <td>4202.916</td> \n",
       "</tr>\n",
       "<tr>\n",
       "  <th>Sample:</th>                         <td>0</td>               <th>  HQIC               </th> <td>4194.663</td> \n",
       "</tr>\n",
       "<tr>\n",
       "  <th></th>                             <td> - 660</td>             <th>                     </th>     <td> </td>    \n",
       "</tr>\n",
       "<tr>\n",
       "  <th>Covariance Type:</th>               <td>opg</td>              <th>                     </th>     <td> </td>    \n",
       "</tr>\n",
       "</table>\n",
       "<table class=\"simpletable\">\n",
       "<tr>\n",
       "      <td></td>        <th>coef</th>     <th>std err</th>      <th>z</th>      <th>P>|z|</th>  <th>[0.025</th>    <th>0.975]</th>  \n",
       "</tr>\n",
       "<tr>\n",
       "  <th>ar.L1</th>    <td>    0.3011</td> <td>    0.036</td> <td>    8.392</td> <td> 0.000</td> <td>    0.231</td> <td>    0.371</td>\n",
       "</tr>\n",
       "<tr>\n",
       "  <th>ar.S.L12</th> <td>    0.8511</td> <td>    0.025</td> <td>   34.530</td> <td> 0.000</td> <td>    0.803</td> <td>    0.899</td>\n",
       "</tr>\n",
       "<tr>\n",
       "  <th>sigma2</th>   <td>   32.3659</td> <td>    1.843</td> <td>   17.564</td> <td> 0.000</td> <td>   28.754</td> <td>   35.977</td>\n",
       "</tr>\n",
       "</table>\n",
       "<table class=\"simpletable\">\n",
       "<tr>\n",
       "  <th>Ljung-Box (L1) (Q):</th>     <td>7.97</td> <th>  Jarque-Bera (JB):  </th> <td>23.91</td>\n",
       "</tr>\n",
       "<tr>\n",
       "  <th>Prob(Q):</th>                <td>0.00</td> <th>  Prob(JB):          </th> <td>0.00</td> \n",
       "</tr>\n",
       "<tr>\n",
       "  <th>Heteroskedasticity (H):</th> <td>0.80</td> <th>  Skew:              </th> <td>-0.39</td>\n",
       "</tr>\n",
       "<tr>\n",
       "  <th>Prob(H) (two-sided):</th>    <td>0.10</td> <th>  Kurtosis:          </th> <td>3.52</td> \n",
       "</tr>\n",
       "</table><br/><br/>Warnings:<br/>[1] Covariance matrix calculated using the outer product of gradients (complex-step)."
      ],
      "text/latex": [
       "\\begin{center}\n",
       "\\begin{tabular}{lclc}\n",
       "\\toprule\n",
       "\\textbf{Dep. Variable:}          &               y                & \\textbf{  No. Observations:  } &    660      \\\\\n",
       "\\textbf{Model:}                  & SARIMAX(1, 0, 0)x(1, 0, 0, 12) & \\textbf{  Log Likelihood     } & -2091.719   \\\\\n",
       "\\textbf{Date:}                   &        Fri, 25 Apr 2025        & \\textbf{  AIC                } &  4189.439   \\\\\n",
       "\\textbf{Time:}                   &            17:46:11            & \\textbf{  BIC                } &  4202.916   \\\\\n",
       "\\textbf{Sample:}                 &               0                & \\textbf{  HQIC               } &  4194.663   \\\\\n",
       "\\textbf{}                        &              - 660             & \\textbf{                     } &             \\\\\n",
       "\\textbf{Covariance Type:}        &              opg               & \\textbf{                     } &             \\\\\n",
       "\\bottomrule\n",
       "\\end{tabular}\n",
       "\\begin{tabular}{lcccccc}\n",
       "                  & \\textbf{coef} & \\textbf{std err} & \\textbf{z} & \\textbf{P$> |$z$|$} & \\textbf{[0.025} & \\textbf{0.975]}  \\\\\n",
       "\\midrule\n",
       "\\textbf{ar.L1}    &       0.3011  &        0.036     &     8.392  &         0.000        &        0.231    &        0.371     \\\\\n",
       "\\textbf{ar.S.L12} &       0.8511  &        0.025     &    34.530  &         0.000        &        0.803    &        0.899     \\\\\n",
       "\\textbf{sigma2}   &      32.3659  &        1.843     &    17.564  &         0.000        &       28.754    &       35.977     \\\\\n",
       "\\bottomrule\n",
       "\\end{tabular}\n",
       "\\begin{tabular}{lclc}\n",
       "\\textbf{Ljung-Box (L1) (Q):}     & 7.97 & \\textbf{  Jarque-Bera (JB):  } & 23.91  \\\\\n",
       "\\textbf{Prob(Q):}                & 0.00 & \\textbf{  Prob(JB):          } &  0.00  \\\\\n",
       "\\textbf{Heteroskedasticity (H):} & 0.80 & \\textbf{  Skew:              } & -0.39  \\\\\n",
       "\\textbf{Prob(H) (two-sided):}    & 0.10 & \\textbf{  Kurtosis:          } &  3.52  \\\\\n",
       "\\bottomrule\n",
       "\\end{tabular}\n",
       "%\\caption{SARIMAX Results}\n",
       "\\end{center}\n",
       "\n",
       "Warnings: \\newline\n",
       " [1] Covariance matrix calculated using the outer product of gradients (complex-step)."
      ],
      "text/plain": [
       "<class 'statsmodels.iolib.summary.Summary'>\n",
       "\"\"\"\n",
       "                                     SARIMAX Results                                      \n",
       "==========================================================================================\n",
       "Dep. Variable:                                  y   No. Observations:                  660\n",
       "Model:             SARIMAX(1, 0, 0)x(1, 0, 0, 12)   Log Likelihood               -2091.719\n",
       "Date:                            Fri, 25 Apr 2025   AIC                           4189.439\n",
       "Time:                                    17:46:11   BIC                           4202.916\n",
       "Sample:                                         0   HQIC                          4194.663\n",
       "                                            - 660                                         \n",
       "Covariance Type:                              opg                                         \n",
       "==============================================================================\n",
       "                 coef    std err          z      P>|z|      [0.025      0.975]\n",
       "------------------------------------------------------------------------------\n",
       "ar.L1          0.3011      0.036      8.392      0.000       0.231       0.371\n",
       "ar.S.L12       0.8511      0.025     34.530      0.000       0.803       0.899\n",
       "sigma2        32.3659      1.843     17.564      0.000      28.754      35.977\n",
       "===================================================================================\n",
       "Ljung-Box (L1) (Q):                   7.97   Jarque-Bera (JB):                23.91\n",
       "Prob(Q):                              0.00   Prob(JB):                         0.00\n",
       "Heteroskedasticity (H):               0.80   Skew:                            -0.39\n",
       "Prob(H) (two-sided):                  0.10   Kurtosis:                         3.52\n",
       "===================================================================================\n",
       "\n",
       "Warnings:\n",
       "[1] Covariance matrix calculated using the outer product of gradients (complex-step).\n",
       "\"\"\""
      ]
     },
     "execution_count": 81,
     "metadata": {},
     "output_type": "execute_result"
    }
   ],
   "source": [
    "modelo=SARIMAX(ypre,\n",
    "               order=(1,0,0),\n",
    "               seasonal_order=(1,0,0,12)).fit()\n",
    "\n",
    "modelo.summary()"
   ]
  },
  {
   "cell_type": "code",
   "execution_count": 82,
   "metadata": {},
   "outputs": [
    {
     "name": "stdout",
     "output_type": "stream",
     "text": [
      "El modelo cumple el principio de parsimonia\n",
      "\n",
      ":)\n"
     ]
    }
   ],
   "source": [
    "parsimonia(modelo)"
   ]
  },
  {
   "cell_type": "code",
   "execution_count": 83,
   "metadata": {},
   "outputs": [
    {
     "name": "stdout",
     "output_type": "stream",
     "text": [
      "El polinomio de la parte autoregresiva es: {'p1': -0.30108042199857904, 'p12': -0.8510802471097232}\n",
      "\n",
      "Raíces del polinomio característico: [-1.03673434+0.j         -0.89045802+0.52648447j -0.89045802-0.52648447j\n",
      " -0.49657909+0.89973822j -0.49657909-0.89973822j  0.02534092+1.0164066j\n",
      "  0.02534092-1.0164066j   0.5227729 +0.85586651j  0.5227729 -0.85586651j\n",
      "  0.86515377+0.4810743j   0.86515377-0.4810743j   0.9842734 +0.j        ]\n",
      "\n",
      "Módulo de las raíces: [1.03673434 1.03445705 1.03445705 1.02767683 1.02767683 1.01672245\n",
      " 1.01672245 1.0028953  1.0028953  0.98991087 0.98991087 0.9842734 ]\n",
      "\n",
      "¿Las raíces están fuera del círculo unitario?  False\n",
      "\n",
      "El modelo no es estacionario\n"
     ]
    }
   ],
   "source": [
    "estacionario(modelo)"
   ]
  },
  {
   "cell_type": "markdown",
   "metadata": {},
   "source": [
    "## **26° Modelo con mejor AIC**"
   ]
  },
  {
   "cell_type": "code",
   "execution_count": 84,
   "metadata": {
    "tags": []
   },
   "outputs": [
    {
     "data": {
      "text/html": [
       "<table class=\"simpletable\">\n",
       "<caption>SARIMAX Results</caption>\n",
       "<tr>\n",
       "  <th>Dep. Variable:</th>           <td>y</td>        <th>  No. Observations:  </th>    <td>660</td>   \n",
       "</tr>\n",
       "<tr>\n",
       "  <th>Model:</th>           <td>SARIMAX(4, 0, 0)</td> <th>  Log Likelihood     </th> <td>-2155.704</td>\n",
       "</tr>\n",
       "<tr>\n",
       "  <th>Date:</th>            <td>Fri, 25 Apr 2025</td> <th>  AIC                </th> <td>4321.407</td> \n",
       "</tr>\n",
       "<tr>\n",
       "  <th>Time:</th>                <td>17:46:11</td>     <th>  BIC                </th> <td>4343.869</td> \n",
       "</tr>\n",
       "<tr>\n",
       "  <th>Sample:</th>                  <td>0</td>        <th>  HQIC               </th> <td>4330.114</td> \n",
       "</tr>\n",
       "<tr>\n",
       "  <th></th>                      <td> - 660</td>      <th>                     </th>     <td> </td>    \n",
       "</tr>\n",
       "<tr>\n",
       "  <th>Covariance Type:</th>        <td>opg</td>       <th>                     </th>     <td> </td>    \n",
       "</tr>\n",
       "</table>\n",
       "<table class=\"simpletable\">\n",
       "<tr>\n",
       "     <td></td>       <th>coef</th>     <th>std err</th>      <th>z</th>      <th>P>|z|</th>  <th>[0.025</th>    <th>0.975]</th>  \n",
       "</tr>\n",
       "<tr>\n",
       "  <th>ar.L1</th>  <td>    0.8634</td> <td>    0.041</td> <td>   21.085</td> <td> 0.000</td> <td>    0.783</td> <td>    0.944</td>\n",
       "</tr>\n",
       "<tr>\n",
       "  <th>ar.L2</th>  <td>    0.1377</td> <td>    0.052</td> <td>    2.672</td> <td> 0.008</td> <td>    0.037</td> <td>    0.239</td>\n",
       "</tr>\n",
       "<tr>\n",
       "  <th>ar.L3</th>  <td>   -0.0685</td> <td>    0.052</td> <td>   -1.313</td> <td> 0.189</td> <td>   -0.171</td> <td>    0.034</td>\n",
       "</tr>\n",
       "<tr>\n",
       "  <th>ar.L4</th>  <td>   -0.0442</td> <td>    0.040</td> <td>   -1.114</td> <td> 0.265</td> <td>   -0.122</td> <td>    0.034</td>\n",
       "</tr>\n",
       "<tr>\n",
       "  <th>sigma2</th> <td>   40.1292</td> <td>    2.430</td> <td>   16.514</td> <td> 0.000</td> <td>   35.366</td> <td>   44.892</td>\n",
       "</tr>\n",
       "</table>\n",
       "<table class=\"simpletable\">\n",
       "<tr>\n",
       "  <th>Ljung-Box (L1) (Q):</th>     <td>1.47</td> <th>  Jarque-Bera (JB):  </th> <td>1.42</td> \n",
       "</tr>\n",
       "<tr>\n",
       "  <th>Prob(Q):</th>                <td>0.23</td> <th>  Prob(JB):          </th> <td>0.49</td> \n",
       "</tr>\n",
       "<tr>\n",
       "  <th>Heteroskedasticity (H):</th> <td>0.87</td> <th>  Skew:              </th> <td>-0.11</td>\n",
       "</tr>\n",
       "<tr>\n",
       "  <th>Prob(H) (two-sided):</th>    <td>0.31</td> <th>  Kurtosis:          </th> <td>2.93</td> \n",
       "</tr>\n",
       "</table><br/><br/>Warnings:<br/>[1] Covariance matrix calculated using the outer product of gradients (complex-step)."
      ],
      "text/latex": [
       "\\begin{center}\n",
       "\\begin{tabular}{lclc}\n",
       "\\toprule\n",
       "\\textbf{Dep. Variable:}          &        y         & \\textbf{  No. Observations:  } &    660      \\\\\n",
       "\\textbf{Model:}                  & SARIMAX(4, 0, 0) & \\textbf{  Log Likelihood     } & -2155.704   \\\\\n",
       "\\textbf{Date:}                   & Fri, 25 Apr 2025 & \\textbf{  AIC                } &  4321.407   \\\\\n",
       "\\textbf{Time:}                   &     17:46:11     & \\textbf{  BIC                } &  4343.869   \\\\\n",
       "\\textbf{Sample:}                 &        0         & \\textbf{  HQIC               } &  4330.114   \\\\\n",
       "\\textbf{}                        &       - 660      & \\textbf{                     } &             \\\\\n",
       "\\textbf{Covariance Type:}        &       opg        & \\textbf{                     } &             \\\\\n",
       "\\bottomrule\n",
       "\\end{tabular}\n",
       "\\begin{tabular}{lcccccc}\n",
       "                & \\textbf{coef} & \\textbf{std err} & \\textbf{z} & \\textbf{P$> |$z$|$} & \\textbf{[0.025} & \\textbf{0.975]}  \\\\\n",
       "\\midrule\n",
       "\\textbf{ar.L1}  &       0.8634  &        0.041     &    21.085  &         0.000        &        0.783    &        0.944     \\\\\n",
       "\\textbf{ar.L2}  &       0.1377  &        0.052     &     2.672  &         0.008        &        0.037    &        0.239     \\\\\n",
       "\\textbf{ar.L3}  &      -0.0685  &        0.052     &    -1.313  &         0.189        &       -0.171    &        0.034     \\\\\n",
       "\\textbf{ar.L4}  &      -0.0442  &        0.040     &    -1.114  &         0.265        &       -0.122    &        0.034     \\\\\n",
       "\\textbf{sigma2} &      40.1292  &        2.430     &    16.514  &         0.000        &       35.366    &       44.892     \\\\\n",
       "\\bottomrule\n",
       "\\end{tabular}\n",
       "\\begin{tabular}{lclc}\n",
       "\\textbf{Ljung-Box (L1) (Q):}     & 1.47 & \\textbf{  Jarque-Bera (JB):  } &  1.42  \\\\\n",
       "\\textbf{Prob(Q):}                & 0.23 & \\textbf{  Prob(JB):          } &  0.49  \\\\\n",
       "\\textbf{Heteroskedasticity (H):} & 0.87 & \\textbf{  Skew:              } & -0.11  \\\\\n",
       "\\textbf{Prob(H) (two-sided):}    & 0.31 & \\textbf{  Kurtosis:          } &  2.93  \\\\\n",
       "\\bottomrule\n",
       "\\end{tabular}\n",
       "%\\caption{SARIMAX Results}\n",
       "\\end{center}\n",
       "\n",
       "Warnings: \\newline\n",
       " [1] Covariance matrix calculated using the outer product of gradients (complex-step)."
      ],
      "text/plain": [
       "<class 'statsmodels.iolib.summary.Summary'>\n",
       "\"\"\"\n",
       "                               SARIMAX Results                                \n",
       "==============================================================================\n",
       "Dep. Variable:                      y   No. Observations:                  660\n",
       "Model:               SARIMAX(4, 0, 0)   Log Likelihood               -2155.704\n",
       "Date:                Fri, 25 Apr 2025   AIC                           4321.407\n",
       "Time:                        17:46:11   BIC                           4343.869\n",
       "Sample:                             0   HQIC                          4330.114\n",
       "                                - 660                                         \n",
       "Covariance Type:                  opg                                         \n",
       "==============================================================================\n",
       "                 coef    std err          z      P>|z|      [0.025      0.975]\n",
       "------------------------------------------------------------------------------\n",
       "ar.L1          0.8634      0.041     21.085      0.000       0.783       0.944\n",
       "ar.L2          0.1377      0.052      2.672      0.008       0.037       0.239\n",
       "ar.L3         -0.0685      0.052     -1.313      0.189      -0.171       0.034\n",
       "ar.L4         -0.0442      0.040     -1.114      0.265      -0.122       0.034\n",
       "sigma2        40.1292      2.430     16.514      0.000      35.366      44.892\n",
       "===================================================================================\n",
       "Ljung-Box (L1) (Q):                   1.47   Jarque-Bera (JB):                 1.42\n",
       "Prob(Q):                              0.23   Prob(JB):                         0.49\n",
       "Heteroskedasticity (H):               0.87   Skew:                            -0.11\n",
       "Prob(H) (two-sided):                  0.31   Kurtosis:                         2.93\n",
       "===================================================================================\n",
       "\n",
       "Warnings:\n",
       "[1] Covariance matrix calculated using the outer product of gradients (complex-step).\n",
       "\"\"\""
      ]
     },
     "execution_count": 84,
     "metadata": {},
     "output_type": "execute_result"
    }
   ],
   "source": [
    "modelo=SARIMAX(ypre,\n",
    "               order=(4,0,0),\n",
    "               seasonal_order=(0,0,0,12)).fit()\n",
    "\n",
    "modelo.summary()"
   ]
  },
  {
   "cell_type": "code",
   "execution_count": 85,
   "metadata": {},
   "outputs": [
    {
     "name": "stdout",
     "output_type": "stream",
     "text": [
      "Hay coeficientes no significativos, no se cumple el principio de parsimonia\n"
     ]
    }
   ],
   "source": [
    "parsimonia(modelo)"
   ]
  },
  {
   "cell_type": "code",
   "execution_count": 86,
   "metadata": {},
   "outputs": [
    {
     "name": "stdout",
     "output_type": "stream",
     "text": [
      "El polinomio de la parte autoregresiva es: {'p1': -0.863385855686104, 'p2': -0.1377459261998742, 'p3': 0.06847900507020899, 'p4': 0.04424086148750211}\n",
      "\n",
      "Raíces del polinomio característico: [-2.36688996+2.00386585j -2.36688996-2.00386585j  2.02573069+0.j\n",
      "  1.16018143+0.j        ]\n",
      "\n",
      "Módulo de las raíces: [3.10123305 3.10123305 2.02573069 1.16018143]\n",
      "\n",
      "¿Las raíces están fuera del círculo unitario?  True\n",
      "\n",
      "El modelo es estacionario\n",
      "\n",
      ":)\n"
     ]
    }
   ],
   "source": [
    "estacionario(modelo)"
   ]
  },
  {
   "cell_type": "code",
   "execution_count": 87,
   "metadata": {},
   "outputs": [
    {
     "name": "stdout",
     "output_type": "stream",
     "text": [
      "El polinomio de la parte media móvil es: {}\n",
      "\n",
      "Raíces del polinomio característico: []\n",
      "\n",
      "Módulo de las raíces: []\n",
      "\n",
      "¿Las raíces están fuera del círculo unitario?  True\n",
      "\n",
      "El modelo es invertible\n",
      "\n",
      ":)\n"
     ]
    }
   ],
   "source": [
    "invertible(modelo)"
   ]
  },
  {
   "cell_type": "code",
   "execution_count": 88,
   "metadata": {},
   "outputs": [
    {
     "name": "stdout",
     "output_type": "stream",
     "text": [
      "Los residuos no son cero, pvalor=1.1934423805826017e-08, media=1.3922800861621278\n"
     ]
    }
   ],
   "source": [
    "media_cero(modelo)"
   ]
  },
  {
   "cell_type": "markdown",
   "metadata": {},
   "source": [
    "## **27° Modelo con mejor AIC**"
   ]
  },
  {
   "cell_type": "code",
   "execution_count": 89,
   "metadata": {
    "tags": []
   },
   "outputs": [
    {
     "data": {
      "text/html": [
       "<table class=\"simpletable\">\n",
       "<caption>SARIMAX Results</caption>\n",
       "<tr>\n",
       "  <th>Dep. Variable:</th>                    <td>y</td>                  <th>  No. Observations:  </th>    <td>660</td>   \n",
       "</tr>\n",
       "<tr>\n",
       "  <th>Model:</th>           <td>SARIMAX(3, 0, 0)x(0, 0, [1, 2], 12)</td> <th>  Log Likelihood     </th> <td>-2100.044</td>\n",
       "</tr>\n",
       "<tr>\n",
       "  <th>Date:</th>                     <td>Fri, 25 Apr 2025</td>           <th>  AIC                </th> <td>4212.088</td> \n",
       "</tr>\n",
       "<tr>\n",
       "  <th>Time:</th>                         <td>17:46:11</td>               <th>  BIC                </th> <td>4239.041</td> \n",
       "</tr>\n",
       "<tr>\n",
       "  <th>Sample:</th>                           <td>0</td>                  <th>  HQIC               </th> <td>4222.535</td> \n",
       "</tr>\n",
       "<tr>\n",
       "  <th></th>                               <td> - 660</td>                <th>                     </th>     <td> </td>    \n",
       "</tr>\n",
       "<tr>\n",
       "  <th>Covariance Type:</th>                 <td>opg</td>                 <th>                     </th>     <td> </td>    \n",
       "</tr>\n",
       "</table>\n",
       "<table class=\"simpletable\">\n",
       "<tr>\n",
       "      <td></td>        <th>coef</th>     <th>std err</th>      <th>z</th>      <th>P>|z|</th>  <th>[0.025</th>    <th>0.975]</th>  \n",
       "</tr>\n",
       "<tr>\n",
       "  <th>ar.L1</th>    <td>    0.6189</td> <td>    0.042</td> <td>   14.605</td> <td> 0.000</td> <td>    0.536</td> <td>    0.702</td>\n",
       "</tr>\n",
       "<tr>\n",
       "  <th>ar.L2</th>    <td>    0.2496</td> <td>    0.046</td> <td>    5.422</td> <td> 0.000</td> <td>    0.159</td> <td>    0.340</td>\n",
       "</tr>\n",
       "<tr>\n",
       "  <th>ar.L3</th>    <td>   -0.0233</td> <td>    0.039</td> <td>   -0.597</td> <td> 0.550</td> <td>   -0.100</td> <td>    0.053</td>\n",
       "</tr>\n",
       "<tr>\n",
       "  <th>ma.S.L12</th> <td>    0.3488</td> <td>    0.039</td> <td>    8.995</td> <td> 0.000</td> <td>    0.273</td> <td>    0.425</td>\n",
       "</tr>\n",
       "<tr>\n",
       "  <th>ma.S.L24</th> <td>    0.2263</td> <td>    0.041</td> <td>    5.500</td> <td> 0.000</td> <td>    0.146</td> <td>    0.307</td>\n",
       "</tr>\n",
       "<tr>\n",
       "  <th>sigma2</th>   <td>   33.8011</td> <td>    2.044</td> <td>   16.540</td> <td> 0.000</td> <td>   29.796</td> <td>   37.806</td>\n",
       "</tr>\n",
       "</table>\n",
       "<table class=\"simpletable\">\n",
       "<tr>\n",
       "  <th>Ljung-Box (L1) (Q):</th>     <td>1.44</td> <th>  Jarque-Bera (JB):  </th> <td>4.37</td> \n",
       "</tr>\n",
       "<tr>\n",
       "  <th>Prob(Q):</th>                <td>0.23</td> <th>  Prob(JB):          </th> <td>0.11</td> \n",
       "</tr>\n",
       "<tr>\n",
       "  <th>Heteroskedasticity (H):</th> <td>0.82</td> <th>  Skew:              </th> <td>-0.20</td>\n",
       "</tr>\n",
       "<tr>\n",
       "  <th>Prob(H) (two-sided):</th>    <td>0.13</td> <th>  Kurtosis:          </th> <td>2.98</td> \n",
       "</tr>\n",
       "</table><br/><br/>Warnings:<br/>[1] Covariance matrix calculated using the outer product of gradients (complex-step)."
      ],
      "text/latex": [
       "\\begin{center}\n",
       "\\begin{tabular}{lclc}\n",
       "\\toprule\n",
       "\\textbf{Dep. Variable:}          &                  y                  & \\textbf{  No. Observations:  } &    660      \\\\\n",
       "\\textbf{Model:}                  & SARIMAX(3, 0, 0)x(0, 0, [1, 2], 12) & \\textbf{  Log Likelihood     } & -2100.044   \\\\\n",
       "\\textbf{Date:}                   &           Fri, 25 Apr 2025          & \\textbf{  AIC                } &  4212.088   \\\\\n",
       "\\textbf{Time:}                   &               17:46:11              & \\textbf{  BIC                } &  4239.041   \\\\\n",
       "\\textbf{Sample:}                 &                  0                  & \\textbf{  HQIC               } &  4222.535   \\\\\n",
       "\\textbf{}                        &                 - 660               & \\textbf{                     } &             \\\\\n",
       "\\textbf{Covariance Type:}        &                 opg                 & \\textbf{                     } &             \\\\\n",
       "\\bottomrule\n",
       "\\end{tabular}\n",
       "\\begin{tabular}{lcccccc}\n",
       "                  & \\textbf{coef} & \\textbf{std err} & \\textbf{z} & \\textbf{P$> |$z$|$} & \\textbf{[0.025} & \\textbf{0.975]}  \\\\\n",
       "\\midrule\n",
       "\\textbf{ar.L1}    &       0.6189  &        0.042     &    14.605  &         0.000        &        0.536    &        0.702     \\\\\n",
       "\\textbf{ar.L2}    &       0.2496  &        0.046     &     5.422  &         0.000        &        0.159    &        0.340     \\\\\n",
       "\\textbf{ar.L3}    &      -0.0233  &        0.039     &    -0.597  &         0.550        &       -0.100    &        0.053     \\\\\n",
       "\\textbf{ma.S.L12} &       0.3488  &        0.039     &     8.995  &         0.000        &        0.273    &        0.425     \\\\\n",
       "\\textbf{ma.S.L24} &       0.2263  &        0.041     &     5.500  &         0.000        &        0.146    &        0.307     \\\\\n",
       "\\textbf{sigma2}   &      33.8011  &        2.044     &    16.540  &         0.000        &       29.796    &       37.806     \\\\\n",
       "\\bottomrule\n",
       "\\end{tabular}\n",
       "\\begin{tabular}{lclc}\n",
       "\\textbf{Ljung-Box (L1) (Q):}     & 1.44 & \\textbf{  Jarque-Bera (JB):  } &  4.37  \\\\\n",
       "\\textbf{Prob(Q):}                & 0.23 & \\textbf{  Prob(JB):          } &  0.11  \\\\\n",
       "\\textbf{Heteroskedasticity (H):} & 0.82 & \\textbf{  Skew:              } & -0.20  \\\\\n",
       "\\textbf{Prob(H) (two-sided):}    & 0.13 & \\textbf{  Kurtosis:          } &  2.98  \\\\\n",
       "\\bottomrule\n",
       "\\end{tabular}\n",
       "%\\caption{SARIMAX Results}\n",
       "\\end{center}\n",
       "\n",
       "Warnings: \\newline\n",
       " [1] Covariance matrix calculated using the outer product of gradients (complex-step)."
      ],
      "text/plain": [
       "<class 'statsmodels.iolib.summary.Summary'>\n",
       "\"\"\"\n",
       "                                        SARIMAX Results                                        \n",
       "===============================================================================================\n",
       "Dep. Variable:                                       y   No. Observations:                  660\n",
       "Model:             SARIMAX(3, 0, 0)x(0, 0, [1, 2], 12)   Log Likelihood               -2100.044\n",
       "Date:                                 Fri, 25 Apr 2025   AIC                           4212.088\n",
       "Time:                                         17:46:11   BIC                           4239.041\n",
       "Sample:                                              0   HQIC                          4222.535\n",
       "                                                 - 660                                         \n",
       "Covariance Type:                                   opg                                         \n",
       "==============================================================================\n",
       "                 coef    std err          z      P>|z|      [0.025      0.975]\n",
       "------------------------------------------------------------------------------\n",
       "ar.L1          0.6189      0.042     14.605      0.000       0.536       0.702\n",
       "ar.L2          0.2496      0.046      5.422      0.000       0.159       0.340\n",
       "ar.L3         -0.0233      0.039     -0.597      0.550      -0.100       0.053\n",
       "ma.S.L12       0.3488      0.039      8.995      0.000       0.273       0.425\n",
       "ma.S.L24       0.2263      0.041      5.500      0.000       0.146       0.307\n",
       "sigma2        33.8011      2.044     16.540      0.000      29.796      37.806\n",
       "===================================================================================\n",
       "Ljung-Box (L1) (Q):                   1.44   Jarque-Bera (JB):                 4.37\n",
       "Prob(Q):                              0.23   Prob(JB):                         0.11\n",
       "Heteroskedasticity (H):               0.82   Skew:                            -0.20\n",
       "Prob(H) (two-sided):                  0.13   Kurtosis:                         2.98\n",
       "===================================================================================\n",
       "\n",
       "Warnings:\n",
       "[1] Covariance matrix calculated using the outer product of gradients (complex-step).\n",
       "\"\"\""
      ]
     },
     "execution_count": 89,
     "metadata": {},
     "output_type": "execute_result"
    }
   ],
   "source": [
    "modelo=SARIMAX(ypre,\n",
    "               order=(3,0,0),\n",
    "               seasonal_order=(0,0,2,12)).fit()\n",
    "\n",
    "modelo.summary()"
   ]
  },
  {
   "cell_type": "code",
   "execution_count": 90,
   "metadata": {},
   "outputs": [
    {
     "name": "stdout",
     "output_type": "stream",
     "text": [
      "Hay coeficientes no significativos, no se cumple el principio de parsimonia\n"
     ]
    }
   ],
   "source": [
    "parsimonia(modelo)"
   ]
  },
  {
   "cell_type": "code",
   "execution_count": 91,
   "metadata": {},
   "outputs": [
    {
     "name": "stdout",
     "output_type": "stream",
     "text": [
      "El polinomio de la parte autoregresiva es: {'p1': -0.6189012334757873, 'p2': -0.24956542230171022, 'p3': 0.023297137282976915}\n",
      "\n",
      "Raíces del polinomio característico: [12.55580167 -2.98774356  1.14422037]\n",
      "\n",
      "Módulo de las raíces: [12.55580167  2.98774356  1.14422037]\n",
      "\n",
      "¿Las raíces están fuera del círculo unitario?  True\n",
      "\n",
      "El modelo es estacionario\n",
      "\n",
      ":)\n"
     ]
    }
   ],
   "source": [
    "estacionario(modelo)"
   ]
  },
  {
   "cell_type": "code",
   "execution_count": 92,
   "metadata": {},
   "outputs": [
    {
     "name": "stdout",
     "output_type": "stream",
     "text": [
      "El polinomio de la parte media móvil es: {'p12': 0.3488372773837485, 'p24': 0.2263463848264494}\n",
      "\n",
      "Raíces del polinomio característico: [-1.04989951+0.1717815j  -1.04989951-0.1717815j  -0.99513039+0.37618262j\n",
      " -0.99513039-0.37618262j -0.8233489 +0.67371689j -0.8233489 -0.67371689j\n",
      " -0.67371689+0.8233489j  -0.67371689-0.8233489j  -0.37618262+0.99513039j\n",
      " -0.37618262-0.99513039j -0.1717815 +1.04989951j -0.1717815 -1.04989951j\n",
      "  0.1717815 +1.04989951j  0.1717815 -1.04989951j  0.37618262+0.99513039j\n",
      "  0.37618262-0.99513039j  0.67371689+0.8233489j   0.67371689-0.8233489j\n",
      "  0.8233489 +0.67371689j  0.8233489 -0.67371689j  1.04989951+0.1717815j\n",
      "  1.04989951-0.1717815j   0.99513039+0.37618262j  0.99513039-0.37618262j]\n",
      "\n",
      "Módulo de las raíces: [1.06385989 1.06385989 1.06385989 1.06385989 1.06385989 1.06385989\n",
      " 1.06385989 1.06385989 1.06385989 1.06385989 1.06385989 1.06385989\n",
      " 1.06385989 1.06385989 1.06385989 1.06385989 1.06385989 1.06385989\n",
      " 1.06385989 1.06385989 1.06385989 1.06385989 1.06385989 1.06385989]\n",
      "\n",
      "¿Las raíces están fuera del círculo unitario?  True\n",
      "\n",
      "El modelo es invertible\n",
      "\n",
      ":)\n"
     ]
    }
   ],
   "source": [
    "invertible(modelo)"
   ]
  },
  {
   "cell_type": "code",
   "execution_count": 93,
   "metadata": {},
   "outputs": [
    {
     "name": "stdout",
     "output_type": "stream",
     "text": [
      "Los residuos no son cero, pvalor=3.932315785411437e-08, media=1.2355839544368852\n"
     ]
    }
   ],
   "source": [
    "media_cero(modelo)"
   ]
  },
  {
   "cell_type": "markdown",
   "metadata": {},
   "source": [
    "## **28° Modelo con mejor AIC**"
   ]
  },
  {
   "cell_type": "code",
   "execution_count": 94,
   "metadata": {
    "tags": []
   },
   "outputs": [
    {
     "data": {
      "text/html": [
       "<table class=\"simpletable\">\n",
       "<caption>SARIMAX Results</caption>\n",
       "<tr>\n",
       "  <th>Dep. Variable:</th>                   <td>y</td>                <th>  No. Observations:  </th>    <td>660</td>   \n",
       "</tr>\n",
       "<tr>\n",
       "  <th>Model:</th>           <td>SARIMAX(3, 0, 0)x(0, 0, [1], 12)</td> <th>  Log Likelihood     </th> <td>-2117.090</td>\n",
       "</tr>\n",
       "<tr>\n",
       "  <th>Date:</th>                    <td>Fri, 25 Apr 2025</td>         <th>  AIC                </th> <td>4244.180</td> \n",
       "</tr>\n",
       "<tr>\n",
       "  <th>Time:</th>                        <td>17:46:12</td>             <th>  BIC                </th> <td>4266.642</td> \n",
       "</tr>\n",
       "<tr>\n",
       "  <th>Sample:</th>                          <td>0</td>                <th>  HQIC               </th> <td>4252.886</td> \n",
       "</tr>\n",
       "<tr>\n",
       "  <th></th>                              <td> - 660</td>              <th>                     </th>     <td> </td>    \n",
       "</tr>\n",
       "<tr>\n",
       "  <th>Covariance Type:</th>                <td>opg</td>               <th>                     </th>     <td> </td>    \n",
       "</tr>\n",
       "</table>\n",
       "<table class=\"simpletable\">\n",
       "<tr>\n",
       "      <td></td>        <th>coef</th>     <th>std err</th>      <th>z</th>      <th>P>|z|</th>  <th>[0.025</th>    <th>0.975]</th>  \n",
       "</tr>\n",
       "<tr>\n",
       "  <th>ar.L1</th>    <td>    0.7156</td> <td>    0.042</td> <td>   17.179</td> <td> 0.000</td> <td>    0.634</td> <td>    0.797</td>\n",
       "</tr>\n",
       "<tr>\n",
       "  <th>ar.L2</th>    <td>    0.1981</td> <td>    0.048</td> <td>    4.118</td> <td> 0.000</td> <td>    0.104</td> <td>    0.292</td>\n",
       "</tr>\n",
       "<tr>\n",
       "  <th>ar.L3</th>    <td>   -0.0472</td> <td>    0.040</td> <td>   -1.180</td> <td> 0.238</td> <td>   -0.125</td> <td>    0.031</td>\n",
       "</tr>\n",
       "<tr>\n",
       "  <th>ma.S.L12</th> <td>    0.3329</td> <td>    0.039</td> <td>    8.469</td> <td> 0.000</td> <td>    0.256</td> <td>    0.410</td>\n",
       "</tr>\n",
       "<tr>\n",
       "  <th>sigma2</th>   <td>   35.6303</td> <td>    2.132</td> <td>   16.709</td> <td> 0.000</td> <td>   31.451</td> <td>   39.810</td>\n",
       "</tr>\n",
       "</table>\n",
       "<table class=\"simpletable\">\n",
       "<tr>\n",
       "  <th>Ljung-Box (L1) (Q):</th>     <td>1.42</td> <th>  Jarque-Bera (JB):  </th> <td>4.45</td> \n",
       "</tr>\n",
       "<tr>\n",
       "  <th>Prob(Q):</th>                <td>0.23</td> <th>  Prob(JB):          </th> <td>0.11</td> \n",
       "</tr>\n",
       "<tr>\n",
       "  <th>Heteroskedasticity (H):</th> <td>0.83</td> <th>  Skew:              </th> <td>-0.20</td>\n",
       "</tr>\n",
       "<tr>\n",
       "  <th>Prob(H) (two-sided):</th>    <td>0.17</td> <th>  Kurtosis:          </th> <td>3.03</td> \n",
       "</tr>\n",
       "</table><br/><br/>Warnings:<br/>[1] Covariance matrix calculated using the outer product of gradients (complex-step)."
      ],
      "text/latex": [
       "\\begin{center}\n",
       "\\begin{tabular}{lclc}\n",
       "\\toprule\n",
       "\\textbf{Dep. Variable:}          &                y                 & \\textbf{  No. Observations:  } &    660      \\\\\n",
       "\\textbf{Model:}                  & SARIMAX(3, 0, 0)x(0, 0, [1], 12) & \\textbf{  Log Likelihood     } & -2117.090   \\\\\n",
       "\\textbf{Date:}                   &         Fri, 25 Apr 2025         & \\textbf{  AIC                } &  4244.180   \\\\\n",
       "\\textbf{Time:}                   &             17:46:12             & \\textbf{  BIC                } &  4266.642   \\\\\n",
       "\\textbf{Sample:}                 &                0                 & \\textbf{  HQIC               } &  4252.886   \\\\\n",
       "\\textbf{}                        &               - 660              & \\textbf{                     } &             \\\\\n",
       "\\textbf{Covariance Type:}        &               opg                & \\textbf{                     } &             \\\\\n",
       "\\bottomrule\n",
       "\\end{tabular}\n",
       "\\begin{tabular}{lcccccc}\n",
       "                  & \\textbf{coef} & \\textbf{std err} & \\textbf{z} & \\textbf{P$> |$z$|$} & \\textbf{[0.025} & \\textbf{0.975]}  \\\\\n",
       "\\midrule\n",
       "\\textbf{ar.L1}    &       0.7156  &        0.042     &    17.179  &         0.000        &        0.634    &        0.797     \\\\\n",
       "\\textbf{ar.L2}    &       0.1981  &        0.048     &     4.118  &         0.000        &        0.104    &        0.292     \\\\\n",
       "\\textbf{ar.L3}    &      -0.0472  &        0.040     &    -1.180  &         0.238        &       -0.125    &        0.031     \\\\\n",
       "\\textbf{ma.S.L12} &       0.3329  &        0.039     &     8.469  &         0.000        &        0.256    &        0.410     \\\\\n",
       "\\textbf{sigma2}   &      35.6303  &        2.132     &    16.709  &         0.000        &       31.451    &       39.810     \\\\\n",
       "\\bottomrule\n",
       "\\end{tabular}\n",
       "\\begin{tabular}{lclc}\n",
       "\\textbf{Ljung-Box (L1) (Q):}     & 1.42 & \\textbf{  Jarque-Bera (JB):  } &  4.45  \\\\\n",
       "\\textbf{Prob(Q):}                & 0.23 & \\textbf{  Prob(JB):          } &  0.11  \\\\\n",
       "\\textbf{Heteroskedasticity (H):} & 0.83 & \\textbf{  Skew:              } & -0.20  \\\\\n",
       "\\textbf{Prob(H) (two-sided):}    & 0.17 & \\textbf{  Kurtosis:          } &  3.03  \\\\\n",
       "\\bottomrule\n",
       "\\end{tabular}\n",
       "%\\caption{SARIMAX Results}\n",
       "\\end{center}\n",
       "\n",
       "Warnings: \\newline\n",
       " [1] Covariance matrix calculated using the outer product of gradients (complex-step)."
      ],
      "text/plain": [
       "<class 'statsmodels.iolib.summary.Summary'>\n",
       "\"\"\"\n",
       "                                      SARIMAX Results                                       \n",
       "============================================================================================\n",
       "Dep. Variable:                                    y   No. Observations:                  660\n",
       "Model:             SARIMAX(3, 0, 0)x(0, 0, [1], 12)   Log Likelihood               -2117.090\n",
       "Date:                              Fri, 25 Apr 2025   AIC                           4244.180\n",
       "Time:                                      17:46:12   BIC                           4266.642\n",
       "Sample:                                           0   HQIC                          4252.886\n",
       "                                              - 660                                         \n",
       "Covariance Type:                                opg                                         \n",
       "==============================================================================\n",
       "                 coef    std err          z      P>|z|      [0.025      0.975]\n",
       "------------------------------------------------------------------------------\n",
       "ar.L1          0.7156      0.042     17.179      0.000       0.634       0.797\n",
       "ar.L2          0.1981      0.048      4.118      0.000       0.104       0.292\n",
       "ar.L3         -0.0472      0.040     -1.180      0.238      -0.125       0.031\n",
       "ma.S.L12       0.3329      0.039      8.469      0.000       0.256       0.410\n",
       "sigma2        35.6303      2.132     16.709      0.000      31.451      39.810\n",
       "===================================================================================\n",
       "Ljung-Box (L1) (Q):                   1.42   Jarque-Bera (JB):                 4.45\n",
       "Prob(Q):                              0.23   Prob(JB):                         0.11\n",
       "Heteroskedasticity (H):               0.83   Skew:                            -0.20\n",
       "Prob(H) (two-sided):                  0.17   Kurtosis:                         3.03\n",
       "===================================================================================\n",
       "\n",
       "Warnings:\n",
       "[1] Covariance matrix calculated using the outer product of gradients (complex-step).\n",
       "\"\"\""
      ]
     },
     "execution_count": 94,
     "metadata": {},
     "output_type": "execute_result"
    }
   ],
   "source": [
    "modelo=SARIMAX(ypre,\n",
    "               order=(3,0,0),\n",
    "               seasonal_order=(0,0,1,12)).fit()\n",
    "\n",
    "modelo.summary()"
   ]
  },
  {
   "cell_type": "code",
   "execution_count": 95,
   "metadata": {},
   "outputs": [
    {
     "name": "stdout",
     "output_type": "stream",
     "text": [
      "Hay coeficientes no significativos, no se cumple el principio de parsimonia\n"
     ]
    }
   ],
   "source": [
    "parsimonia(modelo)"
   ]
  },
  {
   "cell_type": "code",
   "execution_count": 96,
   "metadata": {},
   "outputs": [
    {
     "name": "stdout",
     "output_type": "stream",
     "text": [
      "El polinomio de la parte autoregresiva es: {'p1': -0.7155808099146933, 'p2': -0.19805956013484285, 'p3': 0.04715739070949874}\n",
      "\n",
      "Raíces del polinomio característico: [ 6.11447657 -3.05115701  1.13664904]\n",
      "\n",
      "Módulo de las raíces: [6.11447657 3.05115701 1.13664904]\n",
      "\n",
      "¿Las raíces están fuera del círculo unitario?  True\n",
      "\n",
      "El modelo es estacionario\n",
      "\n",
      ":)\n"
     ]
    }
   ],
   "source": [
    "estacionario(modelo)"
   ]
  },
  {
   "cell_type": "code",
   "execution_count": 97,
   "metadata": {},
   "outputs": [
    {
     "name": "stdout",
     "output_type": "stream",
     "text": [
      "El polinomio de la parte media móvil es: {'p12': 0.3328749381204635}\n",
      "\n",
      "Raíces del polinomio característico: [-1.05865313+0.28366525j -1.05865313-0.28366525j -0.77498788+0.77498788j\n",
      " -0.77498788-0.77498788j -0.28366525+1.05865313j -0.28366525-1.05865313j\n",
      "  0.28366525+1.05865313j  0.28366525-1.05865313j  0.77498788+0.77498788j\n",
      "  0.77498788-0.77498788j  1.05865313+0.28366525j  1.05865313-0.28366525j]\n",
      "\n",
      "Módulo de las raíces: [1.09599837 1.09599837 1.09599837 1.09599837 1.09599837 1.09599837\n",
      " 1.09599837 1.09599837 1.09599837 1.09599837 1.09599837 1.09599837]\n",
      "\n",
      "¿Las raíces están fuera del círculo unitario?  True\n",
      "\n",
      "El modelo es invertible\n",
      "\n",
      ":)\n"
     ]
    }
   ],
   "source": [
    "invertible(modelo)"
   ]
  },
  {
   "cell_type": "code",
   "execution_count": 98,
   "metadata": {},
   "outputs": [
    {
     "name": "stdout",
     "output_type": "stream",
     "text": [
      "Los residuos no son cero, pvalor=4.851251978320932e-08, media=1.2590302103213655\n"
     ]
    }
   ],
   "source": [
    "media_cero(modelo)"
   ]
  },
  {
   "cell_type": "markdown",
   "metadata": {},
   "source": [
    "## **29° Modelo con mejor AIC**"
   ]
  },
  {
   "cell_type": "code",
   "execution_count": 99,
   "metadata": {
    "tags": []
   },
   "outputs": [
    {
     "data": {
      "text/html": [
       "<table class=\"simpletable\">\n",
       "<caption>SARIMAX Results</caption>\n",
       "<tr>\n",
       "  <th>Dep. Variable:</th>                    <td>y</td>                  <th>  No. Observations:  </th>    <td>660</td>   \n",
       "</tr>\n",
       "<tr>\n",
       "  <th>Model:</th>           <td>SARIMAX(2, 0, 0)x(0, 0, [1, 2], 12)</td> <th>  Log Likelihood     </th> <td>-2100.211</td>\n",
       "</tr>\n",
       "<tr>\n",
       "  <th>Date:</th>                     <td>Fri, 25 Apr 2025</td>           <th>  AIC                </th> <td>4210.423</td> \n",
       "</tr>\n",
       "<tr>\n",
       "  <th>Time:</th>                         <td>17:46:12</td>               <th>  BIC                </th> <td>4232.884</td> \n",
       "</tr>\n",
       "<tr>\n",
       "  <th>Sample:</th>                           <td>0</td>                  <th>  HQIC               </th> <td>4219.129</td> \n",
       "</tr>\n",
       "<tr>\n",
       "  <th></th>                               <td> - 660</td>                <th>                     </th>     <td> </td>    \n",
       "</tr>\n",
       "<tr>\n",
       "  <th>Covariance Type:</th>                 <td>opg</td>                 <th>                     </th>     <td> </td>    \n",
       "</tr>\n",
       "</table>\n",
       "<table class=\"simpletable\">\n",
       "<tr>\n",
       "      <td></td>        <th>coef</th>     <th>std err</th>      <th>z</th>      <th>P>|z|</th>  <th>[0.025</th>    <th>0.975]</th>  \n",
       "</tr>\n",
       "<tr>\n",
       "  <th>ar.L1</th>    <td>    0.6107</td> <td>    0.041</td> <td>   14.892</td> <td> 0.000</td> <td>    0.530</td> <td>    0.691</td>\n",
       "</tr>\n",
       "<tr>\n",
       "  <th>ar.L2</th>    <td>    0.2369</td> <td>    0.038</td> <td>    6.193</td> <td> 0.000</td> <td>    0.162</td> <td>    0.312</td>\n",
       "</tr>\n",
       "<tr>\n",
       "  <th>ma.S.L12</th> <td>    0.3545</td> <td>    0.039</td> <td>    9.204</td> <td> 0.000</td> <td>    0.279</td> <td>    0.430</td>\n",
       "</tr>\n",
       "<tr>\n",
       "  <th>ma.S.L24</th> <td>    0.2285</td> <td>    0.041</td> <td>    5.540</td> <td> 0.000</td> <td>    0.148</td> <td>    0.309</td>\n",
       "</tr>\n",
       "<tr>\n",
       "  <th>sigma2</th>   <td>   33.8147</td> <td>    2.036</td> <td>   16.606</td> <td> 0.000</td> <td>   29.824</td> <td>   37.806</td>\n",
       "</tr>\n",
       "</table>\n",
       "<table class=\"simpletable\">\n",
       "<tr>\n",
       "  <th>Ljung-Box (L1) (Q):</th>     <td>0.99</td> <th>  Jarque-Bera (JB):  </th> <td>4.75</td> \n",
       "</tr>\n",
       "<tr>\n",
       "  <th>Prob(Q):</th>                <td>0.32</td> <th>  Prob(JB):          </th> <td>0.09</td> \n",
       "</tr>\n",
       "<tr>\n",
       "  <th>Heteroskedasticity (H):</th> <td>0.82</td> <th>  Skew:              </th> <td>-0.21</td>\n",
       "</tr>\n",
       "<tr>\n",
       "  <th>Prob(H) (two-sided):</th>    <td>0.14</td> <th>  Kurtosis:          </th> <td>2.97</td> \n",
       "</tr>\n",
       "</table><br/><br/>Warnings:<br/>[1] Covariance matrix calculated using the outer product of gradients (complex-step)."
      ],
      "text/latex": [
       "\\begin{center}\n",
       "\\begin{tabular}{lclc}\n",
       "\\toprule\n",
       "\\textbf{Dep. Variable:}          &                  y                  & \\textbf{  No. Observations:  } &    660      \\\\\n",
       "\\textbf{Model:}                  & SARIMAX(2, 0, 0)x(0, 0, [1, 2], 12) & \\textbf{  Log Likelihood     } & -2100.211   \\\\\n",
       "\\textbf{Date:}                   &           Fri, 25 Apr 2025          & \\textbf{  AIC                } &  4210.423   \\\\\n",
       "\\textbf{Time:}                   &               17:46:12              & \\textbf{  BIC                } &  4232.884   \\\\\n",
       "\\textbf{Sample:}                 &                  0                  & \\textbf{  HQIC               } &  4219.129   \\\\\n",
       "\\textbf{}                        &                 - 660               & \\textbf{                     } &             \\\\\n",
       "\\textbf{Covariance Type:}        &                 opg                 & \\textbf{                     } &             \\\\\n",
       "\\bottomrule\n",
       "\\end{tabular}\n",
       "\\begin{tabular}{lcccccc}\n",
       "                  & \\textbf{coef} & \\textbf{std err} & \\textbf{z} & \\textbf{P$> |$z$|$} & \\textbf{[0.025} & \\textbf{0.975]}  \\\\\n",
       "\\midrule\n",
       "\\textbf{ar.L1}    &       0.6107  &        0.041     &    14.892  &         0.000        &        0.530    &        0.691     \\\\\n",
       "\\textbf{ar.L2}    &       0.2369  &        0.038     &     6.193  &         0.000        &        0.162    &        0.312     \\\\\n",
       "\\textbf{ma.S.L12} &       0.3545  &        0.039     &     9.204  &         0.000        &        0.279    &        0.430     \\\\\n",
       "\\textbf{ma.S.L24} &       0.2285  &        0.041     &     5.540  &         0.000        &        0.148    &        0.309     \\\\\n",
       "\\textbf{sigma2}   &      33.8147  &        2.036     &    16.606  &         0.000        &       29.824    &       37.806     \\\\\n",
       "\\bottomrule\n",
       "\\end{tabular}\n",
       "\\begin{tabular}{lclc}\n",
       "\\textbf{Ljung-Box (L1) (Q):}     & 0.99 & \\textbf{  Jarque-Bera (JB):  } &  4.75  \\\\\n",
       "\\textbf{Prob(Q):}                & 0.32 & \\textbf{  Prob(JB):          } &  0.09  \\\\\n",
       "\\textbf{Heteroskedasticity (H):} & 0.82 & \\textbf{  Skew:              } & -0.21  \\\\\n",
       "\\textbf{Prob(H) (two-sided):}    & 0.14 & \\textbf{  Kurtosis:          } &  2.97  \\\\\n",
       "\\bottomrule\n",
       "\\end{tabular}\n",
       "%\\caption{SARIMAX Results}\n",
       "\\end{center}\n",
       "\n",
       "Warnings: \\newline\n",
       " [1] Covariance matrix calculated using the outer product of gradients (complex-step)."
      ],
      "text/plain": [
       "<class 'statsmodels.iolib.summary.Summary'>\n",
       "\"\"\"\n",
       "                                        SARIMAX Results                                        \n",
       "===============================================================================================\n",
       "Dep. Variable:                                       y   No. Observations:                  660\n",
       "Model:             SARIMAX(2, 0, 0)x(0, 0, [1, 2], 12)   Log Likelihood               -2100.211\n",
       "Date:                                 Fri, 25 Apr 2025   AIC                           4210.423\n",
       "Time:                                         17:46:12   BIC                           4232.884\n",
       "Sample:                                              0   HQIC                          4219.129\n",
       "                                                 - 660                                         \n",
       "Covariance Type:                                   opg                                         \n",
       "==============================================================================\n",
       "                 coef    std err          z      P>|z|      [0.025      0.975]\n",
       "------------------------------------------------------------------------------\n",
       "ar.L1          0.6107      0.041     14.892      0.000       0.530       0.691\n",
       "ar.L2          0.2369      0.038      6.193      0.000       0.162       0.312\n",
       "ma.S.L12       0.3545      0.039      9.204      0.000       0.279       0.430\n",
       "ma.S.L24       0.2285      0.041      5.540      0.000       0.148       0.309\n",
       "sigma2        33.8147      2.036     16.606      0.000      29.824      37.806\n",
       "===================================================================================\n",
       "Ljung-Box (L1) (Q):                   0.99   Jarque-Bera (JB):                 4.75\n",
       "Prob(Q):                              0.32   Prob(JB):                         0.09\n",
       "Heteroskedasticity (H):               0.82   Skew:                            -0.21\n",
       "Prob(H) (two-sided):                  0.14   Kurtosis:                         2.97\n",
       "===================================================================================\n",
       "\n",
       "Warnings:\n",
       "[1] Covariance matrix calculated using the outer product of gradients (complex-step).\n",
       "\"\"\""
      ]
     },
     "execution_count": 99,
     "metadata": {},
     "output_type": "execute_result"
    }
   ],
   "source": [
    "modelo=SARIMAX(ypre,\n",
    "               order=(2,0,0),\n",
    "               seasonal_order=(0,0,2,12)).fit()\n",
    "\n",
    "modelo.summary()"
   ]
  },
  {
   "cell_type": "code",
   "execution_count": 100,
   "metadata": {},
   "outputs": [
    {
     "name": "stdout",
     "output_type": "stream",
     "text": [
      "El modelo cumple el principio de parsimonia\n",
      "\n",
      ":)\n"
     ]
    }
   ],
   "source": [
    "parsimonia(modelo)"
   ]
  },
  {
   "cell_type": "code",
   "execution_count": 101,
   "metadata": {},
   "outputs": [
    {
     "name": "stdout",
     "output_type": "stream",
     "text": [
      "El polinomio de la parte autoregresiva es: {'p1': -0.6107098586940687, 'p2': -0.2368568173906558}\n",
      "\n",
      "Raíces del polinomio característico: [-3.71488939  1.13649682]\n",
      "\n",
      "Módulo de las raíces: [3.71488939 1.13649682]\n",
      "\n",
      "¿Las raíces están fuera del círculo unitario?  True\n",
      "\n",
      "El modelo es estacionario\n",
      "\n",
      ":)\n"
     ]
    }
   ],
   "source": [
    "estacionario(modelo)"
   ]
  },
  {
   "cell_type": "code",
   "execution_count": 102,
   "metadata": {},
   "outputs": [
    {
     "name": "stdout",
     "output_type": "stream",
     "text": [
      "El polinomio de la parte media móvil es: {'p12': 0.3544896719016206, 'p24': 0.22853249747957682}\n",
      "\n",
      "Raíces del polinomio característico: [-1.04941509+0.17210355j -1.04941509-0.17210355j -0.9948719 +0.3756615j\n",
      " -0.9948719 -0.3756615j  -0.82276835+0.67375359j -0.82276835-0.67375359j\n",
      " -0.67375359+0.82276835j -0.67375359-0.82276835j -0.3756615 +0.9948719j\n",
      " -0.3756615 -0.9948719j  -0.17210355+1.04941509j -0.17210355-1.04941509j\n",
      "  0.17210355+1.04941509j  0.17210355-1.04941509j  0.3756615 +0.9948719j\n",
      "  0.3756615 -0.9948719j   0.67375359+0.82276835j  0.67375359-0.82276835j\n",
      "  0.82276835+0.67375359j  0.82276835-0.67375359j  1.04941509+0.17210355j\n",
      "  1.04941509-0.17210355j  0.9948719 +0.3756615j   0.9948719 -0.3756615j ]\n",
      "\n",
      "Módulo de las raíces: [1.0634339 1.0634339 1.0634339 1.0634339 1.0634339 1.0634339 1.0634339\n",
      " 1.0634339 1.0634339 1.0634339 1.0634339 1.0634339 1.0634339 1.0634339\n",
      " 1.0634339 1.0634339 1.0634339 1.0634339 1.0634339 1.0634339 1.0634339\n",
      " 1.0634339 1.0634339 1.0634339]\n",
      "\n",
      "¿Las raíces están fuera del círculo unitario?  True\n",
      "\n",
      "El modelo es invertible\n",
      "\n",
      ":)\n"
     ]
    }
   ],
   "source": [
    "invertible(modelo)"
   ]
  },
  {
   "cell_type": "code",
   "execution_count": 103,
   "metadata": {},
   "outputs": [
    {
     "name": "stdout",
     "output_type": "stream",
     "text": [
      "Los residuos no son cero, pvalor=7.474139742517957e-08, media=1.2107261201425417\n"
     ]
    }
   ],
   "source": [
    "media_cero(modelo)"
   ]
  },
  {
   "cell_type": "markdown",
   "metadata": {},
   "source": [
    "## **30° Modelo con mejor AIC**"
   ]
  },
  {
   "cell_type": "code",
   "execution_count": 104,
   "metadata": {
    "tags": []
   },
   "outputs": [
    {
     "data": {
      "text/html": [
       "<table class=\"simpletable\">\n",
       "<caption>SARIMAX Results</caption>\n",
       "<tr>\n",
       "  <th>Dep. Variable:</th>                    <td>y</td>                  <th>  No. Observations:  </th>    <td>660</td>   \n",
       "</tr>\n",
       "<tr>\n",
       "  <th>Model:</th>           <td>SARIMAX(1, 0, 0)x(0, 0, [1, 2], 12)</td> <th>  Log Likelihood     </th> <td>-2116.898</td>\n",
       "</tr>\n",
       "<tr>\n",
       "  <th>Date:</th>                     <td>Fri, 25 Apr 2025</td>           <th>  AIC                </th> <td>4241.796</td> \n",
       "</tr>\n",
       "<tr>\n",
       "  <th>Time:</th>                         <td>17:46:12</td>               <th>  BIC                </th> <td>4259.765</td> \n",
       "</tr>\n",
       "<tr>\n",
       "  <th>Sample:</th>                           <td>0</td>                  <th>  HQIC               </th> <td>4248.761</td> \n",
       "</tr>\n",
       "<tr>\n",
       "  <th></th>                               <td> - 660</td>                <th>                     </th>     <td> </td>    \n",
       "</tr>\n",
       "<tr>\n",
       "  <th>Covariance Type:</th>                 <td>opg</td>                 <th>                     </th>     <td> </td>    \n",
       "</tr>\n",
       "</table>\n",
       "<table class=\"simpletable\">\n",
       "<tr>\n",
       "      <td></td>        <th>coef</th>     <th>std err</th>      <th>z</th>      <th>P>|z|</th>  <th>[0.025</th>    <th>0.975]</th>  \n",
       "</tr>\n",
       "<tr>\n",
       "  <th>ar.L1</th>    <td>    0.8266</td> <td>    0.028</td> <td>   30.026</td> <td> 0.000</td> <td>    0.773</td> <td>    0.881</td>\n",
       "</tr>\n",
       "<tr>\n",
       "  <th>ma.S.L12</th> <td>    0.2945</td> <td>    0.039</td> <td>    7.601</td> <td> 0.000</td> <td>    0.219</td> <td>    0.370</td>\n",
       "</tr>\n",
       "<tr>\n",
       "  <th>ma.S.L24</th> <td>    0.1678</td> <td>    0.040</td> <td>    4.239</td> <td> 0.000</td> <td>    0.090</td> <td>    0.245</td>\n",
       "</tr>\n",
       "<tr>\n",
       "  <th>sigma2</th>   <td>   35.6198</td> <td>    2.107</td> <td>   16.906</td> <td> 0.000</td> <td>   31.490</td> <td>   39.749</td>\n",
       "</tr>\n",
       "</table>\n",
       "<table class=\"simpletable\">\n",
       "<tr>\n",
       "  <th>Ljung-Box (L1) (Q):</th>     <td>40.42</td> <th>  Jarque-Bera (JB):  </th> <td>3.56</td> \n",
       "</tr>\n",
       "<tr>\n",
       "  <th>Prob(Q):</th>                <td>0.00</td>  <th>  Prob(JB):          </th> <td>0.17</td> \n",
       "</tr>\n",
       "<tr>\n",
       "  <th>Heteroskedasticity (H):</th> <td>0.78</td>  <th>  Skew:              </th> <td>-0.18</td>\n",
       "</tr>\n",
       "<tr>\n",
       "  <th>Prob(H) (two-sided):</th>    <td>0.07</td>  <th>  Kurtosis:          </th> <td>3.02</td> \n",
       "</tr>\n",
       "</table><br/><br/>Warnings:<br/>[1] Covariance matrix calculated using the outer product of gradients (complex-step)."
      ],
      "text/latex": [
       "\\begin{center}\n",
       "\\begin{tabular}{lclc}\n",
       "\\toprule\n",
       "\\textbf{Dep. Variable:}          &                  y                  & \\textbf{  No. Observations:  } &    660      \\\\\n",
       "\\textbf{Model:}                  & SARIMAX(1, 0, 0)x(0, 0, [1, 2], 12) & \\textbf{  Log Likelihood     } & -2116.898   \\\\\n",
       "\\textbf{Date:}                   &           Fri, 25 Apr 2025          & \\textbf{  AIC                } &  4241.796   \\\\\n",
       "\\textbf{Time:}                   &               17:46:12              & \\textbf{  BIC                } &  4259.765   \\\\\n",
       "\\textbf{Sample:}                 &                  0                  & \\textbf{  HQIC               } &  4248.761   \\\\\n",
       "\\textbf{}                        &                 - 660               & \\textbf{                     } &             \\\\\n",
       "\\textbf{Covariance Type:}        &                 opg                 & \\textbf{                     } &             \\\\\n",
       "\\bottomrule\n",
       "\\end{tabular}\n",
       "\\begin{tabular}{lcccccc}\n",
       "                  & \\textbf{coef} & \\textbf{std err} & \\textbf{z} & \\textbf{P$> |$z$|$} & \\textbf{[0.025} & \\textbf{0.975]}  \\\\\n",
       "\\midrule\n",
       "\\textbf{ar.L1}    &       0.8266  &        0.028     &    30.026  &         0.000        &        0.773    &        0.881     \\\\\n",
       "\\textbf{ma.S.L12} &       0.2945  &        0.039     &     7.601  &         0.000        &        0.219    &        0.370     \\\\\n",
       "\\textbf{ma.S.L24} &       0.1678  &        0.040     &     4.239  &         0.000        &        0.090    &        0.245     \\\\\n",
       "\\textbf{sigma2}   &      35.6198  &        2.107     &    16.906  &         0.000        &       31.490    &       39.749     \\\\\n",
       "\\bottomrule\n",
       "\\end{tabular}\n",
       "\\begin{tabular}{lclc}\n",
       "\\textbf{Ljung-Box (L1) (Q):}     & 40.42 & \\textbf{  Jarque-Bera (JB):  } &  3.56  \\\\\n",
       "\\textbf{Prob(Q):}                &  0.00 & \\textbf{  Prob(JB):          } &  0.17  \\\\\n",
       "\\textbf{Heteroskedasticity (H):} &  0.78 & \\textbf{  Skew:              } & -0.18  \\\\\n",
       "\\textbf{Prob(H) (two-sided):}    &  0.07 & \\textbf{  Kurtosis:          } &  3.02  \\\\\n",
       "\\bottomrule\n",
       "\\end{tabular}\n",
       "%\\caption{SARIMAX Results}\n",
       "\\end{center}\n",
       "\n",
       "Warnings: \\newline\n",
       " [1] Covariance matrix calculated using the outer product of gradients (complex-step)."
      ],
      "text/plain": [
       "<class 'statsmodels.iolib.summary.Summary'>\n",
       "\"\"\"\n",
       "                                        SARIMAX Results                                        \n",
       "===============================================================================================\n",
       "Dep. Variable:                                       y   No. Observations:                  660\n",
       "Model:             SARIMAX(1, 0, 0)x(0, 0, [1, 2], 12)   Log Likelihood               -2116.898\n",
       "Date:                                 Fri, 25 Apr 2025   AIC                           4241.796\n",
       "Time:                                         17:46:12   BIC                           4259.765\n",
       "Sample:                                              0   HQIC                          4248.761\n",
       "                                                 - 660                                         \n",
       "Covariance Type:                                   opg                                         \n",
       "==============================================================================\n",
       "                 coef    std err          z      P>|z|      [0.025      0.975]\n",
       "------------------------------------------------------------------------------\n",
       "ar.L1          0.8266      0.028     30.026      0.000       0.773       0.881\n",
       "ma.S.L12       0.2945      0.039      7.601      0.000       0.219       0.370\n",
       "ma.S.L24       0.1678      0.040      4.239      0.000       0.090       0.245\n",
       "sigma2        35.6198      2.107     16.906      0.000      31.490      39.749\n",
       "===================================================================================\n",
       "Ljung-Box (L1) (Q):                  40.42   Jarque-Bera (JB):                 3.56\n",
       "Prob(Q):                              0.00   Prob(JB):                         0.17\n",
       "Heteroskedasticity (H):               0.78   Skew:                            -0.18\n",
       "Prob(H) (two-sided):                  0.07   Kurtosis:                         3.02\n",
       "===================================================================================\n",
       "\n",
       "Warnings:\n",
       "[1] Covariance matrix calculated using the outer product of gradients (complex-step).\n",
       "\"\"\""
      ]
     },
     "execution_count": 104,
     "metadata": {},
     "output_type": "execute_result"
    }
   ],
   "source": [
    "modelo=SARIMAX(ypre,\n",
    "               order=(1,0,0),\n",
    "               seasonal_order=(0,0,2,12)).fit()\n",
    "\n",
    "modelo.summary()"
   ]
  },
  {
   "cell_type": "code",
   "execution_count": 105,
   "metadata": {},
   "outputs": [
    {
     "name": "stdout",
     "output_type": "stream",
     "text": [
      "El modelo cumple el principio de parsimonia\n",
      "\n",
      ":)\n"
     ]
    }
   ],
   "source": [
    "parsimonia(modelo)"
   ]
  },
  {
   "cell_type": "code",
   "execution_count": 106,
   "metadata": {},
   "outputs": [
    {
     "name": "stdout",
     "output_type": "stream",
     "text": [
      "El polinomio de la parte autoregresiva es: {'p1': -0.8265594005437709}\n",
      "\n",
      "Raíces del polinomio característico: [1.2098344]\n",
      "\n",
      "Módulo de las raíces: [1.2098344]\n",
      "\n",
      "¿Las raíces están fuera del círculo unitario?  True\n",
      "\n",
      "El modelo es estacionario\n",
      "\n",
      ":)\n"
     ]
    }
   ],
   "source": [
    "estacionario(modelo)"
   ]
  },
  {
   "cell_type": "code",
   "execution_count": 107,
   "metadata": {},
   "outputs": [
    {
     "name": "stdout",
     "output_type": "stream",
     "text": [
      "El polinomio de la parte media móvil es: {'p12': 0.29453790049910733, 'p24': 0.16775153177807992}\n",
      "\n",
      "Raíces del polinomio característico: [-1.06319653+0.17326924j -1.06319653-0.17326924j -1.00738983+0.3815427j\n",
      " -1.00738983-0.3815427j  -0.83412059+0.68165383j -0.83412059-0.68165383j\n",
      " -0.68165383+0.83412059j -0.68165383-0.83412059j -0.3815427 +1.00738983j\n",
      " -0.3815427 -1.00738983j -0.17326924+1.06319653j -0.17326924-1.06319653j\n",
      "  0.17326924+1.06319653j  0.17326924-1.06319653j  0.3815427 +1.00738983j\n",
      "  0.3815427 -1.00738983j  0.68165383+0.83412059j  0.68165383-0.83412059j\n",
      "  0.83412059+0.68165383j  0.83412059-0.68165383j  1.06319653+0.17326924j\n",
      "  1.06319653-0.17326924j  1.00738983+0.3815427j   1.00738983-0.3815427j ]\n",
      "\n",
      "Módulo de las raíces: [1.07722286 1.07722286 1.07722286 1.07722286 1.07722286 1.07722286\n",
      " 1.07722286 1.07722286 1.07722286 1.07722286 1.07722286 1.07722286\n",
      " 1.07722286 1.07722286 1.07722286 1.07722286 1.07722286 1.07722286\n",
      " 1.07722286 1.07722286 1.07722286 1.07722286 1.07722286 1.07722286]\n",
      "\n",
      "¿Las raíces están fuera del círculo unitario?  True\n",
      "\n",
      "El modelo es invertible\n",
      "\n",
      ":)\n"
     ]
    }
   ],
   "source": [
    "invertible(modelo)"
   ]
  },
  {
   "cell_type": "code",
   "execution_count": 108,
   "metadata": {},
   "outputs": [
    {
     "name": "stdout",
     "output_type": "stream",
     "text": [
      "Los residuos no son cero, pvalor=8.586892272684528e-11, media=1.4901519305336808\n"
     ]
    }
   ],
   "source": [
    "media_cero(modelo)"
   ]
  },
  {
   "cell_type": "markdown",
   "metadata": {},
   "source": [
    "## **31° Modelo con mejor AIC**"
   ]
  },
  {
   "cell_type": "code",
   "execution_count": 109,
   "metadata": {
    "tags": []
   },
   "outputs": [
    {
     "data": {
      "text/html": [
       "<table class=\"simpletable\">\n",
       "<caption>SARIMAX Results</caption>\n",
       "<tr>\n",
       "  <th>Dep. Variable:</th>                   <td>y</td>                <th>  No. Observations:  </th>    <td>660</td>   \n",
       "</tr>\n",
       "<tr>\n",
       "  <th>Model:</th>           <td>SARIMAX(1, 0, 0)x(0, 0, [1], 12)</td> <th>  Log Likelihood     </th> <td>-2126.508</td>\n",
       "</tr>\n",
       "<tr>\n",
       "  <th>Date:</th>                    <td>Fri, 25 Apr 2025</td>         <th>  AIC                </th> <td>4259.016</td> \n",
       "</tr>\n",
       "<tr>\n",
       "  <th>Time:</th>                        <td>17:46:13</td>             <th>  BIC                </th> <td>4272.492</td> \n",
       "</tr>\n",
       "<tr>\n",
       "  <th>Sample:</th>                          <td>0</td>                <th>  HQIC               </th> <td>4264.239</td> \n",
       "</tr>\n",
       "<tr>\n",
       "  <th></th>                              <td> - 660</td>              <th>                     </th>     <td> </td>    \n",
       "</tr>\n",
       "<tr>\n",
       "  <th>Covariance Type:</th>                <td>opg</td>               <th>                     </th>     <td> </td>    \n",
       "</tr>\n",
       "</table>\n",
       "<table class=\"simpletable\">\n",
       "<tr>\n",
       "      <td></td>        <th>coef</th>     <th>std err</th>      <th>z</th>      <th>P>|z|</th>  <th>[0.025</th>    <th>0.975]</th>  \n",
       "</tr>\n",
       "<tr>\n",
       "  <th>ar.L1</th>    <td>    0.8536</td> <td>    0.025</td> <td>   34.380</td> <td> 0.000</td> <td>    0.805</td> <td>    0.902</td>\n",
       "</tr>\n",
       "<tr>\n",
       "  <th>ma.S.L12</th> <td>    0.3026</td> <td>    0.039</td> <td>    7.802</td> <td> 0.000</td> <td>    0.227</td> <td>    0.379</td>\n",
       "</tr>\n",
       "<tr>\n",
       "  <th>sigma2</th>   <td>   36.6794</td> <td>    2.151</td> <td>   17.050</td> <td> 0.000</td> <td>   32.463</td> <td>   40.896</td>\n",
       "</tr>\n",
       "</table>\n",
       "<table class=\"simpletable\">\n",
       "<tr>\n",
       "  <th>Ljung-Box (L1) (Q):</th>     <td>25.58</td> <th>  Jarque-Bera (JB):  </th> <td>4.16</td> \n",
       "</tr>\n",
       "<tr>\n",
       "  <th>Prob(Q):</th>                <td>0.00</td>  <th>  Prob(JB):          </th> <td>0.12</td> \n",
       "</tr>\n",
       "<tr>\n",
       "  <th>Heteroskedasticity (H):</th> <td>0.81</td>  <th>  Skew:              </th> <td>-0.19</td>\n",
       "</tr>\n",
       "<tr>\n",
       "  <th>Prob(H) (two-sided):</th>    <td>0.12</td>  <th>  Kurtosis:          </th> <td>3.04</td> \n",
       "</tr>\n",
       "</table><br/><br/>Warnings:<br/>[1] Covariance matrix calculated using the outer product of gradients (complex-step)."
      ],
      "text/latex": [
       "\\begin{center}\n",
       "\\begin{tabular}{lclc}\n",
       "\\toprule\n",
       "\\textbf{Dep. Variable:}          &                y                 & \\textbf{  No. Observations:  } &    660      \\\\\n",
       "\\textbf{Model:}                  & SARIMAX(1, 0, 0)x(0, 0, [1], 12) & \\textbf{  Log Likelihood     } & -2126.508   \\\\\n",
       "\\textbf{Date:}                   &         Fri, 25 Apr 2025         & \\textbf{  AIC                } &  4259.016   \\\\\n",
       "\\textbf{Time:}                   &             17:46:13             & \\textbf{  BIC                } &  4272.492   \\\\\n",
       "\\textbf{Sample:}                 &                0                 & \\textbf{  HQIC               } &  4264.239   \\\\\n",
       "\\textbf{}                        &               - 660              & \\textbf{                     } &             \\\\\n",
       "\\textbf{Covariance Type:}        &               opg                & \\textbf{                     } &             \\\\\n",
       "\\bottomrule\n",
       "\\end{tabular}\n",
       "\\begin{tabular}{lcccccc}\n",
       "                  & \\textbf{coef} & \\textbf{std err} & \\textbf{z} & \\textbf{P$> |$z$|$} & \\textbf{[0.025} & \\textbf{0.975]}  \\\\\n",
       "\\midrule\n",
       "\\textbf{ar.L1}    &       0.8536  &        0.025     &    34.380  &         0.000        &        0.805    &        0.902     \\\\\n",
       "\\textbf{ma.S.L12} &       0.3026  &        0.039     &     7.802  &         0.000        &        0.227    &        0.379     \\\\\n",
       "\\textbf{sigma2}   &      36.6794  &        2.151     &    17.050  &         0.000        &       32.463    &       40.896     \\\\\n",
       "\\bottomrule\n",
       "\\end{tabular}\n",
       "\\begin{tabular}{lclc}\n",
       "\\textbf{Ljung-Box (L1) (Q):}     & 25.58 & \\textbf{  Jarque-Bera (JB):  } &  4.16  \\\\\n",
       "\\textbf{Prob(Q):}                &  0.00 & \\textbf{  Prob(JB):          } &  0.12  \\\\\n",
       "\\textbf{Heteroskedasticity (H):} &  0.81 & \\textbf{  Skew:              } & -0.19  \\\\\n",
       "\\textbf{Prob(H) (two-sided):}    &  0.12 & \\textbf{  Kurtosis:          } &  3.04  \\\\\n",
       "\\bottomrule\n",
       "\\end{tabular}\n",
       "%\\caption{SARIMAX Results}\n",
       "\\end{center}\n",
       "\n",
       "Warnings: \\newline\n",
       " [1] Covariance matrix calculated using the outer product of gradients (complex-step)."
      ],
      "text/plain": [
       "<class 'statsmodels.iolib.summary.Summary'>\n",
       "\"\"\"\n",
       "                                      SARIMAX Results                                       \n",
       "============================================================================================\n",
       "Dep. Variable:                                    y   No. Observations:                  660\n",
       "Model:             SARIMAX(1, 0, 0)x(0, 0, [1], 12)   Log Likelihood               -2126.508\n",
       "Date:                              Fri, 25 Apr 2025   AIC                           4259.016\n",
       "Time:                                      17:46:13   BIC                           4272.492\n",
       "Sample:                                           0   HQIC                          4264.239\n",
       "                                              - 660                                         \n",
       "Covariance Type:                                opg                                         \n",
       "==============================================================================\n",
       "                 coef    std err          z      P>|z|      [0.025      0.975]\n",
       "------------------------------------------------------------------------------\n",
       "ar.L1          0.8536      0.025     34.380      0.000       0.805       0.902\n",
       "ma.S.L12       0.3026      0.039      7.802      0.000       0.227       0.379\n",
       "sigma2        36.6794      2.151     17.050      0.000      32.463      40.896\n",
       "===================================================================================\n",
       "Ljung-Box (L1) (Q):                  25.58   Jarque-Bera (JB):                 4.16\n",
       "Prob(Q):                              0.00   Prob(JB):                         0.12\n",
       "Heteroskedasticity (H):               0.81   Skew:                            -0.19\n",
       "Prob(H) (two-sided):                  0.12   Kurtosis:                         3.04\n",
       "===================================================================================\n",
       "\n",
       "Warnings:\n",
       "[1] Covariance matrix calculated using the outer product of gradients (complex-step).\n",
       "\"\"\""
      ]
     },
     "execution_count": 109,
     "metadata": {},
     "output_type": "execute_result"
    }
   ],
   "source": [
    "modelo=SARIMAX(ypre,\n",
    "               order=(1,0,0),\n",
    "               seasonal_order=(0,0,1,12)).fit()\n",
    "\n",
    "modelo.summary()"
   ]
  },
  {
   "cell_type": "code",
   "execution_count": 110,
   "metadata": {},
   "outputs": [
    {
     "name": "stdout",
     "output_type": "stream",
     "text": [
      "El modelo cumple el principio de parsimonia\n",
      "\n",
      ":)\n"
     ]
    }
   ],
   "source": [
    "parsimonia(modelo)"
   ]
  },
  {
   "cell_type": "code",
   "execution_count": 111,
   "metadata": {},
   "outputs": [
    {
     "name": "stdout",
     "output_type": "stream",
     "text": [
      "El polinomio de la parte autoregresiva es: {'p1': -0.8535719586200038}\n",
      "\n",
      "Raíces del polinomio característico: [1.17154739]\n",
      "\n",
      "Módulo de las raíces: [1.17154739]\n",
      "\n",
      "¿Las raíces están fuera del círculo unitario?  True\n",
      "\n",
      "El modelo es estacionario\n",
      "\n",
      ":)\n"
     ]
    }
   ],
   "source": [
    "estacionario(modelo)"
   ]
  },
  {
   "cell_type": "code",
   "execution_count": 112,
   "metadata": {},
   "outputs": [
    {
     "name": "stdout",
     "output_type": "stream",
     "text": [
      "El polinomio de la parte media móvil es: {'p12': 0.302602968313355}\n",
      "\n",
      "Raíces del polinomio característico: [-1.0670981 +0.28592807j -1.0670981 -0.28592807j -0.78117002+0.78117002j\n",
      " -0.78117002-0.78117002j -0.28592807+1.0670981j  -0.28592807-1.0670981j\n",
      "  0.28592807+1.0670981j   0.28592807-1.0670981j   0.78117002+0.78117002j\n",
      "  0.78117002-0.78117002j  1.0670981 +0.28592807j  1.0670981 -0.28592807j]\n",
      "\n",
      "Módulo de las raíces: [1.10474124 1.10474124 1.10474124 1.10474124 1.10474124 1.10474124\n",
      " 1.10474124 1.10474124 1.10474124 1.10474124 1.10474124 1.10474124]\n",
      "\n",
      "¿Las raíces están fuera del círculo unitario?  True\n",
      "\n",
      "El modelo es invertible\n",
      "\n",
      ":)\n"
     ]
    }
   ],
   "source": [
    "invertible(modelo)"
   ]
  },
  {
   "cell_type": "code",
   "execution_count": 113,
   "metadata": {},
   "outputs": [
    {
     "name": "stdout",
     "output_type": "stream",
     "text": [
      "Los residuos no son cero, pvalor=1.4561136620079326e-09, media=1.4120068935710988\n"
     ]
    }
   ],
   "source": [
    "media_cero(modelo)"
   ]
  },
  {
   "cell_type": "markdown",
   "metadata": {},
   "source": [
    "## **32° Modelo con mejor AIC**"
   ]
  },
  {
   "cell_type": "code",
   "execution_count": 114,
   "metadata": {
    "tags": []
   },
   "outputs": [
    {
     "data": {
      "text/html": [
       "<table class=\"simpletable\">\n",
       "<caption>SARIMAX Results</caption>\n",
       "<tr>\n",
       "  <th>Dep. Variable:</th>                   <td>y</td>                <th>  No. Observations:  </th>    <td>660</td>   \n",
       "</tr>\n",
       "<tr>\n",
       "  <th>Model:</th>           <td>SARIMAX(2, 0, 0)x(0, 0, [1], 12)</td> <th>  Log Likelihood     </th> <td>-2117.786</td>\n",
       "</tr>\n",
       "<tr>\n",
       "  <th>Date:</th>                    <td>Fri, 25 Apr 2025</td>         <th>  AIC                </th> <td>4243.572</td> \n",
       "</tr>\n",
       "<tr>\n",
       "  <th>Time:</th>                        <td>17:46:13</td>             <th>  BIC                </th> <td>4261.541</td> \n",
       "</tr>\n",
       "<tr>\n",
       "  <th>Sample:</th>                          <td>0</td>                <th>  HQIC               </th> <td>4250.537</td> \n",
       "</tr>\n",
       "<tr>\n",
       "  <th></th>                              <td> - 660</td>              <th>                     </th>     <td> </td>    \n",
       "</tr>\n",
       "<tr>\n",
       "  <th>Covariance Type:</th>                <td>opg</td>               <th>                     </th>     <td> </td>    \n",
       "</tr>\n",
       "</table>\n",
       "<table class=\"simpletable\">\n",
       "<tr>\n",
       "      <td></td>        <th>coef</th>     <th>std err</th>      <th>z</th>      <th>P>|z|</th>  <th>[0.025</th>    <th>0.975]</th>  \n",
       "</tr>\n",
       "<tr>\n",
       "  <th>ar.L1</th>    <td>    0.7043</td> <td>    0.041</td> <td>   17.313</td> <td> 0.000</td> <td>    0.625</td> <td>    0.784</td>\n",
       "</tr>\n",
       "<tr>\n",
       "  <th>ar.L2</th>    <td>    0.1669</td> <td>    0.038</td> <td>    4.360</td> <td> 0.000</td> <td>    0.092</td> <td>    0.242</td>\n",
       "</tr>\n",
       "<tr>\n",
       "  <th>ma.S.L12</th> <td>    0.3417</td> <td>    0.039</td> <td>    8.761</td> <td> 0.000</td> <td>    0.265</td> <td>    0.418</td>\n",
       "</tr>\n",
       "<tr>\n",
       "  <th>sigma2</th>   <td>   35.7003</td> <td>    2.127</td> <td>   16.781</td> <td> 0.000</td> <td>   31.531</td> <td>   39.870</td>\n",
       "</tr>\n",
       "</table>\n",
       "<table class=\"simpletable\">\n",
       "<tr>\n",
       "  <th>Ljung-Box (L1) (Q):</th>     <td>0.74</td> <th>  Jarque-Bera (JB):  </th> <td>5.30</td> \n",
       "</tr>\n",
       "<tr>\n",
       "  <th>Prob(Q):</th>                <td>0.39</td> <th>  Prob(JB):          </th> <td>0.07</td> \n",
       "</tr>\n",
       "<tr>\n",
       "  <th>Heteroskedasticity (H):</th> <td>0.83</td> <th>  Skew:              </th> <td>-0.22</td>\n",
       "</tr>\n",
       "<tr>\n",
       "  <th>Prob(H) (two-sided):</th>    <td>0.18</td> <th>  Kurtosis:          </th> <td>2.99</td> \n",
       "</tr>\n",
       "</table><br/><br/>Warnings:<br/>[1] Covariance matrix calculated using the outer product of gradients (complex-step)."
      ],
      "text/latex": [
       "\\begin{center}\n",
       "\\begin{tabular}{lclc}\n",
       "\\toprule\n",
       "\\textbf{Dep. Variable:}          &                y                 & \\textbf{  No. Observations:  } &    660      \\\\\n",
       "\\textbf{Model:}                  & SARIMAX(2, 0, 0)x(0, 0, [1], 12) & \\textbf{  Log Likelihood     } & -2117.786   \\\\\n",
       "\\textbf{Date:}                   &         Fri, 25 Apr 2025         & \\textbf{  AIC                } &  4243.572   \\\\\n",
       "\\textbf{Time:}                   &             17:46:13             & \\textbf{  BIC                } &  4261.541   \\\\\n",
       "\\textbf{Sample:}                 &                0                 & \\textbf{  HQIC               } &  4250.537   \\\\\n",
       "\\textbf{}                        &               - 660              & \\textbf{                     } &             \\\\\n",
       "\\textbf{Covariance Type:}        &               opg                & \\textbf{                     } &             \\\\\n",
       "\\bottomrule\n",
       "\\end{tabular}\n",
       "\\begin{tabular}{lcccccc}\n",
       "                  & \\textbf{coef} & \\textbf{std err} & \\textbf{z} & \\textbf{P$> |$z$|$} & \\textbf{[0.025} & \\textbf{0.975]}  \\\\\n",
       "\\midrule\n",
       "\\textbf{ar.L1}    &       0.7043  &        0.041     &    17.313  &         0.000        &        0.625    &        0.784     \\\\\n",
       "\\textbf{ar.L2}    &       0.1669  &        0.038     &     4.360  &         0.000        &        0.092    &        0.242     \\\\\n",
       "\\textbf{ma.S.L12} &       0.3417  &        0.039     &     8.761  &         0.000        &        0.265    &        0.418     \\\\\n",
       "\\textbf{sigma2}   &      35.7003  &        2.127     &    16.781  &         0.000        &       31.531    &       39.870     \\\\\n",
       "\\bottomrule\n",
       "\\end{tabular}\n",
       "\\begin{tabular}{lclc}\n",
       "\\textbf{Ljung-Box (L1) (Q):}     & 0.74 & \\textbf{  Jarque-Bera (JB):  } &  5.30  \\\\\n",
       "\\textbf{Prob(Q):}                & 0.39 & \\textbf{  Prob(JB):          } &  0.07  \\\\\n",
       "\\textbf{Heteroskedasticity (H):} & 0.83 & \\textbf{  Skew:              } & -0.22  \\\\\n",
       "\\textbf{Prob(H) (two-sided):}    & 0.18 & \\textbf{  Kurtosis:          } &  2.99  \\\\\n",
       "\\bottomrule\n",
       "\\end{tabular}\n",
       "%\\caption{SARIMAX Results}\n",
       "\\end{center}\n",
       "\n",
       "Warnings: \\newline\n",
       " [1] Covariance matrix calculated using the outer product of gradients (complex-step)."
      ],
      "text/plain": [
       "<class 'statsmodels.iolib.summary.Summary'>\n",
       "\"\"\"\n",
       "                                      SARIMAX Results                                       \n",
       "============================================================================================\n",
       "Dep. Variable:                                    y   No. Observations:                  660\n",
       "Model:             SARIMAX(2, 0, 0)x(0, 0, [1], 12)   Log Likelihood               -2117.786\n",
       "Date:                              Fri, 25 Apr 2025   AIC                           4243.572\n",
       "Time:                                      17:46:13   BIC                           4261.541\n",
       "Sample:                                           0   HQIC                          4250.537\n",
       "                                              - 660                                         \n",
       "Covariance Type:                                opg                                         \n",
       "==============================================================================\n",
       "                 coef    std err          z      P>|z|      [0.025      0.975]\n",
       "------------------------------------------------------------------------------\n",
       "ar.L1          0.7043      0.041     17.313      0.000       0.625       0.784\n",
       "ar.L2          0.1669      0.038      4.360      0.000       0.092       0.242\n",
       "ma.S.L12       0.3417      0.039      8.761      0.000       0.265       0.418\n",
       "sigma2        35.7003      2.127     16.781      0.000      31.531      39.870\n",
       "===================================================================================\n",
       "Ljung-Box (L1) (Q):                   0.74   Jarque-Bera (JB):                 5.30\n",
       "Prob(Q):                              0.39   Prob(JB):                         0.07\n",
       "Heteroskedasticity (H):               0.83   Skew:                            -0.22\n",
       "Prob(H) (two-sided):                  0.18   Kurtosis:                         2.99\n",
       "===================================================================================\n",
       "\n",
       "Warnings:\n",
       "[1] Covariance matrix calculated using the outer product of gradients (complex-step).\n",
       "\"\"\""
      ]
     },
     "execution_count": 114,
     "metadata": {},
     "output_type": "execute_result"
    }
   ],
   "source": [
    "modelo=SARIMAX(ypre,\n",
    "               order=(2,0,0),\n",
    "               seasonal_order=(0,0,1,12)).fit()\n",
    "\n",
    "modelo.summary()"
   ]
  },
  {
   "cell_type": "code",
   "execution_count": 115,
   "metadata": {},
   "outputs": [
    {
     "name": "stdout",
     "output_type": "stream",
     "text": [
      "El modelo cumple el principio de parsimonia\n",
      "\n",
      ":)\n"
     ]
    }
   ],
   "source": [
    "parsimonia(modelo)"
   ]
  },
  {
   "cell_type": "code",
   "execution_count": 116,
   "metadata": {},
   "outputs": [
    {
     "name": "stdout",
     "output_type": "stream",
     "text": [
      "El polinomio de la parte autoregresiva es: {'p1': -0.7042595868000283, 'p2': -0.1668975854148984}\n",
      "\n",
      "Raíces del polinomio característico: [-5.34144783  1.12173677]\n",
      "\n",
      "Módulo de las raíces: [5.34144783 1.12173677]\n",
      "\n",
      "¿Las raíces están fuera del círculo unitario?  True\n",
      "\n",
      "El modelo es estacionario\n",
      "\n",
      ":)\n"
     ]
    }
   ],
   "source": [
    "estacionario(modelo)"
   ]
  },
  {
   "cell_type": "code",
   "execution_count": 117,
   "metadata": {},
   "outputs": [
    {
     "name": "stdout",
     "output_type": "stream",
     "text": [
      "El polinomio de la parte media móvil es: {'p12': 0.34173650696068003}\n",
      "\n",
      "Raíces del polinomio característico: [-1.05633782+0.28304487j -1.05633782-0.28304487j -0.77329296+0.77329296j\n",
      " -0.77329296-0.77329296j -0.28304487+1.05633782j -0.28304487-1.05633782j\n",
      "  0.28304487+1.05633782j  0.28304487-1.05633782j  0.77329296+0.77329296j\n",
      "  0.77329296-0.77329296j  1.05633782+0.28304487j  1.05633782-0.28304487j]\n",
      "\n",
      "Módulo de las raíces: [1.09360139 1.09360139 1.09360139 1.09360139 1.09360139 1.09360139\n",
      " 1.09360139 1.09360139 1.09360139 1.09360139 1.09360139 1.09360139]\n",
      "\n",
      "¿Las raíces están fuera del círculo unitario?  True\n",
      "\n",
      "El modelo es invertible\n",
      "\n",
      ":)\n"
     ]
    }
   ],
   "source": [
    "invertible(modelo)"
   ]
  },
  {
   "cell_type": "code",
   "execution_count": 118,
   "metadata": {},
   "outputs": [
    {
     "name": "stdout",
     "output_type": "stream",
     "text": [
      "Los residuos no son cero, pvalor=1.7514165583492706e-07, media=1.2077391153795352\n"
     ]
    }
   ],
   "source": [
    "media_cero(modelo)"
   ]
  },
  {
   "cell_type": "markdown",
   "metadata": {},
   "source": [
    "## **33° Modelo con mejor AIC**"
   ]
  },
  {
   "cell_type": "code",
   "execution_count": 119,
   "metadata": {
    "tags": []
   },
   "outputs": [
    {
     "data": {
      "text/html": [
       "<table class=\"simpletable\">\n",
       "<caption>SARIMAX Results</caption>\n",
       "<tr>\n",
       "  <th>Dep. Variable:</th>           <td>y</td>        <th>  No. Observations:  </th>    <td>660</td>   \n",
       "</tr>\n",
       "<tr>\n",
       "  <th>Model:</th>           <td>SARIMAX(3, 0, 0)</td> <th>  Log Likelihood     </th> <td>-2156.344</td>\n",
       "</tr>\n",
       "<tr>\n",
       "  <th>Date:</th>            <td>Fri, 25 Apr 2025</td> <th>  AIC                </th> <td>4320.687</td> \n",
       "</tr>\n",
       "<tr>\n",
       "  <th>Time:</th>                <td>17:46:13</td>     <th>  BIC                </th> <td>4338.656</td> \n",
       "</tr>\n",
       "<tr>\n",
       "  <th>Sample:</th>                  <td>0</td>        <th>  HQIC               </th> <td>4327.652</td> \n",
       "</tr>\n",
       "<tr>\n",
       "  <th></th>                      <td> - 660</td>      <th>                     </th>     <td> </td>    \n",
       "</tr>\n",
       "<tr>\n",
       "  <th>Covariance Type:</th>        <td>opg</td>       <th>                     </th>     <td> </td>    \n",
       "</tr>\n",
       "</table>\n",
       "<table class=\"simpletable\">\n",
       "<tr>\n",
       "     <td></td>       <th>coef</th>     <th>std err</th>      <th>z</th>      <th>P>|z|</th>  <th>[0.025</th>    <th>0.975]</th>  \n",
       "</tr>\n",
       "<tr>\n",
       "  <th>ar.L1</th>  <td>    0.8680</td> <td>    0.041</td> <td>   21.282</td> <td> 0.000</td> <td>    0.788</td> <td>    0.948</td>\n",
       "</tr>\n",
       "<tr>\n",
       "  <th>ar.L2</th>  <td>    0.1321</td> <td>    0.051</td> <td>    2.574</td> <td> 0.010</td> <td>    0.032</td> <td>    0.233</td>\n",
       "</tr>\n",
       "<tr>\n",
       "  <th>ar.L3</th>  <td>   -0.1070</td> <td>    0.041</td> <td>   -2.631</td> <td> 0.009</td> <td>   -0.187</td> <td>   -0.027</td>\n",
       "</tr>\n",
       "<tr>\n",
       "  <th>sigma2</th> <td>   40.2086</td> <td>    2.426</td> <td>   16.576</td> <td> 0.000</td> <td>   35.454</td> <td>   44.963</td>\n",
       "</tr>\n",
       "</table>\n",
       "<table class=\"simpletable\">\n",
       "<tr>\n",
       "  <th>Ljung-Box (L1) (Q):</th>     <td>1.62</td> <th>  Jarque-Bera (JB):  </th> <td>1.92</td> \n",
       "</tr>\n",
       "<tr>\n",
       "  <th>Prob(Q):</th>                <td>0.20</td> <th>  Prob(JB):          </th> <td>0.38</td> \n",
       "</tr>\n",
       "<tr>\n",
       "  <th>Heteroskedasticity (H):</th> <td>0.88</td> <th>  Skew:              </th> <td>-0.12</td>\n",
       "</tr>\n",
       "<tr>\n",
       "  <th>Prob(H) (two-sided):</th>    <td>0.33</td> <th>  Kurtosis:          </th> <td>2.90</td> \n",
       "</tr>\n",
       "</table><br/><br/>Warnings:<br/>[1] Covariance matrix calculated using the outer product of gradients (complex-step)."
      ],
      "text/latex": [
       "\\begin{center}\n",
       "\\begin{tabular}{lclc}\n",
       "\\toprule\n",
       "\\textbf{Dep. Variable:}          &        y         & \\textbf{  No. Observations:  } &    660      \\\\\n",
       "\\textbf{Model:}                  & SARIMAX(3, 0, 0) & \\textbf{  Log Likelihood     } & -2156.344   \\\\\n",
       "\\textbf{Date:}                   & Fri, 25 Apr 2025 & \\textbf{  AIC                } &  4320.687   \\\\\n",
       "\\textbf{Time:}                   &     17:46:13     & \\textbf{  BIC                } &  4338.656   \\\\\n",
       "\\textbf{Sample:}                 &        0         & \\textbf{  HQIC               } &  4327.652   \\\\\n",
       "\\textbf{}                        &       - 660      & \\textbf{                     } &             \\\\\n",
       "\\textbf{Covariance Type:}        &       opg        & \\textbf{                     } &             \\\\\n",
       "\\bottomrule\n",
       "\\end{tabular}\n",
       "\\begin{tabular}{lcccccc}\n",
       "                & \\textbf{coef} & \\textbf{std err} & \\textbf{z} & \\textbf{P$> |$z$|$} & \\textbf{[0.025} & \\textbf{0.975]}  \\\\\n",
       "\\midrule\n",
       "\\textbf{ar.L1}  &       0.8680  &        0.041     &    21.282  &         0.000        &        0.788    &        0.948     \\\\\n",
       "\\textbf{ar.L2}  &       0.1321  &        0.051     &     2.574  &         0.010        &        0.032    &        0.233     \\\\\n",
       "\\textbf{ar.L3}  &      -0.1070  &        0.041     &    -2.631  &         0.009        &       -0.187    &       -0.027     \\\\\n",
       "\\textbf{sigma2} &      40.2086  &        2.426     &    16.576  &         0.000        &       35.454    &       44.963     \\\\\n",
       "\\bottomrule\n",
       "\\end{tabular}\n",
       "\\begin{tabular}{lclc}\n",
       "\\textbf{Ljung-Box (L1) (Q):}     & 1.62 & \\textbf{  Jarque-Bera (JB):  } &  1.92  \\\\\n",
       "\\textbf{Prob(Q):}                & 0.20 & \\textbf{  Prob(JB):          } &  0.38  \\\\\n",
       "\\textbf{Heteroskedasticity (H):} & 0.88 & \\textbf{  Skew:              } & -0.12  \\\\\n",
       "\\textbf{Prob(H) (two-sided):}    & 0.33 & \\textbf{  Kurtosis:          } &  2.90  \\\\\n",
       "\\bottomrule\n",
       "\\end{tabular}\n",
       "%\\caption{SARIMAX Results}\n",
       "\\end{center}\n",
       "\n",
       "Warnings: \\newline\n",
       " [1] Covariance matrix calculated using the outer product of gradients (complex-step)."
      ],
      "text/plain": [
       "<class 'statsmodels.iolib.summary.Summary'>\n",
       "\"\"\"\n",
       "                               SARIMAX Results                                \n",
       "==============================================================================\n",
       "Dep. Variable:                      y   No. Observations:                  660\n",
       "Model:               SARIMAX(3, 0, 0)   Log Likelihood               -2156.344\n",
       "Date:                Fri, 25 Apr 2025   AIC                           4320.687\n",
       "Time:                        17:46:13   BIC                           4338.656\n",
       "Sample:                             0   HQIC                          4327.652\n",
       "                                - 660                                         \n",
       "Covariance Type:                  opg                                         \n",
       "==============================================================================\n",
       "                 coef    std err          z      P>|z|      [0.025      0.975]\n",
       "------------------------------------------------------------------------------\n",
       "ar.L1          0.8680      0.041     21.282      0.000       0.788       0.948\n",
       "ar.L2          0.1321      0.051      2.574      0.010       0.032       0.233\n",
       "ar.L3         -0.1070      0.041     -2.631      0.009      -0.187      -0.027\n",
       "sigma2        40.2086      2.426     16.576      0.000      35.454      44.963\n",
       "===================================================================================\n",
       "Ljung-Box (L1) (Q):                   1.62   Jarque-Bera (JB):                 1.92\n",
       "Prob(Q):                              0.20   Prob(JB):                         0.38\n",
       "Heteroskedasticity (H):               0.88   Skew:                            -0.12\n",
       "Prob(H) (two-sided):                  0.33   Kurtosis:                         2.90\n",
       "===================================================================================\n",
       "\n",
       "Warnings:\n",
       "[1] Covariance matrix calculated using the outer product of gradients (complex-step).\n",
       "\"\"\""
      ]
     },
     "execution_count": 119,
     "metadata": {},
     "output_type": "execute_result"
    }
   ],
   "source": [
    "modelo=SARIMAX(ypre,\n",
    "               order=(3,0,0),\n",
    "               seasonal_order=(0,0,0,12)).fit()\n",
    "\n",
    "modelo.summary()"
   ]
  },
  {
   "cell_type": "code",
   "execution_count": 120,
   "metadata": {},
   "outputs": [
    {
     "name": "stdout",
     "output_type": "stream",
     "text": [
      "El modelo cumple el principio de parsimonia\n",
      "\n",
      ":)\n"
     ]
    }
   ],
   "source": [
    "parsimonia(modelo)"
   ]
  },
  {
   "cell_type": "code",
   "execution_count": 121,
   "metadata": {},
   "outputs": [
    {
     "name": "stdout",
     "output_type": "stream",
     "text": [
      "El polinomio de la parte autoregresiva es: {'p1': -0.8679956769206061, 'p2': -0.13207984204523213, 'p3': 0.10699967514866396}\n",
      "\n",
      "Raíces del polinomio característico: [-2.81911319  2.91701669  1.13649129]\n",
      "\n",
      "Módulo de las raíces: [2.81911319 2.91701669 1.13649129]\n",
      "\n",
      "¿Las raíces están fuera del círculo unitario?  True\n",
      "\n",
      "El modelo es estacionario\n",
      "\n",
      ":)\n"
     ]
    }
   ],
   "source": [
    "estacionario(modelo)"
   ]
  },
  {
   "cell_type": "code",
   "execution_count": 122,
   "metadata": {},
   "outputs": [
    {
     "name": "stdout",
     "output_type": "stream",
     "text": [
      "El polinomio de la parte media móvil es: {}\n",
      "\n",
      "Raíces del polinomio característico: []\n",
      "\n",
      "Módulo de las raíces: []\n",
      "\n",
      "¿Las raíces están fuera del círculo unitario?  True\n",
      "\n",
      "El modelo es invertible\n",
      "\n",
      ":)\n"
     ]
    }
   ],
   "source": [
    "invertible(modelo)"
   ]
  },
  {
   "cell_type": "code",
   "execution_count": 123,
   "metadata": {},
   "outputs": [
    {
     "name": "stdout",
     "output_type": "stream",
     "text": [
      "Los residuos no son cero, pvalor=4.900076951567405e-08, media=1.3349186985452184\n"
     ]
    }
   ],
   "source": [
    "media_cero(modelo)"
   ]
  },
  {
   "cell_type": "markdown",
   "metadata": {},
   "source": [
    "Ningun modelo cumple los supuestos, seguramente hace falta una diferencia estacional, dado que así se ve la FAC y FACP"
   ]
  },
  {
   "cell_type": "markdown",
   "metadata": {},
   "source": [
    "# **FAC Y FACPS**"
   ]
  },
  {
   "cell_type": "code",
   "execution_count": 126,
   "metadata": {},
   "outputs": [],
   "source": [
    "from statsmodels.graphics.tsaplots import plot_acf, plot_pacf, acf, pacf\n",
    "import matplotlib.pyplot as plt\n",
    "from fac_y_facps_significativas import *    # Este es el archivo que se usa para el curso"
   ]
  },
  {
   "cell_type": "code",
   "execution_count": null,
   "metadata": {},
   "outputs": [
    {
     "data": {
      "image/png": "[encoded data removed]",
      "text/plain": [
       "<Figure size 1600x400 with 2 Axes>"
      ]
     },
     "metadata": {},
     "output_type": "display_data"
    }
   ],
   "source": [
    "fig, axs = plt.subplots(1, 2, figsize=(16, 4))\n",
    "\n",
    "plot_acf(ypre, lags=48, ax=axs[0])\n",
    "axs[0].xaxis.set_major_locator(plt.MultipleLocator(6))\n",
    "\n",
    "# axs[0].set_ylim(-0.04, 0.04)\n",
    "axs[0].set_title('Autocorrelaciones Simples')\n",
    "\n",
    "plot_pacf(ypre, lags=48, ax=axs[1])\n",
    "# axs[1].set_ylim(-0.04, 0.04)\n",
    "axs[1].set_title('Autocorrelaciones Parciales')\n",
    "axs[1].xaxis.set_major_locator(plt.MultipleLocator(6))\n",
    "\n",
    "plt.tight_layout()\n",
    "plt.show()\n"
   ]
  }
 ],
 "metadata": {
  "kernelspec": {
   "display_name": "Python 3",
   "language": "python",
   "name": "python3"
  },
  "language_info": {
   "codemirror_mode": {
    "name": "ipython",
    "version": 3
   },
   "file_extension": ".py",
   "mimetype": "text/x-python",
   "name": "python",
   "nbconvert_exporter": "python",
   "pygments_lexer": "ipython3",
   "version": "3.12.1"
  }
 },
 "nbformat": 4,
 "nbformat_minor": 4
}
