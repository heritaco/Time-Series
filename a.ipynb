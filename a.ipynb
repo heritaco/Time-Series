{
 "cells": [
  {
   "cell_type": "markdown",
   "metadata": {},
   "source": [
    "# Justificaciones de los ejercicios de repaso del primer parcial"
   ]
  },
  {
   "cell_type": "markdown",
   "metadata": {},
   "source": [
    "1. Subir aquí el archivo con las justificaciones de los ejercicios del examen que lo soliciten.\n",
    "\n",
    "2. Todas las justificaciones deben llevar el número y enunciado del ejercicio del examen correspondiente. Se invalidará la calificación del ejercicio que no lleve enunciado completo y número.\n",
    "\n",
    "3. Subir los archivos que sean necesarios con las justificaciones: fotos de la libreta con los cálculos, excel con fórmulas, archivos en R, etc.\n",
    "\n",
    "4. En caso de subir códigos en R, se deben escribir los resultados numéricos aparte."
   ]
  },
  {
   "cell_type": "markdown",
   "metadata": {},
   "source": [
    "> Nota:En todas las respuestas $a_t$ es un ruido blanco con media cero y varianza constante."
   ]
  },
  {
   "cell_type": "markdown",
   "metadata": {},
   "source": [
    "# Ejercicio 1"
   ]
  },
  {
   "cell_type": "markdown",
   "metadata": {},
   "source": [
    "Obtener los parámetros de un proceso AR(3) cuyas 3 primeras autocorrelaciones son\n",
    "\n",
    "$\\rho_1 = 0.2$, $\\rho_2 = -0.15$, $\\rho_3 = -0.003$\n",
    "\n",
    "Escribir el resultado de $\\phi_1$ (redondeado a dos decimales) y verificar si el proceso es estacionario o no. Justificar su respuesta calculando los tres parámetros y realizando la verificación de estacionariedad."
   ]
  },
  {
   "cell_type": "code",
   "execution_count": 1,
   "metadata": {},
   "outputs": [],
   "source": [
    "import numpy as np"
   ]
  },
  {
   "cell_type": "code",
   "execution_count": 2,
   "metadata": {},
   "outputs": [
    {
     "name": "stdout",
     "output_type": "stream",
     "text": [
      "phi1 = 0.2551439864483343\n",
      "phi2 = -0.21675324675324678\n",
      "phi3 = 0.0786222473178995\n",
      "\n",
      "El proceso es AR(3) es W_t = X_t(1 - 0.2551439864483343B - -0.21675324675324678B^2 - 0.0786222473178995B^3)\n",
      "\n",
      " [ 3.05658025+0.j         -0.14984284+2.03439146j -0.14984284-2.03439146j]\n",
      "(3.056580246536118+0j)\n",
      "(0.1498428380052026-2.03439145831926j)\n",
      "(0.1498428380052026+2.03439145831926j)\n",
      "\n",
      " [(0.3271630120404181+0j), (0.03600951279604181+0.48889520664285624j), (0.03600951279604181-0.48889520664285624j)]\n",
      "\n",
      "El proceso es estacionario\n"
     ]
    }
   ],
   "source": [
    "# Ya lo había hecho para el último de la tarea\n",
    "\n",
    "rho1 = 0.2\n",
    "rho2 = -0.15\n",
    "rho3 = -0.003\n",
    "\n",
    "# Es resolver un sistema de ecuaciones \n",
    "A = np.array([[1, rho1, rho2], [rho1, 1, rho1], [rho2, rho1, 1]]) # Matriz de coeficientes\n",
    "b = np.array([rho1, rho2, rho3])                                  # Vector de términos independientes\n",
    "phi = np.linalg.solve(A, b)\n",
    "\n",
    "print(f\"phi1 = {phi[0]}\")\n",
    "print(f\"phi2 = {phi[1]}\")\n",
    "print(f\"phi3 = {phi[2]}\")\n",
    "\n",
    "print(f\"\\nEl proceso es AR(3) es W_t = X_t(1 - {phi[0]}B - {phi[1]}B^2 - {phi[2]}B^3)\")\n",
    "\n",
    "# Calcuclar estacionariedad\t\n",
    "roots = np.roots([-phi[2], -phi[1], -phi[0], 1])\n",
    "print(\"\\n\", roots)\n",
    "\n",
    "inversos = []\n",
    "for root in roots:\n",
    "    modulo = np.sqrt(root**2)\n",
    "    print(modulo)\n",
    "    inversos.append(1/modulo)\n",
    "\n",
    "print(\"\\n\", inversos)\n",
    "\n",
    "if all([inverso < 1 for inverso in inversos]):\n",
    "    print(\"\\nEl proceso es estacionario\")"
   ]
  },
  {
   "cell_type": "markdown",
   "metadata": {},
   "source": [
    "# Ejercicio 2"
   ]
  },
  {
   "cell_type": "markdown",
   "metadata": {},
   "source": [
    "¿ A cuál proceso corresponde la siguiente gráfica de la FAC (teórica)? Justifique su respuesta y calcule las tres primeras autocorrelaciones del proceso que elija.\n",
    "\n",
    "![Econometrics-II](MA1_theta_07.JPG.jpg)"
   ]
  },
  {
   "cell_type": "markdown",
   "metadata": {},
   "source": [
    "Es un MA(1), solo tiene una autocorrelación, las demás son cero 0."
   ]
  },
  {
   "cell_type": "code",
   "execution_count": 3,
   "metadata": {},
   "outputs": [
    {
     "name": "stdout",
     "output_type": "stream",
     "text": [
      "rho1 = -0.4697986577181208\n",
      "rho1 = 0\n",
      "rho1 = 0\n"
     ]
    }
   ],
   "source": [
    "rho1 = (-0.7)/(1+0.7**2)\n",
    "\n",
    "print(\"rho1 =\", rho1)\n",
    "print(\"rho1 =\", 0)\n",
    "print(\"rho1 =\", 0)"
   ]
  },
  {
   "cell_type": "markdown",
   "metadata": {},
   "source": [
    "# Ejercicio 3"
   ]
  },
  {
   "cell_type": "markdown",
   "metadata": {},
   "source": []
  },
  {
   "cell_type": "markdown",
   "metadata": {},
   "source": [
    "¿ A cuál proceso corresponde la siguiente gráfica de la FAC (teórica)? Justifique su respuesta y calcule las tres primeras autocorrelaciones del proceso que elija.\n",
    "\n",
    "![Econometrics-II](MA1_theta_04.JPG.jpg)"
   ]
  },
  {
   "cell_type": "markdown",
   "metadata": {},
   "source": [
    "Es un MA(1), solo tiene una autocorrelación, las demás son cero 0."
   ]
  },
  {
   "cell_type": "code",
   "execution_count": 4,
   "metadata": {},
   "outputs": [
    {
     "name": "stdout",
     "output_type": "stream",
     "text": [
      "rho1 = -0.3448275862068965\n",
      "rho1 = 0\n",
      "rho1 = 0\n"
     ]
    }
   ],
   "source": [
    "rho1 = (-0.4)/(1+0.4**2)\n",
    "\n",
    "print(\"rho1 =\", rho1)\n",
    "print(\"rho1 =\", 0)\n",
    "print(\"rho1 =\", 0)"
   ]
  },
  {
   "cell_type": "markdown",
   "metadata": {},
   "source": [
    "# Ejercicio 4"
   ]
  },
  {
   "cell_type": "markdown",
   "metadata": {},
   "source": [
    "¿ A cuál proceso corresponde la siguiente gráfica de la FAC (teórica)? Justifique su respuesta y calcule las tres primeras autocorrelaciones del proceso que elija.\n",
    "\n",
    "![Econometrics-II](FAC_AR2_phi1_01_phi2_05_RaizReal_RF2.JPG.jpg)"
   ]
  },
  {
   "cell_type": "markdown",
   "metadata": {},
   "source": [
    "Es un AR con discriminante $\\geq 0 $ y $\\phi_1 > 0$ "
   ]
  },
  {
   "cell_type": "code",
   "execution_count": 5,
   "metadata": {},
   "outputs": [
    {
     "name": "stdout",
     "output_type": "stream",
     "text": [
      "Discriminante: 2.01\n",
      "rho0 = 1\n",
      "rho1 = 0.2\n",
      "rho2 = 0.52\n",
      "rho3 = 0.15200000000000002\n"
     ]
    }
   ],
   "source": [
    "def discriminante(phi):\n",
    "    return phi[1]**2 + 4*phi[2]\n",
    "\n",
    "def fac_teorica_AR2(phi):\n",
    "    rho = []\n",
    "    rho0 = 1\n",
    "    rho1 = phi[1] / (1 - phi[2])\n",
    "    rho2 = phi[2] + phi[1]**2 / (1 - phi[2])\n",
    "    rho3 = phi[1]*rho2 + phi[2]*rho1\n",
    "    rho.append(rho0)\n",
    "    rho.append(rho1)\n",
    "    rho.append(rho2)\n",
    "    rho.append(rho3)\n",
    "    return rho\n",
    "\n",
    "proceso = [1, 0.1, 0.5]\n",
    "print(f\"Discriminante: {discriminante(proceso)}\")\n",
    "\n",
    "rho = fac_teorica_AR2(proceso)\n",
    "for i in range(len(rho)):\n",
    "    print(f\"rho{i} = {rho[i]}\")\n"
   ]
  },
  {
   "cell_type": "markdown",
   "metadata": {},
   "source": [
    "# Ejercicio 5"
   ]
  },
  {
   "cell_type": "markdown",
   "metadata": {},
   "source": [
    "Verifique si el siguiente proceso es estacionario o invertible. Justifique su respuesta haciendo los cálculos necesarios.\n",
    "\n",
    "$(1 - 0.4B - 0.9B^2 + 0.2B^3) W_t = a_t$\n",
    "\n",
    "$a_t$ es un ruido blanco con media cero y varianza constante."
   ]
  },
  {
   "cell_type": "code",
   "execution_count": 6,
   "metadata": {},
   "outputs": [
    {
     "name": "stdout",
     "output_type": "stream",
     "text": [
      "[ 4.69918041 -1.13589785  0.93671744] \n",
      "\n",
      "0.2128030663415731\n",
      "0.8803608518720515\n",
      "1.0675577855304785\n",
      "\n",
      " [0.2128030663415731, 0.8803608518720515, 1.0675577855304785] \n",
      "\n",
      "El proceso no es estacionario\n"
     ]
    }
   ],
   "source": [
    "# Calcular las raices del polinomio 1 - 0.4x -0.9x^2 + 0.2x^3\n",
    "roots = np.roots([0.2, -0.9, -0.4, 1])\n",
    "print(roots, \"\\n\")\n",
    "\n",
    "inversos = []\n",
    "for root in roots:\n",
    "    inverso = 1 / np.sqrt(root**2)\n",
    "    print(inverso)\n",
    "    inversos.append(inverso)\n",
    "\n",
    "print(\"\\n\",inversos, \"\\n\")\n",
    "\n",
    "if all([inverso < 1 for inverso in inversos]):\n",
    "    print(\"El proceso es estacionario\")\n",
    "else:\n",
    "    print(\"El proceso no es estacionario\")"
   ]
  },
  {
   "cell_type": "markdown",
   "metadata": {},
   "source": [
    "# Ejercicio 6"
   ]
  },
  {
   "cell_type": "markdown",
   "metadata": {},
   "source": [
    "¿ A cuál proceso corresponde la siguiente gráfica de la FAC (teórica)? Justifique su respuesta y calcule las tres primeras autocorrelaciones del proceso que elija.\n",
    "\n",
    "![Econometrics-II](FAC_MA2_theta1_menos07_theta2_01_RaizReal_RF1.JPG.jpg)"
   ]
  },
  {
   "cell_type": "markdown",
   "metadata": {},
   "source": [
    "Es un MA(2) con discriminante $\\geq 0 $ y $\\phi_1 < 0$ "
   ]
  },
  {
   "cell_type": "code",
   "execution_count": 7,
   "metadata": {},
   "outputs": [
    {
     "name": "stdout",
     "output_type": "stream",
     "text": [
      "Discriminante: 0.8899999999999999\n",
      "\n",
      "rho0 = 1\n",
      "rho1 = 0.42\n",
      "rho2 = -0.06666666666666667\n",
      "rho3 = 0\n"
     ]
    }
   ],
   "source": [
    "def discriminante(phi):\n",
    "    return phi[1]**2 + 4*phi[2]\n",
    "\n",
    "def fac_teorica_MA2(phi):\n",
    "    rho = []\n",
    "    rho0 = 1\n",
    "    rho1 = -phi[1]*(1-phi[2]) / (1 + phi[1]**2 + phi[2]**2)\n",
    "    rho2 = -phi[2]/(1 + phi[1]**2 + phi[2]**2)\n",
    "    rho3 = 0\n",
    "    rho.append(rho0)\n",
    "    rho.append(rho1)\n",
    "    rho.append(rho2)\n",
    "    rho.append(rho3)\n",
    "    return rho\n",
    "\n",
    "proceso = [1, -0.7, 0.1]\n",
    "print(f\"Discriminante: {discriminante(proceso)}\\n\")\n",
    "\n",
    "rho = fac_teorica_MA2(proceso)\n",
    "for i in range(len(rho)):\n",
    "    print(f\"rho{i} = {rho[i]}\")\n"
   ]
  },
  {
   "cell_type": "markdown",
   "metadata": {},
   "source": [
    "# Ejercicio 7"
   ]
  },
  {
   "cell_type": "markdown",
   "metadata": {},
   "source": [
    "¿ A cuál proceso corresponde la siguiente gráfica de la FAC (teórica)? Justifique su respuesta y calcule las tres primeras autocorrelaciones del proceso que elija.\n",
    "\n",
    "![Econometrics-II](FAC_AR2_phi1_menos02_phi2_menos06_RaizComp_RF3.JPG.jpg)"
   ]
  },
  {
   "cell_type": "markdown",
   "metadata": {},
   "source": [
    "Es un AR con discriminante $< 0 $ y $\\phi_1 < 0$ "
   ]
  },
  {
   "cell_type": "code",
   "execution_count": 8,
   "metadata": {},
   "outputs": [
    {
     "name": "stdout",
     "output_type": "stream",
     "text": [
      "Discriminante: -2.36, \n",
      "\n",
      "rho0 = 1\n",
      "rho1 = -0.125\n",
      "rho2 = -0.575\n",
      "rho3 = 0.19\n"
     ]
    }
   ],
   "source": [
    "proceso = [1, -0.2, -0.6]\n",
    "print(f\"Discriminante: {discriminante(proceso)}, \\n\")\n",
    "\n",
    "rho = fac_teorica_AR2(proceso)\n",
    "for i in range(len(rho)):\n",
    "    print(f\"rho{i} = {rho[i]}\")"
   ]
  },
  {
   "cell_type": "markdown",
   "metadata": {},
   "source": [
    "# Ejercicio 8"
   ]
  },
  {
   "cell_type": "markdown",
   "metadata": {},
   "source": [
    "Verificar si el siguiente proceso es estacionario e invertible. Justificar su respuesta realizando los cálculos correspondientes.\n",
    "\n",
    "$(1 + 0.5B - 0.5B^2) W_t = a_t$\n",
    "\n",
    "$a_t$ es un ruido blanco con media cero y varianza constante."
   ]
  },
  {
   "cell_type": "markdown",
   "metadata": {},
   "source": [
    "Un AR siempre es invertible."
   ]
  },
  {
   "cell_type": "markdown",
   "metadata": {},
   "source": [
    "# Ejericicio 9"
   ]
  },
  {
   "cell_type": "markdown",
   "metadata": {},
   "source": [
    "¿ A cuál proceso corresponde la siguiente gráfica de la FAC (teórica)? Justifique su respuesta y calcule las tres primeras autocorrelaciones del proceso que elija.\n",
    "\n",
    "![Econometrics-II](FAC_AR1_phi_menos07.JPG.jpg)"
   ]
  },
  {
   "cell_type": "markdown",
   "metadata": {},
   "source": [
    "Es un AR arriba a la izquierda"
   ]
  },
  {
   "cell_type": "code",
   "execution_count": 9,
   "metadata": {},
   "outputs": [
    {
     "name": "stdout",
     "output_type": "stream",
     "text": [
      "rho0 = 1\n",
      "rho1 = -0.7\n",
      "rho2 = 0.48999999999999994\n",
      "rho3 = -0.3429999999999999\n"
     ]
    }
   ],
   "source": [
    "def fac_teorica_AR1(phi):\n",
    "    rho = []\n",
    "    rho0 = 1\n",
    "    rho1 = phi[1]\n",
    "    rho2 = phi[1]**2\n",
    "    rho3 = phi[1]**3\n",
    "    rho.append(rho0)\n",
    "    rho.append(rho1)\n",
    "    rho.append(rho2)\n",
    "    rho.append(rho3)\n",
    "    return rho\n",
    "\n",
    "proceso = [1, -0.7]\n",
    "\n",
    "rho = fac_teorica_AR1(proceso)\n",
    "for i in range(len(rho)):\n",
    "    print(f\"rho{i} = {rho[i]}\")"
   ]
  },
  {
   "cell_type": "markdown",
   "metadata": {},
   "source": [
    "# Ejercicio 10"
   ]
  },
  {
   "cell_type": "markdown",
   "metadata": {},
   "source": [
    "Obtener los parámetros de un proceso AR(3) cuyas 3 primeras autocorrelaciones son\n",
    "\n",
    "$\\rho_1 = 0.1$, $\\rho_2 = -0.6$, $\\rho_3 = 0.3$\n",
    "\n",
    "Escribir el resultado de $\\phi_1$ (redondeado a dos decimales) y verificar si el proceso es estacionario o no. Justificar su respuesta calculando los tres parámetros y realizando la verificación de estacionariedad."
   ]
  },
  {
   "cell_type": "code",
   "execution_count": 10,
   "metadata": {},
   "outputs": [
    {
     "name": "stdout",
     "output_type": "stream",
     "text": [
      "phi1 = 0.6217105263157895\n",
      "phi2 = -0.7368421052631579\n",
      "phi3 = 0.7467105263157895\n",
      "\n",
      "El proceso es AR(3) es W_t = X_t(1 - 0.6217105263157895B - -0.7368421052631579B^2 - 0.7467105263157895B^3)\n",
      "\n",
      " [ 1.21174267+0.j         -0.11247926+1.04524609j -0.11247926-1.04524609j]\n",
      "(1.211742668095443+0j)\n",
      "(0.11247926356314017-1.045246085896448j)\n",
      "(0.11247926356314017+1.045246085896448j)\n",
      "\n",
      " [(0.8252577270153821+0j), (0.10177360034979632+0.9457606143864775j), (0.10177360034979632-0.9457606143864775j)]\n",
      "\n",
      "El proceso es estacionario\n"
     ]
    }
   ],
   "source": [
    "# Ya lo había hecho para el último de la tarea\n",
    "\n",
    "rho1 = 0.1\n",
    "rho2 = -0.6\n",
    "rho3 = 0.3\n",
    "\n",
    "# Es resolver un sistema de ecuaciones \n",
    "A = np.array([[1, rho1, rho2], [rho1, 1, rho1], [rho2, rho1, 1]]) # Matriz de coeficientes\n",
    "b = np.array([rho1, rho2, rho3])                                  # Vector de términos independientes\n",
    "phi = np.linalg.solve(A, b)\n",
    "\n",
    "print(f\"phi1 = {phi[0]}\")\n",
    "print(f\"phi2 = {phi[1]}\")\n",
    "print(f\"phi3 = {phi[2]}\")\n",
    "\n",
    "print(f\"\\nEl proceso es AR(3) es W_t = X_t(1 - {phi[0]}B - {phi[1]}B^2 - {phi[2]}B^3)\")\n",
    "\n",
    "# Calcuclar estacionariedad\t\n",
    "roots = np.roots([-phi[2], -phi[1], -phi[0], 1])\n",
    "print(\"\\n\", roots)\n",
    "\n",
    "inversos = []\n",
    "for root in roots:\n",
    "    modulo = np.sqrt(root**2)\n",
    "    print(modulo)\n",
    "    inversos.append(1/modulo)\n",
    "\n",
    "print(\"\\n\", inversos)\n",
    "\n",
    "if all([inverso < 1 for inverso in inversos]):\n",
    "    print(\"\\nEl proceso es estacionario\")"
   ]
  }
 ],
 "metadata": {
  "kernelspec": {
   "display_name": "Python 3",
   "language": "python",
   "name": "python3"
  },
  "language_info": {
   "codemirror_mode": {
    "name": "ipython",
    "version": 3
   },
   "file_extension": ".py",
   "mimetype": "text/x-python",
   "name": "python",
   "nbconvert_exporter": "python",
   "pygments_lexer": "ipython3",
   "version": "3.12.1"
  }
 },
 "nbformat": 4,
 "nbformat_minor": 2
}
