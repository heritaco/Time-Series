{
 "cells": [
  {
   "cell_type": "code",
   "execution_count": 1,
   "id": "3ea29bc3",
   "metadata": {},
   "outputs": [
    {
     "name": "stdout",
     "output_type": "stream",
     "text": [
      "Notebook limpio guardado en: C:\\Heri\\GitHub\\.Semester\\Econometrics-II\\05-SARIMA\\02-Diferencia-Estacional copy\\01-Precipitacion-en-Puebla.ipynb\n"
     ]
    }
   ],
   "source": [
    "import nbformat\n",
    "\n",
    "def clean_warnings_and_out_numbers(path_in, path_out=None):\n",
    "    if path_out is None:\n",
    "        path_out = path_in\n",
    "\n",
    "    nb = nbformat.read(path_in, as_version=4)\n",
    "\n",
    "    for cell in nb.cells:\n",
    "        if cell.cell_type == 'code':\n",
    "            # Quitar numeración Out[i]\n",
    "            cell.execution_count = None\n",
    "\n",
    "            if 'outputs' in cell:\n",
    "                clean_outputs = []\n",
    "                for output in cell.outputs:\n",
    "                    texts = []\n",
    "                    if 'text' in output:\n",
    "                        texts.append(output['text'])\n",
    "                    if 'ename' in output and output['ename'].lower() == 'warning':\n",
    "                        continue\n",
    "                    if 'traceback' in output:\n",
    "                        traceback_text = '\\n'.join(output['traceback'])\n",
    "                        texts.append(traceback_text)\n",
    "\n",
    "                    if any('warning' in t.lower() for t in texts):\n",
    "                        continue\n",
    "                    else:\n",
    "                        clean_outputs.append(output)\n",
    "                cell.outputs = clean_outputs\n",
    "\n",
    "    nbformat.write(nb, path_out)\n",
    "    print(f\"Notebook limpio guardado en: {path_out}\")\n",
    "\n",
    "# Ejemplo de uso:\n",
    "input_path = r\"C:\\Heri\\GitHub\\.Semester\\Econometrics-II\\05-SARIMA\\02-Diferencia-Estacional copy\\01-Precipitacion-en-Puebla.ipynb\"\n",
    "clean_warnings_and_out_numbers(input_path, r\"C:\\Heri\\GitHub\\.Semester\\Econometrics-II\\05-SARIMA\\02-Diferencia-Estacional copy\\01-Precipitacion-en-Puebla.ipynb\")\n"
   ]
  },
  {
   "cell_type": "code",
   "execution_count": 10,
   "id": "3a920437",
   "metadata": {},
   "outputs": [],
   "source": [
    "import nbformat\n",
    "\n",
    "def clean_warnings_and_number_outputs(path_in, path_out=None):\n",
    "    if path_out is None:\n",
    "        path_out = path_in\n",
    "\n",
    "    nb = nbformat.read(path_in, as_version=4)\n",
    "\n",
    "    exec_counter = 1  # Comenzar en 1\n",
    "\n",
    "    for cell in nb.cells:\n",
    "        if cell.cell_type == 'code':\n",
    "            clean_outputs = []\n",
    "            has_warning = False\n",
    "\n",
    "            if 'outputs' in cell:\n",
    "                for output in cell.outputs:\n",
    "                    texts = []\n",
    "                    if 'text' in output:\n",
    "                        texts.append(output['text'])\n",
    "                    if 'ename' in output and output['ename'].lower() == 'warning':\n",
    "                        has_warning = True\n",
    "                        continue\n",
    "                    if 'traceback' in output:\n",
    "                        traceback_text = '\\n'.join(output['traceback'])\n",
    "                        texts.append(traceback_text)\n",
    "\n",
    "                    if any('warning' in t.lower() for t in texts):\n",
    "                        has_warning = True\n",
    "                        continue\n",
    "                    else:\n",
    "                        clean_outputs.append(output)\n",
    "\n",
    "                cell.outputs = clean_outputs\n",
    "\n",
    "\n",
    "            cell.execution_count = None\n",
    "\n",
    "    nbformat.write(nb, path_out)\n",
    "    print(f\"Notebook limpio guardado en: {path_out}\")\n"
   ]
  },
  {
   "cell_type": "code",
   "execution_count": 5,
   "id": "3524142c",
   "metadata": {},
   "outputs": [],
   "source": [
    "import nbformat\n",
    "from nbconvert import HTMLExporter\n",
    "import re\n",
    "\n",
    "def export_html_without_brackets(path_in, html_out):\n",
    "    # Leer el notebook\n",
    "    nb = nbformat.read(path_in, as_version=4)\n",
    "\n",
    "    # Convertir a HTML\n",
    "    html_exporter = HTMLExporter()\n",
    "    (body, _) = html_exporter.from_notebook_node(nb)\n",
    "\n",
    "    # Remover los corchetes [i] con regex\n",
    "    body = re.sub(r'In\\s*\\[\\d*\\]:', lambda m: f\"In {re.search(r'\\d+', m.group()).group()}:\", body)\n",
    "    body = re.sub(r'Out\\s*\\[\\d*\\]:', lambda m: f\"Out {re.search(r'\\d+', m.group()).group()}:\", body)\n",
    "\n",
    "    with open(html_out, 'w', encoding='utf-8') as f:\n",
    "        f.write(body)\n",
    "\n",
    "    print(f\"Notebook exportado a HTML sin corchetes en In/Out: {html_out}\")\n"
   ]
  },
  {
   "cell_type": "code",
   "execution_count": 11,
   "id": "7c94e8d9",
   "metadata": {},
   "outputs": [
    {
     "name": "stdout",
     "output_type": "stream",
     "text": [
      "Notebook limpio guardado en: C:\\Heri\\GitHub\\.Semester\\Econometrics-II\\05-SARIMA\\02-Diferencia-Estacional copy\\01-Precipitacion-en-Puebla-4.ipynb\n"
     ]
    }
   ],
   "source": [
    "\n",
    "input_path = r\"C:\\Heri\\GitHub\\.Semester\\Econometrics-II\\05-SARIMA\\02-Diferencia-Estacional copy\\01-Precipitacion-en-Puebla.ipynb\"\n",
    "clean_warnings_and_number_outputs(input_path, r\"C:\\Heri\\GitHub\\.Semester\\Econometrics-II\\05-SARIMA\\02-Diferencia-Estacional copy\\01-Precipitacion-en-Puebla-4.ipynb\")\n"
   ]
  }
 ],
 "metadata": {
  "kernelspec": {
   "display_name": "Python 3",
   "language": "python",
   "name": "python3"
  },
  "language_info": {
   "codemirror_mode": {
    "name": "ipython",
    "version": 3
   },
   "file_extension": ".py",
   "mimetype": "text/x-python",
   "name": "python",
   "nbconvert_exporter": "python",
   "pygments_lexer": "ipython3",
   "version": "3.12.1"
  }
 },
 "nbformat": 4,
 "nbformat_minor": 5
}
